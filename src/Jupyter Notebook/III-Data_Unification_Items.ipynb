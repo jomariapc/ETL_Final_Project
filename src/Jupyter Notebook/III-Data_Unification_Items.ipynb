{
 "cells": [
  {
   "cell_type": "markdown",
   "metadata": {},
   "source": [
    "# <a id='toc1_'></a>[Data Unification - Items](#toc0_)"
   ]
  },
  {
   "cell_type": "markdown",
   "metadata": {},
   "source": [
    "**Table of contents**<a id='toc0_'></a>    \n",
    "- [Data Unification - Items](#toc1_)    \n",
    "  - [Import libraries and PyPower](#toc1_1_)    \n",
    "  - [Import Data](#toc1_2_)    \n",
    "  - [Data Source 1 - Otter Items](#toc1_3_)    \n",
    "    - [Drop colums](#toc1_3_1_)    \n",
    "    - [Colums items](#toc1_3_2_)    \n",
    "      - [Compare with fuzzywuzzy similar items](#toc1_3_2_1_)    \n",
    "      - [Data Frame Menu](#toc1_3_2_2_)    \n",
    "      - [Now we apply a function for the items column so that it can be unified](#toc1_3_2_3_)    \n",
    "      - [Sort DataFrame](#toc1_3_2_4_)    \n",
    "  - [Data Source 2 - Deliverect Items](#toc1_4_)    \n",
    "    - [Colums items](#toc1_4_1_)    \n",
    "      - [New columns](#toc1_4_1_1_)    \n",
    "      - [Sort DataFrame](#toc1_4_1_2_)    \n",
    "  - [Concatenate Data Source 1: Otter Item and Data Source 2: Deliverect Item](#toc1_5_)    \n",
    "  - [Export data](#toc1_6_)    \n",
    "\n",
    "<!-- vscode-jupyter-toc-config\n",
    "\tnumbering=false\n",
    "\tanchor=true\n",
    "\tflat=false\n",
    "\tminLevel=1\n",
    "\tmaxLevel=6\n",
    "\t/vscode-jupyter-toc-config -->\n",
    "<!-- THIS CELL WILL BE REPLACED ON TOC UPDATE. DO NOT WRITE YOUR TEXT IN THIS CELL -->"
   ]
  },
  {
   "cell_type": "markdown",
   "metadata": {},
   "source": [
    "## <a id='toc1_1_'></a>[Import libraries and PyPower](#toc0_)"
   ]
  },
  {
   "cell_type": "code",
   "execution_count": 21,
   "metadata": {},
   "outputs": [],
   "source": [
    "import pandas as pd\n",
    "import numpy as np\n",
    "\n",
    "pd.set_option('display.max_columns', None)\n",
    "pd.set_option('display.max_rows', None)\n",
    "\n",
    "from fuzzywuzzy import fuzz\n",
    "from itertools import combinations\n",
    "\n",
    "\n",
    "import sys\n",
    "sys.path.append('../Python')\n",
    "from  PyPower import *"
   ]
  },
  {
   "cell_type": "markdown",
   "metadata": {},
   "source": [
    "## <a id='toc1_2_'></a>[Import Data](#toc0_)"
   ]
  },
  {
   "cell_type": "code",
   "execution_count": 2,
   "id": "777c715f-95ce-4c57-aa6f-bfc48a73e546",
   "metadata": {},
   "outputs": [],
   "source": [
    "otter_item = pd.read_csv('../../data/2-analyzed/otter_item_EDA.csv')\n",
    "\n",
    "deliverect_item = pd.read_csv('../../data/2-analyzed/deliverect_item_EDA.csv')\n"
   ]
  },
  {
   "cell_type": "markdown",
   "metadata": {},
   "source": [
    "## <a id='toc1_3_'></a>[Data Source 1 - Otter Items](#toc0_)"
   ]
  },
  {
   "cell_type": "code",
   "execution_count": 3,
   "metadata": {},
   "outputs": [
    {
     "data": {
      "text/html": [
       "<div>\n",
       "<style scoped>\n",
       "    .dataframe tbody tr th:only-of-type {\n",
       "        vertical-align: middle;\n",
       "    }\n",
       "\n",
       "    .dataframe tbody tr th {\n",
       "        vertical-align: top;\n",
       "    }\n",
       "\n",
       "    .dataframe thead th {\n",
       "        text-align: right;\n",
       "    }\n",
       "</style>\n",
       "<table border=\"1\" class=\"dataframe\">\n",
       "  <thead>\n",
       "    <tr style=\"text-align: right;\">\n",
       "      <th></th>\n",
       "      <th>item</th>\n",
       "      <th>quantity</th>\n",
       "      <th>price</th>\n",
       "      <th>total_item</th>\n",
       "      <th>order_id_software</th>\n",
       "      <th>service_fee</th>\n",
       "    </tr>\n",
       "  </thead>\n",
       "  <tbody>\n",
       "    <tr>\n",
       "      <th>0</th>\n",
       "      <td>Patatas fritas Pequeñas</td>\n",
       "      <td>1</td>\n",
       "      <td>2.5</td>\n",
       "      <td>2.5</td>\n",
       "      <td>35999</td>\n",
       "      <td>0.0</td>\n",
       "    </tr>\n",
       "    <tr>\n",
       "      <th>1</th>\n",
       "      <td>Kahuna Burger</td>\n",
       "      <td>1</td>\n",
       "      <td>8.5</td>\n",
       "      <td>8.5</td>\n",
       "      <td>35999</td>\n",
       "      <td>0.0</td>\n",
       "    </tr>\n",
       "    <tr>\n",
       "      <th>2</th>\n",
       "      <td>Sweet Home Sanvi</td>\n",
       "      <td>1</td>\n",
       "      <td>12.3</td>\n",
       "      <td>12.3</td>\n",
       "      <td>B0FE0</td>\n",
       "      <td>0.0</td>\n",
       "    </tr>\n",
       "    <tr>\n",
       "      <th>3</th>\n",
       "      <td>Chicken Tenders</td>\n",
       "      <td>1</td>\n",
       "      <td>7.6</td>\n",
       "      <td>7.6</td>\n",
       "      <td>B0FE0</td>\n",
       "      <td>0.0</td>\n",
       "    </tr>\n",
       "    <tr>\n",
       "      <th>4</th>\n",
       "      <td>Tequeños</td>\n",
       "      <td>1</td>\n",
       "      <td>6.4</td>\n",
       "      <td>6.4</td>\n",
       "      <td>B0FE0</td>\n",
       "      <td>0.0</td>\n",
       "    </tr>\n",
       "  </tbody>\n",
       "</table>\n",
       "</div>"
      ],
      "text/plain": [
       "                      item  quantity  price  total_item order_id_software  \\\n",
       "0  Patatas fritas Pequeñas         1    2.5         2.5             35999   \n",
       "1            Kahuna Burger         1    8.5         8.5             35999   \n",
       "2         Sweet Home Sanvi         1   12.3        12.3             B0FE0   \n",
       "3          Chicken Tenders         1    7.6         7.6             B0FE0   \n",
       "4                 Tequeños         1    6.4         6.4             B0FE0   \n",
       "\n",
       "   service_fee  \n",
       "0          0.0  \n",
       "1          0.0  \n",
       "2          0.0  \n",
       "3          0.0  \n",
       "4          0.0  "
      ]
     },
     "execution_count": 3,
     "metadata": {},
     "output_type": "execute_result"
    }
   ],
   "source": [
    "otter_item.head()"
   ]
  },
  {
   "cell_type": "markdown",
   "metadata": {},
   "source": [
    "### <a id='toc1_3_1_'></a>[Drop colums](#toc0_)"
   ]
  },
  {
   "cell_type": "code",
   "execution_count": 4,
   "metadata": {},
   "outputs": [],
   "source": [
    "otter_item.drop('service_fee', axis=1, inplace=True)"
   ]
  },
  {
   "cell_type": "markdown",
   "metadata": {},
   "source": [
    "### <a id='toc1_3_2_'></a>[Colums items](#toc0_)"
   ]
  },
  {
   "cell_type": "code",
   "execution_count": 5,
   "metadata": {},
   "outputs": [],
   "source": [
    "items_menu = otter_item.item.unique()"
   ]
  },
  {
   "cell_type": "markdown",
   "metadata": {},
   "source": [
    "#### <a id='toc1_3_2_1_'></a>[Compare with fuzzywuzzy similar items](#toc0_)"
   ]
  },
  {
   "cell_type": "code",
   "execution_count": 58,
   "metadata": {},
   "outputs": [
    {
     "data": {
      "text/plain": [
       "[('Chicken Tenders', 'Chicken tenders', 93),\n",
       " ('El honesto Mike', 'El Honesto Mike', 93),\n",
       " ('Patatas fritas L', 'Patatas fritas S', 94),\n",
       " ('Patatas fritas L', 'Patatas Fritas', 87),\n",
       " ('Cerveza Estrella Galicia 33CL', 'Cerveza Estrella Galicia', 91),\n",
       " ('Coca-cola', 'Coca-Cola', 89),\n",
       " ('Patatas fritas S', 'Patatas Fritas', 87),\n",
       " ('Slim Combo (Para 1)', 'Slim Combo (para 1)', 95),\n",
       " ('Cheesecake de Oreo', 'Cheescake de Oreo', 97),\n",
       " ('Cheesecake de Oreo', 'Cheese Cake de Oreo', 92),\n",
       " ('Monchi Meal (Para 2)', 'Monchi Meal Combo (Para 2)', 87),\n",
       " ('Patatas Fritas', 'Patatas Fritas bacon', 82),\n",
       " ('Burger La Uno Basic', 'Burger La Zar Basic', 84),\n",
       " ('Tarta Marquesa de Nutella', 'Marquesa de Nutella', 86),\n",
       " ('Salsa Mayo Trufa', 'Salsa Mayotrufa', 90),\n",
       " ('Salsa Mayo Trufa', 'Salsa MayoTrufa', 97),\n",
       " ('Tequeños (4 Uds.)', 'Tequechapas (4 Uds.)', 81),\n",
       " ('Tequeños (4 Uds.)', 'Tequeplátanos (4 Uds.)', 82),\n",
       " ('Cheescake de Oreo', 'Cheese Cake de Oreo', 89),\n",
       " ('Boniato Frito', 'Boniato frito S', 86),\n",
       " ('El Pelirojo Jimmy', 'El Pelirrojo Jimmy', 97),\n",
       " ('Arepa Reina Pepiada', 'Arepa reina pepiada', 89),\n",
       " ('Hamburguesa La Uno', 'Hamburguesa La Vegana', 82),\n",
       " ('Hamburguesa La Uno', 'Hamburguesa La Dos', 89),\n",
       " ('Teque Nutella', 'Tequenutellas', 85),\n",
       " ('Arepa sifrina', 'Arepa Sifrina', 92),\n",
       " ('La Caprichosa', 'Caprichosa', 87),\n",
       " ('PACK 6 TEQUES', 'PACK 12 TEQUEÑOS', 83),\n",
       " ('PACK 6 TEQUES', 'PACK 12 TEQUES', 89),\n",
       " ('PACK 6 TEQUES', 'PACK 18 TEQUEÑOS', 83),\n",
       " ('PACK 6 TEQUES', 'PACK 18 TEQUES', 89),\n",
       " ('Coca-Cola Zero', 'Coca-cola Zero', 93),\n",
       " ('Combo Duo (Para 2)', 'Combo Ego (Para 1)', 83),\n",
       " ('Nachos Anaya', 'Nachos anaya', 92),\n",
       " ('Combo Ego (para 1)', 'Combo Ego (Para 1)', 94),\n",
       " ('Arepa la rumbera remix', 'Arepa Rumbera Remix', 83),\n",
       " ('Trío criollo', 'Trío Criollo', 92),\n",
       " ('La Muergana', 'La Muérgana', 91),\n",
       " ('Cocacola bote', 'Cocacola zero bote', 84),\n",
       " ('Cocacola bote', 'Coca-cola bote', 96),\n",
       " ('Cocacola bote', 'Coca-cola Zero bote', 81),\n",
       " ('Alitas Kentucky (10 und)', 'Alitas Kentucky (5 und)', 94),\n",
       " ('Alitas Kentucky (10 und)', 'Alitas Kentucky  (5Und)', 85),\n",
       " ('Alitas Kentucky (10 und)', 'Alitas Kentucky (10Und)', 94),\n",
       " ('Alitas Kentucky (10 und)', 'Alitas Kentucky (5U)', 82),\n",
       " ('Beety Miranda', 'La Beety miranda', 83),\n",
       " ('Alitas Kentucky (5 und)', 'Alitas Kentucky  (5Und)', 91),\n",
       " ('Alitas Kentucky (5 und)', 'Alitas Kentucky (10Und)', 87),\n",
       " ('Alitas Kentucky (5 und)', 'Alitas Kentucky (5U)', 88),\n",
       " ('Hamburguesa La Vegana', 'Hamburguesa La Muergana', 91),\n",
       " ('Coca-cola Zero', 'Coca-cola Zero bote', 85),\n",
       " ('La catira', 'La Catira', 89),\n",
       " ('Salsa Mayotrufa', 'Salsa MayoTrufa', 93),\n",
       " ('La Inglesa', 'Inglesa', 82),\n",
       " ('Aquarius Limón lata 330ml.', 'Aquarius Naranja lata 330ml.', 81),\n",
       " ('PACK 12 TEQUEÑOS', 'PACK 12 TEQUES', 93),\n",
       " ('PACK 12 TEQUEÑOS', 'PACK 18 TEQUEÑOS', 94),\n",
       " ('PACK 12 TEQUEÑOS', 'PACK 18 TEQUES', 87),\n",
       " ('Alitas Kentucky  (5Und)', 'Alitas Kentucky (10Und)', 91),\n",
       " ('Alitas Kentucky  (5Und)', 'Alitas Kentucky (5U)', 93),\n",
       " ('Tropichicken', 'Tropi Chicken', 88),\n",
       " ('Tequenutella PL', 'Tequenutellas', 86),\n",
       " ('Cocacola zero bote', 'Coca-cola bote', 81),\n",
       " ('Cocacola zero bote', 'Coca-cola Zero bote', 92),\n",
       " ('Alitas Kentucky (10Und)', 'Alitas Kentucky (5U)', 88),\n",
       " ('Coca-cola bote', 'Coca-cola Zero bote', 85),\n",
       " ('Habanera', 'La Habanera', 84),\n",
       " ('PACK 12 TEQUES', 'PACK 18 TEQUEÑOS', 87),\n",
       " ('PACK 12 TEQUES', 'PACK 18 TEQUES', 93),\n",
       " ('PACK 18 TEQUEÑOS', 'PACK 18 TEQUES', 93)]"
      ]
     },
     "execution_count": 58,
     "metadata": {},
     "output_type": "execute_result"
    }
   ],
   "source": [
    "compare_fuzzywuzzy(items_menu)"
   ]
  },
  {
   "cell_type": "code",
   "execution_count": 11,
   "metadata": {},
   "outputs": [],
   "source": [
    "menu = ['Chicken Tenders',\n",
    "'El honesto Mike',\n",
    "'Patatas fritas L', \n",
    "'Patatas fritas S', \n",
    "'Patatas fritas',\n",
    "'Cerveza Estrella Galicia 33CL',\n",
    "'Coca-Cola'\n",
    "'Slim Combo (Para 1)',\n",
    "'Cheesecake de Oreo',\n",
    "'Monchi Meal Combo (Para 2)', \n",
    "'Patatas Fritas bacon',\n",
    "'Burger La Uno Basic', \n",
    "'Burger La Zar Basic', \n",
    "'Marquesa de Nutella', \n",
    "'Salsa Mayo Trufa',\n",
    "'Tequeños (4 Uds.)', \n",
    "'Tequechapas (4 Uds.)', \n",
    "'Tequeplátanos (4 Uds.)',\n",
    "'Teque Nutella', \n",
    "'Cheescake de Oreo', \n",
    "'Boniato Frito', \n",
    "'El Pelirojo Jimmy',\n",
    "'Arepa Reina Pepiada', \n",
    "'Hamburguesa La Vegana', \n",
    "'Hamburguesa La Uno', \n",
    "'Hamburguesa La Dos',\n",
    "'Arepa Sifrina', \n",
    "'La Caprichosa',\n",
    "'PACK 6 TEQUEÑOS', \n",
    "'PACK 12 TEQUEÑOS',  \n",
    "'PACK 18 TEQUEÑOS', \n",
    "'Coca-Cola Zero',\n",
    "'Combo Duo (Para 2)', \n",
    "'Combo Ego (Para 1)',\n",
    "'Nachos Anaya',\n",
    "'Combo Ego (Para 1)', \n",
    "'Arepa Rumbera Remix',\n",
    "'Trío Criollo',\n",
    "'La Muérgana',\n",
    "'Cocacola bote',\n",
    "'Cocacola zero bote',\n",
    "'Alitas Kentucky (10 und)', \n",
    "'Alitas Kentucky (5 und)',\n",
    "'Beety Miranda',\n",
    "'Hamburguesa La Vegana', \n",
    "'Hamburguesa La Muergana', \n",
    "'La Catira',\n",
    "'Salsa Mayotrufa', \n",
    "'La Inglesa', \n",
    "'Aquarius Limón lata 330ml.', \n",
    "'Aquarius Naranja lata 330ml.'\n",
    "'Tropi Chicken', \n",
    "'La Habanera']"
   ]
  },
  {
   "cell_type": "markdown",
   "metadata": {},
   "source": [
    "#### <a id='toc1_3_2_2_'></a>[Data Frame Menu](#toc0_)"
   ]
  },
  {
   "cell_type": "code",
   "execution_count": 8,
   "metadata": {},
   "outputs": [],
   "source": [
    "menu_final = pd.DataFrame({'id': range(1, len(menu)+1), 'item': menu})"
   ]
  },
  {
   "cell_type": "markdown",
   "metadata": {},
   "source": [
    "#### <a id='toc1_3_2_3_'></a>[Now we apply a function for the items column so that it can be unified](#toc0_)"
   ]
  },
  {
   "cell_type": "code",
   "execution_count": 33,
   "metadata": {},
   "outputs": [],
   "source": [
    "otter_item.item = otter_item.item.apply(update_item, lst=menu)"
   ]
  },
  {
   "cell_type": "code",
   "execution_count": 32,
   "metadata": {},
   "outputs": [
    {
     "data": {
      "text/plain": [
       "187"
      ]
     },
     "execution_count": 32,
     "metadata": {},
     "output_type": "execute_result"
    }
   ],
   "source": [
    "len(otter_item.item.unique())"
   ]
  },
  {
   "cell_type": "markdown",
   "metadata": {},
   "source": [
    "#### <a id='toc1_3_2_4_'></a>[Sort DataFrame](#toc0_)"
   ]
  },
  {
   "cell_type": "code",
   "execution_count": 36,
   "metadata": {},
   "outputs": [],
   "source": [
    "otter_item = otter_item[['order_id_software', 'item', 'price', 'quantity', 'total_item']]"
   ]
  },
  {
   "cell_type": "markdown",
   "metadata": {},
   "source": [
    "## <a id='toc1_4_'></a>[Data Source 2 - Deliverect Items](#toc0_)"
   ]
  },
  {
   "cell_type": "code",
   "execution_count": 22,
   "metadata": {},
   "outputs": [
    {
     "data": {
      "text/html": [
       "<div>\n",
       "<style scoped>\n",
       "    .dataframe tbody tr th:only-of-type {\n",
       "        vertical-align: middle;\n",
       "    }\n",
       "\n",
       "    .dataframe tbody tr th {\n",
       "        vertical-align: top;\n",
       "    }\n",
       "\n",
       "    .dataframe thead th {\n",
       "        text-align: right;\n",
       "    }\n",
       "</style>\n",
       "<table border=\"1\" class=\"dataframe\">\n",
       "  <thead>\n",
       "    <tr style=\"text-align: right;\">\n",
       "      <th></th>\n",
       "      <th>order_id_software</th>\n",
       "      <th>item</th>\n",
       "      <th>price</th>\n",
       "      <th>quantity</th>\n",
       "    </tr>\n",
       "  </thead>\n",
       "  <tbody>\n",
       "    <tr>\n",
       "      <th>0</th>\n",
       "      <td>128399797</td>\n",
       "      <td>Arepa Reina Pepiada</td>\n",
       "      <td>770</td>\n",
       "      <td>1</td>\n",
       "    </tr>\n",
       "    <tr>\n",
       "      <th>1</th>\n",
       "      <td>128399797</td>\n",
       "      <td>Patatas guarnición</td>\n",
       "      <td>150</td>\n",
       "      <td>1</td>\n",
       "    </tr>\n",
       "    <tr>\n",
       "      <th>2</th>\n",
       "      <td>128399797</td>\n",
       "      <td>Arepa Rumbera Remix</td>\n",
       "      <td>770</td>\n",
       "      <td>1</td>\n",
       "    </tr>\n",
       "    <tr>\n",
       "      <th>3</th>\n",
       "      <td>128399797</td>\n",
       "      <td>Arepa Pelúa</td>\n",
       "      <td>850</td>\n",
       "      <td>1</td>\n",
       "    </tr>\n",
       "    <tr>\n",
       "      <th>4</th>\n",
       "      <td>128399797</td>\n",
       "      <td>Arepa Sifrina</td>\n",
       "      <td>770</td>\n",
       "      <td>1</td>\n",
       "    </tr>\n",
       "  </tbody>\n",
       "</table>\n",
       "</div>"
      ],
      "text/plain": [
       "   order_id_software                 item  price  quantity\n",
       "0          128399797  Arepa Reina Pepiada    770         1\n",
       "1          128399797   Patatas guarnición    150         1\n",
       "2          128399797  Arepa Rumbera Remix    770         1\n",
       "3          128399797          Arepa Pelúa    850         1\n",
       "4          128399797        Arepa Sifrina    770         1"
      ]
     },
     "execution_count": 22,
     "metadata": {},
     "output_type": "execute_result"
    }
   ],
   "source": [
    "deliverect_item.head()"
   ]
  },
  {
   "cell_type": "markdown",
   "metadata": {},
   "source": [
    "### <a id='toc1_4_1_'></a>[Colums items](#toc0_)"
   ]
  },
  {
   "cell_type": "code",
   "execution_count": 30,
   "metadata": {},
   "outputs": [
    {
     "data": {
      "text/plain": [
       "109"
      ]
     },
     "execution_count": 30,
     "metadata": {},
     "output_type": "execute_result"
    }
   ],
   "source": [
    "len(deliverect_item.item.unique())"
   ]
  },
  {
   "cell_type": "code",
   "execution_count": 29,
   "metadata": {},
   "outputs": [],
   "source": [
    "deliverect_item.item = deliverect_item.item.apply(update_item, lst=menu)"
   ]
  },
  {
   "cell_type": "markdown",
   "metadata": {},
   "source": [
    "#### <a id='toc1_4_1_1_'></a>[New columns](#toc0_)"
   ]
  },
  {
   "cell_type": "code",
   "execution_count": 39,
   "metadata": {},
   "outputs": [],
   "source": [
    "deliverect_item['total_item'] = deliverect_item['quantity'] * deliverect_item['price']"
   ]
  },
  {
   "cell_type": "markdown",
   "metadata": {},
   "source": [
    "#### <a id='toc1_4_1_2_'></a>[Sort DataFrame](#toc0_)"
   ]
  },
  {
   "cell_type": "code",
   "execution_count": 40,
   "metadata": {},
   "outputs": [],
   "source": [
    "deliverect_item = deliverect_item[['order_id_software', 'item', 'price', 'quantity', 'total_item']]"
   ]
  },
  {
   "cell_type": "markdown",
   "metadata": {},
   "source": [
    "## <a id='toc1_5_'></a>[Concatenate Data Source 1: Otter Item and Data Source 2: Deliverect Item](#toc0_)"
   ]
  },
  {
   "cell_type": "code",
   "execution_count": 41,
   "metadata": {},
   "outputs": [
    {
     "name": "stdout",
     "output_type": "stream",
     "text": [
      "Otter rows:  42861  Deliverect rows: 2131 Suma: 44992\n"
     ]
    }
   ],
   "source": [
    "print('Otter rows: ', otter_item.shape[0], ' Deliverect rows:', deliverect_item.shape[0], 'Suma:' , otter_item.shape[0]+deliverect_item.shape[0])"
   ]
  },
  {
   "cell_type": "code",
   "execution_count": 42,
   "metadata": {},
   "outputs": [
    {
     "data": {
      "text/plain": [
       "(44992, 5)"
      ]
     },
     "execution_count": 42,
     "metadata": {},
     "output_type": "execute_result"
    }
   ],
   "source": [
    "all_items = pd.concat([otter_item, deliverect_item])\n",
    "\n",
    "all_items.shape"
   ]
  },
  {
   "cell_type": "markdown",
   "metadata": {},
   "source": [
    "## <a id='toc1_6_'></a>[Export data](#toc0_)"
   ]
  },
  {
   "cell_type": "code",
   "execution_count": 43,
   "metadata": {},
   "outputs": [],
   "source": [
    "all_items.to_csv('../../data/3-processed/all_items.csv',  index=False)"
   ]
  }
 ],
 "metadata": {
  "kernelspec": {
   "display_name": "clase",
   "language": "python",
   "name": "python3"
  },
  "language_info": {
   "codemirror_mode": {
    "name": "ipython",
    "version": 3
   },
   "file_extension": ".py",
   "mimetype": "text/x-python",
   "name": "python",
   "nbconvert_exporter": "python",
   "pygments_lexer": "ipython3",
   "version": "3.10.13"
  }
 },
 "nbformat": 4,
 "nbformat_minor": 5
}
