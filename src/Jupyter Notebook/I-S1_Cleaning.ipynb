{
 "cells": [
  {
   "cell_type": "markdown",
   "metadata": {},
   "source": [
    "# <a id='toc1_'></a>[Data Source 1 - Otter - Cleaning](#toc0_)"
   ]
  },
  {
   "cell_type": "markdown",
   "metadata": {},
   "source": [
    "**Table of contents**<a id='toc0_'></a>    \n",
    "- [Data Source 1 - Otter - Cleaning](#toc1_)    \n",
    "  - [Import libraries an PyPower](#toc1_1_)    \n",
    "  - [Otter General](#toc1_2_)    \n",
    "    - [Import Data](#toc1_2_1_)    \n",
    "    - [Data cleaning basics](#toc1_2_2_)    \n",
    "    - [Final DataFrame](#toc1_2_3_)    \n",
    "  - [Otter items](#toc1_3_)    \n",
    "    - [Import Data](#toc1_3_1_)    \n",
    "    - [Data cleaning basics](#toc1_3_2_)    \n",
    "    - [Final DataFrame](#toc1_3_3_)    \n",
    "  - [Export clean dataframes](#toc1_4_)    \n",
    "\n",
    "<!-- vscode-jupyter-toc-config\n",
    "\tnumbering=false\n",
    "\tanchor=true\n",
    "\tflat=false\n",
    "\tminLevel=1\n",
    "\tmaxLevel=6\n",
    "\t/vscode-jupyter-toc-config -->\n",
    "<!-- THIS CELL WILL BE REPLACED ON TOC UPDATE. DO NOT WRITE YOUR TEXT IN THIS CELL -->"
   ]
  },
  {
   "cell_type": "markdown",
   "metadata": {},
   "source": [
    "## <a id='toc1_1_'></a>[Import libraries an PyPower](#toc0_)"
   ]
  },
  {
   "cell_type": "code",
   "execution_count": 1,
   "id": "e153e1a4-b933-4b5a-98cb-a30875fc81fb",
   "metadata": {},
   "outputs": [],
   "source": [
    "import pandas as pd\n",
    "\n",
    "pd.set_option('display.max_columns', None)\n",
    "\n",
    "\n",
    "import sys\n",
    "sys.path.append('../Python')\n",
    "from  PyPower import *"
   ]
  },
  {
   "cell_type": "markdown",
   "metadata": {},
   "source": [
    "## <a id='toc1_2_'></a>[Otter General](#toc0_)"
   ]
  },
  {
   "cell_type": "markdown",
   "metadata": {},
   "source": [
    "### <a id='toc1_2_1_'></a>[Import Data](#toc0_)"
   ]
  },
  {
   "cell_type": "code",
   "execution_count": 2,
   "metadata": {},
   "outputs": [
    {
     "data": {
      "text/html": [
       "<div>\n",
       "<style scoped>\n",
       "    .dataframe tbody tr th:only-of-type {\n",
       "        vertical-align: middle;\n",
       "    }\n",
       "\n",
       "    .dataframe tbody tr th {\n",
       "        vertical-align: top;\n",
       "    }\n",
       "\n",
       "    .dataframe thead th {\n",
       "        text-align: right;\n",
       "    }\n",
       "</style>\n",
       "<table border=\"1\" class=\"dataframe\">\n",
       "  <thead>\n",
       "    <tr style=\"text-align: right;\">\n",
       "      <th></th>\n",
       "      <th>Recibido</th>\n",
       "      <th>ID de Pedido</th>\n",
       "      <th>Canal</th>\n",
       "      <th>Estado del pedido</th>\n",
       "      <th>Marca</th>\n",
       "      <th>Tienda</th>\n",
       "      <th>Cantidad de los artículos</th>\n",
       "      <th>Subtotal</th>\n",
       "      <th>Propina</th>\n",
       "      <th>Service Fee</th>\n",
       "      <th>Ajustes</th>\n",
       "      <th>Descuento</th>\n",
       "      <th>Descuento de la plataforma</th>\n",
       "      <th>Payout</th>\n",
       "      <th>Error Charges</th>\n",
       "      <th>Aceptado</th>\n",
       "      <th>Modo de cumplimiento</th>\n",
       "      <th>Tipo de programación</th>\n",
       "      <th>Currency Code</th>\n",
       "    </tr>\n",
       "  </thead>\n",
       "  <tbody>\n",
       "    <tr>\n",
       "      <th>0</th>\n",
       "      <td>31/10/2023, 23:22:36</td>\n",
       "      <td>457EE</td>\n",
       "      <td>Uber Eats</td>\n",
       "      <td>Entregado</td>\n",
       "      <td>Umbrella SH</td>\n",
       "      <td>EMEA - SP - MAD - Salamanca</td>\n",
       "      <td>2</td>\n",
       "      <td>46.0</td>\n",
       "      <td>0.0</td>\n",
       "      <td>0.0</td>\n",
       "      <td>0.0</td>\n",
       "      <td>-12.64</td>\n",
       "      <td>0.0</td>\n",
       "      <td>23.73</td>\n",
       "      <td>0.0</td>\n",
       "      <td>Aceptado</td>\n",
       "      <td>Entrega del mercado</td>\n",
       "      <td>De inmediato</td>\n",
       "      <td>EUR</td>\n",
       "    </tr>\n",
       "    <tr>\n",
       "      <th>1</th>\n",
       "      <td>31/10/2023, 23:19:01</td>\n",
       "      <td>0390E</td>\n",
       "      <td>Uber Eats</td>\n",
       "      <td>Entregado</td>\n",
       "      <td>Umbrella SH</td>\n",
       "      <td>EMEA - SP - MAD - Salamanca</td>\n",
       "      <td>4</td>\n",
       "      <td>62.8</td>\n",
       "      <td>0.0</td>\n",
       "      <td>0.0</td>\n",
       "      <td>0.0</td>\n",
       "      <td>-25.27</td>\n",
       "      <td>0.0</td>\n",
       "      <td>28.16</td>\n",
       "      <td>0.0</td>\n",
       "      <td>Aceptado</td>\n",
       "      <td>Entrega del mercado</td>\n",
       "      <td>De inmediato</td>\n",
       "      <td>EUR</td>\n",
       "    </tr>\n",
       "    <tr>\n",
       "      <th>2</th>\n",
       "      <td>31/10/2023, 23:15:19</td>\n",
       "      <td>EBBB9</td>\n",
       "      <td>Uber Eats</td>\n",
       "      <td>Entregado</td>\n",
       "      <td>Tepuy Basics</td>\n",
       "      <td>Goleta</td>\n",
       "      <td>3</td>\n",
       "      <td>30.6</td>\n",
       "      <td>0.0</td>\n",
       "      <td>0.0</td>\n",
       "      <td>0.0</td>\n",
       "      <td>0.00</td>\n",
       "      <td>0.0</td>\n",
       "      <td>30.60</td>\n",
       "      <td>0.0</td>\n",
       "      <td>Aceptado</td>\n",
       "      <td>Entrega del mercado</td>\n",
       "      <td>De inmediato</td>\n",
       "      <td>EUR</td>\n",
       "    </tr>\n",
       "    <tr>\n",
       "      <th>3</th>\n",
       "      <td>31/10/2023, 23:14:29</td>\n",
       "      <td>58A44</td>\n",
       "      <td>Uber Eats</td>\n",
       "      <td>Entregado</td>\n",
       "      <td>Umbrella SH</td>\n",
       "      <td>EMEA - SP - MAD - Salamanca</td>\n",
       "      <td>2</td>\n",
       "      <td>45.8</td>\n",
       "      <td>0.0</td>\n",
       "      <td>0.0</td>\n",
       "      <td>0.0</td>\n",
       "      <td>-12.64</td>\n",
       "      <td>0.0</td>\n",
       "      <td>23.60</td>\n",
       "      <td>0.0</td>\n",
       "      <td>Aceptado</td>\n",
       "      <td>Entrega del mercado</td>\n",
       "      <td>De inmediato</td>\n",
       "      <td>EUR</td>\n",
       "    </tr>\n",
       "    <tr>\n",
       "      <th>4</th>\n",
       "      <td>31/10/2023, 23:01:13</td>\n",
       "      <td>776960000</td>\n",
       "      <td>Gloria Foods</td>\n",
       "      <td>Entregado</td>\n",
       "      <td>Umbrella SH</td>\n",
       "      <td>Goleta</td>\n",
       "      <td>6</td>\n",
       "      <td>44.0</td>\n",
       "      <td>0.0</td>\n",
       "      <td>0.0</td>\n",
       "      <td>0.0</td>\n",
       "      <td>0.00</td>\n",
       "      <td>0.0</td>\n",
       "      <td>44.00</td>\n",
       "      <td>0.0</td>\n",
       "      <td>Aceptado</td>\n",
       "      <td>Para Recoger</td>\n",
       "      <td>De inmediato</td>\n",
       "      <td>EUR</td>\n",
       "    </tr>\n",
       "  </tbody>\n",
       "</table>\n",
       "</div>"
      ],
      "text/plain": [
       "               Recibido ID de Pedido         Canal Estado del pedido  \\\n",
       "0  31/10/2023, 23:22:36        457EE     Uber Eats         Entregado   \n",
       "1  31/10/2023, 23:19:01        0390E     Uber Eats         Entregado   \n",
       "2  31/10/2023, 23:15:19        EBBB9     Uber Eats         Entregado   \n",
       "3  31/10/2023, 23:14:29        58A44     Uber Eats         Entregado   \n",
       "4  31/10/2023, 23:01:13    776960000  Gloria Foods         Entregado   \n",
       "\n",
       "          Marca                       Tienda  Cantidad de los artículos  \\\n",
       "0   Umbrella SH  EMEA - SP - MAD - Salamanca                          2   \n",
       "1   Umbrella SH  EMEA - SP - MAD - Salamanca                          4   \n",
       "2  Tepuy Basics                       Goleta                          3   \n",
       "3   Umbrella SH  EMEA - SP - MAD - Salamanca                          2   \n",
       "4   Umbrella SH                       Goleta                          6   \n",
       "\n",
       "   Subtotal  Propina  Service Fee  Ajustes  Descuento  \\\n",
       "0      46.0      0.0          0.0      0.0     -12.64   \n",
       "1      62.8      0.0          0.0      0.0     -25.27   \n",
       "2      30.6      0.0          0.0      0.0       0.00   \n",
       "3      45.8      0.0          0.0      0.0     -12.64   \n",
       "4      44.0      0.0          0.0      0.0       0.00   \n",
       "\n",
       "   Descuento de la plataforma  Payout  Error Charges  Aceptado  \\\n",
       "0                         0.0   23.73            0.0  Aceptado   \n",
       "1                         0.0   28.16            0.0  Aceptado   \n",
       "2                         0.0   30.60            0.0  Aceptado   \n",
       "3                         0.0   23.60            0.0  Aceptado   \n",
       "4                         0.0   44.00            0.0  Aceptado   \n",
       "\n",
       "  Modo de cumplimiento Tipo de programación Currency Code  \n",
       "0  Entrega del mercado         De inmediato           EUR  \n",
       "1  Entrega del mercado         De inmediato           EUR  \n",
       "2  Entrega del mercado         De inmediato           EUR  \n",
       "3  Entrega del mercado         De inmediato           EUR  \n",
       "4         Para Recoger         De inmediato           EUR  "
      ]
     },
     "execution_count": 2,
     "metadata": {},
     "output_type": "execute_result"
    }
   ],
   "source": [
    "otter = pd.read_csv('../../data/0-raw/20230101-20231031_all.csv')\n",
    "otter_original_shape= otter.shape\n",
    "otter.head()"
   ]
  },
  {
   "cell_type": "code",
   "execution_count": 3,
   "metadata": {},
   "outputs": [
    {
     "name": "stdout",
     "output_type": "stream",
     "text": [
      "<class 'pandas.core.frame.DataFrame'>\n",
      "RangeIndex: 55678 entries, 0 to 55677\n",
      "Data columns (total 19 columns):\n",
      " #   Column                      Non-Null Count  Dtype  \n",
      "---  ------                      --------------  -----  \n",
      " 0   Recibido                    55678 non-null  object \n",
      " 1   ID de Pedido                55678 non-null  object \n",
      " 2   Canal                       55678 non-null  object \n",
      " 3   Estado del pedido           55678 non-null  object \n",
      " 4   Marca                       55581 non-null  object \n",
      " 5   Tienda                      55678 non-null  object \n",
      " 6   Cantidad de los artículos   55678 non-null  int64  \n",
      " 7   Subtotal                    55678 non-null  float64\n",
      " 8   Propina                     55678 non-null  float64\n",
      " 9   Service Fee                 55678 non-null  float64\n",
      " 10  Ajustes                     55678 non-null  float64\n",
      " 11  Descuento                   55678 non-null  float64\n",
      " 12  Descuento de la plataforma  55678 non-null  float64\n",
      " 13  Payout                      55678 non-null  float64\n",
      " 14  Error Charges               55678 non-null  float64\n",
      " 15  Aceptado                    55678 non-null  object \n",
      " 16  Modo de cumplimiento        55678 non-null  object \n",
      " 17  Tipo de programación        55678 non-null  object \n",
      " 18  Currency Code               55678 non-null  object \n",
      "dtypes: float64(8), int64(1), object(10)\n",
      "memory usage: 8.1+ MB\n"
     ]
    }
   ],
   "source": [
    "otter.info()"
   ]
  },
  {
   "cell_type": "markdown",
   "metadata": {},
   "source": [
    "### <a id='toc1_2_2_'></a>[Data cleaning basics](#toc0_)"
   ]
  },
  {
   "cell_type": "markdown",
   "metadata": {},
   "source": [
    "Check for null values"
   ]
  },
  {
   "cell_type": "code",
   "execution_count": 5,
   "metadata": {},
   "outputs": [
    {
     "data": {
      "text/plain": [
       "'N nan cols: 1'"
      ]
     },
     "execution_count": 5,
     "metadata": {},
     "output_type": "execute_result"
    },
    {
     "data": {
      "text/plain": [
       "Marca    0.174216\n",
       "dtype: float64"
      ]
     },
     "execution_count": 5,
     "metadata": {},
     "output_type": "execute_result"
    }
   ],
   "source": [
    "check_nan(otter, False)"
   ]
  },
  {
   "cell_type": "markdown",
   "metadata": {},
   "source": [
    "Unify names and column spaces"
   ]
  },
  {
   "cell_type": "code",
   "execution_count": 6,
   "metadata": {},
   "outputs": [],
   "source": [
    "otter = column_unification(otter)"
   ]
  },
  {
   "cell_type": "markdown",
   "metadata": {},
   "source": [
    "Duplicates"
   ]
  },
  {
   "cell_type": "code",
   "execution_count": 7,
   "metadata": {},
   "outputs": [
    {
     "data": {
      "text/plain": [
       "False"
      ]
     },
     "execution_count": 7,
     "metadata": {},
     "output_type": "execute_result"
    }
   ],
   "source": [
    "otter.duplicated().any()"
   ]
  },
  {
   "cell_type": "markdown",
   "metadata": {},
   "source": [
    "Constants detection"
   ]
  },
  {
   "cell_type": "code",
   "execution_count": 8,
   "metadata": {},
   "outputs": [
    {
     "data": {
      "text/plain": [
       "{1: ['service_fee', 'currency_code'],\n",
       " 2: ['ajustes', 'aceptado'],\n",
       " 3: ['tipo_de_programación'],\n",
       " 4: ['estado_del_pedido', 'marca', 'modo_de_cumplimiento'],\n",
       " 6: ['canal'],\n",
       " 7: ['propina'],\n",
       " 15: ['tienda'],\n",
       " 28: ['cantidad_de_los_artículos'],\n",
       " 155: ['descuento_de_la_plataforma'],\n",
       " 162: ['error_charges'],\n",
       " 1004: ['descuento'],\n",
       " 1073: ['subtotal'],\n",
       " 4511: ['payout'],\n",
       " 54758: ['recibido'],\n",
       " 55280: ['id_de_pedido']}"
      ]
     },
     "execution_count": 8,
     "metadata": {},
     "output_type": "execute_result"
    }
   ],
   "source": [
    "count_columns = column_counts(otter)\n",
    "\n",
    "count_columns"
   ]
  },
  {
   "cell_type": "markdown",
   "metadata": {},
   "source": [
    "Delete columns with a count (constants)"
   ]
  },
  {
   "cell_type": "code",
   "execution_count": 9,
   "metadata": {},
   "outputs": [],
   "source": [
    "otter = drop_columns(otter, count_columns[1])\n"
   ]
  },
  {
   "cell_type": "markdown",
   "metadata": {},
   "source": [
    "### <a id='toc1_2_3_'></a>[Final DataFrame](#toc0_)"
   ]
  },
  {
   "cell_type": "code",
   "execution_count": 10,
   "metadata": {},
   "outputs": [
    {
     "data": {
      "text/html": [
       "<div>\n",
       "<style scoped>\n",
       "    .dataframe tbody tr th:only-of-type {\n",
       "        vertical-align: middle;\n",
       "    }\n",
       "\n",
       "    .dataframe tbody tr th {\n",
       "        vertical-align: top;\n",
       "    }\n",
       "\n",
       "    .dataframe thead th {\n",
       "        text-align: right;\n",
       "    }\n",
       "</style>\n",
       "<table border=\"1\" class=\"dataframe\">\n",
       "  <thead>\n",
       "    <tr style=\"text-align: right;\">\n",
       "      <th></th>\n",
       "      <th>recibido</th>\n",
       "      <th>id_de_pedido</th>\n",
       "      <th>canal</th>\n",
       "      <th>estado_del_pedido</th>\n",
       "      <th>marca</th>\n",
       "      <th>tienda</th>\n",
       "      <th>cantidad_de_los_artículos</th>\n",
       "      <th>subtotal</th>\n",
       "      <th>propina</th>\n",
       "      <th>ajustes</th>\n",
       "      <th>descuento</th>\n",
       "      <th>descuento_de_la_plataforma</th>\n",
       "      <th>payout</th>\n",
       "      <th>error_charges</th>\n",
       "      <th>aceptado</th>\n",
       "      <th>modo_de_cumplimiento</th>\n",
       "      <th>tipo_de_programación</th>\n",
       "    </tr>\n",
       "  </thead>\n",
       "  <tbody>\n",
       "    <tr>\n",
       "      <th>0</th>\n",
       "      <td>31/10/2023, 23:22:36</td>\n",
       "      <td>457EE</td>\n",
       "      <td>Uber Eats</td>\n",
       "      <td>Entregado</td>\n",
       "      <td>Umbrella SH</td>\n",
       "      <td>EMEA - SP - MAD - Salamanca</td>\n",
       "      <td>2</td>\n",
       "      <td>46.0</td>\n",
       "      <td>0.0</td>\n",
       "      <td>0.0</td>\n",
       "      <td>-12.64</td>\n",
       "      <td>0.0</td>\n",
       "      <td>23.73</td>\n",
       "      <td>0.0</td>\n",
       "      <td>Aceptado</td>\n",
       "      <td>Entrega del mercado</td>\n",
       "      <td>De inmediato</td>\n",
       "    </tr>\n",
       "    <tr>\n",
       "      <th>1</th>\n",
       "      <td>31/10/2023, 23:19:01</td>\n",
       "      <td>0390E</td>\n",
       "      <td>Uber Eats</td>\n",
       "      <td>Entregado</td>\n",
       "      <td>Umbrella SH</td>\n",
       "      <td>EMEA - SP - MAD - Salamanca</td>\n",
       "      <td>4</td>\n",
       "      <td>62.8</td>\n",
       "      <td>0.0</td>\n",
       "      <td>0.0</td>\n",
       "      <td>-25.27</td>\n",
       "      <td>0.0</td>\n",
       "      <td>28.16</td>\n",
       "      <td>0.0</td>\n",
       "      <td>Aceptado</td>\n",
       "      <td>Entrega del mercado</td>\n",
       "      <td>De inmediato</td>\n",
       "    </tr>\n",
       "    <tr>\n",
       "      <th>2</th>\n",
       "      <td>31/10/2023, 23:15:19</td>\n",
       "      <td>EBBB9</td>\n",
       "      <td>Uber Eats</td>\n",
       "      <td>Entregado</td>\n",
       "      <td>Tepuy Basics</td>\n",
       "      <td>Goleta</td>\n",
       "      <td>3</td>\n",
       "      <td>30.6</td>\n",
       "      <td>0.0</td>\n",
       "      <td>0.0</td>\n",
       "      <td>0.00</td>\n",
       "      <td>0.0</td>\n",
       "      <td>30.60</td>\n",
       "      <td>0.0</td>\n",
       "      <td>Aceptado</td>\n",
       "      <td>Entrega del mercado</td>\n",
       "      <td>De inmediato</td>\n",
       "    </tr>\n",
       "    <tr>\n",
       "      <th>3</th>\n",
       "      <td>31/10/2023, 23:14:29</td>\n",
       "      <td>58A44</td>\n",
       "      <td>Uber Eats</td>\n",
       "      <td>Entregado</td>\n",
       "      <td>Umbrella SH</td>\n",
       "      <td>EMEA - SP - MAD - Salamanca</td>\n",
       "      <td>2</td>\n",
       "      <td>45.8</td>\n",
       "      <td>0.0</td>\n",
       "      <td>0.0</td>\n",
       "      <td>-12.64</td>\n",
       "      <td>0.0</td>\n",
       "      <td>23.60</td>\n",
       "      <td>0.0</td>\n",
       "      <td>Aceptado</td>\n",
       "      <td>Entrega del mercado</td>\n",
       "      <td>De inmediato</td>\n",
       "    </tr>\n",
       "    <tr>\n",
       "      <th>4</th>\n",
       "      <td>31/10/2023, 23:01:13</td>\n",
       "      <td>776960000</td>\n",
       "      <td>Gloria Foods</td>\n",
       "      <td>Entregado</td>\n",
       "      <td>Umbrella SH</td>\n",
       "      <td>Goleta</td>\n",
       "      <td>6</td>\n",
       "      <td>44.0</td>\n",
       "      <td>0.0</td>\n",
       "      <td>0.0</td>\n",
       "      <td>0.00</td>\n",
       "      <td>0.0</td>\n",
       "      <td>44.00</td>\n",
       "      <td>0.0</td>\n",
       "      <td>Aceptado</td>\n",
       "      <td>Para Recoger</td>\n",
       "      <td>De inmediato</td>\n",
       "    </tr>\n",
       "  </tbody>\n",
       "</table>\n",
       "</div>"
      ],
      "text/plain": [
       "               recibido id_de_pedido         canal estado_del_pedido  \\\n",
       "0  31/10/2023, 23:22:36        457EE     Uber Eats         Entregado   \n",
       "1  31/10/2023, 23:19:01        0390E     Uber Eats         Entregado   \n",
       "2  31/10/2023, 23:15:19        EBBB9     Uber Eats         Entregado   \n",
       "3  31/10/2023, 23:14:29        58A44     Uber Eats         Entregado   \n",
       "4  31/10/2023, 23:01:13    776960000  Gloria Foods         Entregado   \n",
       "\n",
       "          marca                       tienda  cantidad_de_los_artículos  \\\n",
       "0   Umbrella SH  EMEA - SP - MAD - Salamanca                          2   \n",
       "1   Umbrella SH  EMEA - SP - MAD - Salamanca                          4   \n",
       "2  Tepuy Basics                       Goleta                          3   \n",
       "3   Umbrella SH  EMEA - SP - MAD - Salamanca                          2   \n",
       "4   Umbrella SH                       Goleta                          6   \n",
       "\n",
       "   subtotal  propina  ajustes  descuento  descuento_de_la_plataforma  payout  \\\n",
       "0      46.0      0.0      0.0     -12.64                         0.0   23.73   \n",
       "1      62.8      0.0      0.0     -25.27                         0.0   28.16   \n",
       "2      30.6      0.0      0.0       0.00                         0.0   30.60   \n",
       "3      45.8      0.0      0.0     -12.64                         0.0   23.60   \n",
       "4      44.0      0.0      0.0       0.00                         0.0   44.00   \n",
       "\n",
       "   error_charges  aceptado modo_de_cumplimiento tipo_de_programación  \n",
       "0            0.0  Aceptado  Entrega del mercado         De inmediato  \n",
       "1            0.0  Aceptado  Entrega del mercado         De inmediato  \n",
       "2            0.0  Aceptado  Entrega del mercado         De inmediato  \n",
       "3            0.0  Aceptado  Entrega del mercado         De inmediato  \n",
       "4            0.0  Aceptado         Para Recoger         De inmediato  "
      ]
     },
     "execution_count": 10,
     "metadata": {},
     "output_type": "execute_result"
    }
   ],
   "source": [
    "otter.head()"
   ]
  },
  {
   "cell_type": "markdown",
   "metadata": {},
   "source": [
    "## <a id='toc1_3_'></a>[Otter items](#toc0_)"
   ]
  },
  {
   "cell_type": "markdown",
   "metadata": {},
   "source": [
    "### <a id='toc1_3_1_'></a>[Import Data](#toc0_)"
   ]
  },
  {
   "cell_type": "code",
   "execution_count": 11,
   "metadata": {},
   "outputs": [
    {
     "data": {
      "text/html": [
       "<div>\n",
       "<style scoped>\n",
       "    .dataframe tbody tr th:only-of-type {\n",
       "        vertical-align: middle;\n",
       "    }\n",
       "\n",
       "    .dataframe tbody tr th {\n",
       "        vertical-align: top;\n",
       "    }\n",
       "\n",
       "    .dataframe thead th {\n",
       "        text-align: right;\n",
       "    }\n",
       "</style>\n",
       "<table border=\"1\" class=\"dataframe\">\n",
       "  <thead>\n",
       "    <tr style=\"text-align: right;\">\n",
       "      <th></th>\n",
       "      <th>Artículos ordenados</th>\n",
       "      <th>Cantidad</th>\n",
       "      <th>Precio de venta</th>\n",
       "      <th>Artículo subtotal</th>\n",
       "      <th>Recibido</th>\n",
       "      <th>ID de Pedido</th>\n",
       "      <th>Canal</th>\n",
       "      <th>Estado del pedido</th>\n",
       "      <th>Marca</th>\n",
       "      <th>Tienda</th>\n",
       "      <th>Cantidad de los artículos</th>\n",
       "      <th>Subtotal</th>\n",
       "      <th>Propina</th>\n",
       "      <th>Service Fee</th>\n",
       "      <th>Ajustes</th>\n",
       "      <th>Descuento</th>\n",
       "      <th>Descuento de la plataforma</th>\n",
       "      <th>Payout</th>\n",
       "      <th>Error Charges</th>\n",
       "      <th>Aceptado</th>\n",
       "      <th>Modo de cumplimiento</th>\n",
       "      <th>Tipo de programación</th>\n",
       "      <th>Currency Code</th>\n",
       "    </tr>\n",
       "  </thead>\n",
       "  <tbody>\n",
       "    <tr>\n",
       "      <th>0</th>\n",
       "      <td>Patatas fritas Pequeñas</td>\n",
       "      <td>1</td>\n",
       "      <td>2.5</td>\n",
       "      <td>2.5</td>\n",
       "      <td>01/08/2023, 13:09:18</td>\n",
       "      <td>35999</td>\n",
       "      <td>Uber Eats</td>\n",
       "      <td>Entregado</td>\n",
       "      <td>Umbrella SH</td>\n",
       "      <td>EMEA - SP - MAD - Jose Calvo</td>\n",
       "      <td>2</td>\n",
       "      <td>12.2</td>\n",
       "      <td>0.0</td>\n",
       "      <td>0.0</td>\n",
       "      <td>0.0</td>\n",
       "      <td>0.0</td>\n",
       "      <td>0.0</td>\n",
       "      <td>8.06</td>\n",
       "      <td>0.0</td>\n",
       "      <td>Aceptado</td>\n",
       "      <td>Entrega del mercado</td>\n",
       "      <td>De inmediato</td>\n",
       "      <td>EUR</td>\n",
       "    </tr>\n",
       "    <tr>\n",
       "      <th>1</th>\n",
       "      <td>Kahuna Burger</td>\n",
       "      <td>1</td>\n",
       "      <td>8.5</td>\n",
       "      <td>8.5</td>\n",
       "      <td>01/08/2023, 13:09:18</td>\n",
       "      <td>35999</td>\n",
       "      <td>Uber Eats</td>\n",
       "      <td>Entregado</td>\n",
       "      <td>Umbrella SH</td>\n",
       "      <td>EMEA - SP - MAD - Jose Calvo</td>\n",
       "      <td>2</td>\n",
       "      <td>12.2</td>\n",
       "      <td>0.0</td>\n",
       "      <td>0.0</td>\n",
       "      <td>0.0</td>\n",
       "      <td>0.0</td>\n",
       "      <td>0.0</td>\n",
       "      <td>8.06</td>\n",
       "      <td>0.0</td>\n",
       "      <td>Aceptado</td>\n",
       "      <td>Entrega del mercado</td>\n",
       "      <td>De inmediato</td>\n",
       "      <td>EUR</td>\n",
       "    </tr>\n",
       "    <tr>\n",
       "      <th>2</th>\n",
       "      <td>Sweet Home Sanvi</td>\n",
       "      <td>1</td>\n",
       "      <td>12.3</td>\n",
       "      <td>12.3</td>\n",
       "      <td>01/08/2023, 13:11:03</td>\n",
       "      <td>B0FE0</td>\n",
       "      <td>Uber Eats</td>\n",
       "      <td>Entregado</td>\n",
       "      <td>Umbrella SH</td>\n",
       "      <td>Umbrella SH - San Vicent del Raspeig</td>\n",
       "      <td>8</td>\n",
       "      <td>63.8</td>\n",
       "      <td>0.0</td>\n",
       "      <td>0.0</td>\n",
       "      <td>0.0</td>\n",
       "      <td>0.0</td>\n",
       "      <td>0.0</td>\n",
       "      <td>48.36</td>\n",
       "      <td>0.0</td>\n",
       "      <td>Aceptado</td>\n",
       "      <td>Entrega del mercado</td>\n",
       "      <td>De inmediato</td>\n",
       "      <td>EUR</td>\n",
       "    </tr>\n",
       "    <tr>\n",
       "      <th>3</th>\n",
       "      <td>Chicken Tenders</td>\n",
       "      <td>1</td>\n",
       "      <td>7.6</td>\n",
       "      <td>7.6</td>\n",
       "      <td>01/08/2023, 13:11:03</td>\n",
       "      <td>B0FE0</td>\n",
       "      <td>Uber Eats</td>\n",
       "      <td>Entregado</td>\n",
       "      <td>Umbrella SH</td>\n",
       "      <td>Umbrella SH - San Vicent del Raspeig</td>\n",
       "      <td>8</td>\n",
       "      <td>63.8</td>\n",
       "      <td>0.0</td>\n",
       "      <td>0.0</td>\n",
       "      <td>0.0</td>\n",
       "      <td>0.0</td>\n",
       "      <td>0.0</td>\n",
       "      <td>48.36</td>\n",
       "      <td>0.0</td>\n",
       "      <td>Aceptado</td>\n",
       "      <td>Entrega del mercado</td>\n",
       "      <td>De inmediato</td>\n",
       "      <td>EUR</td>\n",
       "    </tr>\n",
       "    <tr>\n",
       "      <th>4</th>\n",
       "      <td>Tequeños</td>\n",
       "      <td>1</td>\n",
       "      <td>6.4</td>\n",
       "      <td>6.4</td>\n",
       "      <td>01/08/2023, 13:11:03</td>\n",
       "      <td>B0FE0</td>\n",
       "      <td>Uber Eats</td>\n",
       "      <td>Entregado</td>\n",
       "      <td>Umbrella SH</td>\n",
       "      <td>Umbrella SH - San Vicent del Raspeig</td>\n",
       "      <td>8</td>\n",
       "      <td>63.8</td>\n",
       "      <td>0.0</td>\n",
       "      <td>0.0</td>\n",
       "      <td>0.0</td>\n",
       "      <td>0.0</td>\n",
       "      <td>0.0</td>\n",
       "      <td>48.36</td>\n",
       "      <td>0.0</td>\n",
       "      <td>Aceptado</td>\n",
       "      <td>Entrega del mercado</td>\n",
       "      <td>De inmediato</td>\n",
       "      <td>EUR</td>\n",
       "    </tr>\n",
       "  </tbody>\n",
       "</table>\n",
       "</div>"
      ],
      "text/plain": [
       "       Artículos ordenados  Cantidad  Precio de venta  Artículo subtotal  \\\n",
       "0  Patatas fritas Pequeñas         1              2.5                2.5   \n",
       "1            Kahuna Burger         1              8.5                8.5   \n",
       "2         Sweet Home Sanvi         1             12.3               12.3   \n",
       "3          Chicken Tenders         1              7.6                7.6   \n",
       "4                 Tequeños         1              6.4                6.4   \n",
       "\n",
       "               Recibido ID de Pedido      Canal Estado del pedido  \\\n",
       "0  01/08/2023, 13:09:18        35999  Uber Eats         Entregado   \n",
       "1  01/08/2023, 13:09:18        35999  Uber Eats         Entregado   \n",
       "2  01/08/2023, 13:11:03        B0FE0  Uber Eats         Entregado   \n",
       "3  01/08/2023, 13:11:03        B0FE0  Uber Eats         Entregado   \n",
       "4  01/08/2023, 13:11:03        B0FE0  Uber Eats         Entregado   \n",
       "\n",
       "         Marca                                Tienda  \\\n",
       "0  Umbrella SH          EMEA - SP - MAD - Jose Calvo   \n",
       "1  Umbrella SH          EMEA - SP - MAD - Jose Calvo   \n",
       "2  Umbrella SH  Umbrella SH - San Vicent del Raspeig   \n",
       "3  Umbrella SH  Umbrella SH - San Vicent del Raspeig   \n",
       "4  Umbrella SH  Umbrella SH - San Vicent del Raspeig   \n",
       "\n",
       "   Cantidad de los artículos  Subtotal  Propina  Service Fee  Ajustes  \\\n",
       "0                          2      12.2      0.0          0.0      0.0   \n",
       "1                          2      12.2      0.0          0.0      0.0   \n",
       "2                          8      63.8      0.0          0.0      0.0   \n",
       "3                          8      63.8      0.0          0.0      0.0   \n",
       "4                          8      63.8      0.0          0.0      0.0   \n",
       "\n",
       "   Descuento  Descuento de la plataforma  Payout  Error Charges  Aceptado  \\\n",
       "0        0.0                         0.0    8.06            0.0  Aceptado   \n",
       "1        0.0                         0.0    8.06            0.0  Aceptado   \n",
       "2        0.0                         0.0   48.36            0.0  Aceptado   \n",
       "3        0.0                         0.0   48.36            0.0  Aceptado   \n",
       "4        0.0                         0.0   48.36            0.0  Aceptado   \n",
       "\n",
       "  Modo de cumplimiento Tipo de programación Currency Code  \n",
       "0  Entrega del mercado         De inmediato           EUR  \n",
       "1  Entrega del mercado         De inmediato           EUR  \n",
       "2  Entrega del mercado         De inmediato           EUR  \n",
       "3  Entrega del mercado         De inmediato           EUR  \n",
       "4  Entrega del mercado         De inmediato           EUR  "
      ]
     },
     "execution_count": 11,
     "metadata": {},
     "output_type": "execute_result"
    }
   ],
   "source": [
    "otter_items = pd.read_csv('../../data/0-raw/20230801-20231031_items_otter.csv')\n",
    "otter_items_original_shape = otter_items.shape\n",
    "otter_items.head()"
   ]
  },
  {
   "cell_type": "code",
   "execution_count": 12,
   "metadata": {},
   "outputs": [
    {
     "name": "stdout",
     "output_type": "stream",
     "text": [
      "<class 'pandas.core.frame.DataFrame'>\n",
      "RangeIndex: 43347 entries, 0 to 43346\n",
      "Data columns (total 23 columns):\n",
      " #   Column                      Non-Null Count  Dtype  \n",
      "---  ------                      --------------  -----  \n",
      " 0   Artículos ordenados         43347 non-null  object \n",
      " 1   Cantidad                    43347 non-null  int64  \n",
      " 2   Precio de venta             43347 non-null  float64\n",
      " 3   Artículo subtotal           43347 non-null  float64\n",
      " 4   Recibido                    43347 non-null  object \n",
      " 5   ID de Pedido                43347 non-null  object \n",
      " 6   Canal                       43347 non-null  object \n",
      " 7   Estado del pedido           43347 non-null  object \n",
      " 8   Marca                       43336 non-null  object \n",
      " 9   Tienda                      43347 non-null  object \n",
      " 10  Cantidad de los artículos   43347 non-null  int64  \n",
      " 11  Subtotal                    43347 non-null  float64\n",
      " 12  Propina                     43347 non-null  float64\n",
      " 13  Service Fee                 43347 non-null  float64\n",
      " 14  Ajustes                     43347 non-null  float64\n",
      " 15  Descuento                   43347 non-null  float64\n",
      " 16  Descuento de la plataforma  43347 non-null  float64\n",
      " 17  Payout                      43347 non-null  float64\n",
      " 18  Error Charges               43347 non-null  float64\n",
      " 19  Aceptado                    43347 non-null  object \n",
      " 20  Modo de cumplimiento        43347 non-null  object \n",
      " 21  Tipo de programación        43347 non-null  object \n",
      " 22  Currency Code               43347 non-null  object \n",
      "dtypes: float64(10), int64(2), object(11)\n",
      "memory usage: 7.6+ MB\n"
     ]
    }
   ],
   "source": [
    "otter_items.info()"
   ]
  },
  {
   "cell_type": "markdown",
   "metadata": {},
   "source": [
    "### <a id='toc1_3_2_'></a>[Data cleaning basics](#toc0_)"
   ]
  },
  {
   "cell_type": "markdown",
   "metadata": {},
   "source": [
    "Check for null values"
   ]
  },
  {
   "cell_type": "code",
   "execution_count": 13,
   "metadata": {},
   "outputs": [
    {
     "data": {
      "text/plain": [
       "'N nan cols: 1'"
      ]
     },
     "execution_count": 13,
     "metadata": {},
     "output_type": "execute_result"
    },
    {
     "data": {
      "text/plain": [
       "Marca    0.025377\n",
       "dtype: float64"
      ]
     },
     "execution_count": 13,
     "metadata": {},
     "output_type": "execute_result"
    }
   ],
   "source": [
    "check_nan(otter_items, False)"
   ]
  },
  {
   "cell_type": "markdown",
   "metadata": {},
   "source": [
    "Unify names and column spaces"
   ]
  },
  {
   "cell_type": "code",
   "execution_count": 14,
   "metadata": {},
   "outputs": [],
   "source": [
    "otter_items = column_unification(otter_items)"
   ]
  },
  {
   "cell_type": "markdown",
   "metadata": {},
   "source": [
    "Duplicated"
   ]
  },
  {
   "cell_type": "code",
   "execution_count": 15,
   "metadata": {},
   "outputs": [
    {
     "data": {
      "text/plain": [
       "(True, (408, 23))"
      ]
     },
     "execution_count": 15,
     "metadata": {},
     "output_type": "execute_result"
    }
   ],
   "source": [
    "otter_items.duplicated().any(), otter_items[(otter_items.duplicated())].shape"
   ]
  },
  {
   "cell_type": "code",
   "execution_count": 16,
   "metadata": {},
   "outputs": [
    {
     "data": {
      "text/html": [
       "<div>\n",
       "<style scoped>\n",
       "    .dataframe tbody tr th:only-of-type {\n",
       "        vertical-align: middle;\n",
       "    }\n",
       "\n",
       "    .dataframe tbody tr th {\n",
       "        vertical-align: top;\n",
       "    }\n",
       "\n",
       "    .dataframe thead th {\n",
       "        text-align: right;\n",
       "    }\n",
       "</style>\n",
       "<table border=\"1\" class=\"dataframe\">\n",
       "  <thead>\n",
       "    <tr style=\"text-align: right;\">\n",
       "      <th></th>\n",
       "      <th>artículos_ordenados</th>\n",
       "      <th>cantidad</th>\n",
       "      <th>precio_de_venta</th>\n",
       "      <th>artículo_subtotal</th>\n",
       "      <th>recibido</th>\n",
       "      <th>id_de_pedido</th>\n",
       "      <th>canal</th>\n",
       "      <th>estado_del_pedido</th>\n",
       "      <th>marca</th>\n",
       "      <th>tienda</th>\n",
       "      <th>cantidad_de_los_artículos</th>\n",
       "      <th>subtotal</th>\n",
       "      <th>propina</th>\n",
       "      <th>service_fee</th>\n",
       "      <th>ajustes</th>\n",
       "      <th>descuento</th>\n",
       "      <th>descuento_de_la_plataforma</th>\n",
       "      <th>payout</th>\n",
       "      <th>error_charges</th>\n",
       "      <th>aceptado</th>\n",
       "      <th>modo_de_cumplimiento</th>\n",
       "      <th>tipo_de_programación</th>\n",
       "      <th>currency_code</th>\n",
       "    </tr>\n",
       "  </thead>\n",
       "  <tbody>\n",
       "    <tr>\n",
       "      <th>308</th>\n",
       "      <td>Patatas fritas S</td>\n",
       "      <td>2</td>\n",
       "      <td>2.5</td>\n",
       "      <td>5.0</td>\n",
       "      <td>01/08/2023, 22:16:21</td>\n",
       "      <td>733935318</td>\n",
       "      <td>Gloria Foods</td>\n",
       "      <td>Entregado</td>\n",
       "      <td>Umbrella SH</td>\n",
       "      <td>Umbrella SH - Goleta</td>\n",
       "      <td>5</td>\n",
       "      <td>23.3</td>\n",
       "      <td>0.0</td>\n",
       "      <td>0.0</td>\n",
       "      <td>0.0</td>\n",
       "      <td>0.0</td>\n",
       "      <td>0.0</td>\n",
       "      <td>23.3</td>\n",
       "      <td>0.0</td>\n",
       "      <td>Aceptado</td>\n",
       "      <td>Para Recoger</td>\n",
       "      <td>De inmediato</td>\n",
       "      <td>EUR</td>\n",
       "    </tr>\n",
       "    <tr>\n",
       "      <th>309</th>\n",
       "      <td>Cerveza Estrella Galicia 33CL</td>\n",
       "      <td>1</td>\n",
       "      <td>1.9</td>\n",
       "      <td>1.9</td>\n",
       "      <td>01/08/2023, 22:16:21</td>\n",
       "      <td>733935318</td>\n",
       "      <td>Gloria Foods</td>\n",
       "      <td>Entregado</td>\n",
       "      <td>Umbrella SH</td>\n",
       "      <td>Umbrella SH - Goleta</td>\n",
       "      <td>5</td>\n",
       "      <td>23.3</td>\n",
       "      <td>0.0</td>\n",
       "      <td>0.0</td>\n",
       "      <td>0.0</td>\n",
       "      <td>0.0</td>\n",
       "      <td>0.0</td>\n",
       "      <td>23.3</td>\n",
       "      <td>0.0</td>\n",
       "      <td>Aceptado</td>\n",
       "      <td>Para Recoger</td>\n",
       "      <td>De inmediato</td>\n",
       "      <td>EUR</td>\n",
       "    </tr>\n",
       "    <tr>\n",
       "      <th>310</th>\n",
       "      <td>Kahuna Burger</td>\n",
       "      <td>1</td>\n",
       "      <td>8.1</td>\n",
       "      <td>8.1</td>\n",
       "      <td>01/08/2023, 22:16:21</td>\n",
       "      <td>733935318</td>\n",
       "      <td>Gloria Foods</td>\n",
       "      <td>Entregado</td>\n",
       "      <td>Umbrella SH</td>\n",
       "      <td>Umbrella SH - Goleta</td>\n",
       "      <td>5</td>\n",
       "      <td>23.3</td>\n",
       "      <td>0.0</td>\n",
       "      <td>0.0</td>\n",
       "      <td>0.0</td>\n",
       "      <td>0.0</td>\n",
       "      <td>0.0</td>\n",
       "      <td>23.3</td>\n",
       "      <td>0.0</td>\n",
       "      <td>Aceptado</td>\n",
       "      <td>Para Recoger</td>\n",
       "      <td>De inmediato</td>\n",
       "      <td>EUR</td>\n",
       "    </tr>\n",
       "    <tr>\n",
       "      <th>311</th>\n",
       "      <td>Kahuna Burger</td>\n",
       "      <td>1</td>\n",
       "      <td>8.1</td>\n",
       "      <td>8.1</td>\n",
       "      <td>01/08/2023, 22:16:21</td>\n",
       "      <td>733935318</td>\n",
       "      <td>Gloria Foods</td>\n",
       "      <td>Entregado</td>\n",
       "      <td>Umbrella SH</td>\n",
       "      <td>Umbrella SH - Goleta</td>\n",
       "      <td>5</td>\n",
       "      <td>23.3</td>\n",
       "      <td>0.0</td>\n",
       "      <td>0.0</td>\n",
       "      <td>0.0</td>\n",
       "      <td>0.0</td>\n",
       "      <td>0.0</td>\n",
       "      <td>23.3</td>\n",
       "      <td>0.0</td>\n",
       "      <td>Aceptado</td>\n",
       "      <td>Para Recoger</td>\n",
       "      <td>De inmediato</td>\n",
       "      <td>EUR</td>\n",
       "    </tr>\n",
       "  </tbody>\n",
       "</table>\n",
       "</div>"
      ],
      "text/plain": [
       "               artículos_ordenados  cantidad  precio_de_venta  \\\n",
       "308               Patatas fritas S         2              2.5   \n",
       "309  Cerveza Estrella Galicia 33CL         1              1.9   \n",
       "310                  Kahuna Burger         1              8.1   \n",
       "311                  Kahuna Burger         1              8.1   \n",
       "\n",
       "     artículo_subtotal              recibido id_de_pedido         canal  \\\n",
       "308                5.0  01/08/2023, 22:16:21    733935318  Gloria Foods   \n",
       "309                1.9  01/08/2023, 22:16:21    733935318  Gloria Foods   \n",
       "310                8.1  01/08/2023, 22:16:21    733935318  Gloria Foods   \n",
       "311                8.1  01/08/2023, 22:16:21    733935318  Gloria Foods   \n",
       "\n",
       "    estado_del_pedido        marca                tienda  \\\n",
       "308         Entregado  Umbrella SH  Umbrella SH - Goleta   \n",
       "309         Entregado  Umbrella SH  Umbrella SH - Goleta   \n",
       "310         Entregado  Umbrella SH  Umbrella SH - Goleta   \n",
       "311         Entregado  Umbrella SH  Umbrella SH - Goleta   \n",
       "\n",
       "     cantidad_de_los_artículos  subtotal  propina  service_fee  ajustes  \\\n",
       "308                          5      23.3      0.0          0.0      0.0   \n",
       "309                          5      23.3      0.0          0.0      0.0   \n",
       "310                          5      23.3      0.0          0.0      0.0   \n",
       "311                          5      23.3      0.0          0.0      0.0   \n",
       "\n",
       "     descuento  descuento_de_la_plataforma  payout  error_charges  aceptado  \\\n",
       "308        0.0                         0.0    23.3            0.0  Aceptado   \n",
       "309        0.0                         0.0    23.3            0.0  Aceptado   \n",
       "310        0.0                         0.0    23.3            0.0  Aceptado   \n",
       "311        0.0                         0.0    23.3            0.0  Aceptado   \n",
       "\n",
       "    modo_de_cumplimiento tipo_de_programación currency_code  \n",
       "308         Para Recoger         De inmediato           EUR  \n",
       "309         Para Recoger         De inmediato           EUR  \n",
       "310         Para Recoger         De inmediato           EUR  \n",
       "311         Para Recoger         De inmediato           EUR  "
      ]
     },
     "execution_count": 16,
     "metadata": {},
     "output_type": "execute_result"
    }
   ],
   "source": [
    "#Example of an order with a duplicate row. It is a system error that does not add two items in quantity and adds two rows instead.\n",
    "\n",
    "otter_items[(otter_items.id_de_pedido=='733935318')]"
   ]
  },
  {
   "cell_type": "code",
   "execution_count": 17,
   "metadata": {},
   "outputs": [],
   "source": [
    "# Group by order id and ungroup by item and then add the quantity and assign it to the column 'quantity'.\n",
    "\n",
    "otter_items['cantidad'] = otter_items.groupby(['id_de_pedido', 'artículos_ordenados'])['cantidad'].transform('sum')\n",
    "\n",
    "# Remove duplicate rows leaving one row for each combination of 'order_id' and 'ordered_items'.\n",
    "\n",
    "otter_items = otter_items.drop_duplicates(subset=['id_de_pedido', 'artículos_ordenados'])"
   ]
  },
  {
   "cell_type": "code",
   "execution_count": 18,
   "metadata": {},
   "outputs": [
    {
     "data": {
      "text/html": [
       "<div>\n",
       "<style scoped>\n",
       "    .dataframe tbody tr th:only-of-type {\n",
       "        vertical-align: middle;\n",
       "    }\n",
       "\n",
       "    .dataframe tbody tr th {\n",
       "        vertical-align: top;\n",
       "    }\n",
       "\n",
       "    .dataframe thead th {\n",
       "        text-align: right;\n",
       "    }\n",
       "</style>\n",
       "<table border=\"1\" class=\"dataframe\">\n",
       "  <thead>\n",
       "    <tr style=\"text-align: right;\">\n",
       "      <th></th>\n",
       "      <th>artículos_ordenados</th>\n",
       "      <th>cantidad</th>\n",
       "      <th>precio_de_venta</th>\n",
       "      <th>artículo_subtotal</th>\n",
       "      <th>recibido</th>\n",
       "      <th>id_de_pedido</th>\n",
       "      <th>canal</th>\n",
       "      <th>estado_del_pedido</th>\n",
       "      <th>marca</th>\n",
       "      <th>tienda</th>\n",
       "      <th>cantidad_de_los_artículos</th>\n",
       "      <th>subtotal</th>\n",
       "      <th>propina</th>\n",
       "      <th>service_fee</th>\n",
       "      <th>ajustes</th>\n",
       "      <th>descuento</th>\n",
       "      <th>descuento_de_la_plataforma</th>\n",
       "      <th>payout</th>\n",
       "      <th>error_charges</th>\n",
       "      <th>aceptado</th>\n",
       "      <th>modo_de_cumplimiento</th>\n",
       "      <th>tipo_de_programación</th>\n",
       "      <th>currency_code</th>\n",
       "    </tr>\n",
       "  </thead>\n",
       "  <tbody>\n",
       "    <tr>\n",
       "      <th>308</th>\n",
       "      <td>Patatas fritas S</td>\n",
       "      <td>2</td>\n",
       "      <td>2.5</td>\n",
       "      <td>5.0</td>\n",
       "      <td>01/08/2023, 22:16:21</td>\n",
       "      <td>733935318</td>\n",
       "      <td>Gloria Foods</td>\n",
       "      <td>Entregado</td>\n",
       "      <td>Umbrella SH</td>\n",
       "      <td>Umbrella SH - Goleta</td>\n",
       "      <td>5</td>\n",
       "      <td>23.3</td>\n",
       "      <td>0.0</td>\n",
       "      <td>0.0</td>\n",
       "      <td>0.0</td>\n",
       "      <td>0.0</td>\n",
       "      <td>0.0</td>\n",
       "      <td>23.3</td>\n",
       "      <td>0.0</td>\n",
       "      <td>Aceptado</td>\n",
       "      <td>Para Recoger</td>\n",
       "      <td>De inmediato</td>\n",
       "      <td>EUR</td>\n",
       "    </tr>\n",
       "    <tr>\n",
       "      <th>309</th>\n",
       "      <td>Cerveza Estrella Galicia 33CL</td>\n",
       "      <td>1</td>\n",
       "      <td>1.9</td>\n",
       "      <td>1.9</td>\n",
       "      <td>01/08/2023, 22:16:21</td>\n",
       "      <td>733935318</td>\n",
       "      <td>Gloria Foods</td>\n",
       "      <td>Entregado</td>\n",
       "      <td>Umbrella SH</td>\n",
       "      <td>Umbrella SH - Goleta</td>\n",
       "      <td>5</td>\n",
       "      <td>23.3</td>\n",
       "      <td>0.0</td>\n",
       "      <td>0.0</td>\n",
       "      <td>0.0</td>\n",
       "      <td>0.0</td>\n",
       "      <td>0.0</td>\n",
       "      <td>23.3</td>\n",
       "      <td>0.0</td>\n",
       "      <td>Aceptado</td>\n",
       "      <td>Para Recoger</td>\n",
       "      <td>De inmediato</td>\n",
       "      <td>EUR</td>\n",
       "    </tr>\n",
       "    <tr>\n",
       "      <th>310</th>\n",
       "      <td>Kahuna Burger</td>\n",
       "      <td>2</td>\n",
       "      <td>8.1</td>\n",
       "      <td>8.1</td>\n",
       "      <td>01/08/2023, 22:16:21</td>\n",
       "      <td>733935318</td>\n",
       "      <td>Gloria Foods</td>\n",
       "      <td>Entregado</td>\n",
       "      <td>Umbrella SH</td>\n",
       "      <td>Umbrella SH - Goleta</td>\n",
       "      <td>5</td>\n",
       "      <td>23.3</td>\n",
       "      <td>0.0</td>\n",
       "      <td>0.0</td>\n",
       "      <td>0.0</td>\n",
       "      <td>0.0</td>\n",
       "      <td>0.0</td>\n",
       "      <td>23.3</td>\n",
       "      <td>0.0</td>\n",
       "      <td>Aceptado</td>\n",
       "      <td>Para Recoger</td>\n",
       "      <td>De inmediato</td>\n",
       "      <td>EUR</td>\n",
       "    </tr>\n",
       "  </tbody>\n",
       "</table>\n",
       "</div>"
      ],
      "text/plain": [
       "               artículos_ordenados  cantidad  precio_de_venta  \\\n",
       "308               Patatas fritas S         2              2.5   \n",
       "309  Cerveza Estrella Galicia 33CL         1              1.9   \n",
       "310                  Kahuna Burger         2              8.1   \n",
       "\n",
       "     artículo_subtotal              recibido id_de_pedido         canal  \\\n",
       "308                5.0  01/08/2023, 22:16:21    733935318  Gloria Foods   \n",
       "309                1.9  01/08/2023, 22:16:21    733935318  Gloria Foods   \n",
       "310                8.1  01/08/2023, 22:16:21    733935318  Gloria Foods   \n",
       "\n",
       "    estado_del_pedido        marca                tienda  \\\n",
       "308         Entregado  Umbrella SH  Umbrella SH - Goleta   \n",
       "309         Entregado  Umbrella SH  Umbrella SH - Goleta   \n",
       "310         Entregado  Umbrella SH  Umbrella SH - Goleta   \n",
       "\n",
       "     cantidad_de_los_artículos  subtotal  propina  service_fee  ajustes  \\\n",
       "308                          5      23.3      0.0          0.0      0.0   \n",
       "309                          5      23.3      0.0          0.0      0.0   \n",
       "310                          5      23.3      0.0          0.0      0.0   \n",
       "\n",
       "     descuento  descuento_de_la_plataforma  payout  error_charges  aceptado  \\\n",
       "308        0.0                         0.0    23.3            0.0  Aceptado   \n",
       "309        0.0                         0.0    23.3            0.0  Aceptado   \n",
       "310        0.0                         0.0    23.3            0.0  Aceptado   \n",
       "\n",
       "    modo_de_cumplimiento tipo_de_programación currency_code  \n",
       "308         Para Recoger         De inmediato           EUR  \n",
       "309         Para Recoger         De inmediato           EUR  \n",
       "310         Para Recoger         De inmediato           EUR  "
      ]
     },
     "execution_count": 18,
     "metadata": {},
     "output_type": "execute_result"
    }
   ],
   "source": [
    "otter_items[(otter_items.id_de_pedido=='733935318')]"
   ]
  },
  {
   "cell_type": "code",
   "execution_count": 19,
   "metadata": {},
   "outputs": [
    {
     "data": {
      "text/plain": [
       "False"
      ]
     },
     "execution_count": 19,
     "metadata": {},
     "output_type": "execute_result"
    }
   ],
   "source": [
    "otter_items.duplicated().any()"
   ]
  },
  {
   "cell_type": "markdown",
   "metadata": {},
   "source": [
    "Constants detection"
   ]
  },
  {
   "cell_type": "code",
   "execution_count": 20,
   "metadata": {},
   "outputs": [
    {
     "data": {
      "text/plain": [
       "{1: ['service_fee', 'currency_code'],\n",
       " 2: ['ajustes', 'aceptado', 'tipo_de_programación'],\n",
       " 3: ['estado_del_pedido', 'propina', 'modo_de_cumplimiento'],\n",
       " 4: ['marca'],\n",
       " 5: ['canal'],\n",
       " 10: ['cantidad'],\n",
       " 11: ['tienda'],\n",
       " 23: ['cantidad_de_los_artículos'],\n",
       " 86: ['precio_de_venta'],\n",
       " 93: ['descuento_de_la_plataforma'],\n",
       " 106: ['error_charges'],\n",
       " 211: ['artículos_ordenados'],\n",
       " 259: ['artículo_subtotal'],\n",
       " 702: ['descuento'],\n",
       " 867: ['subtotal'],\n",
       " 3122: ['payout'],\n",
       " 18117: ['recibido'],\n",
       " 18294: ['id_de_pedido']}"
      ]
     },
     "execution_count": 20,
     "metadata": {},
     "output_type": "execute_result"
    }
   ],
   "source": [
    "count_columns_items = column_counts(otter_items)\n",
    "\n",
    "count_columns_items"
   ]
  },
  {
   "cell_type": "markdown",
   "metadata": {},
   "source": [
    "Drop columns:\n",
    "- There are repeated columns, the only ones that differentiate this dataset are items_ordered, quantity, sales_price and item_subtotal, and the column to join with the order dataset: id_of_order."
   ]
  },
  {
   "cell_type": "code",
   "execution_count": 21,
   "metadata": {},
   "outputs": [
    {
     "data": {
      "text/plain": [
       "Index(['recibido', 'id_de_pedido', 'canal', 'estado_del_pedido', 'marca',\n",
       "       'tienda', 'cantidad_de_los_artículos', 'subtotal', 'propina', 'ajustes',\n",
       "       'descuento', 'descuento_de_la_plataforma', 'payout', 'error_charges',\n",
       "       'aceptado', 'modo_de_cumplimiento', 'tipo_de_programación'],\n",
       "      dtype='object')"
      ]
     },
     "execution_count": 21,
     "metadata": {},
     "output_type": "execute_result"
    }
   ],
   "source": [
    "#Search for the intersection between both dataframes and remove them from otter_item\n",
    "\n",
    "otter.columns.intersection(otter_items.columns)"
   ]
  },
  {
   "cell_type": "code",
   "execution_count": 22,
   "metadata": {},
   "outputs": [],
   "source": [
    "otter_items.drop(columns=['recibido', 'canal', 'estado_del_pedido', 'marca',\n",
    "       'tienda', 'cantidad_de_los_artículos', 'subtotal', 'propina', 'ajustes',\n",
    "       'descuento', 'descuento_de_la_plataforma', 'payout', 'error_charges',\n",
    "       'aceptado', 'modo_de_cumplimiento', 'tipo_de_programación', 'currency_code'], inplace=True)"
   ]
  },
  {
   "cell_type": "markdown",
   "metadata": {},
   "source": [
    "### <a id='toc1_3_3_'></a>[Final DataFrame](#toc0_)"
   ]
  },
  {
   "cell_type": "code",
   "execution_count": 23,
   "metadata": {},
   "outputs": [
    {
     "data": {
      "text/html": [
       "<div>\n",
       "<style scoped>\n",
       "    .dataframe tbody tr th:only-of-type {\n",
       "        vertical-align: middle;\n",
       "    }\n",
       "\n",
       "    .dataframe tbody tr th {\n",
       "        vertical-align: top;\n",
       "    }\n",
       "\n",
       "    .dataframe thead th {\n",
       "        text-align: right;\n",
       "    }\n",
       "</style>\n",
       "<table border=\"1\" class=\"dataframe\">\n",
       "  <thead>\n",
       "    <tr style=\"text-align: right;\">\n",
       "      <th></th>\n",
       "      <th>artículos_ordenados</th>\n",
       "      <th>cantidad</th>\n",
       "      <th>precio_de_venta</th>\n",
       "      <th>artículo_subtotal</th>\n",
       "      <th>id_de_pedido</th>\n",
       "      <th>service_fee</th>\n",
       "    </tr>\n",
       "  </thead>\n",
       "  <tbody>\n",
       "    <tr>\n",
       "      <th>0</th>\n",
       "      <td>Patatas fritas Pequeñas</td>\n",
       "      <td>1</td>\n",
       "      <td>2.5</td>\n",
       "      <td>2.5</td>\n",
       "      <td>35999</td>\n",
       "      <td>0.0</td>\n",
       "    </tr>\n",
       "    <tr>\n",
       "      <th>1</th>\n",
       "      <td>Kahuna Burger</td>\n",
       "      <td>1</td>\n",
       "      <td>8.5</td>\n",
       "      <td>8.5</td>\n",
       "      <td>35999</td>\n",
       "      <td>0.0</td>\n",
       "    </tr>\n",
       "    <tr>\n",
       "      <th>2</th>\n",
       "      <td>Sweet Home Sanvi</td>\n",
       "      <td>1</td>\n",
       "      <td>12.3</td>\n",
       "      <td>12.3</td>\n",
       "      <td>B0FE0</td>\n",
       "      <td>0.0</td>\n",
       "    </tr>\n",
       "    <tr>\n",
       "      <th>3</th>\n",
       "      <td>Chicken Tenders</td>\n",
       "      <td>1</td>\n",
       "      <td>7.6</td>\n",
       "      <td>7.6</td>\n",
       "      <td>B0FE0</td>\n",
       "      <td>0.0</td>\n",
       "    </tr>\n",
       "    <tr>\n",
       "      <th>4</th>\n",
       "      <td>Tequeños</td>\n",
       "      <td>1</td>\n",
       "      <td>6.4</td>\n",
       "      <td>6.4</td>\n",
       "      <td>B0FE0</td>\n",
       "      <td>0.0</td>\n",
       "    </tr>\n",
       "  </tbody>\n",
       "</table>\n",
       "</div>"
      ],
      "text/plain": [
       "       artículos_ordenados  cantidad  precio_de_venta  artículo_subtotal  \\\n",
       "0  Patatas fritas Pequeñas         1              2.5                2.5   \n",
       "1            Kahuna Burger         1              8.5                8.5   \n",
       "2         Sweet Home Sanvi         1             12.3               12.3   \n",
       "3          Chicken Tenders         1              7.6                7.6   \n",
       "4                 Tequeños         1              6.4                6.4   \n",
       "\n",
       "  id_de_pedido  service_fee  \n",
       "0        35999          0.0  \n",
       "1        35999          0.0  \n",
       "2        B0FE0          0.0  \n",
       "3        B0FE0          0.0  \n",
       "4        B0FE0          0.0  "
      ]
     },
     "execution_count": 23,
     "metadata": {},
     "output_type": "execute_result"
    }
   ],
   "source": [
    "otter_items.head()"
   ]
  },
  {
   "cell_type": "code",
   "execution_count": 26,
   "metadata": {},
   "outputs": [
    {
     "data": {
      "text/plain": [
       "artículos_ordenados\n",
       "Patatas fritas Grandes       3742\n",
       "Patatas fritas Pequeñas      2891\n",
       "Kahuna Burger                2561\n",
       "Sweet Home Madrid            2151\n",
       "Sweet Home Alicante          2027\n",
       "                             ... \n",
       "Patito de goma blanco           1\n",
       "Coca-Cola                       1\n",
       "Coca-cola Zero bote             1\n",
       "Ración de boniato               1\n",
       "Sombrero Patitos Facheros       1\n",
       "Name: count, Length: 211, dtype: int64"
      ]
     },
     "execution_count": 26,
     "metadata": {},
     "output_type": "execute_result"
    }
   ],
   "source": [
    "otter_items['artículos_ordenados'].value_counts()"
   ]
  },
  {
   "cell_type": "markdown",
   "metadata": {},
   "source": [
    "## <a id='toc1_4_'></a>[Export clean dataframes](#toc0_)"
   ]
  },
  {
   "cell_type": "code",
   "execution_count": 24,
   "metadata": {},
   "outputs": [],
   "source": [
    "otter.to_csv('../../data/1-clean/otter_clean.csv', index=False)\n",
    "otter_items.to_csv('../../data/1-clean/otter_item_clean.csv', index=False)"
   ]
  }
 ],
 "metadata": {
  "kernelspec": {
   "display_name": "clase",
   "language": "python",
   "name": "python3"
  },
  "language_info": {
   "codemirror_mode": {
    "name": "ipython",
    "version": 3
   },
   "file_extension": ".py",
   "mimetype": "text/x-python",
   "name": "python",
   "nbconvert_exporter": "python",
   "pygments_lexer": "ipython3",
   "version": "3.10.13"
  }
 },
 "nbformat": 4,
 "nbformat_minor": 5
}
