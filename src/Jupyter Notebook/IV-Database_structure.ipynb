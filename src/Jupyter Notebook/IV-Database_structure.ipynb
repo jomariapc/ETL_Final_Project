{
 "cells": [
  {
   "cell_type": "markdown",
   "metadata": {},
   "source": [
    "# <a id='toc1_'></a>[Database Structure](#toc0_)"
   ]
  },
  {
   "cell_type": "markdown",
   "metadata": {},
   "source": [
    "**Table of contents**<a id='toc0_'></a>    \n",
    "- [Database Structure](#toc1_)    \n",
    "  - [Import libraries and Python files](#toc1_1_)    \n",
    "  - [Import Data](#toc1_2_)    \n",
    "  - [Create new dataframes](#toc1_3_)    \n",
    "    - [Orders](#toc1_3_1_)    \n",
    "      - [brand DataFrame](#toc1_3_1_1_)    \n",
    "      - [location DataFrame](#toc1_3_1_2_)    \n",
    "      - [channel DataFrame](#toc1_3_1_3_)    \n",
    "      - [status DataFrame](#toc1_3_1_4_)    \n",
    "      - [order_type DataFrame](#toc1_3_1_5_)    \n",
    "      - [software DataFrame](#toc1_3_1_6_)    \n",
    "      - [delivery_timing DataFrame](#toc1_3_1_7_)    \n",
    "    - [Items](#toc1_3_2_)    \n",
    "      - [menu DataFrame](#toc1_3_2_1_)    \n",
    "  - [Ids association in Orders](#toc1_4_)    \n",
    "    - [Fill each column with its associated id in the corresponding table](#toc1_4_1_)    \n",
    "      - [Brand](#toc1_4_1_1_)    \n",
    "      - [Location](#toc1_4_1_2_)    \n",
    "      - [Channel](#toc1_4_1_3_)    \n",
    "      - [Status](#toc1_4_1_4_)    \n",
    "      - [Order_type](#toc1_4_1_5_)    \n",
    "      - [Software](#toc1_4_1_6_)    \n",
    "      - [Delivery_timing](#toc1_4_1_7_)    \n",
    "    - [Create table location_brand](#toc1_4_2_)    \n",
    "  - [Ids association in Items](#toc1_5_)    \n",
    "  - [Create own id for the orders table and associate it to the items table](#toc1_6_)    \n",
    "  - [Convert ids to integer](#toc1_7_)    \n",
    "  - [Drop columns](#toc1_8_)    \n",
    "  - [Order DataFrames](#toc1_9_)    \n",
    "  - [Export DataFrames](#toc1_10_)    \n",
    "\n",
    "<!-- vscode-jupyter-toc-config\n",
    "\tnumbering=false\n",
    "\tanchor=true\n",
    "\tflat=false\n",
    "\tminLevel=1\n",
    "\tmaxLevel=6\n",
    "\t/vscode-jupyter-toc-config -->\n",
    "<!-- THIS CELL WILL BE REPLACED ON TOC UPDATE. DO NOT WRITE YOUR TEXT IN THIS CELL -->"
   ]
  },
  {
   "cell_type": "markdown",
   "metadata": {},
   "source": [
    "## <a id='toc1_1_'></a>[Import libraries and Python files](#toc0_)"
   ]
  },
  {
   "cell_type": "code",
   "execution_count": 3,
   "id": "59feb6ae-4755-427d-a1d6-1d0a1ddc6c17",
   "metadata": {},
   "outputs": [],
   "source": [
    "import pandas as pd\n",
    "import numpy as np\n",
    "import warnings\n",
    "\n",
    "pd.set_option('display.max_columns', None)\n",
    "\n",
    "warnings.filterwarnings('ignore')\n",
    "\n",
    "import sys\n",
    "sys.path.append('../Python')\n",
    "from PyPower import *\n",
    "from PySql import *"
   ]
  },
  {
   "cell_type": "markdown",
   "metadata": {},
   "source": [
    "## <a id='toc1_2_'></a>[Import Data](#toc0_)"
   ]
  },
  {
   "cell_type": "code",
   "execution_count": 45,
   "metadata": {},
   "outputs": [],
   "source": [
    "all_orders = pd.read_csv('../../data/3-processed/all_orders.csv')\n",
    "\n",
    "all_items = pd.read_csv('../../data/3-processed/all_items.csv')"
   ]
  },
  {
   "cell_type": "code",
   "execution_count": 46,
   "metadata": {},
   "outputs": [
    {
     "data": {
      "text/html": [
       "<div>\n",
       "<style scoped>\n",
       "    .dataframe tbody tr th:only-of-type {\n",
       "        vertical-align: middle;\n",
       "    }\n",
       "\n",
       "    .dataframe tbody tr th {\n",
       "        vertical-align: top;\n",
       "    }\n",
       "\n",
       "    .dataframe thead th {\n",
       "        text-align: right;\n",
       "    }\n",
       "</style>\n",
       "<table border=\"1\" class=\"dataframe\">\n",
       "  <thead>\n",
       "    <tr style=\"text-align: right;\">\n",
       "      <th></th>\n",
       "      <th>order_id_software</th>\n",
       "      <th>created_datetime</th>\n",
       "      <th>channel</th>\n",
       "      <th>status</th>\n",
       "      <th>brand</th>\n",
       "      <th>location</th>\n",
       "      <th>quantity</th>\n",
       "      <th>subtotal</th>\n",
       "      <th>tip</th>\n",
       "      <th>driver_tip</th>\n",
       "      <th>discount</th>\n",
       "      <th>total</th>\n",
       "      <th>order_type</th>\n",
       "      <th>delivery_timing</th>\n",
       "      <th>payment_method</th>\n",
       "      <th>vat</th>\n",
       "      <th>software</th>\n",
       "    </tr>\n",
       "  </thead>\n",
       "  <tbody>\n",
       "    <tr>\n",
       "      <th>0</th>\n",
       "      <td>457EE</td>\n",
       "      <td>31/10/2023, 23:22:36</td>\n",
       "      <td>Uber Eats</td>\n",
       "      <td>DELIVERED</td>\n",
       "      <td>Umbrella SH</td>\n",
       "      <td>Umbrella - Salamanca</td>\n",
       "      <td>2.0</td>\n",
       "      <td>46.0</td>\n",
       "      <td>0.0</td>\n",
       "      <td>0</td>\n",
       "      <td>-12.64</td>\n",
       "      <td>23.73</td>\n",
       "      <td>DELIVERY</td>\n",
       "      <td>Immediately</td>\n",
       "      <td>CARD</td>\n",
       "      <td>0.0</td>\n",
       "      <td>Otter</td>\n",
       "    </tr>\n",
       "    <tr>\n",
       "      <th>1</th>\n",
       "      <td>0390E</td>\n",
       "      <td>31/10/2023, 23:19:01</td>\n",
       "      <td>Uber Eats</td>\n",
       "      <td>DELIVERED</td>\n",
       "      <td>Umbrella SH</td>\n",
       "      <td>Umbrella - Salamanca</td>\n",
       "      <td>4.0</td>\n",
       "      <td>62.8</td>\n",
       "      <td>0.0</td>\n",
       "      <td>0</td>\n",
       "      <td>-25.27</td>\n",
       "      <td>28.16</td>\n",
       "      <td>DELIVERY</td>\n",
       "      <td>Immediately</td>\n",
       "      <td>CASH</td>\n",
       "      <td>0.0</td>\n",
       "      <td>Otter</td>\n",
       "    </tr>\n",
       "    <tr>\n",
       "      <th>2</th>\n",
       "      <td>EBBB9</td>\n",
       "      <td>31/10/2023, 23:15:19</td>\n",
       "      <td>Uber Eats</td>\n",
       "      <td>DELIVERED</td>\n",
       "      <td>Tepuy Basics</td>\n",
       "      <td>Umbrella - Goleta</td>\n",
       "      <td>3.0</td>\n",
       "      <td>30.6</td>\n",
       "      <td>0.0</td>\n",
       "      <td>0</td>\n",
       "      <td>0.00</td>\n",
       "      <td>30.60</td>\n",
       "      <td>DELIVERY</td>\n",
       "      <td>Immediately</td>\n",
       "      <td>CARD</td>\n",
       "      <td>0.0</td>\n",
       "      <td>Otter</td>\n",
       "    </tr>\n",
       "    <tr>\n",
       "      <th>3</th>\n",
       "      <td>58A44</td>\n",
       "      <td>31/10/2023, 23:14:29</td>\n",
       "      <td>Uber Eats</td>\n",
       "      <td>DELIVERED</td>\n",
       "      <td>Umbrella SH</td>\n",
       "      <td>Umbrella - Salamanca</td>\n",
       "      <td>2.0</td>\n",
       "      <td>45.8</td>\n",
       "      <td>0.0</td>\n",
       "      <td>0</td>\n",
       "      <td>-12.64</td>\n",
       "      <td>23.60</td>\n",
       "      <td>DELIVERY</td>\n",
       "      <td>Immediately</td>\n",
       "      <td>CARD</td>\n",
       "      <td>0.0</td>\n",
       "      <td>Otter</td>\n",
       "    </tr>\n",
       "    <tr>\n",
       "      <th>4</th>\n",
       "      <td>776960000</td>\n",
       "      <td>31/10/2023, 23:01:13</td>\n",
       "      <td>Gloria Foods</td>\n",
       "      <td>DELIVERED</td>\n",
       "      <td>Umbrella SH</td>\n",
       "      <td>Umbrella - Goleta</td>\n",
       "      <td>6.0</td>\n",
       "      <td>44.0</td>\n",
       "      <td>0.0</td>\n",
       "      <td>0</td>\n",
       "      <td>0.00</td>\n",
       "      <td>44.00</td>\n",
       "      <td>PICK UP</td>\n",
       "      <td>Immediately</td>\n",
       "      <td>CARD</td>\n",
       "      <td>0.0</td>\n",
       "      <td>Otter</td>\n",
       "    </tr>\n",
       "  </tbody>\n",
       "</table>\n",
       "</div>"
      ],
      "text/plain": [
       "  order_id_software      created_datetime       channel     status  \\\n",
       "0             457EE  31/10/2023, 23:22:36     Uber Eats  DELIVERED   \n",
       "1             0390E  31/10/2023, 23:19:01     Uber Eats  DELIVERED   \n",
       "2             EBBB9  31/10/2023, 23:15:19     Uber Eats  DELIVERED   \n",
       "3             58A44  31/10/2023, 23:14:29     Uber Eats  DELIVERED   \n",
       "4         776960000  31/10/2023, 23:01:13  Gloria Foods  DELIVERED   \n",
       "\n",
       "          brand              location  quantity  subtotal  tip  driver_tip  \\\n",
       "0   Umbrella SH  Umbrella - Salamanca       2.0      46.0  0.0           0   \n",
       "1   Umbrella SH  Umbrella - Salamanca       4.0      62.8  0.0           0   \n",
       "2  Tepuy Basics     Umbrella - Goleta       3.0      30.6  0.0           0   \n",
       "3   Umbrella SH  Umbrella - Salamanca       2.0      45.8  0.0           0   \n",
       "4   Umbrella SH     Umbrella - Goleta       6.0      44.0  0.0           0   \n",
       "\n",
       "   discount  total order_type delivery_timing payment_method  vat software  \n",
       "0    -12.64  23.73   DELIVERY     Immediately           CARD  0.0    Otter  \n",
       "1    -25.27  28.16   DELIVERY     Immediately           CASH  0.0    Otter  \n",
       "2      0.00  30.60   DELIVERY     Immediately           CARD  0.0    Otter  \n",
       "3    -12.64  23.60   DELIVERY     Immediately           CARD  0.0    Otter  \n",
       "4      0.00  44.00    PICK UP     Immediately           CARD  0.0    Otter  "
      ]
     },
     "execution_count": 46,
     "metadata": {},
     "output_type": "execute_result"
    }
   ],
   "source": [
    "all_orders.head()"
   ]
  },
  {
   "cell_type": "markdown",
   "metadata": {},
   "source": [
    "## <a id='toc1_3_'></a>[Create new dataframes](#toc0_)"
   ]
  },
  {
   "cell_type": "markdown",
   "metadata": {},
   "source": [
    "### <a id='toc1_3_1_'></a>[Orders](#toc0_)"
   ]
  },
  {
   "cell_type": "markdown",
   "metadata": {},
   "source": [
    "#### <a id='toc1_3_1_1_'></a>[brand DataFrame](#toc0_)"
   ]
  },
  {
   "cell_type": "code",
   "execution_count": 6,
   "metadata": {},
   "outputs": [
    {
     "data": {
      "text/html": [
       "<div>\n",
       "<style scoped>\n",
       "    .dataframe tbody tr th:only-of-type {\n",
       "        vertical-align: middle;\n",
       "    }\n",
       "\n",
       "    .dataframe tbody tr th {\n",
       "        vertical-align: top;\n",
       "    }\n",
       "\n",
       "    .dataframe thead th {\n",
       "        text-align: right;\n",
       "    }\n",
       "</style>\n",
       "<table border=\"1\" class=\"dataframe\">\n",
       "  <thead>\n",
       "    <tr style=\"text-align: right;\">\n",
       "      <th></th>\n",
       "      <th>brand_id</th>\n",
       "      <th>brand</th>\n",
       "    </tr>\n",
       "  </thead>\n",
       "  <tbody>\n",
       "    <tr>\n",
       "      <th>0</th>\n",
       "      <td>1</td>\n",
       "      <td>Umbrella SH</td>\n",
       "    </tr>\n",
       "    <tr>\n",
       "      <th>1</th>\n",
       "      <td>2</td>\n",
       "      <td>Tepuy Basics</td>\n",
       "    </tr>\n",
       "    <tr>\n",
       "      <th>2</th>\n",
       "      <td>3</td>\n",
       "      <td>Tepuy Burger</td>\n",
       "    </tr>\n",
       "    <tr>\n",
       "      <th>3</th>\n",
       "      <td>4</td>\n",
       "      <td>Arepas Doña Emilia</td>\n",
       "    </tr>\n",
       "  </tbody>\n",
       "</table>\n",
       "</div>"
      ],
      "text/plain": [
       "  brand_id               brand\n",
       "0        1         Umbrella SH\n",
       "1        2        Tepuy Basics\n",
       "2        3        Tepuy Burger\n",
       "3        4  Arepas Doña Emilia"
      ]
     },
     "execution_count": 6,
     "metadata": {},
     "output_type": "execute_result"
    }
   ],
   "source": [
    "brand = new_table(all_orders, 'brand', 'brand_id','brand')\n",
    "\n",
    "brand"
   ]
  },
  {
   "cell_type": "markdown",
   "metadata": {},
   "source": [
    "#### <a id='toc1_3_1_2_'></a>[location DataFrame](#toc0_)"
   ]
  },
  {
   "cell_type": "code",
   "execution_count": 7,
   "metadata": {},
   "outputs": [
    {
     "data": {
      "text/html": [
       "<div>\n",
       "<style scoped>\n",
       "    .dataframe tbody tr th:only-of-type {\n",
       "        vertical-align: middle;\n",
       "    }\n",
       "\n",
       "    .dataframe tbody tr th {\n",
       "        vertical-align: top;\n",
       "    }\n",
       "\n",
       "    .dataframe thead th {\n",
       "        text-align: right;\n",
       "    }\n",
       "</style>\n",
       "<table border=\"1\" class=\"dataframe\">\n",
       "  <thead>\n",
       "    <tr style=\"text-align: right;\">\n",
       "      <th></th>\n",
       "      <th>location_id</th>\n",
       "      <th>location</th>\n",
       "    </tr>\n",
       "  </thead>\n",
       "  <tbody>\n",
       "    <tr>\n",
       "      <th>0</th>\n",
       "      <td>1</td>\n",
       "      <td>Umbrella - Salamanca</td>\n",
       "    </tr>\n",
       "    <tr>\n",
       "      <th>1</th>\n",
       "      <td>2</td>\n",
       "      <td>Umbrella - Goleta</td>\n",
       "    </tr>\n",
       "    <tr>\n",
       "      <th>2</th>\n",
       "      <td>3</td>\n",
       "      <td>Umbrella - San Vicent del Raspeig</td>\n",
       "    </tr>\n",
       "    <tr>\n",
       "      <th>3</th>\n",
       "      <td>4</td>\n",
       "      <td>Umbrella - Calle Linares</td>\n",
       "    </tr>\n",
       "    <tr>\n",
       "      <th>4</th>\n",
       "      <td>5</td>\n",
       "      <td>Tepuy Burger - Rodolfo Salazar</td>\n",
       "    </tr>\n",
       "    <tr>\n",
       "      <th>5</th>\n",
       "      <td>6</td>\n",
       "      <td>Umbrella - Tetuan</td>\n",
       "    </tr>\n",
       "    <tr>\n",
       "      <th>6</th>\n",
       "      <td>7</td>\n",
       "      <td>Tepuy Burger - Benidorm</td>\n",
       "    </tr>\n",
       "    <tr>\n",
       "      <th>7</th>\n",
       "      <td>8</td>\n",
       "      <td>Tepuy Burger - Calle Bazan</td>\n",
       "    </tr>\n",
       "  </tbody>\n",
       "</table>\n",
       "</div>"
      ],
      "text/plain": [
       "  location_id                           location\n",
       "0           1               Umbrella - Salamanca\n",
       "1           2                  Umbrella - Goleta\n",
       "2           3  Umbrella - San Vicent del Raspeig\n",
       "3           4           Umbrella - Calle Linares\n",
       "4           5     Tepuy Burger - Rodolfo Salazar\n",
       "5           6                  Umbrella - Tetuan\n",
       "6           7            Tepuy Burger - Benidorm\n",
       "7           8         Tepuy Burger - Calle Bazan"
      ]
     },
     "execution_count": 7,
     "metadata": {},
     "output_type": "execute_result"
    }
   ],
   "source": [
    "location = new_table(all_orders, 'location', 'location_id','location')\n",
    "\n",
    "location"
   ]
  },
  {
   "cell_type": "markdown",
   "metadata": {},
   "source": [
    "#### <a id='toc1_3_1_3_'></a>[channel DataFrame](#toc0_)"
   ]
  },
  {
   "cell_type": "code",
   "execution_count": 8,
   "metadata": {},
   "outputs": [
    {
     "data": {
      "text/html": [
       "<div>\n",
       "<style scoped>\n",
       "    .dataframe tbody tr th:only-of-type {\n",
       "        vertical-align: middle;\n",
       "    }\n",
       "\n",
       "    .dataframe tbody tr th {\n",
       "        vertical-align: top;\n",
       "    }\n",
       "\n",
       "    .dataframe thead th {\n",
       "        text-align: right;\n",
       "    }\n",
       "</style>\n",
       "<table border=\"1\" class=\"dataframe\">\n",
       "  <thead>\n",
       "    <tr style=\"text-align: right;\">\n",
       "      <th></th>\n",
       "      <th>channel_id</th>\n",
       "      <th>channel</th>\n",
       "    </tr>\n",
       "  </thead>\n",
       "  <tbody>\n",
       "    <tr>\n",
       "      <th>0</th>\n",
       "      <td>1</td>\n",
       "      <td>Uber Eats</td>\n",
       "    </tr>\n",
       "    <tr>\n",
       "      <th>1</th>\n",
       "      <td>2</td>\n",
       "      <td>Gloria Foods</td>\n",
       "    </tr>\n",
       "    <tr>\n",
       "      <th>2</th>\n",
       "      <td>3</td>\n",
       "      <td>Glovo</td>\n",
       "    </tr>\n",
       "    <tr>\n",
       "      <th>3</th>\n",
       "      <td>4</td>\n",
       "      <td>Just Eat</td>\n",
       "    </tr>\n",
       "    <tr>\n",
       "      <th>4</th>\n",
       "      <td>5</td>\n",
       "      <td>Direct Orders</td>\n",
       "    </tr>\n",
       "    <tr>\n",
       "      <th>5</th>\n",
       "      <td>6</td>\n",
       "      <td>Phone</td>\n",
       "    </tr>\n",
       "  </tbody>\n",
       "</table>\n",
       "</div>"
      ],
      "text/plain": [
       "  channel_id        channel\n",
       "0          1      Uber Eats\n",
       "1          2   Gloria Foods\n",
       "2          3          Glovo\n",
       "3          4       Just Eat\n",
       "4          5  Direct Orders\n",
       "5          6          Phone"
      ]
     },
     "execution_count": 8,
     "metadata": {},
     "output_type": "execute_result"
    }
   ],
   "source": [
    "channel = new_table(all_orders, 'channel', 'channel_id','channel')\n",
    "\n",
    "channel"
   ]
  },
  {
   "cell_type": "markdown",
   "metadata": {},
   "source": [
    "#### <a id='toc1_3_1_4_'></a>[status DataFrame](#toc0_)"
   ]
  },
  {
   "cell_type": "code",
   "execution_count": 9,
   "metadata": {},
   "outputs": [
    {
     "data": {
      "text/html": [
       "<div>\n",
       "<style scoped>\n",
       "    .dataframe tbody tr th:only-of-type {\n",
       "        vertical-align: middle;\n",
       "    }\n",
       "\n",
       "    .dataframe tbody tr th {\n",
       "        vertical-align: top;\n",
       "    }\n",
       "\n",
       "    .dataframe thead th {\n",
       "        text-align: right;\n",
       "    }\n",
       "</style>\n",
       "<table border=\"1\" class=\"dataframe\">\n",
       "  <thead>\n",
       "    <tr style=\"text-align: right;\">\n",
       "      <th></th>\n",
       "      <th>status_id</th>\n",
       "      <th>status</th>\n",
       "    </tr>\n",
       "  </thead>\n",
       "  <tbody>\n",
       "    <tr>\n",
       "      <th>0</th>\n",
       "      <td>1</td>\n",
       "      <td>DELIVERED</td>\n",
       "    </tr>\n",
       "    <tr>\n",
       "      <th>1</th>\n",
       "      <td>2</td>\n",
       "      <td>NEW</td>\n",
       "    </tr>\n",
       "    <tr>\n",
       "      <th>2</th>\n",
       "      <td>3</td>\n",
       "      <td>CANCELED</td>\n",
       "    </tr>\n",
       "    <tr>\n",
       "      <th>3</th>\n",
       "      <td>4</td>\n",
       "      <td>UNKNOWN</td>\n",
       "    </tr>\n",
       "    <tr>\n",
       "      <th>4</th>\n",
       "      <td>5</td>\n",
       "      <td>ACCEPTED</td>\n",
       "    </tr>\n",
       "  </tbody>\n",
       "</table>\n",
       "</div>"
      ],
      "text/plain": [
       "  status_id     status\n",
       "0         1  DELIVERED\n",
       "1         2        NEW\n",
       "2         3   CANCELED\n",
       "3         4    UNKNOWN\n",
       "4         5   ACCEPTED"
      ]
     },
     "execution_count": 9,
     "metadata": {},
     "output_type": "execute_result"
    }
   ],
   "source": [
    "status = new_table(all_orders, 'status', 'status_id','status')\n",
    "\n",
    "status"
   ]
  },
  {
   "cell_type": "markdown",
   "metadata": {},
   "source": [
    "#### <a id='toc1_3_1_5_'></a>[order_type DataFrame](#toc0_)"
   ]
  },
  {
   "cell_type": "code",
   "execution_count": 10,
   "metadata": {},
   "outputs": [
    {
     "data": {
      "text/html": [
       "<div>\n",
       "<style scoped>\n",
       "    .dataframe tbody tr th:only-of-type {\n",
       "        vertical-align: middle;\n",
       "    }\n",
       "\n",
       "    .dataframe tbody tr th {\n",
       "        vertical-align: top;\n",
       "    }\n",
       "\n",
       "    .dataframe thead th {\n",
       "        text-align: right;\n",
       "    }\n",
       "</style>\n",
       "<table border=\"1\" class=\"dataframe\">\n",
       "  <thead>\n",
       "    <tr style=\"text-align: right;\">\n",
       "      <th></th>\n",
       "      <th>order_type_id</th>\n",
       "      <th>order_type</th>\n",
       "    </tr>\n",
       "  </thead>\n",
       "  <tbody>\n",
       "    <tr>\n",
       "      <th>0</th>\n",
       "      <td>1</td>\n",
       "      <td>DELIVERY</td>\n",
       "    </tr>\n",
       "    <tr>\n",
       "      <th>1</th>\n",
       "      <td>2</td>\n",
       "      <td>PICK UP</td>\n",
       "    </tr>\n",
       "    <tr>\n",
       "      <th>2</th>\n",
       "      <td>3</td>\n",
       "      <td>OWN DELIVERY</td>\n",
       "    </tr>\n",
       "    <tr>\n",
       "      <th>3</th>\n",
       "      <td>4</td>\n",
       "      <td>UNKNOWN</td>\n",
       "    </tr>\n",
       "  </tbody>\n",
       "</table>\n",
       "</div>"
      ],
      "text/plain": [
       "  order_type_id    order_type\n",
       "0             1      DELIVERY\n",
       "1             2       PICK UP\n",
       "2             3  OWN DELIVERY\n",
       "3             4       UNKNOWN"
      ]
     },
     "execution_count": 10,
     "metadata": {},
     "output_type": "execute_result"
    }
   ],
   "source": [
    "order_type = new_table(all_orders, 'order_type', 'order_type_id','order_type')\n",
    "\n",
    "order_type"
   ]
  },
  {
   "cell_type": "markdown",
   "metadata": {},
   "source": [
    "#### <a id='toc1_3_1_6_'></a>[software DataFrame](#toc0_)"
   ]
  },
  {
   "cell_type": "code",
   "execution_count": 11,
   "metadata": {},
   "outputs": [
    {
     "data": {
      "text/html": [
       "<div>\n",
       "<style scoped>\n",
       "    .dataframe tbody tr th:only-of-type {\n",
       "        vertical-align: middle;\n",
       "    }\n",
       "\n",
       "    .dataframe tbody tr th {\n",
       "        vertical-align: top;\n",
       "    }\n",
       "\n",
       "    .dataframe thead th {\n",
       "        text-align: right;\n",
       "    }\n",
       "</style>\n",
       "<table border=\"1\" class=\"dataframe\">\n",
       "  <thead>\n",
       "    <tr style=\"text-align: right;\">\n",
       "      <th></th>\n",
       "      <th>software_id</th>\n",
       "      <th>software</th>\n",
       "    </tr>\n",
       "  </thead>\n",
       "  <tbody>\n",
       "    <tr>\n",
       "      <th>0</th>\n",
       "      <td>1</td>\n",
       "      <td>Otter</td>\n",
       "    </tr>\n",
       "    <tr>\n",
       "      <th>1</th>\n",
       "      <td>2</td>\n",
       "      <td>Deliverect</td>\n",
       "    </tr>\n",
       "  </tbody>\n",
       "</table>\n",
       "</div>"
      ],
      "text/plain": [
       "  software_id    software\n",
       "0           1       Otter\n",
       "1           2  Deliverect"
      ]
     },
     "execution_count": 11,
     "metadata": {},
     "output_type": "execute_result"
    }
   ],
   "source": [
    "software = new_table(all_orders, 'software', 'software_id','software')\n",
    "\n",
    "software"
   ]
  },
  {
   "cell_type": "markdown",
   "metadata": {},
   "source": [
    "#### <a id='toc1_3_1_7_'></a>[delivery_timing DataFrame](#toc0_)"
   ]
  },
  {
   "cell_type": "code",
   "execution_count": 12,
   "metadata": {},
   "outputs": [
    {
     "data": {
      "text/html": [
       "<div>\n",
       "<style scoped>\n",
       "    .dataframe tbody tr th:only-of-type {\n",
       "        vertical-align: middle;\n",
       "    }\n",
       "\n",
       "    .dataframe tbody tr th {\n",
       "        vertical-align: top;\n",
       "    }\n",
       "\n",
       "    .dataframe thead th {\n",
       "        text-align: right;\n",
       "    }\n",
       "</style>\n",
       "<table border=\"1\" class=\"dataframe\">\n",
       "  <thead>\n",
       "    <tr style=\"text-align: right;\">\n",
       "      <th></th>\n",
       "      <th>delivery_timing_id</th>\n",
       "      <th>delivery_timing</th>\n",
       "    </tr>\n",
       "  </thead>\n",
       "  <tbody>\n",
       "    <tr>\n",
       "      <th>0</th>\n",
       "      <td>1</td>\n",
       "      <td>Immediately</td>\n",
       "    </tr>\n",
       "    <tr>\n",
       "      <th>1</th>\n",
       "      <td>2</td>\n",
       "      <td>Scheduled</td>\n",
       "    </tr>\n",
       "    <tr>\n",
       "      <th>2</th>\n",
       "      <td>3</td>\n",
       "      <td>Unknown</td>\n",
       "    </tr>\n",
       "  </tbody>\n",
       "</table>\n",
       "</div>"
      ],
      "text/plain": [
       "  delivery_timing_id delivery_timing\n",
       "0                  1     Immediately\n",
       "1                  2       Scheduled\n",
       "2                  3         Unknown"
      ]
     },
     "execution_count": 12,
     "metadata": {},
     "output_type": "execute_result"
    }
   ],
   "source": [
    "delivery_timing = new_table(all_orders, 'delivery_timing', 'delivery_timing_id','delivery_timing')\n",
    "\n",
    "delivery_timing"
   ]
  },
  {
   "cell_type": "markdown",
   "metadata": {},
   "source": [
    "### <a id='toc1_3_2_'></a>[Items](#toc0_)"
   ]
  },
  {
   "cell_type": "markdown",
   "metadata": {},
   "source": [
    "#### <a id='toc1_3_2_1_'></a>[menu DataFrame](#toc0_)"
   ]
  },
  {
   "cell_type": "code",
   "execution_count": 70,
   "metadata": {},
   "outputs": [
    {
     "data": {
      "text/html": [
       "<div>\n",
       "<style scoped>\n",
       "    .dataframe tbody tr th:only-of-type {\n",
       "        vertical-align: middle;\n",
       "    }\n",
       "\n",
       "    .dataframe tbody tr th {\n",
       "        vertical-align: top;\n",
       "    }\n",
       "\n",
       "    .dataframe thead th {\n",
       "        text-align: right;\n",
       "    }\n",
       "</style>\n",
       "<table border=\"1\" class=\"dataframe\">\n",
       "  <thead>\n",
       "    <tr style=\"text-align: right;\">\n",
       "      <th></th>\n",
       "      <th>item_id</th>\n",
       "      <th>item</th>\n",
       "    </tr>\n",
       "  </thead>\n",
       "  <tbody>\n",
       "    <tr>\n",
       "      <th>0</th>\n",
       "      <td>1</td>\n",
       "      <td>Patatas fritas Pequeñas</td>\n",
       "    </tr>\n",
       "    <tr>\n",
       "      <th>1</th>\n",
       "      <td>2</td>\n",
       "      <td>Kahuna Burger</td>\n",
       "    </tr>\n",
       "    <tr>\n",
       "      <th>2</th>\n",
       "      <td>3</td>\n",
       "      <td>Sweet Home Sanvi</td>\n",
       "    </tr>\n",
       "    <tr>\n",
       "      <th>3</th>\n",
       "      <td>4</td>\n",
       "      <td>Chicken Tenders</td>\n",
       "    </tr>\n",
       "    <tr>\n",
       "      <th>4</th>\n",
       "      <td>5</td>\n",
       "      <td>Tequeños</td>\n",
       "    </tr>\n",
       "  </tbody>\n",
       "</table>\n",
       "</div>"
      ],
      "text/plain": [
       "  item_id                     item\n",
       "0       1  Patatas fritas Pequeñas\n",
       "1       2            Kahuna Burger\n",
       "2       3         Sweet Home Sanvi\n",
       "3       4          Chicken Tenders\n",
       "4       5                 Tequeños"
      ]
     },
     "execution_count": 70,
     "metadata": {},
     "output_type": "execute_result"
    }
   ],
   "source": [
    "menu =  new_table(all_items, 'item', 'item_id','item')\n",
    "\n",
    "menu.head()"
   ]
  },
  {
   "cell_type": "markdown",
   "metadata": {},
   "source": [
    "## <a id='toc1_4_'></a>[Ids association in Orders](#toc0_)"
   ]
  },
  {
   "cell_type": "code",
   "execution_count": 47,
   "metadata": {},
   "outputs": [],
   "source": [
    "#Create new columns\n",
    "\n",
    "all_orders['brand_id'] = np.nan \n",
    "all_orders['location_id'] = np.nan\n",
    "all_orders['channel_id'] = np.nan\n",
    "all_orders['status_id'] = np.nan\n",
    "all_orders['order_type_id'] = np.nan\n",
    "all_orders['software_id'] = np.nan\n",
    "all_orders['delivery_timing_id'] = np.nan"
   ]
  },
  {
   "cell_type": "markdown",
   "metadata": {},
   "source": [
    "### <a id='toc1_4_1_'></a>[Fill each column with its associated id in the corresponding table](#toc0_)"
   ]
  },
  {
   "cell_type": "markdown",
   "metadata": {},
   "source": [
    "#### <a id='toc1_4_1_1_'></a>[Brand](#toc0_)"
   ]
  },
  {
   "cell_type": "code",
   "execution_count": 48,
   "metadata": {},
   "outputs": [],
   "source": [
    "all_orders =  all_orders.apply(fill_column, df_to_compare=brand, column_to_compare='brand', column_to_change='brand_id', axis=1)"
   ]
  },
  {
   "cell_type": "markdown",
   "metadata": {},
   "source": [
    "#### <a id='toc1_4_1_2_'></a>[Location](#toc0_)"
   ]
  },
  {
   "cell_type": "code",
   "execution_count": 49,
   "metadata": {},
   "outputs": [],
   "source": [
    "all_orders =  all_orders.apply(fill_column, df_to_compare=location, column_to_compare='location', column_to_change='location_id', axis=1)"
   ]
  },
  {
   "cell_type": "markdown",
   "metadata": {},
   "source": [
    "#### <a id='toc1_4_1_3_'></a>[Channel](#toc0_)"
   ]
  },
  {
   "cell_type": "code",
   "execution_count": 50,
   "metadata": {},
   "outputs": [],
   "source": [
    "all_orders = all_orders.apply(fill_column, df_to_compare=channel, column_to_compare='channel', column_to_change='channel_id', axis=1)"
   ]
  },
  {
   "cell_type": "markdown",
   "metadata": {},
   "source": [
    "#### <a id='toc1_4_1_4_'></a>[Status](#toc0_)"
   ]
  },
  {
   "cell_type": "code",
   "execution_count": 51,
   "metadata": {},
   "outputs": [],
   "source": [
    "all_orders = all_orders.apply(fill_column, df_to_compare=status, column_to_compare='status', column_to_change='status_id', axis=1)"
   ]
  },
  {
   "cell_type": "markdown",
   "metadata": {},
   "source": [
    "#### <a id='toc1_4_1_5_'></a>[Order_type](#toc0_)"
   ]
  },
  {
   "cell_type": "code",
   "execution_count": 52,
   "metadata": {},
   "outputs": [],
   "source": [
    "all_orders = all_orders.apply(fill_column, df_to_compare=order_type, column_to_compare='order_type', column_to_change='order_type_id', axis=1)"
   ]
  },
  {
   "cell_type": "markdown",
   "metadata": {},
   "source": [
    "#### <a id='toc1_4_1_6_'></a>[Software](#toc0_)"
   ]
  },
  {
   "cell_type": "code",
   "execution_count": 54,
   "metadata": {},
   "outputs": [],
   "source": [
    "all_orders = all_orders.apply(fill_column, df_to_compare=software, column_to_compare='software', column_to_change='software_id', axis=1)"
   ]
  },
  {
   "cell_type": "markdown",
   "metadata": {},
   "source": [
    "#### <a id='toc1_4_1_7_'></a>[Delivery_timing](#toc0_)"
   ]
  },
  {
   "cell_type": "code",
   "execution_count": 55,
   "metadata": {},
   "outputs": [],
   "source": [
    "all_orders = all_orders.apply(fill_column, df_to_compare=delivery_timing, column_to_compare='delivery_timing', column_to_change='delivery_timing_id', axis=1)"
   ]
  },
  {
   "cell_type": "markdown",
   "metadata": {},
   "source": [
    "### <a id='toc1_4_2_'></a>[Create table location_brand](#toc0_)"
   ]
  },
  {
   "cell_type": "code",
   "execution_count": 64,
   "metadata": {},
   "outputs": [
    {
     "data": {
      "text/html": [
       "<div>\n",
       "<style scoped>\n",
       "    .dataframe tbody tr th:only-of-type {\n",
       "        vertical-align: middle;\n",
       "    }\n",
       "\n",
       "    .dataframe tbody tr th {\n",
       "        vertical-align: top;\n",
       "    }\n",
       "\n",
       "    .dataframe thead th {\n",
       "        text-align: right;\n",
       "    }\n",
       "</style>\n",
       "<table border=\"1\" class=\"dataframe\">\n",
       "  <thead>\n",
       "    <tr style=\"text-align: right;\">\n",
       "      <th></th>\n",
       "      <th>location_id</th>\n",
       "      <th>brand_id</th>\n",
       "    </tr>\n",
       "  </thead>\n",
       "  <tbody>\n",
       "    <tr>\n",
       "      <th>0</th>\n",
       "      <td>1</td>\n",
       "      <td>1</td>\n",
       "    </tr>\n",
       "    <tr>\n",
       "      <th>1</th>\n",
       "      <td>1</td>\n",
       "      <td>1</td>\n",
       "    </tr>\n",
       "    <tr>\n",
       "      <th>2</th>\n",
       "      <td>2</td>\n",
       "      <td>2</td>\n",
       "    </tr>\n",
       "    <tr>\n",
       "      <th>3</th>\n",
       "      <td>1</td>\n",
       "      <td>1</td>\n",
       "    </tr>\n",
       "    <tr>\n",
       "      <th>4</th>\n",
       "      <td>2</td>\n",
       "      <td>1</td>\n",
       "    </tr>\n",
       "  </tbody>\n",
       "</table>\n",
       "</div>"
      ],
      "text/plain": [
       "  location_id brand_id\n",
       "0           1        1\n",
       "1           1        1\n",
       "2           2        2\n",
       "3           1        1\n",
       "4           2        1"
      ]
     },
     "execution_count": 64,
     "metadata": {},
     "output_type": "execute_result"
    }
   ],
   "source": [
    "location_brand = all_orders[['location_id', 'brand_id']]\n",
    "\n",
    "location_brand.head()"
   ]
  },
  {
   "cell_type": "markdown",
   "metadata": {},
   "source": [
    "## <a id='toc1_5_'></a>[Ids association in Items](#toc0_)"
   ]
  },
  {
   "cell_type": "code",
   "execution_count": 32,
   "metadata": {},
   "outputs": [
    {
     "data": {
      "text/plain": [
       "Index(['item', 'quantity', 'price', 'total_item', 'order_id_software',\n",
       "       'service_fee'],\n",
       "      dtype='object')"
      ]
     },
     "execution_count": 32,
     "metadata": {},
     "output_type": "execute_result"
    }
   ],
   "source": [
    "all_items.columns"
   ]
  },
  {
   "cell_type": "code",
   "execution_count": 71,
   "metadata": {},
   "outputs": [],
   "source": [
    "all_items['item_id'] = np.nan "
   ]
  },
  {
   "cell_type": "code",
   "execution_count": 75,
   "metadata": {},
   "outputs": [],
   "source": [
    "all_items = all_items.apply(fill_column, df_to_compare=menu, column_to_compare='item', column_to_change='item_id', axis=1)"
   ]
  },
  {
   "cell_type": "markdown",
   "metadata": {},
   "source": [
    "## <a id='toc1_6_'></a>[Create own id for the orders table and associate it to the items table](#toc0_)"
   ]
  },
  {
   "cell_type": "code",
   "execution_count": 88,
   "metadata": {},
   "outputs": [],
   "source": [
    "all_orders['order_id'] = [e+1 for e in range(all_orders.shape[0])]"
   ]
  },
  {
   "cell_type": "code",
   "execution_count": 91,
   "metadata": {},
   "outputs": [
    {
     "data": {
      "text/html": [
       "<div>\n",
       "<style scoped>\n",
       "    .dataframe tbody tr th:only-of-type {\n",
       "        vertical-align: middle;\n",
       "    }\n",
       "\n",
       "    .dataframe tbody tr th {\n",
       "        vertical-align: top;\n",
       "    }\n",
       "\n",
       "    .dataframe thead th {\n",
       "        text-align: right;\n",
       "    }\n",
       "</style>\n",
       "<table border=\"1\" class=\"dataframe\">\n",
       "  <thead>\n",
       "    <tr style=\"text-align: right;\">\n",
       "      <th></th>\n",
       "      <th>order_id_software</th>\n",
       "      <th>created_datetime</th>\n",
       "      <th>channel</th>\n",
       "      <th>status</th>\n",
       "      <th>brand</th>\n",
       "      <th>location</th>\n",
       "      <th>quantity</th>\n",
       "      <th>subtotal</th>\n",
       "      <th>tip</th>\n",
       "      <th>driver_tip</th>\n",
       "      <th>discount</th>\n",
       "      <th>total</th>\n",
       "      <th>order_type</th>\n",
       "      <th>delivery_timing</th>\n",
       "      <th>payment_method</th>\n",
       "      <th>vat</th>\n",
       "      <th>software</th>\n",
       "      <th>brand_id</th>\n",
       "      <th>location_id</th>\n",
       "      <th>channel_id</th>\n",
       "      <th>status_id</th>\n",
       "      <th>order_type_id</th>\n",
       "      <th>software_id</th>\n",
       "      <th>delivery_timing_id</th>\n",
       "      <th>order_id</th>\n",
       "    </tr>\n",
       "  </thead>\n",
       "  <tbody>\n",
       "    <tr>\n",
       "      <th>0</th>\n",
       "      <td>457EE</td>\n",
       "      <td>31/10/2023, 23:22:36</td>\n",
       "      <td>Uber Eats</td>\n",
       "      <td>DELIVERED</td>\n",
       "      <td>Umbrella SH</td>\n",
       "      <td>Umbrella - Salamanca</td>\n",
       "      <td>2.0</td>\n",
       "      <td>46.0</td>\n",
       "      <td>0.0</td>\n",
       "      <td>0</td>\n",
       "      <td>-12.64</td>\n",
       "      <td>23.73</td>\n",
       "      <td>DELIVERY</td>\n",
       "      <td>Immediately</td>\n",
       "      <td>CARD</td>\n",
       "      <td>0.0</td>\n",
       "      <td>Otter</td>\n",
       "      <td>1</td>\n",
       "      <td>1</td>\n",
       "      <td>1</td>\n",
       "      <td>1</td>\n",
       "      <td>1</td>\n",
       "      <td>1</td>\n",
       "      <td>1</td>\n",
       "      <td>1</td>\n",
       "    </tr>\n",
       "    <tr>\n",
       "      <th>1</th>\n",
       "      <td>0390E</td>\n",
       "      <td>31/10/2023, 23:19:01</td>\n",
       "      <td>Uber Eats</td>\n",
       "      <td>DELIVERED</td>\n",
       "      <td>Umbrella SH</td>\n",
       "      <td>Umbrella - Salamanca</td>\n",
       "      <td>4.0</td>\n",
       "      <td>62.8</td>\n",
       "      <td>0.0</td>\n",
       "      <td>0</td>\n",
       "      <td>-25.27</td>\n",
       "      <td>28.16</td>\n",
       "      <td>DELIVERY</td>\n",
       "      <td>Immediately</td>\n",
       "      <td>CASH</td>\n",
       "      <td>0.0</td>\n",
       "      <td>Otter</td>\n",
       "      <td>1</td>\n",
       "      <td>1</td>\n",
       "      <td>1</td>\n",
       "      <td>1</td>\n",
       "      <td>1</td>\n",
       "      <td>1</td>\n",
       "      <td>1</td>\n",
       "      <td>2</td>\n",
       "    </tr>\n",
       "    <tr>\n",
       "      <th>2</th>\n",
       "      <td>EBBB9</td>\n",
       "      <td>31/10/2023, 23:15:19</td>\n",
       "      <td>Uber Eats</td>\n",
       "      <td>DELIVERED</td>\n",
       "      <td>Tepuy Basics</td>\n",
       "      <td>Umbrella - Goleta</td>\n",
       "      <td>3.0</td>\n",
       "      <td>30.6</td>\n",
       "      <td>0.0</td>\n",
       "      <td>0</td>\n",
       "      <td>0.00</td>\n",
       "      <td>30.60</td>\n",
       "      <td>DELIVERY</td>\n",
       "      <td>Immediately</td>\n",
       "      <td>CARD</td>\n",
       "      <td>0.0</td>\n",
       "      <td>Otter</td>\n",
       "      <td>2</td>\n",
       "      <td>2</td>\n",
       "      <td>1</td>\n",
       "      <td>1</td>\n",
       "      <td>1</td>\n",
       "      <td>1</td>\n",
       "      <td>1</td>\n",
       "      <td>3</td>\n",
       "    </tr>\n",
       "    <tr>\n",
       "      <th>3</th>\n",
       "      <td>58A44</td>\n",
       "      <td>31/10/2023, 23:14:29</td>\n",
       "      <td>Uber Eats</td>\n",
       "      <td>DELIVERED</td>\n",
       "      <td>Umbrella SH</td>\n",
       "      <td>Umbrella - Salamanca</td>\n",
       "      <td>2.0</td>\n",
       "      <td>45.8</td>\n",
       "      <td>0.0</td>\n",
       "      <td>0</td>\n",
       "      <td>-12.64</td>\n",
       "      <td>23.60</td>\n",
       "      <td>DELIVERY</td>\n",
       "      <td>Immediately</td>\n",
       "      <td>CARD</td>\n",
       "      <td>0.0</td>\n",
       "      <td>Otter</td>\n",
       "      <td>1</td>\n",
       "      <td>1</td>\n",
       "      <td>1</td>\n",
       "      <td>1</td>\n",
       "      <td>1</td>\n",
       "      <td>1</td>\n",
       "      <td>1</td>\n",
       "      <td>4</td>\n",
       "    </tr>\n",
       "    <tr>\n",
       "      <th>4</th>\n",
       "      <td>776960000</td>\n",
       "      <td>31/10/2023, 23:01:13</td>\n",
       "      <td>Gloria Foods</td>\n",
       "      <td>DELIVERED</td>\n",
       "      <td>Umbrella SH</td>\n",
       "      <td>Umbrella - Goleta</td>\n",
       "      <td>6.0</td>\n",
       "      <td>44.0</td>\n",
       "      <td>0.0</td>\n",
       "      <td>0</td>\n",
       "      <td>0.00</td>\n",
       "      <td>44.00</td>\n",
       "      <td>PICK UP</td>\n",
       "      <td>Immediately</td>\n",
       "      <td>CARD</td>\n",
       "      <td>0.0</td>\n",
       "      <td>Otter</td>\n",
       "      <td>1</td>\n",
       "      <td>2</td>\n",
       "      <td>2</td>\n",
       "      <td>1</td>\n",
       "      <td>2</td>\n",
       "      <td>1</td>\n",
       "      <td>1</td>\n",
       "      <td>5</td>\n",
       "    </tr>\n",
       "  </tbody>\n",
       "</table>\n",
       "</div>"
      ],
      "text/plain": [
       "  order_id_software      created_datetime       channel     status  \\\n",
       "0             457EE  31/10/2023, 23:22:36     Uber Eats  DELIVERED   \n",
       "1             0390E  31/10/2023, 23:19:01     Uber Eats  DELIVERED   \n",
       "2             EBBB9  31/10/2023, 23:15:19     Uber Eats  DELIVERED   \n",
       "3             58A44  31/10/2023, 23:14:29     Uber Eats  DELIVERED   \n",
       "4         776960000  31/10/2023, 23:01:13  Gloria Foods  DELIVERED   \n",
       "\n",
       "          brand              location  quantity  subtotal  tip  driver_tip  \\\n",
       "0   Umbrella SH  Umbrella - Salamanca       2.0      46.0  0.0           0   \n",
       "1   Umbrella SH  Umbrella - Salamanca       4.0      62.8  0.0           0   \n",
       "2  Tepuy Basics     Umbrella - Goleta       3.0      30.6  0.0           0   \n",
       "3   Umbrella SH  Umbrella - Salamanca       2.0      45.8  0.0           0   \n",
       "4   Umbrella SH     Umbrella - Goleta       6.0      44.0  0.0           0   \n",
       "\n",
       "   discount  total order_type delivery_timing payment_method  vat software  \\\n",
       "0    -12.64  23.73   DELIVERY     Immediately           CARD  0.0    Otter   \n",
       "1    -25.27  28.16   DELIVERY     Immediately           CASH  0.0    Otter   \n",
       "2      0.00  30.60   DELIVERY     Immediately           CARD  0.0    Otter   \n",
       "3    -12.64  23.60   DELIVERY     Immediately           CARD  0.0    Otter   \n",
       "4      0.00  44.00    PICK UP     Immediately           CARD  0.0    Otter   \n",
       "\n",
       "  brand_id location_id channel_id status_id order_type_id software_id  \\\n",
       "0        1           1          1         1             1           1   \n",
       "1        1           1          1         1             1           1   \n",
       "2        2           2          1         1             1           1   \n",
       "3        1           1          1         1             1           1   \n",
       "4        1           2          2         1             2           1   \n",
       "\n",
       "  delivery_timing_id  order_id  \n",
       "0                  1         1  \n",
       "1                  1         2  \n",
       "2                  1         3  \n",
       "3                  1         4  \n",
       "4                  1         5  "
      ]
     },
     "execution_count": 91,
     "metadata": {},
     "output_type": "execute_result"
    }
   ],
   "source": [
    "all_orders.head()"
   ]
  },
  {
   "cell_type": "code",
   "execution_count": 92,
   "metadata": {},
   "outputs": [],
   "source": [
    "orders = all_orders.copy()\n",
    "items= all_items.copy()"
   ]
  },
  {
   "cell_type": "code",
   "execution_count": 94,
   "metadata": {},
   "outputs": [],
   "source": [
    "all_items['order_id'] = np.nan "
   ]
  },
  {
   "cell_type": "code",
   "execution_count": 95,
   "metadata": {},
   "outputs": [],
   "source": [
    "all_items = all_items.apply(fill_column, df_to_compare=all_orders, column_to_compare='order_id_software', column_to_change='order_id', axis=1)"
   ]
  },
  {
   "cell_type": "code",
   "execution_count": 97,
   "metadata": {},
   "outputs": [
    {
     "data": {
      "text/html": [
       "<div>\n",
       "<style scoped>\n",
       "    .dataframe tbody tr th:only-of-type {\n",
       "        vertical-align: middle;\n",
       "    }\n",
       "\n",
       "    .dataframe tbody tr th {\n",
       "        vertical-align: top;\n",
       "    }\n",
       "\n",
       "    .dataframe thead th {\n",
       "        text-align: right;\n",
       "    }\n",
       "</style>\n",
       "<table border=\"1\" class=\"dataframe\">\n",
       "  <thead>\n",
       "    <tr style=\"text-align: right;\">\n",
       "      <th></th>\n",
       "      <th>item</th>\n",
       "      <th>quantity</th>\n",
       "      <th>price</th>\n",
       "      <th>total_item</th>\n",
       "      <th>order_id_software</th>\n",
       "      <th>service_fee</th>\n",
       "      <th>item_id</th>\n",
       "      <th>order_id</th>\n",
       "    </tr>\n",
       "  </thead>\n",
       "  <tbody>\n",
       "    <tr>\n",
       "      <th>34308</th>\n",
       "      <td>Charles Wells</td>\n",
       "      <td>1</td>\n",
       "      <td>8.3</td>\n",
       "      <td>8.3</td>\n",
       "      <td>769609525</td>\n",
       "      <td>0.0</td>\n",
       "      <td>20</td>\n",
       "      <td>3963</td>\n",
       "    </tr>\n",
       "    <tr>\n",
       "      <th>11262</th>\n",
       "      <td>Kahuna Burger</td>\n",
       "      <td>1</td>\n",
       "      <td>8.1</td>\n",
       "      <td>8.1</td>\n",
       "      <td>431B4</td>\n",
       "      <td>0.0</td>\n",
       "      <td>2</td>\n",
       "      <td>13916</td>\n",
       "    </tr>\n",
       "    <tr>\n",
       "      <th>9746</th>\n",
       "      <td>Sweet Home Alicante</td>\n",
       "      <td>2</td>\n",
       "      <td>12.3</td>\n",
       "      <td>24.6</td>\n",
       "      <td>466DA</td>\n",
       "      <td>0.0</td>\n",
       "      <td>12</td>\n",
       "      <td>14557</td>\n",
       "    </tr>\n",
       "    <tr>\n",
       "      <th>38176</th>\n",
       "      <td>Patatas fritas Pequeñas</td>\n",
       "      <td>1</td>\n",
       "      <td>2.5</td>\n",
       "      <td>2.5</td>\n",
       "      <td>EC727</td>\n",
       "      <td>0.0</td>\n",
       "      <td>1</td>\n",
       "      <td>2089</td>\n",
       "    </tr>\n",
       "    <tr>\n",
       "      <th>33389</th>\n",
       "      <td>Sweet Home Madrid</td>\n",
       "      <td>2</td>\n",
       "      <td>12.7</td>\n",
       "      <td>25.4</td>\n",
       "      <td>MN33HW18</td>\n",
       "      <td>0.0</td>\n",
       "      <td>25</td>\n",
       "      <td>4341</td>\n",
       "    </tr>\n",
       "    <tr>\n",
       "      <th>27152</th>\n",
       "      <td>Burger La Caprichosa</td>\n",
       "      <td>1</td>\n",
       "      <td>10.9</td>\n",
       "      <td>10.9</td>\n",
       "      <td>AMUJLEZ1</td>\n",
       "      <td>0.0</td>\n",
       "      <td>41</td>\n",
       "      <td>6973</td>\n",
       "    </tr>\n",
       "    <tr>\n",
       "      <th>12507</th>\n",
       "      <td>Kahuna Burger</td>\n",
       "      <td>1</td>\n",
       "      <td>8.1</td>\n",
       "      <td>8.1</td>\n",
       "      <td>748604421</td>\n",
       "      <td>0.0</td>\n",
       "      <td>2</td>\n",
       "      <td>13372</td>\n",
       "    </tr>\n",
       "    <tr>\n",
       "      <th>14380</th>\n",
       "      <td>Salsa Mayo Trufa</td>\n",
       "      <td>1</td>\n",
       "      <td>1.5</td>\n",
       "      <td>1.5</td>\n",
       "      <td>D2170</td>\n",
       "      <td>0.0</td>\n",
       "      <td>43</td>\n",
       "      <td>12603</td>\n",
       "    </tr>\n",
       "    <tr>\n",
       "      <th>23895</th>\n",
       "      <td>Patatas fritas Pequeñas</td>\n",
       "      <td>2</td>\n",
       "      <td>2.5</td>\n",
       "      <td>5.0</td>\n",
       "      <td>057DF</td>\n",
       "      <td>0.0</td>\n",
       "      <td>1</td>\n",
       "      <td>8307</td>\n",
       "    </tr>\n",
       "    <tr>\n",
       "      <th>18747</th>\n",
       "      <td>Patatas fritas Grandes</td>\n",
       "      <td>1</td>\n",
       "      <td>4.5</td>\n",
       "      <td>4.5</td>\n",
       "      <td>D92DD</td>\n",
       "      <td>0.0</td>\n",
       "      <td>19</td>\n",
       "      <td>10612</td>\n",
       "    </tr>\n",
       "    <tr>\n",
       "      <th>10884</th>\n",
       "      <td>Boniato frito pequeño</td>\n",
       "      <td>1</td>\n",
       "      <td>3.5</td>\n",
       "      <td>3.5</td>\n",
       "      <td>8552E</td>\n",
       "      <td>0.0</td>\n",
       "      <td>68</td>\n",
       "      <td>14082</td>\n",
       "    </tr>\n",
       "    <tr>\n",
       "      <th>33261</th>\n",
       "      <td>Ned Kelly</td>\n",
       "      <td>1</td>\n",
       "      <td>11.4</td>\n",
       "      <td>11.4</td>\n",
       "      <td>AC510</td>\n",
       "      <td>0.0</td>\n",
       "      <td>6</td>\n",
       "      <td>4396</td>\n",
       "    </tr>\n",
       "    <tr>\n",
       "      <th>34921</th>\n",
       "      <td>Charles Wells</td>\n",
       "      <td>1</td>\n",
       "      <td>8.3</td>\n",
       "      <td>8.3</td>\n",
       "      <td>769834198</td>\n",
       "      <td>0.0</td>\n",
       "      <td>20</td>\n",
       "      <td>3696</td>\n",
       "    </tr>\n",
       "    <tr>\n",
       "      <th>18752</th>\n",
       "      <td>Alitas</td>\n",
       "      <td>1</td>\n",
       "      <td>7.2</td>\n",
       "      <td>7.2</td>\n",
       "      <td>476CA</td>\n",
       "      <td>0.0</td>\n",
       "      <td>11</td>\n",
       "      <td>10610</td>\n",
       "    </tr>\n",
       "    <tr>\n",
       "      <th>36276</th>\n",
       "      <td>Patatas fritas Pequeñas</td>\n",
       "      <td>1</td>\n",
       "      <td>2.5</td>\n",
       "      <td>2.5</td>\n",
       "      <td>5421B</td>\n",
       "      <td>0.0</td>\n",
       "      <td>1</td>\n",
       "      <td>3014</td>\n",
       "    </tr>\n",
       "  </tbody>\n",
       "</table>\n",
       "</div>"
      ],
      "text/plain": [
       "                          item  quantity  price  total_item order_id_software  \\\n",
       "34308            Charles Wells         1    8.3         8.3         769609525   \n",
       "11262            Kahuna Burger         1    8.1         8.1             431B4   \n",
       "9746       Sweet Home Alicante         2   12.3        24.6             466DA   \n",
       "38176  Patatas fritas Pequeñas         1    2.5         2.5             EC727   \n",
       "33389        Sweet Home Madrid         2   12.7        25.4          MN33HW18   \n",
       "27152     Burger La Caprichosa         1   10.9        10.9          AMUJLEZ1   \n",
       "12507            Kahuna Burger         1    8.1         8.1         748604421   \n",
       "14380         Salsa Mayo Trufa         1    1.5         1.5             D2170   \n",
       "23895  Patatas fritas Pequeñas         2    2.5         5.0             057DF   \n",
       "18747   Patatas fritas Grandes         1    4.5         4.5             D92DD   \n",
       "10884    Boniato frito pequeño         1    3.5         3.5             8552E   \n",
       "33261                Ned Kelly         1   11.4        11.4             AC510   \n",
       "34921            Charles Wells         1    8.3         8.3         769834198   \n",
       "18752                   Alitas         1    7.2         7.2             476CA   \n",
       "36276  Patatas fritas Pequeñas         1    2.5         2.5             5421B   \n",
       "\n",
       "       service_fee item_id  order_id  \n",
       "34308          0.0      20      3963  \n",
       "11262          0.0       2     13916  \n",
       "9746           0.0      12     14557  \n",
       "38176          0.0       1      2089  \n",
       "33389          0.0      25      4341  \n",
       "27152          0.0      41      6973  \n",
       "12507          0.0       2     13372  \n",
       "14380          0.0      43     12603  \n",
       "23895          0.0       1      8307  \n",
       "18747          0.0      19     10612  \n",
       "10884          0.0      68     14082  \n",
       "33261          0.0       6      4396  \n",
       "34921          0.0      20      3696  \n",
       "18752          0.0      11     10610  \n",
       "36276          0.0       1      3014  "
      ]
     },
     "execution_count": 97,
     "metadata": {},
     "output_type": "execute_result"
    }
   ],
   "source": [
    "all_items.sample(15)"
   ]
  },
  {
   "cell_type": "code",
   "execution_count": 98,
   "metadata": {},
   "outputs": [
    {
     "data": {
      "text/html": [
       "<div>\n",
       "<style scoped>\n",
       "    .dataframe tbody tr th:only-of-type {\n",
       "        vertical-align: middle;\n",
       "    }\n",
       "\n",
       "    .dataframe tbody tr th {\n",
       "        vertical-align: top;\n",
       "    }\n",
       "\n",
       "    .dataframe thead th {\n",
       "        text-align: right;\n",
       "    }\n",
       "</style>\n",
       "<table border=\"1\" class=\"dataframe\">\n",
       "  <thead>\n",
       "    <tr style=\"text-align: right;\">\n",
       "      <th></th>\n",
       "      <th>order_id_software</th>\n",
       "      <th>created_datetime</th>\n",
       "      <th>channel</th>\n",
       "      <th>status</th>\n",
       "      <th>brand</th>\n",
       "      <th>location</th>\n",
       "      <th>quantity</th>\n",
       "      <th>subtotal</th>\n",
       "      <th>tip</th>\n",
       "      <th>driver_tip</th>\n",
       "      <th>discount</th>\n",
       "      <th>total</th>\n",
       "      <th>order_type</th>\n",
       "      <th>delivery_timing</th>\n",
       "      <th>payment_method</th>\n",
       "      <th>vat</th>\n",
       "      <th>software</th>\n",
       "      <th>brand_id</th>\n",
       "      <th>location_id</th>\n",
       "      <th>channel_id</th>\n",
       "      <th>status_id</th>\n",
       "      <th>order_type_id</th>\n",
       "      <th>software_id</th>\n",
       "      <th>delivery_timing_id</th>\n",
       "      <th>order_id</th>\n",
       "    </tr>\n",
       "  </thead>\n",
       "  <tbody>\n",
       "    <tr>\n",
       "      <th>2088</th>\n",
       "      <td>EC727</td>\n",
       "      <td>22/10/2023, 18:15:56</td>\n",
       "      <td>Uber Eats</td>\n",
       "      <td>DELIVERED</td>\n",
       "      <td>Umbrella SH</td>\n",
       "      <td>Umbrella - Tetuan</td>\n",
       "      <td>3.0</td>\n",
       "      <td>20.4</td>\n",
       "      <td>0.0</td>\n",
       "      <td>0</td>\n",
       "      <td>0.0</td>\n",
       "      <td>13.49</td>\n",
       "      <td>DELIVERY</td>\n",
       "      <td>Immediately</td>\n",
       "      <td>CARD</td>\n",
       "      <td>0.0</td>\n",
       "      <td>Otter</td>\n",
       "      <td>1</td>\n",
       "      <td>6</td>\n",
       "      <td>1</td>\n",
       "      <td>1</td>\n",
       "      <td>1</td>\n",
       "      <td>1</td>\n",
       "      <td>1</td>\n",
       "      <td>2089</td>\n",
       "    </tr>\n",
       "  </tbody>\n",
       "</table>\n",
       "</div>"
      ],
      "text/plain": [
       "     order_id_software      created_datetime    channel     status  \\\n",
       "2088             EC727  22/10/2023, 18:15:56  Uber Eats  DELIVERED   \n",
       "\n",
       "            brand           location  quantity  subtotal  tip  driver_tip  \\\n",
       "2088  Umbrella SH  Umbrella - Tetuan       3.0      20.4  0.0           0   \n",
       "\n",
       "      discount  total order_type delivery_timing payment_method  vat software  \\\n",
       "2088       0.0  13.49   DELIVERY     Immediately           CARD  0.0    Otter   \n",
       "\n",
       "     brand_id location_id channel_id status_id order_type_id software_id  \\\n",
       "2088        1           6          1         1             1           1   \n",
       "\n",
       "     delivery_timing_id  order_id  \n",
       "2088                  1      2089  "
      ]
     },
     "execution_count": 98,
     "metadata": {},
     "output_type": "execute_result"
    }
   ],
   "source": [
    "all_orders[(all_orders.order_id==2089)]"
   ]
  },
  {
   "cell_type": "markdown",
   "metadata": {},
   "source": [
    "## <a id='toc1_7_'></a>[Convert ids to integer](#toc0_)"
   ]
  },
  {
   "cell_type": "code",
   "execution_count": 101,
   "metadata": {},
   "outputs": [],
   "source": [
    "brand = change_type(brand, 'brand_id', 'object', 'int')\n",
    "location = change_type(location, 'location_id', 'object', 'int')\n",
    "channel = change_type(channel, 'channel_id', 'object', 'int')\n",
    "status = change_type(status, 'status_id', 'object', 'int')\n",
    "order_type = change_type(order_type, 'order_type_id', 'object', 'int')\n",
    "software = change_type(software, 'software_id', 'object', 'int')\n",
    "delivery_timing = change_type(delivery_timing, 'delivery_timing_id', 'object', 'int')\n",
    "menu = change_type(menu, 'item_id', 'object', 'int')\n",
    "location_brand = change_type(location_brand, 'location_id', 'object', 'int')\n",
    "location_brand = change_type(location_brand, 'brand_id', 'object', 'int')\n"
   ]
  },
  {
   "cell_type": "markdown",
   "metadata": {},
   "source": [
    "## <a id='toc1_8_'></a>[Drop columns](#toc0_)"
   ]
  },
  {
   "cell_type": "code",
   "execution_count": 131,
   "metadata": {},
   "outputs": [],
   "source": [
    "all_orders.drop(columns = ['brand', 'brand_id' ,'location', 'channel', 'status', 'order_type', 'software', 'delivery_timing'], inplace=True)"
   ]
  },
  {
   "cell_type": "markdown",
   "metadata": {},
   "source": [
    "## <a id='toc1_9_'></a>[Order DataFrames](#toc0_)"
   ]
  },
  {
   "cell_type": "code",
   "execution_count": 135,
   "metadata": {},
   "outputs": [],
   "source": [
    "all_orders = all_orders[['order_id', 'order_id_software', 'created_datetime', 'quantity', 'subtotal', 'tip', 'driver_tip', 'discount', 'total', \n",
    "                        'payment_method', 'vat', 'location_id', 'channel_id', 'status_id', 'order_type_id', 'software_id', 'delivery_timing_id']]"
   ]
  },
  {
   "cell_type": "code",
   "execution_count": 139,
   "metadata": {},
   "outputs": [],
   "source": [
    "all_items = all_items[['order_id', 'item_id', 'item', 'quantity', 'price', 'total_item', 'service_fee','order_id_software' ]]"
   ]
  },
  {
   "cell_type": "markdown",
   "metadata": {},
   "source": [
    "## <a id='toc1_10_'></a>[Export DataFrames](#toc0_)"
   ]
  },
  {
   "cell_type": "code",
   "execution_count": 140,
   "metadata": {},
   "outputs": [],
   "source": [
    "brand.to_csv('../../data/4-fill_db/brand.csv',  index=False)\n",
    "location .to_csv('../../data/4-fill_db/location.csv',  index=False)\n",
    "channel.to_csv('../../data/4-fill_db/channel.csv',  index=False)\n",
    "status.to_csv('../../data/4-fill_db/status.csv',  index=False)\n",
    "order_type.to_csv('../../data/4-fill_db/order_type.csv',  index=False)\n",
    "software.to_csv('../../data/4-fill_db/software.csv',  index=False)\n",
    "delivery_timing.to_csv('../../data/4-fill_db/delivery_timing.csv',  index=False)\n",
    "menu.to_csv('../../data/4-fill_db/menu.csv',  index=False)\n",
    "location_brand.to_csv('../../data/4-fill_db/location_brand.csv',  index=False)\n",
    "all_items.to_csv('../../data/4-fill_db/item.csv',  index=False)\n",
    "all_orders.to_csv('../../data/4-fill_db/order.csv',  index=False)"
   ]
  }
 ],
 "metadata": {
  "kernelspec": {
   "display_name": "clase",
   "language": "python",
   "name": "python3"
  },
  "language_info": {
   "codemirror_mode": {
    "name": "ipython",
    "version": 3
   },
   "file_extension": ".py",
   "mimetype": "text/x-python",
   "name": "python",
   "nbconvert_exporter": "python",
   "pygments_lexer": "ipython3",
   "version": "3.10.13"
  }
 },
 "nbformat": 4,
 "nbformat_minor": 5
}
