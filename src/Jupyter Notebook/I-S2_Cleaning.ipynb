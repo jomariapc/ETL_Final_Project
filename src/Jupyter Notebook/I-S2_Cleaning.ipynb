{
 "cells": [
  {
   "cell_type": "markdown",
   "metadata": {},
   "source": [
    "# <a id='toc1_'></a>[Data Source 1 -  Cleaning](#toc0_)"
   ]
  },
  {
   "cell_type": "markdown",
   "metadata": {},
   "source": [
    "**Table of contents**<a id='toc0_'></a>    \n",
    "- [Data Source 1 -  Cleaning](#toc1_)    \n",
    "  - [Import libraries an PyPower](#toc1_1_)    \n",
    "  - [Deliverect General](#toc1_2_)    \n",
    "    - [Import Data](#toc1_2_1_)    \n",
    "    - [Data cleaning basics](#toc1_2_2_)    \n",
    "      - [Check for null values](#toc1_2_2_1_)    \n",
    "      - [Unify names and column spaces](#toc1_2_2_2_)    \n",
    "      - [Duplicated](#toc1_2_2_3_)    \n",
    "      - [Constants detection](#toc1_2_2_4_)    \n",
    "      - [Delete columns with zero count (nulls) and one count (constants)](#toc1_2_2_5_)    \n",
    "      - [Re-check for nulls](#toc1_2_2_6_)    \n",
    "      - [We check the value of null columns](#toc1_2_2_7_)    \n",
    "    - [Final DataFrame](#toc1_2_3_)    \n",
    "  - [Deliverect Items](#toc1_3_)    \n",
    "    - [Import Data](#toc1_3_1_)    \n",
    "    - [Data cleaning basics](#toc1_3_2_)    \n",
    "      - [Check for null values](#toc1_3_2_1_)    \n",
    "      - [Unify names and column spaces](#toc1_3_2_2_)    \n",
    "      - [Duplicated](#toc1_3_2_3_)    \n",
    "        - [There are unpriced items that must be assigned to a table of extras (Next steps)](#toc1_3_2_3_1_)    \n",
    "      - [Constants detection](#toc1_3_2_4_)    \n",
    "      - [Drop columns with a count (constants)](#toc1_3_2_5_)    \n",
    "      - [Check row with orderid null](#toc1_3_2_6_)    \n",
    "      - [Check rows with null discounttotal](#toc1_3_2_7_)    \n",
    "      - [Re-check for nulls](#toc1_3_2_8_)    \n",
    "  - [Export clean dataframes](#toc1_4_)    \n",
    "\n",
    "<!-- vscode-jupyter-toc-config\n",
    "\tnumbering=false\n",
    "\tanchor=true\n",
    "\tflat=false\n",
    "\tminLevel=1\n",
    "\tmaxLevel=6\n",
    "\t/vscode-jupyter-toc-config -->\n",
    "<!-- THIS CELL WILL BE REPLACED ON TOC UPDATE. DO NOT WRITE YOUR TEXT IN THIS CELL -->"
   ]
  },
  {
   "cell_type": "markdown",
   "metadata": {},
   "source": [
    "## <a id='toc1_1_'></a>[Import libraries an PyPower](#toc0_)"
   ]
  },
  {
   "cell_type": "code",
   "execution_count": 32,
   "id": "e153e1a4-b933-4b5a-98cb-a30875fc81fb",
   "metadata": {},
   "outputs": [],
   "source": [
    "import pandas as pd\n",
    "\n",
    "pd.set_option('display.max_columns', None)\n",
    "pd.set_option('display.max_rows', None)\n",
    "\n",
    "import sys\n",
    "sys.path.append('../Python')\n",
    "from  PyPower import *"
   ]
  },
  {
   "cell_type": "markdown",
   "metadata": {},
   "source": [
    "## <a id='toc1_2_'></a>[Deliverect General](#toc0_)"
   ]
  },
  {
   "cell_type": "markdown",
   "metadata": {},
   "source": [
    "### <a id='toc1_2_1_'></a>[Import Data](#toc0_)"
   ]
  },
  {
   "cell_type": "markdown",
   "metadata": {},
   "source": [
    "The information is in three dataframes which are then concatenated "
   ]
  },
  {
   "cell_type": "code",
   "execution_count": null,
   "metadata": {},
   "outputs": [
    {
     "data": {
      "text/html": [
       "<div>\n",
       "<style scoped>\n",
       "    .dataframe tbody tr th:only-of-type {\n",
       "        vertical-align: middle;\n",
       "    }\n",
       "\n",
       "    .dataframe tbody tr th {\n",
       "        vertical-align: top;\n",
       "    }\n",
       "\n",
       "    .dataframe thead th {\n",
       "        text-align: right;\n",
       "    }\n",
       "</style>\n",
       "<table border=\"1\" class=\"dataframe\">\n",
       "  <thead>\n",
       "    <tr style=\"text-align: right;\">\n",
       "      <th></th>\n",
       "      <th>PickupTime</th>\n",
       "      <th>PickupTimeUTC</th>\n",
       "      <th>CreatedTime</th>\n",
       "      <th>CreatedTimeUTC</th>\n",
       "      <th>ScheduledTime</th>\n",
       "      <th>ScheduledTimeUTC</th>\n",
       "      <th>Location</th>\n",
       "      <th>OrderID</th>\n",
       "      <th>Channel</th>\n",
       "      <th>Status</th>\n",
       "      <th>ReceiptID</th>\n",
       "      <th>Type</th>\n",
       "      <th>Voucher</th>\n",
       "      <th>Payment</th>\n",
       "      <th>PaymentAmount</th>\n",
       "      <th>Rebate</th>\n",
       "      <th>Note</th>\n",
       "      <th>ServiceCharge</th>\n",
       "      <th>DeliveryCost</th>\n",
       "      <th>DiscountTotal</th>\n",
       "      <th>Tip</th>\n",
       "      <th>DriverTip</th>\n",
       "      <th>SubTotal</th>\n",
       "      <th>Brands</th>\n",
       "      <th>ChannelLink</th>\n",
       "      <th>Tax</th>\n",
       "      <th>VAT</th>\n",
       "      <th>FailureMessage</th>\n",
       "      <th>IsTestOrder</th>\n",
       "    </tr>\n",
       "  </thead>\n",
       "  <tbody>\n",
       "    <tr>\n",
       "      <th>0</th>\n",
       "      <td>2023-04-30 23:11:21+0200</td>\n",
       "      <td>2023-04-30 21:11:21</td>\n",
       "      <td>2023-04-30 22:51:18+0200</td>\n",
       "      <td>2023-04-30 20:51:18</td>\n",
       "      <td>NaN</td>\n",
       "      <td>NaN</td>\n",
       "      <td>Alicante - Periodista Rodolfo Salazar</td>\n",
       "      <td>C5C6A</td>\n",
       "      <td>Uber Eats</td>\n",
       "      <td>DELIVERED</td>\n",
       "      <td>26.0</td>\n",
       "      <td>DELIVERY</td>\n",
       "      <td>NaN</td>\n",
       "      <td>ONLINE</td>\n",
       "      <td>12.9</td>\n",
       "      <td>0.0</td>\n",
       "      <td>Contacts: +34 910 78 09 61#309 03 418/Customer...</td>\n",
       "      <td>0.0</td>\n",
       "      <td>0.0</td>\n",
       "      <td>-12.9</td>\n",
       "      <td>0.0</td>\n",
       "      <td>0.0</td>\n",
       "      <td>25.8</td>\n",
       "      <td>NaN</td>\n",
       "      <td>Uber Eats</td>\n",
       "      <td>0.0</td>\n",
       "      <td>1.18</td>\n",
       "      <td>NaN</td>\n",
       "      <td>False</td>\n",
       "    </tr>\n",
       "    <tr>\n",
       "      <th>1</th>\n",
       "      <td>2023-04-30 23:01:41+0200</td>\n",
       "      <td>2023-04-30 21:01:41</td>\n",
       "      <td>2023-04-30 22:36:25+0200</td>\n",
       "      <td>2023-04-30 20:36:25</td>\n",
       "      <td>NaN</td>\n",
       "      <td>NaN</td>\n",
       "      <td>Alicante - Periodista Rodolfo Salazar</td>\n",
       "      <td>BD770</td>\n",
       "      <td>Uber Eats</td>\n",
       "      <td>DELIVERED</td>\n",
       "      <td>25.0</td>\n",
       "      <td>PICKUP</td>\n",
       "      <td>NaN</td>\n",
       "      <td>ONLINE</td>\n",
       "      <td>15.9</td>\n",
       "      <td>0.0</td>\n",
       "      <td>Contacts: +34 910 78 09 61#101 80 683/Customer...</td>\n",
       "      <td>0.0</td>\n",
       "      <td>0.0</td>\n",
       "      <td>-12.9</td>\n",
       "      <td>0.0</td>\n",
       "      <td>0.0</td>\n",
       "      <td>28.8</td>\n",
       "      <td>NaN</td>\n",
       "      <td>Uber Eats</td>\n",
       "      <td>0.0</td>\n",
       "      <td>1.45</td>\n",
       "      <td>NaN</td>\n",
       "      <td>False</td>\n",
       "    </tr>\n",
       "    <tr>\n",
       "      <th>2</th>\n",
       "      <td>2023-04-30 22:31:06+0200</td>\n",
       "      <td>2023-04-30 20:31:06</td>\n",
       "      <td>2023-04-30 22:10:04+0200</td>\n",
       "      <td>2023-04-30 20:10:04</td>\n",
       "      <td>NaN</td>\n",
       "      <td>NaN</td>\n",
       "      <td>Alicante - Periodista Rodolfo Salazar</td>\n",
       "      <td>A892B</td>\n",
       "      <td>Uber Eats</td>\n",
       "      <td>DELIVERED</td>\n",
       "      <td>24.0</td>\n",
       "      <td>DELIVERY</td>\n",
       "      <td>NaN</td>\n",
       "      <td>ONLINE</td>\n",
       "      <td>21.8</td>\n",
       "      <td>0.0</td>\n",
       "      <td>Contacts: +34 910 78 09 61#771 54 556/Customer...</td>\n",
       "      <td>0.0</td>\n",
       "      <td>0.0</td>\n",
       "      <td>0.0</td>\n",
       "      <td>0.0</td>\n",
       "      <td>0.0</td>\n",
       "      <td>21.8</td>\n",
       "      <td>NaN</td>\n",
       "      <td>Uber Eats</td>\n",
       "      <td>0.0</td>\n",
       "      <td>1.98</td>\n",
       "      <td>NaN</td>\n",
       "      <td>False</td>\n",
       "    </tr>\n",
       "    <tr>\n",
       "      <th>3</th>\n",
       "      <td>2023-04-30 22:20:19+0200</td>\n",
       "      <td>2023-04-30 20:20:19</td>\n",
       "      <td>2023-04-30 21:59:31+0200</td>\n",
       "      <td>2023-04-30 19:59:31</td>\n",
       "      <td>NaN</td>\n",
       "      <td>NaN</td>\n",
       "      <td>Alicante - Bazan</td>\n",
       "      <td>BB3B8</td>\n",
       "      <td>Uber Eats</td>\n",
       "      <td>ACCEPTED</td>\n",
       "      <td>0.0</td>\n",
       "      <td>DELIVERY</td>\n",
       "      <td>NaN</td>\n",
       "      <td>ONLINE</td>\n",
       "      <td>36.6</td>\n",
       "      <td>0.0</td>\n",
       "      <td>Contacts: +34 910 78 09 61#530 79 515/Customer...</td>\n",
       "      <td>0.0</td>\n",
       "      <td>0.0</td>\n",
       "      <td>0.0</td>\n",
       "      <td>0.0</td>\n",
       "      <td>0.0</td>\n",
       "      <td>36.6</td>\n",
       "      <td>NaN</td>\n",
       "      <td>Uber Eats</td>\n",
       "      <td>0.0</td>\n",
       "      <td>3.34</td>\n",
       "      <td>NaN</td>\n",
       "      <td>False</td>\n",
       "    </tr>\n",
       "    <tr>\n",
       "      <th>4</th>\n",
       "      <td>2023-04-30 22:20:13+0200</td>\n",
       "      <td>2023-04-30 20:20:13</td>\n",
       "      <td>2023-04-30 22:01:55+0200</td>\n",
       "      <td>2023-04-30 20:01:55</td>\n",
       "      <td>NaN</td>\n",
       "      <td>NaN</td>\n",
       "      <td>Alicante - Periodista Rodolfo Salazar</td>\n",
       "      <td>1F69D</td>\n",
       "      <td>Uber Eats</td>\n",
       "      <td>DELIVERED</td>\n",
       "      <td>23.0</td>\n",
       "      <td>DELIVERY</td>\n",
       "      <td>NaN</td>\n",
       "      <td>ONLINE</td>\n",
       "      <td>14.0</td>\n",
       "      <td>0.0</td>\n",
       "      <td>Contacts: +34 910 78 09 61#924 22 748/Customer...</td>\n",
       "      <td>0.0</td>\n",
       "      <td>0.0</td>\n",
       "      <td>0.0</td>\n",
       "      <td>0.0</td>\n",
       "      <td>0.0</td>\n",
       "      <td>14.0</td>\n",
       "      <td>NaN</td>\n",
       "      <td>Uber Eats</td>\n",
       "      <td>0.0</td>\n",
       "      <td>1.28</td>\n",
       "      <td>NaN</td>\n",
       "      <td>False</td>\n",
       "    </tr>\n",
       "  </tbody>\n",
       "</table>\n",
       "</div>"
      ],
      "text/plain": [
       "                 PickupTime        PickupTimeUTC               CreatedTime  \\\n",
       "0  2023-04-30 23:11:21+0200  2023-04-30 21:11:21  2023-04-30 22:51:18+0200   \n",
       "1  2023-04-30 23:01:41+0200  2023-04-30 21:01:41  2023-04-30 22:36:25+0200   \n",
       "2  2023-04-30 22:31:06+0200  2023-04-30 20:31:06  2023-04-30 22:10:04+0200   \n",
       "3  2023-04-30 22:20:19+0200  2023-04-30 20:20:19  2023-04-30 21:59:31+0200   \n",
       "4  2023-04-30 22:20:13+0200  2023-04-30 20:20:13  2023-04-30 22:01:55+0200   \n",
       "\n",
       "        CreatedTimeUTC  ScheduledTime  ScheduledTimeUTC  \\\n",
       "0  2023-04-30 20:51:18            NaN               NaN   \n",
       "1  2023-04-30 20:36:25            NaN               NaN   \n",
       "2  2023-04-30 20:10:04            NaN               NaN   \n",
       "3  2023-04-30 19:59:31            NaN               NaN   \n",
       "4  2023-04-30 20:01:55            NaN               NaN   \n",
       "\n",
       "                                Location OrderID    Channel     Status  \\\n",
       "0  Alicante - Periodista Rodolfo Salazar   C5C6A  Uber Eats  DELIVERED   \n",
       "1  Alicante - Periodista Rodolfo Salazar   BD770  Uber Eats  DELIVERED   \n",
       "2  Alicante - Periodista Rodolfo Salazar   A892B  Uber Eats  DELIVERED   \n",
       "3                       Alicante - Bazan   BB3B8  Uber Eats   ACCEPTED   \n",
       "4  Alicante - Periodista Rodolfo Salazar   1F69D  Uber Eats  DELIVERED   \n",
       "\n",
       "   ReceiptID      Type  Voucher Payment  PaymentAmount  Rebate  \\\n",
       "0       26.0  DELIVERY      NaN  ONLINE           12.9     0.0   \n",
       "1       25.0    PICKUP      NaN  ONLINE           15.9     0.0   \n",
       "2       24.0  DELIVERY      NaN  ONLINE           21.8     0.0   \n",
       "3        0.0  DELIVERY      NaN  ONLINE           36.6     0.0   \n",
       "4       23.0  DELIVERY      NaN  ONLINE           14.0     0.0   \n",
       "\n",
       "                                                Note  ServiceCharge  \\\n",
       "0  Contacts: +34 910 78 09 61#309 03 418/Customer...            0.0   \n",
       "1  Contacts: +34 910 78 09 61#101 80 683/Customer...            0.0   \n",
       "2  Contacts: +34 910 78 09 61#771 54 556/Customer...            0.0   \n",
       "3  Contacts: +34 910 78 09 61#530 79 515/Customer...            0.0   \n",
       "4  Contacts: +34 910 78 09 61#924 22 748/Customer...            0.0   \n",
       "\n",
       "   DeliveryCost  DiscountTotal  Tip  DriverTip  SubTotal  Brands ChannelLink  \\\n",
       "0           0.0          -12.9  0.0        0.0      25.8     NaN   Uber Eats   \n",
       "1           0.0          -12.9  0.0        0.0      28.8     NaN   Uber Eats   \n",
       "2           0.0            0.0  0.0        0.0      21.8     NaN   Uber Eats   \n",
       "3           0.0            0.0  0.0        0.0      36.6     NaN   Uber Eats   \n",
       "4           0.0            0.0  0.0        0.0      14.0     NaN   Uber Eats   \n",
       "\n",
       "   Tax   VAT FailureMessage  IsTestOrder  \n",
       "0  0.0  1.18            NaN        False  \n",
       "1  0.0  1.45            NaN        False  \n",
       "2  0.0  1.98            NaN        False  \n",
       "3  0.0  3.34            NaN        False  \n",
       "4  0.0  1.28            NaN        False  "
      ]
     },
     "execution_count": 33,
     "metadata": {},
     "output_type": "execute_result"
    }
   ],
   "source": [
    "deliverect = pd.concat([pd.read_csv('../../data/0-raw/20230101-20233004_deliverect.csv'), \n",
    "                        pd.read_csv('../../data/0-raw/20230501-20230830_deliverect.csv'), \n",
    "                        pd.read_csv('../../data/0-raw/20230831-20231031_deliverect.csv')])\n",
    "\n",
    "deliverect_original_shape= deliverect.shape\n",
    "\n",
    "deliverect.head()"
   ]
  },
  {
   "cell_type": "code",
   "execution_count": 34,
   "metadata": {},
   "outputs": [
    {
     "name": "stdout",
     "output_type": "stream",
     "text": [
      "<class 'pandas.core.frame.DataFrame'>\n",
      "Index: 8038 entries, 0 to 1822\n",
      "Data columns (total 29 columns):\n",
      " #   Column            Non-Null Count  Dtype  \n",
      "---  ------            --------------  -----  \n",
      " 0   PickupTime        8038 non-null   object \n",
      " 1   PickupTimeUTC     8038 non-null   object \n",
      " 2   CreatedTime       8038 non-null   object \n",
      " 3   CreatedTimeUTC    8038 non-null   object \n",
      " 4   ScheduledTime     0 non-null      float64\n",
      " 5   ScheduledTimeUTC  0 non-null      float64\n",
      " 6   Location          8038 non-null   object \n",
      " 7   OrderID           8037 non-null   object \n",
      " 8   Channel           8038 non-null   object \n",
      " 9   Status            8038 non-null   object \n",
      " 10  ReceiptID         8012 non-null   float64\n",
      " 11  Type              8038 non-null   object \n",
      " 12  Voucher           0 non-null      float64\n",
      " 13  Payment           8038 non-null   object \n",
      " 14  PaymentAmount     8038 non-null   float64\n",
      " 15  Rebate            8038 non-null   float64\n",
      " 16  Note              7483 non-null   object \n",
      " 17  ServiceCharge     8038 non-null   float64\n",
      " 18  DeliveryCost      8038 non-null   float64\n",
      " 19  DiscountTotal     8038 non-null   float64\n",
      " 20  Tip               8038 non-null   float64\n",
      " 21  DriverTip         8038 non-null   float64\n",
      " 22  SubTotal          8038 non-null   float64\n",
      " 23  Brands            0 non-null      float64\n",
      " 24  ChannelLink       8038 non-null   object \n",
      " 25  Tax               8038 non-null   float64\n",
      " 26  VAT               8038 non-null   float64\n",
      " 27  FailureMessage    12 non-null     object \n",
      " 28  IsTestOrder       8038 non-null   bool   \n",
      "dtypes: bool(1), float64(15), object(13)\n",
      "memory usage: 1.8+ MB\n"
     ]
    }
   ],
   "source": [
    "deliverect.info()"
   ]
  },
  {
   "cell_type": "markdown",
   "metadata": {},
   "source": [
    "### <a id='toc1_2_2_'></a>[Data cleaning basics](#toc0_)"
   ]
  },
  {
   "cell_type": "markdown",
   "metadata": {},
   "source": [
    "#### <a id='toc1_2_2_1_'></a>[Check for null values](#toc0_)"
   ]
  },
  {
   "cell_type": "code",
   "execution_count": 35,
   "metadata": {},
   "outputs": [
    {
     "data": {
      "text/plain": [
       "'N nan cols: 8'"
      ]
     },
     "execution_count": 35,
     "metadata": {},
     "output_type": "execute_result"
    },
    {
     "data": {
      "text/plain": [
       "ScheduledTime       100.000000\n",
       "ScheduledTimeUTC    100.000000\n",
       "OrderID               0.012441\n",
       "ReceiptID             0.323464\n",
       "Voucher             100.000000\n",
       "Note                  6.904703\n",
       "Brands              100.000000\n",
       "FailureMessage       99.850709\n",
       "dtype: float64"
      ]
     },
     "execution_count": 35,
     "metadata": {},
     "output_type": "execute_result"
    },
    {
     "data": {
      "image/png": "[encoded data removed]",
      "text/plain": [
       "<Figure size 1000x600 with 1 Axes>"
      ]
     },
     "metadata": {},
     "output_type": "display_data"
    }
   ],
   "source": [
    "check_nan(deliverect, True)"
   ]
  },
  {
   "cell_type": "markdown",
   "metadata": {},
   "source": [
    "#### <a id='toc1_2_2_2_'></a>[Unify names and column spaces](#toc0_)"
   ]
  },
  {
   "cell_type": "code",
   "execution_count": 36,
   "metadata": {},
   "outputs": [],
   "source": [
    "deliverect = column_unification(deliverect)"
   ]
  },
  {
   "cell_type": "markdown",
   "metadata": {},
   "source": [
    "#### <a id='toc1_2_2_3_'></a>[Duplicated](#toc0_)"
   ]
  },
  {
   "cell_type": "code",
   "execution_count": 37,
   "metadata": {},
   "outputs": [
    {
     "data": {
      "text/plain": [
       "False"
      ]
     },
     "execution_count": 37,
     "metadata": {},
     "output_type": "execute_result"
    }
   ],
   "source": [
    "deliverect.duplicated().any()"
   ]
  },
  {
   "cell_type": "markdown",
   "metadata": {},
   "source": [
    "#### <a id='toc1_2_2_4_'></a>[Constants detection](#toc0_)"
   ]
  },
  {
   "cell_type": "code",
   "execution_count": 38,
   "metadata": {},
   "outputs": [
    {
     "data": {
      "text/plain": [
       "{0: ['scheduledtime', 'scheduledtimeutc', 'voucher', 'brands'],\n",
       " 1: ['rebate', 'servicecharge', 'tip', 'drivertip', 'tax', 'istestorder'],\n",
       " 2: ['location', 'type', 'payment'],\n",
       " 3: ['channel', 'channellink'],\n",
       " 5: ['failuremessage'],\n",
       " 6: ['deliverycost'],\n",
       " 9: ['status'],\n",
       " 57: ['receiptid'],\n",
       " 109: ['discounttotal'],\n",
       " 529: ['vat'],\n",
       " 693: ['subtotal'],\n",
       " 1104: ['paymentamount'],\n",
       " 7233: ['orderid'],\n",
       " 7481: ['note'],\n",
       " 7971: ['pickuptime', 'pickuptimeutc'],\n",
       " 8017: ['createdtime', 'createdtimeutc']}"
      ]
     },
     "execution_count": 38,
     "metadata": {},
     "output_type": "execute_result"
    }
   ],
   "source": [
    "count_columns = column_counts(deliverect)\n",
    "\n",
    "count_columns"
   ]
  },
  {
   "cell_type": "markdown",
   "metadata": {},
   "source": [
    "#### <a id='toc1_2_2_5_'></a>[Delete columns with zero count (nulls) and one count (constants)](#toc0_)"
   ]
  },
  {
   "cell_type": "code",
   "execution_count": 39,
   "metadata": {},
   "outputs": [],
   "source": [
    "deliverect = drop_columns(deliverect, count_columns[0]+count_columns[1])"
   ]
  },
  {
   "cell_type": "markdown",
   "metadata": {},
   "source": [
    "#### <a id='toc1_2_2_6_'></a>[Re-check for nulls](#toc0_)"
   ]
  },
  {
   "cell_type": "code",
   "execution_count": 40,
   "metadata": {},
   "outputs": [
    {
     "data": {
      "text/plain": [
       "'N nan cols: 4'"
      ]
     },
     "execution_count": 40,
     "metadata": {},
     "output_type": "execute_result"
    },
    {
     "data": {
      "text/plain": [
       "orderid            0.012441\n",
       "receiptid          0.323464\n",
       "note               6.904703\n",
       "failuremessage    99.850709\n",
       "dtype: float64"
      ]
     },
     "execution_count": 40,
     "metadata": {},
     "output_type": "execute_result"
    }
   ],
   "source": [
    "check_nan(deliverect, False)"
   ]
  },
  {
   "cell_type": "markdown",
   "metadata": {},
   "source": [
    "#### <a id='toc1_2_2_7_'></a>[We check the value of null columns](#toc0_)"
   ]
  },
  {
   "cell_type": "code",
   "execution_count": 41,
   "metadata": {},
   "outputs": [
    {
     "data": {
      "text/html": [
       "<div>\n",
       "<style scoped>\n",
       "    .dataframe tbody tr th:only-of-type {\n",
       "        vertical-align: middle;\n",
       "    }\n",
       "\n",
       "    .dataframe tbody tr th {\n",
       "        vertical-align: top;\n",
       "    }\n",
       "\n",
       "    .dataframe thead th {\n",
       "        text-align: right;\n",
       "    }\n",
       "</style>\n",
       "<table border=\"1\" class=\"dataframe\">\n",
       "  <thead>\n",
       "    <tr style=\"text-align: right;\">\n",
       "      <th></th>\n",
       "      <th>pickuptime</th>\n",
       "      <th>pickuptimeutc</th>\n",
       "      <th>createdtime</th>\n",
       "      <th>createdtimeutc</th>\n",
       "      <th>location</th>\n",
       "      <th>orderid</th>\n",
       "      <th>channel</th>\n",
       "      <th>status</th>\n",
       "      <th>receiptid</th>\n",
       "      <th>type</th>\n",
       "      <th>payment</th>\n",
       "      <th>paymentamount</th>\n",
       "      <th>note</th>\n",
       "      <th>deliverycost</th>\n",
       "      <th>discounttotal</th>\n",
       "      <th>subtotal</th>\n",
       "      <th>channellink</th>\n",
       "      <th>vat</th>\n",
       "      <th>failuremessage</th>\n",
       "    </tr>\n",
       "  </thead>\n",
       "  <tbody>\n",
       "    <tr>\n",
       "      <th>7501</th>\n",
       "      <td>2023-09-21 14:56:03+0200</td>\n",
       "      <td>2023-09-21 12:56:03</td>\n",
       "      <td>2023-09-21 14:46:31+0200</td>\n",
       "      <td>2023-09-21 12:46:31</td>\n",
       "      <td>Alicante - Periodista Rodolfo Salazar</td>\n",
       "      <td>NaN</td>\n",
       "      <td>Glovo</td>\n",
       "      <td>AUTO_FINALIZED</td>\n",
       "      <td>0.0</td>\n",
       "      <td>DELIVERY</td>\n",
       "      <td>CARD</td>\n",
       "      <td>11.44</td>\n",
       "      <td>Order code: ATWASXSH/</td>\n",
       "      <td>0.0</td>\n",
       "      <td>-2.86</td>\n",
       "      <td>14.3</td>\n",
       "      <td>Glovo</td>\n",
       "      <td>0.0</td>\n",
       "      <td>NaN</td>\n",
       "    </tr>\n",
       "  </tbody>\n",
       "</table>\n",
       "</div>"
      ],
      "text/plain": [
       "                    pickuptime        pickuptimeutc               createdtime  \\\n",
       "7501  2023-09-21 14:56:03+0200  2023-09-21 12:56:03  2023-09-21 14:46:31+0200   \n",
       "\n",
       "           createdtimeutc                               location orderid  \\\n",
       "7501  2023-09-21 12:46:31  Alicante - Periodista Rodolfo Salazar     NaN   \n",
       "\n",
       "     channel          status  receiptid      type payment  paymentamount  \\\n",
       "7501   Glovo  AUTO_FINALIZED        0.0  DELIVERY    CARD          11.44   \n",
       "\n",
       "                       note  deliverycost  discounttotal  subtotal  \\\n",
       "7501  Order code: ATWASXSH/           0.0          -2.86      14.3   \n",
       "\n",
       "     channellink  vat failuremessage  \n",
       "7501       Glovo  0.0            NaN  "
      ]
     },
     "execution_count": 41,
     "metadata": {},
     "output_type": "execute_result"
    }
   ],
   "source": [
    "deliverect.reset_index(drop=True, inplace=True)\n",
    "deliverect[(deliverect.orderid.isna())]"
   ]
  },
  {
   "cell_type": "markdown",
   "metadata": {},
   "source": [
    "There is an order code in the column \"note\", so we assign it"
   ]
  },
  {
   "cell_type": "code",
   "execution_count": 42,
   "metadata": {},
   "outputs": [
    {
     "name": "stderr",
     "output_type": "stream",
     "text": [
      "C:\\Users\\Mjp\\AppData\\Local\\Temp\\ipykernel_11044\\1390030871.py:1: SettingWithCopyWarning: \n",
      "A value is trying to be set on a copy of a slice from a DataFrame\n",
      "\n",
      "See the caveats in the documentation: https://pandas.pydata.org/pandas-docs/stable/user_guide/indexing.html#returning-a-view-versus-a-copy\n",
      "  deliverect.orderid[(deliverect.orderid.isna())] = 'ATWASXSH'\n"
     ]
    }
   ],
   "source": [
    "deliverect.orderid[(deliverect.orderid.isna())] = 'ATWASXSH'"
   ]
  },
  {
   "cell_type": "code",
   "execution_count": 43,
   "metadata": {},
   "outputs": [
    {
     "data": {
      "text/html": [
       "<div>\n",
       "<style scoped>\n",
       "    .dataframe tbody tr th:only-of-type {\n",
       "        vertical-align: middle;\n",
       "    }\n",
       "\n",
       "    .dataframe tbody tr th {\n",
       "        vertical-align: top;\n",
       "    }\n",
       "\n",
       "    .dataframe thead th {\n",
       "        text-align: right;\n",
       "    }\n",
       "</style>\n",
       "<table border=\"1\" class=\"dataframe\">\n",
       "  <thead>\n",
       "    <tr style=\"text-align: right;\">\n",
       "      <th></th>\n",
       "      <th>pickuptime</th>\n",
       "      <th>pickuptimeutc</th>\n",
       "      <th>createdtime</th>\n",
       "      <th>createdtimeutc</th>\n",
       "      <th>location</th>\n",
       "      <th>orderid</th>\n",
       "      <th>channel</th>\n",
       "      <th>status</th>\n",
       "      <th>receiptid</th>\n",
       "      <th>type</th>\n",
       "      <th>payment</th>\n",
       "      <th>paymentamount</th>\n",
       "      <th>note</th>\n",
       "      <th>deliverycost</th>\n",
       "      <th>discounttotal</th>\n",
       "      <th>subtotal</th>\n",
       "      <th>channellink</th>\n",
       "      <th>vat</th>\n",
       "      <th>failuremessage</th>\n",
       "    </tr>\n",
       "  </thead>\n",
       "  <tbody>\n",
       "    <tr>\n",
       "      <th>7501</th>\n",
       "      <td>2023-09-21 14:56:03+0200</td>\n",
       "      <td>2023-09-21 12:56:03</td>\n",
       "      <td>2023-09-21 14:46:31+0200</td>\n",
       "      <td>2023-09-21 12:46:31</td>\n",
       "      <td>Alicante - Periodista Rodolfo Salazar</td>\n",
       "      <td>ATWASXSH</td>\n",
       "      <td>Glovo</td>\n",
       "      <td>AUTO_FINALIZED</td>\n",
       "      <td>0.0</td>\n",
       "      <td>DELIVERY</td>\n",
       "      <td>CARD</td>\n",
       "      <td>11.44</td>\n",
       "      <td>Order code: ATWASXSH/</td>\n",
       "      <td>0.0</td>\n",
       "      <td>-2.86</td>\n",
       "      <td>14.3</td>\n",
       "      <td>Glovo</td>\n",
       "      <td>0.0</td>\n",
       "      <td>NaN</td>\n",
       "    </tr>\n",
       "  </tbody>\n",
       "</table>\n",
       "</div>"
      ],
      "text/plain": [
       "                    pickuptime        pickuptimeutc               createdtime  \\\n",
       "7501  2023-09-21 14:56:03+0200  2023-09-21 12:56:03  2023-09-21 14:46:31+0200   \n",
       "\n",
       "           createdtimeutc                               location   orderid  \\\n",
       "7501  2023-09-21 12:46:31  Alicante - Periodista Rodolfo Salazar  ATWASXSH   \n",
       "\n",
       "     channel          status  receiptid      type payment  paymentamount  \\\n",
       "7501   Glovo  AUTO_FINALIZED        0.0  DELIVERY    CARD          11.44   \n",
       "\n",
       "                       note  deliverycost  discounttotal  subtotal  \\\n",
       "7501  Order code: ATWASXSH/           0.0          -2.86      14.3   \n",
       "\n",
       "     channellink  vat failuremessage  \n",
       "7501       Glovo  0.0            NaN  "
      ]
     },
     "execution_count": 43,
     "metadata": {},
     "output_type": "execute_result"
    }
   ],
   "source": [
    "deliverect[(deliverect.orderid=='ATWASXSH')]"
   ]
  },
  {
   "cell_type": "markdown",
   "metadata": {},
   "source": [
    "Eliminate the other columns with nulls:\n",
    "- failuremessage: 99% of nulls\n",
    "- receiptid: column with no utility for the project\n",
    "- note: sensitive customer data. Remove it from the project"
   ]
  },
  {
   "cell_type": "code",
   "execution_count": 44,
   "metadata": {},
   "outputs": [],
   "source": [
    "deliverect.drop(columns=['failuremessage', 'receiptid','note'], inplace=True)"
   ]
  },
  {
   "cell_type": "markdown",
   "metadata": {},
   "source": [
    "### <a id='toc1_2_3_'></a>[Final DataFrame](#toc0_)"
   ]
  },
  {
   "cell_type": "code",
   "execution_count": 45,
   "metadata": {},
   "outputs": [
    {
     "data": {
      "text/html": [
       "<div>\n",
       "<style scoped>\n",
       "    .dataframe tbody tr th:only-of-type {\n",
       "        vertical-align: middle;\n",
       "    }\n",
       "\n",
       "    .dataframe tbody tr th {\n",
       "        vertical-align: top;\n",
       "    }\n",
       "\n",
       "    .dataframe thead th {\n",
       "        text-align: right;\n",
       "    }\n",
       "</style>\n",
       "<table border=\"1\" class=\"dataframe\">\n",
       "  <thead>\n",
       "    <tr style=\"text-align: right;\">\n",
       "      <th></th>\n",
       "      <th>pickuptime</th>\n",
       "      <th>pickuptimeutc</th>\n",
       "      <th>createdtime</th>\n",
       "      <th>createdtimeutc</th>\n",
       "      <th>location</th>\n",
       "      <th>orderid</th>\n",
       "      <th>channel</th>\n",
       "      <th>status</th>\n",
       "      <th>type</th>\n",
       "      <th>payment</th>\n",
       "      <th>paymentamount</th>\n",
       "      <th>deliverycost</th>\n",
       "      <th>discounttotal</th>\n",
       "      <th>subtotal</th>\n",
       "      <th>channellink</th>\n",
       "      <th>vat</th>\n",
       "    </tr>\n",
       "  </thead>\n",
       "  <tbody>\n",
       "    <tr>\n",
       "      <th>0</th>\n",
       "      <td>2023-04-30 23:11:21+0200</td>\n",
       "      <td>2023-04-30 21:11:21</td>\n",
       "      <td>2023-04-30 22:51:18+0200</td>\n",
       "      <td>2023-04-30 20:51:18</td>\n",
       "      <td>Alicante - Periodista Rodolfo Salazar</td>\n",
       "      <td>C5C6A</td>\n",
       "      <td>Uber Eats</td>\n",
       "      <td>DELIVERED</td>\n",
       "      <td>DELIVERY</td>\n",
       "      <td>ONLINE</td>\n",
       "      <td>12.9</td>\n",
       "      <td>0.0</td>\n",
       "      <td>-12.9</td>\n",
       "      <td>25.8</td>\n",
       "      <td>Uber Eats</td>\n",
       "      <td>1.18</td>\n",
       "    </tr>\n",
       "    <tr>\n",
       "      <th>1</th>\n",
       "      <td>2023-04-30 23:01:41+0200</td>\n",
       "      <td>2023-04-30 21:01:41</td>\n",
       "      <td>2023-04-30 22:36:25+0200</td>\n",
       "      <td>2023-04-30 20:36:25</td>\n",
       "      <td>Alicante - Periodista Rodolfo Salazar</td>\n",
       "      <td>BD770</td>\n",
       "      <td>Uber Eats</td>\n",
       "      <td>DELIVERED</td>\n",
       "      <td>PICKUP</td>\n",
       "      <td>ONLINE</td>\n",
       "      <td>15.9</td>\n",
       "      <td>0.0</td>\n",
       "      <td>-12.9</td>\n",
       "      <td>28.8</td>\n",
       "      <td>Uber Eats</td>\n",
       "      <td>1.45</td>\n",
       "    </tr>\n",
       "    <tr>\n",
       "      <th>2</th>\n",
       "      <td>2023-04-30 22:31:06+0200</td>\n",
       "      <td>2023-04-30 20:31:06</td>\n",
       "      <td>2023-04-30 22:10:04+0200</td>\n",
       "      <td>2023-04-30 20:10:04</td>\n",
       "      <td>Alicante - Periodista Rodolfo Salazar</td>\n",
       "      <td>A892B</td>\n",
       "      <td>Uber Eats</td>\n",
       "      <td>DELIVERED</td>\n",
       "      <td>DELIVERY</td>\n",
       "      <td>ONLINE</td>\n",
       "      <td>21.8</td>\n",
       "      <td>0.0</td>\n",
       "      <td>0.0</td>\n",
       "      <td>21.8</td>\n",
       "      <td>Uber Eats</td>\n",
       "      <td>1.98</td>\n",
       "    </tr>\n",
       "    <tr>\n",
       "      <th>3</th>\n",
       "      <td>2023-04-30 22:20:19+0200</td>\n",
       "      <td>2023-04-30 20:20:19</td>\n",
       "      <td>2023-04-30 21:59:31+0200</td>\n",
       "      <td>2023-04-30 19:59:31</td>\n",
       "      <td>Alicante - Bazan</td>\n",
       "      <td>BB3B8</td>\n",
       "      <td>Uber Eats</td>\n",
       "      <td>ACCEPTED</td>\n",
       "      <td>DELIVERY</td>\n",
       "      <td>ONLINE</td>\n",
       "      <td>36.6</td>\n",
       "      <td>0.0</td>\n",
       "      <td>0.0</td>\n",
       "      <td>36.6</td>\n",
       "      <td>Uber Eats</td>\n",
       "      <td>3.34</td>\n",
       "    </tr>\n",
       "    <tr>\n",
       "      <th>4</th>\n",
       "      <td>2023-04-30 22:20:13+0200</td>\n",
       "      <td>2023-04-30 20:20:13</td>\n",
       "      <td>2023-04-30 22:01:55+0200</td>\n",
       "      <td>2023-04-30 20:01:55</td>\n",
       "      <td>Alicante - Periodista Rodolfo Salazar</td>\n",
       "      <td>1F69D</td>\n",
       "      <td>Uber Eats</td>\n",
       "      <td>DELIVERED</td>\n",
       "      <td>DELIVERY</td>\n",
       "      <td>ONLINE</td>\n",
       "      <td>14.0</td>\n",
       "      <td>0.0</td>\n",
       "      <td>0.0</td>\n",
       "      <td>14.0</td>\n",
       "      <td>Uber Eats</td>\n",
       "      <td>1.28</td>\n",
       "    </tr>\n",
       "  </tbody>\n",
       "</table>\n",
       "</div>"
      ],
      "text/plain": [
       "                 pickuptime        pickuptimeutc               createdtime  \\\n",
       "0  2023-04-30 23:11:21+0200  2023-04-30 21:11:21  2023-04-30 22:51:18+0200   \n",
       "1  2023-04-30 23:01:41+0200  2023-04-30 21:01:41  2023-04-30 22:36:25+0200   \n",
       "2  2023-04-30 22:31:06+0200  2023-04-30 20:31:06  2023-04-30 22:10:04+0200   \n",
       "3  2023-04-30 22:20:19+0200  2023-04-30 20:20:19  2023-04-30 21:59:31+0200   \n",
       "4  2023-04-30 22:20:13+0200  2023-04-30 20:20:13  2023-04-30 22:01:55+0200   \n",
       "\n",
       "        createdtimeutc                               location orderid  \\\n",
       "0  2023-04-30 20:51:18  Alicante - Periodista Rodolfo Salazar   C5C6A   \n",
       "1  2023-04-30 20:36:25  Alicante - Periodista Rodolfo Salazar   BD770   \n",
       "2  2023-04-30 20:10:04  Alicante - Periodista Rodolfo Salazar   A892B   \n",
       "3  2023-04-30 19:59:31                       Alicante - Bazan   BB3B8   \n",
       "4  2023-04-30 20:01:55  Alicante - Periodista Rodolfo Salazar   1F69D   \n",
       "\n",
       "     channel     status      type payment  paymentamount  deliverycost  \\\n",
       "0  Uber Eats  DELIVERED  DELIVERY  ONLINE           12.9           0.0   \n",
       "1  Uber Eats  DELIVERED    PICKUP  ONLINE           15.9           0.0   \n",
       "2  Uber Eats  DELIVERED  DELIVERY  ONLINE           21.8           0.0   \n",
       "3  Uber Eats   ACCEPTED  DELIVERY  ONLINE           36.6           0.0   \n",
       "4  Uber Eats  DELIVERED  DELIVERY  ONLINE           14.0           0.0   \n",
       "\n",
       "   discounttotal  subtotal channellink   vat  \n",
       "0          -12.9      25.8   Uber Eats  1.18  \n",
       "1          -12.9      28.8   Uber Eats  1.45  \n",
       "2            0.0      21.8   Uber Eats  1.98  \n",
       "3            0.0      36.6   Uber Eats  3.34  \n",
       "4            0.0      14.0   Uber Eats  1.28  "
      ]
     },
     "execution_count": 45,
     "metadata": {},
     "output_type": "execute_result"
    }
   ],
   "source": [
    "deliverect.head()"
   ]
  },
  {
   "cell_type": "markdown",
   "metadata": {},
   "source": [
    "## <a id='toc1_3_'></a>[Deliverect Items](#toc0_)"
   ]
  },
  {
   "cell_type": "markdown",
   "metadata": {},
   "source": [
    "### <a id='toc1_3_1_'></a>[Import Data](#toc0_)"
   ]
  },
  {
   "cell_type": "code",
   "execution_count": 46,
   "metadata": {},
   "outputs": [
    {
     "data": {
      "text/html": [
       "<div>\n",
       "<style scoped>\n",
       "    .dataframe tbody tr th:only-of-type {\n",
       "        vertical-align: middle;\n",
       "    }\n",
       "\n",
       "    .dataframe tbody tr th {\n",
       "        vertical-align: top;\n",
       "    }\n",
       "\n",
       "    .dataframe thead th {\n",
       "        text-align: right;\n",
       "    }\n",
       "</style>\n",
       "<table border=\"1\" class=\"dataframe\">\n",
       "  <thead>\n",
       "    <tr style=\"text-align: right;\">\n",
       "      <th></th>\n",
       "      <th>CreatedTime</th>\n",
       "      <th>CreatedTimeUTC</th>\n",
       "      <th>Location</th>\n",
       "      <th>OrderID</th>\n",
       "      <th>Channel</th>\n",
       "      <th>Payment</th>\n",
       "      <th>PaymentAmount</th>\n",
       "      <th>Rebate</th>\n",
       "      <th>SubTotal</th>\n",
       "      <th>Tax</th>\n",
       "      <th>VAT</th>\n",
       "      <th>ProductNames</th>\n",
       "      <th>ItemPrice</th>\n",
       "      <th>ItemQuantities</th>\n",
       "      <th>DiscountTotal</th>\n",
       "    </tr>\n",
       "  </thead>\n",
       "  <tbody>\n",
       "    <tr>\n",
       "      <th>0</th>\n",
       "      <td>2023-04-30 22:51:18+0200</td>\n",
       "      <td>2023-04-30 20:51:18</td>\n",
       "      <td>Alicante - Periodista Rodolfo Salazar</td>\n",
       "      <td>C5C6A</td>\n",
       "      <td>Uber Eats</td>\n",
       "      <td>ONLINE</td>\n",
       "      <td>12.9</td>\n",
       "      <td>0.0</td>\n",
       "      <td>25.8</td>\n",
       "      <td>0.0</td>\n",
       "      <td>1.18</td>\n",
       "      <td>Caprichosa</td>\n",
       "      <td>1290</td>\n",
       "      <td>2</td>\n",
       "      <td>NaN</td>\n",
       "    </tr>\n",
       "    <tr>\n",
       "      <th>1</th>\n",
       "      <td>2023-04-30 22:51:18+0200</td>\n",
       "      <td>2023-04-30 20:51:18</td>\n",
       "      <td>Alicante - Periodista Rodolfo Salazar</td>\n",
       "      <td>C5C6A</td>\n",
       "      <td>Uber Eats</td>\n",
       "      <td>ONLINE</td>\n",
       "      <td>12.9</td>\n",
       "      <td>0.0</td>\n",
       "      <td>25.8</td>\n",
       "      <td>0.0</td>\n",
       "      <td>1.18</td>\n",
       "      <td>Pan normal</td>\n",
       "      <td>0</td>\n",
       "      <td>2</td>\n",
       "      <td>NaN</td>\n",
       "    </tr>\n",
       "    <tr>\n",
       "      <th>2</th>\n",
       "      <td>2023-04-30 22:51:18+0200</td>\n",
       "      <td>2023-04-30 20:51:18</td>\n",
       "      <td>Alicante - Periodista Rodolfo Salazar</td>\n",
       "      <td>C5C6A</td>\n",
       "      <td>Uber Eats</td>\n",
       "      <td>ONLINE</td>\n",
       "      <td>12.9</td>\n",
       "      <td>0.0</td>\n",
       "      <td>25.8</td>\n",
       "      <td>0.0</td>\n",
       "      <td>1.18</td>\n",
       "      <td>Hecha</td>\n",
       "      <td>0</td>\n",
       "      <td>2</td>\n",
       "      <td>NaN</td>\n",
       "    </tr>\n",
       "    <tr>\n",
       "      <th>3</th>\n",
       "      <td>2023-04-30 22:51:18+0200</td>\n",
       "      <td>2023-04-30 20:51:18</td>\n",
       "      <td>Alicante - Periodista Rodolfo Salazar</td>\n",
       "      <td>C5C6A</td>\n",
       "      <td>Uber Eats</td>\n",
       "      <td>ONLINE</td>\n",
       "      <td>12.9</td>\n",
       "      <td>0.0</td>\n",
       "      <td>25.8</td>\n",
       "      <td>0.0</td>\n",
       "      <td>1.18</td>\n",
       "      <td>Patatas fritas caseras</td>\n",
       "      <td>0</td>\n",
       "      <td>2</td>\n",
       "      <td>NaN</td>\n",
       "    </tr>\n",
       "    <tr>\n",
       "      <th>4</th>\n",
       "      <td>2023-04-30 22:51:18+0200</td>\n",
       "      <td>2023-04-30 20:51:18</td>\n",
       "      <td>Alicante - Periodista Rodolfo Salazar</td>\n",
       "      <td>C5C6A</td>\n",
       "      <td>Uber Eats</td>\n",
       "      <td>ONLINE</td>\n",
       "      <td>12.9</td>\n",
       "      <td>0.0</td>\n",
       "      <td>25.8</td>\n",
       "      <td>0.0</td>\n",
       "      <td>1.18</td>\n",
       "      <td>Hamburguesa normal</td>\n",
       "      <td>0</td>\n",
       "      <td>2</td>\n",
       "      <td>NaN</td>\n",
       "    </tr>\n",
       "  </tbody>\n",
       "</table>\n",
       "</div>"
      ],
      "text/plain": [
       "                CreatedTime       CreatedTimeUTC  \\\n",
       "0  2023-04-30 22:51:18+0200  2023-04-30 20:51:18   \n",
       "1  2023-04-30 22:51:18+0200  2023-04-30 20:51:18   \n",
       "2  2023-04-30 22:51:18+0200  2023-04-30 20:51:18   \n",
       "3  2023-04-30 22:51:18+0200  2023-04-30 20:51:18   \n",
       "4  2023-04-30 22:51:18+0200  2023-04-30 20:51:18   \n",
       "\n",
       "                                Location OrderID    Channel Payment  \\\n",
       "0  Alicante - Periodista Rodolfo Salazar   C5C6A  Uber Eats  ONLINE   \n",
       "1  Alicante - Periodista Rodolfo Salazar   C5C6A  Uber Eats  ONLINE   \n",
       "2  Alicante - Periodista Rodolfo Salazar   C5C6A  Uber Eats  ONLINE   \n",
       "3  Alicante - Periodista Rodolfo Salazar   C5C6A  Uber Eats  ONLINE   \n",
       "4  Alicante - Periodista Rodolfo Salazar   C5C6A  Uber Eats  ONLINE   \n",
       "\n",
       "   PaymentAmount  Rebate  SubTotal  Tax   VAT            ProductNames  \\\n",
       "0           12.9     0.0      25.8  0.0  1.18              Caprichosa   \n",
       "1           12.9     0.0      25.8  0.0  1.18              Pan normal   \n",
       "2           12.9     0.0      25.8  0.0  1.18                   Hecha   \n",
       "3           12.9     0.0      25.8  0.0  1.18  Patatas fritas caseras   \n",
       "4           12.9     0.0      25.8  0.0  1.18      Hamburguesa normal   \n",
       "\n",
       "   ItemPrice  ItemQuantities  DiscountTotal  \n",
       "0       1290               2            NaN  \n",
       "1          0               2            NaN  \n",
       "2          0               2            NaN  \n",
       "3          0               2            NaN  \n",
       "4          0               2            NaN  "
      ]
     },
     "execution_count": 46,
     "metadata": {},
     "output_type": "execute_result"
    }
   ],
   "source": [
    "deliverect_items = pd.concat([pd.read_csv('../../data/0-raw/deliverect_items1.csv'),\n",
    "                            pd.read_csv('../../data/0-raw/deliverect_items2.csv'), \n",
    "                            pd.read_csv('../../data/0-raw/deliverect_items3.csv')])\n",
    "\n",
    "deliverect_items_original_shape= deliverect_items.shape\n",
    "\n",
    "deliverect_items.head()"
   ]
  },
  {
   "cell_type": "code",
   "execution_count": 47,
   "metadata": {},
   "outputs": [
    {
     "name": "stdout",
     "output_type": "stream",
     "text": [
      "<class 'pandas.core.frame.DataFrame'>\n",
      "Index: 67520 entries, 0 to 17827\n",
      "Data columns (total 15 columns):\n",
      " #   Column          Non-Null Count  Dtype  \n",
      "---  ------          --------------  -----  \n",
      " 0   CreatedTime     67520 non-null  object \n",
      " 1   CreatedTimeUTC  67520 non-null  object \n",
      " 2   Location        67520 non-null  object \n",
      " 3   OrderID         67514 non-null  object \n",
      " 4   Channel         67520 non-null  object \n",
      " 5   Payment         67520 non-null  object \n",
      " 6   PaymentAmount   67520 non-null  float64\n",
      " 7   Rebate          44713 non-null  float64\n",
      " 8   SubTotal        67520 non-null  float64\n",
      " 9   Tax             67520 non-null  float64\n",
      " 10  VAT             67520 non-null  float64\n",
      " 11  ProductNames    67520 non-null  object \n",
      " 12  ItemPrice       67520 non-null  int64  \n",
      " 13  ItemQuantities  67520 non-null  int64  \n",
      " 14  DiscountTotal   40635 non-null  float64\n",
      "dtypes: float64(6), int64(2), object(7)\n",
      "memory usage: 8.2+ MB\n"
     ]
    }
   ],
   "source": [
    "deliverect_items.info()"
   ]
  },
  {
   "cell_type": "markdown",
   "metadata": {},
   "source": [
    "### <a id='toc1_3_2_'></a>[Data cleaning basics](#toc0_)"
   ]
  },
  {
   "cell_type": "markdown",
   "metadata": {},
   "source": [
    "#### <a id='toc1_3_2_1_'></a>[Check for null values](#toc0_)"
   ]
  },
  {
   "cell_type": "code",
   "execution_count": 48,
   "metadata": {},
   "outputs": [
    {
     "data": {
      "text/plain": [
       "'N nan cols: 3'"
      ]
     },
     "execution_count": 48,
     "metadata": {},
     "output_type": "execute_result"
    },
    {
     "data": {
      "text/plain": [
       "OrderID           0.008886\n",
       "Rebate           33.778140\n",
       "DiscountTotal    39.817832\n",
       "dtype: float64"
      ]
     },
     "execution_count": 48,
     "metadata": {},
     "output_type": "execute_result"
    },
    {
     "data": {
      "image/png": "[encoded data removed]",
      "text/plain": [
       "<Figure size 1000x600 with 1 Axes>"
      ]
     },
     "metadata": {},
     "output_type": "display_data"
    }
   ],
   "source": [
    "check_nan(deliverect_items)"
   ]
  },
  {
   "cell_type": "markdown",
   "metadata": {},
   "source": [
    "#### <a id='toc1_3_2_2_'></a>[Unify names and column spaces](#toc0_)"
   ]
  },
  {
   "cell_type": "code",
   "execution_count": 49,
   "metadata": {},
   "outputs": [],
   "source": [
    "deliverect_items = column_unification(deliverect_items)"
   ]
  },
  {
   "cell_type": "markdown",
   "metadata": {},
   "source": [
    "#### <a id='toc1_3_2_3_'></a>[Duplicated](#toc0_)"
   ]
  },
  {
   "cell_type": "code",
   "execution_count": 50,
   "metadata": {},
   "outputs": [
    {
     "data": {
      "text/plain": [
       "True"
      ]
     },
     "execution_count": 50,
     "metadata": {},
     "output_type": "execute_result"
    }
   ],
   "source": [
    "deliverect_items.duplicated().any()"
   ]
  },
  {
   "cell_type": "code",
   "execution_count": 51,
   "metadata": {},
   "outputs": [
    {
     "data": {
      "text/html": [
       "<div>\n",
       "<style scoped>\n",
       "    .dataframe tbody tr th:only-of-type {\n",
       "        vertical-align: middle;\n",
       "    }\n",
       "\n",
       "    .dataframe tbody tr th {\n",
       "        vertical-align: top;\n",
       "    }\n",
       "\n",
       "    .dataframe thead th {\n",
       "        text-align: right;\n",
       "    }\n",
       "</style>\n",
       "<table border=\"1\" class=\"dataframe\">\n",
       "  <thead>\n",
       "    <tr style=\"text-align: right;\">\n",
       "      <th></th>\n",
       "      <th>createdtime</th>\n",
       "      <th>createdtimeutc</th>\n",
       "      <th>location</th>\n",
       "      <th>orderid</th>\n",
       "      <th>channel</th>\n",
       "      <th>payment</th>\n",
       "      <th>paymentamount</th>\n",
       "      <th>rebate</th>\n",
       "      <th>subtotal</th>\n",
       "      <th>tax</th>\n",
       "      <th>vat</th>\n",
       "      <th>productnames</th>\n",
       "      <th>itemprice</th>\n",
       "      <th>itemquantities</th>\n",
       "      <th>discounttotal</th>\n",
       "    </tr>\n",
       "  </thead>\n",
       "  <tbody>\n",
       "    <tr>\n",
       "      <th>433</th>\n",
       "      <td>2023-04-29 22:08:07+0200</td>\n",
       "      <td>2023-04-29 20:08:07</td>\n",
       "      <td>Alicante - Bazan</td>\n",
       "      <td>A4GZQRKL</td>\n",
       "      <td>Glovo</td>\n",
       "      <td>CARD</td>\n",
       "      <td>26.80</td>\n",
       "      <td>0.0</td>\n",
       "      <td>26.8</td>\n",
       "      <td>0.0</td>\n",
       "      <td>0.00</td>\n",
       "      <td>Punto</td>\n",
       "      <td>0</td>\n",
       "      <td>1</td>\n",
       "      <td>NaN</td>\n",
       "    </tr>\n",
       "    <tr>\n",
       "      <th>437</th>\n",
       "      <td>2023-04-29 22:08:07+0200</td>\n",
       "      <td>2023-04-29 20:08:07</td>\n",
       "      <td>Alicante - Bazan</td>\n",
       "      <td>A4GZQRKL</td>\n",
       "      <td>Glovo</td>\n",
       "      <td>CARD</td>\n",
       "      <td>26.80</td>\n",
       "      <td>0.0</td>\n",
       "      <td>26.8</td>\n",
       "      <td>0.0</td>\n",
       "      <td>0.00</td>\n",
       "      <td>La Caprichosa</td>\n",
       "      <td>0</td>\n",
       "      <td>1</td>\n",
       "      <td>NaN</td>\n",
       "    </tr>\n",
       "    <tr>\n",
       "      <th>645</th>\n",
       "      <td>2023-04-29 15:16:34+0200</td>\n",
       "      <td>2023-04-29 13:16:34</td>\n",
       "      <td>Alicante - Periodista Rodolfo Salazar</td>\n",
       "      <td>128288843</td>\n",
       "      <td>Just Eat</td>\n",
       "      <td>CARD</td>\n",
       "      <td>67.99</td>\n",
       "      <td>0.0</td>\n",
       "      <td>66.0</td>\n",
       "      <td>0.0</td>\n",
       "      <td>5.99</td>\n",
       "      <td>Punto</td>\n",
       "      <td>0</td>\n",
       "      <td>1</td>\n",
       "      <td>NaN</td>\n",
       "    </tr>\n",
       "    <tr>\n",
       "      <th>973</th>\n",
       "      <td>2023-04-28 20:06:32+0200</td>\n",
       "      <td>2023-04-28 18:06:32</td>\n",
       "      <td>Alicante - Periodista Rodolfo Salazar</td>\n",
       "      <td>806</td>\n",
       "      <td>Glovo</td>\n",
       "      <td>CARD</td>\n",
       "      <td>59.30</td>\n",
       "      <td>0.0</td>\n",
       "      <td>59.3</td>\n",
       "      <td>0.0</td>\n",
       "      <td>0.00</td>\n",
       "      <td>Punto</td>\n",
       "      <td>0</td>\n",
       "      <td>1</td>\n",
       "      <td>NaN</td>\n",
       "    </tr>\n",
       "    <tr>\n",
       "      <th>979</th>\n",
       "      <td>2023-04-28 20:06:32+0200</td>\n",
       "      <td>2023-04-28 18:06:32</td>\n",
       "      <td>Alicante - Periodista Rodolfo Salazar</td>\n",
       "      <td>806</td>\n",
       "      <td>Glovo</td>\n",
       "      <td>CARD</td>\n",
       "      <td>59.30</td>\n",
       "      <td>0.0</td>\n",
       "      <td>59.3</td>\n",
       "      <td>0.0</td>\n",
       "      <td>0.00</td>\n",
       "      <td>Hecha</td>\n",
       "      <td>0</td>\n",
       "      <td>1</td>\n",
       "      <td>NaN</td>\n",
       "    </tr>\n",
       "  </tbody>\n",
       "</table>\n",
       "</div>"
      ],
      "text/plain": [
       "                  createdtime       createdtimeutc  \\\n",
       "433  2023-04-29 22:08:07+0200  2023-04-29 20:08:07   \n",
       "437  2023-04-29 22:08:07+0200  2023-04-29 20:08:07   \n",
       "645  2023-04-29 15:16:34+0200  2023-04-29 13:16:34   \n",
       "973  2023-04-28 20:06:32+0200  2023-04-28 18:06:32   \n",
       "979  2023-04-28 20:06:32+0200  2023-04-28 18:06:32   \n",
       "\n",
       "                                  location    orderid   channel payment  \\\n",
       "433                       Alicante - Bazan   A4GZQRKL     Glovo    CARD   \n",
       "437                       Alicante - Bazan   A4GZQRKL     Glovo    CARD   \n",
       "645  Alicante - Periodista Rodolfo Salazar  128288843  Just Eat    CARD   \n",
       "973  Alicante - Periodista Rodolfo Salazar        806     Glovo    CARD   \n",
       "979  Alicante - Periodista Rodolfo Salazar        806     Glovo    CARD   \n",
       "\n",
       "     paymentamount  rebate  subtotal  tax   vat   productnames  itemprice  \\\n",
       "433          26.80     0.0      26.8  0.0  0.00          Punto          0   \n",
       "437          26.80     0.0      26.8  0.0  0.00  La Caprichosa          0   \n",
       "645          67.99     0.0      66.0  0.0  5.99          Punto          0   \n",
       "973          59.30     0.0      59.3  0.0  0.00          Punto          0   \n",
       "979          59.30     0.0      59.3  0.0  0.00          Hecha          0   \n",
       "\n",
       "     itemquantities  discounttotal  \n",
       "433               1            NaN  \n",
       "437               1            NaN  \n",
       "645               1            NaN  \n",
       "973               1            NaN  \n",
       "979               1            NaN  "
      ]
     },
     "execution_count": 51,
     "metadata": {},
     "output_type": "execute_result"
    }
   ],
   "source": [
    "deliverect_items[(deliverect_items.duplicated())].head()"
   ]
  },
  {
   "cell_type": "markdown",
   "metadata": {},
   "source": [
    "##### <a id='toc1_3_2_3_1_'></a>[There are unpriced items that must be assigned to a table of extras (Next steps)](#toc0_)\n",
    "Let's delete them For the current project"
   ]
  },
  {
   "cell_type": "code",
   "execution_count": 52,
   "metadata": {},
   "outputs": [
    {
     "data": {
      "text/plain": [
       "(67520, 15)"
      ]
     },
     "execution_count": 52,
     "metadata": {},
     "output_type": "execute_result"
    }
   ],
   "source": [
    "deliverect_items_original_shape"
   ]
  },
  {
   "cell_type": "code",
   "execution_count": 53,
   "metadata": {},
   "outputs": [],
   "source": [
    "deliverect_items = deliverect_items.reset_index(drop=True)\n",
    "deliverect_items.drop(deliverect_items[deliverect_items['itemprice'] == 0].index, axis=0, inplace=True)"
   ]
  },
  {
   "cell_type": "code",
   "execution_count": 54,
   "metadata": {},
   "outputs": [
    {
     "data": {
      "text/plain": [
       "((26227, 15), (67520, 15))"
      ]
     },
     "execution_count": 54,
     "metadata": {},
     "output_type": "execute_result"
    }
   ],
   "source": [
    "deliverect_items.shape, deliverect_items_original_shape"
   ]
  },
  {
   "cell_type": "markdown",
   "metadata": {},
   "source": [
    "#### <a id='toc1_3_2_4_'></a>[Constants detection](#toc0_)"
   ]
  },
  {
   "cell_type": "code",
   "execution_count": 55,
   "metadata": {},
   "outputs": [
    {
     "data": {
      "text/plain": [
       "{1: ['rebate', 'tax'],\n",
       " 2: ['location', 'payment'],\n",
       " 3: ['channel'],\n",
       " 9: ['itemquantities'],\n",
       " 63: ['itemprice'],\n",
       " 99: ['discounttotal'],\n",
       " 136: ['productnames'],\n",
       " 538: ['vat'],\n",
       " 703: ['subtotal'],\n",
       " 1150: ['paymentamount'],\n",
       " 7689: ['orderid'],\n",
       " 8635: ['createdtime', 'createdtimeutc']}"
      ]
     },
     "execution_count": 55,
     "metadata": {},
     "output_type": "execute_result"
    }
   ],
   "source": [
    "count_columns = column_counts(deliverect_items)\n",
    "\n",
    "count_columns"
   ]
  },
  {
   "cell_type": "markdown",
   "metadata": {},
   "source": [
    "#### <a id='toc1_3_2_5_'></a>[Drop columns with a count (constants)](#toc0_)"
   ]
  },
  {
   "cell_type": "code",
   "execution_count": 56,
   "metadata": {},
   "outputs": [],
   "source": [
    "deliverect_items = drop_columns(deliverect_items, count_columns[1])"
   ]
  },
  {
   "cell_type": "markdown",
   "metadata": {},
   "source": [
    "#### <a id='toc1_3_2_6_'></a>[Check row with orderid null](#toc0_)"
   ]
  },
  {
   "cell_type": "code",
   "execution_count": 57,
   "metadata": {},
   "outputs": [
    {
     "data": {
      "text/html": [
       "<div>\n",
       "<style scoped>\n",
       "    .dataframe tbody tr th:only-of-type {\n",
       "        vertical-align: middle;\n",
       "    }\n",
       "\n",
       "    .dataframe tbody tr th {\n",
       "        vertical-align: top;\n",
       "    }\n",
       "\n",
       "    .dataframe thead th {\n",
       "        text-align: right;\n",
       "    }\n",
       "</style>\n",
       "<table border=\"1\" class=\"dataframe\">\n",
       "  <thead>\n",
       "    <tr style=\"text-align: right;\">\n",
       "      <th></th>\n",
       "      <th>createdtime</th>\n",
       "      <th>createdtimeutc</th>\n",
       "      <th>location</th>\n",
       "      <th>orderid</th>\n",
       "      <th>channel</th>\n",
       "      <th>payment</th>\n",
       "      <th>paymentamount</th>\n",
       "      <th>subtotal</th>\n",
       "      <th>vat</th>\n",
       "      <th>productnames</th>\n",
       "      <th>itemprice</th>\n",
       "      <th>itemquantities</th>\n",
       "      <th>discounttotal</th>\n",
       "    </tr>\n",
       "  </thead>\n",
       "  <tbody>\n",
       "    <tr>\n",
       "      <th>24753</th>\n",
       "      <td>2023-09-21 14:46:31+0200</td>\n",
       "      <td>2023-09-21 12:46:31</td>\n",
       "      <td>Alicante - Periodista Rodolfo Salazar</td>\n",
       "      <td>NaN</td>\n",
       "      <td>Glovo</td>\n",
       "      <td>CARD</td>\n",
       "      <td>11.44</td>\n",
       "      <td>14.3</td>\n",
       "      <td>0.0</td>\n",
       "      <td>Perla Negra</td>\n",
       "      <td>1430</td>\n",
       "      <td>1</td>\n",
       "      <td>-2.86</td>\n",
       "    </tr>\n",
       "  </tbody>\n",
       "</table>\n",
       "</div>"
      ],
      "text/plain": [
       "                    createdtime       createdtimeutc  \\\n",
       "24753  2023-09-21 14:46:31+0200  2023-09-21 12:46:31   \n",
       "\n",
       "                                    location orderid channel payment  \\\n",
       "24753  Alicante - Periodista Rodolfo Salazar     NaN   Glovo    CARD   \n",
       "\n",
       "       paymentamount  subtotal  vat productnames  itemprice  itemquantities  \\\n",
       "24753          11.44      14.3  0.0  Perla Negra       1430               1   \n",
       "\n",
       "       discounttotal  \n",
       "24753          -2.86  "
      ]
     },
     "execution_count": 57,
     "metadata": {},
     "output_type": "execute_result"
    }
   ],
   "source": [
    "deliverect_items.reset_index(drop=True, inplace=True)\n",
    "deliverect_items[(deliverect_items.orderid.isna())]"
   ]
  },
  {
   "cell_type": "code",
   "execution_count": 58,
   "metadata": {},
   "outputs": [],
   "source": [
    "#No tengo la información, como es orderid entonces se elimina\n",
    "\n",
    "deliverect_items.drop(deliverect_items[(deliverect_items.orderid.isna())].index[0], axis=0, inplace=True )"
   ]
  },
  {
   "cell_type": "markdown",
   "metadata": {},
   "source": [
    "#### <a id='toc1_3_2_7_'></a>[Check rows with null discounttotal](#toc0_)"
   ]
  },
  {
   "cell_type": "code",
   "execution_count": 59,
   "metadata": {},
   "outputs": [
    {
     "name": "stderr",
     "output_type": "stream",
     "text": [
      "C:\\Users\\Mjp\\AppData\\Local\\Temp\\ipykernel_11044\\19660337.py:1: SettingWithCopyWarning: \n",
      "A value is trying to be set on a copy of a slice from a DataFrame\n",
      "\n",
      "See the caveats in the documentation: https://pandas.pydata.org/pandas-docs/stable/user_guide/indexing.html#returning-a-view-versus-a-copy\n",
      "  deliverect_items.discounttotal[deliverect_items.discounttotal.isna()] =0\n"
     ]
    }
   ],
   "source": [
    "deliverect_items.discounttotal[deliverect_items.discounttotal.isna()] =0"
   ]
  },
  {
   "cell_type": "markdown",
   "metadata": {},
   "source": [
    "#### <a id='toc1_3_2_8_'></a>[Re-check for nulls](#toc0_)"
   ]
  },
  {
   "cell_type": "code",
   "execution_count": 60,
   "metadata": {},
   "outputs": [
    {
     "data": {
      "text/plain": [
       "'N nan cols: 0'"
      ]
     },
     "execution_count": 60,
     "metadata": {},
     "output_type": "execute_result"
    },
    {
     "data": {
      "text/plain": [
       "Series([], dtype: float64)"
      ]
     },
     "execution_count": 60,
     "metadata": {},
     "output_type": "execute_result"
    }
   ],
   "source": [
    "check_nan(deliverect_items, False)"
   ]
  },
  {
   "cell_type": "markdown",
   "metadata": {},
   "source": [
    "## <a id='toc1_4_'></a>[Export clean dataframes](#toc0_)"
   ]
  },
  {
   "cell_type": "code",
   "execution_count": 63,
   "metadata": {},
   "outputs": [],
   "source": [
    "deliverect.to_csv('../../data/1-clean/deliverect_clean.csv', index=False)\n",
    "deliverect_items.to_csv('../../data/1-clean/deliverect__items_clean.csv', index=False)"
   ]
  }
 ],
 "metadata": {
  "kernelspec": {
   "display_name": "clase",
   "language": "python",
   "name": "python3"
  },
  "language_info": {
   "codemirror_mode": {
    "name": "ipython",
    "version": 3
   },
   "file_extension": ".py",
   "mimetype": "text/x-python",
   "name": "python",
   "nbconvert_exporter": "python",
   "pygments_lexer": "ipython3",
   "version": "3.10.13"
  }
 },
 "nbformat": 4,
 "nbformat_minor": 5
}
