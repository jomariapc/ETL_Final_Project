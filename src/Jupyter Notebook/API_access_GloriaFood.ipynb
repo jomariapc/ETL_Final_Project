{
 "cells": [
  {
   "cell_type": "code",
   "execution_count": 51,
   "id": "9530a036-0b61-4418-958a-4af09991d293",
   "metadata": {},
   "outputs": [],
   "source": [
    "import requests as req\n",
    "import pandas as pd\n",
    "import time\n",
    "\n",
    "\n",
    "import sys\n",
    "sys.path.append('../Python')\n",
    "from  PyPower import *"
   ]
  },
  {
   "cell_type": "code",
   "execution_count": 52,
   "id": "87a77d22-60f9-4181-8268-5021f784ef2c",
   "metadata": {},
   "outputs": [],
   "source": [
    "url = 'https://azape.es/api/v1/orders/dates/:2023-01-01/:2023-10-31'"
   ]
  },
  {
   "cell_type": "code",
   "execution_count": 53,
   "id": "0e92dc18-47e8-4e28-96b4-fd89a522b62d",
   "metadata": {},
   "outputs": [],
   "source": [
    "res = req.get(url)"
   ]
  },
  {
   "cell_type": "code",
   "execution_count": 54,
   "id": "bfe8c354-5088-4bf2-b100-3785645b4b51",
   "metadata": {},
   "outputs": [
    {
     "data": {
      "text/plain": [
       "<Response [200]>"
      ]
     },
     "execution_count": 54,
     "metadata": {},
     "output_type": "execute_result"
    }
   ],
   "source": [
    "res"
   ]
  },
  {
   "cell_type": "code",
   "execution_count": 55,
   "id": "b290f6a1-89ff-41aa-a2d7-e84c2b8df14f",
   "metadata": {},
   "outputs": [
    {
     "data": {
      "text/plain": [
       "dict_keys(['result', 'err'])"
      ]
     },
     "execution_count": 55,
     "metadata": {},
     "output_type": "execute_result"
    }
   ],
   "source": [
    "res.json().keys()"
   ]
  },
  {
   "cell_type": "code",
   "execution_count": 56,
   "metadata": {},
   "outputs": [],
   "source": [
    "info = res.json()['result']"
   ]
  },
  {
   "cell_type": "code",
   "execution_count": 57,
   "id": "6e6fddca-bdd1-49ce-9c31-8123589fb07b",
   "metadata": {},
   "outputs": [
    {
     "data": {
      "text/html": [
       "<div>\n",
       "<style scoped>\n",
       "    .dataframe tbody tr th:only-of-type {\n",
       "        vertical-align: middle;\n",
       "    }\n",
       "\n",
       "    .dataframe tbody tr th {\n",
       "        vertical-align: top;\n",
       "    }\n",
       "\n",
       "    .dataframe thead th {\n",
       "        text-align: right;\n",
       "    }\n",
       "</style>\n",
       "<table border=\"1\" class=\"dataframe\">\n",
       "  <thead>\n",
       "    <tr style=\"text-align: right;\">\n",
       "      <th></th>\n",
       "      <th>payment</th>\n",
       "      <th>status</th>\n",
       "      <th>statusCorrect</th>\n",
       "      <th>items</th>\n",
       "      <th>_id</th>\n",
       "      <th>gloriaId</th>\n",
       "      <th>client</th>\n",
       "      <th>address</th>\n",
       "      <th>restaurant</th>\n",
       "      <th>total_price</th>\n",
       "      <th>for_later</th>\n",
       "      <th>times</th>\n",
       "      <th>__v</th>\n",
       "      <th>surveySent</th>\n",
       "      <th>group</th>\n",
       "      <th>rider</th>\n",
       "      <th>partner</th>\n",
       "      <th>createdAt</th>\n",
       "      <th>updatedAt</th>\n",
       "    </tr>\n",
       "  </thead>\n",
       "  <tbody>\n",
       "    <tr>\n",
       "      <th>0</th>\n",
       "      <td>ONLINE</td>\n",
       "      <td>Completed</td>\n",
       "      <td>True</td>\n",
       "      <td>[{'id': 833756511, 'name': 'Sweet Home Alicant...</td>\n",
       "      <td>63b17acf88d774aa15c30b4e</td>\n",
       "      <td>623628039.0</td>\n",
       "      <td>{'name': 'Inés Lázaro Gaspar', 'email': 'inesl...</td>\n",
       "      <td>{'street': 'Calle Hernán Cortés, 19 BAJO 2, Ed...</td>\n",
       "      <td>{'_id': '640f9b4f91db3c46413352df', 'internalN...</td>\n",
       "      <td>34.6</td>\n",
       "      <td>True</td>\n",
       "      <td>[{'by': 1672575695000, 'action': 'accepted_at'...</td>\n",
       "      <td>1.0</td>\n",
       "      <td>True</td>\n",
       "      <td>NaN</td>\n",
       "      <td>NaN</td>\n",
       "      <td>NaN</td>\n",
       "      <td>NaN</td>\n",
       "      <td>NaN</td>\n",
       "    </tr>\n",
       "    <tr>\n",
       "      <th>1</th>\n",
       "      <td>CASH</td>\n",
       "      <td>Completed</td>\n",
       "      <td>True</td>\n",
       "      <td>[{'id': 833758718, 'name': 'Sweet Home Alicant...</td>\n",
       "      <td>63b17d4588d774aa15c30b55</td>\n",
       "      <td>623630325.0</td>\n",
       "      <td>{'name': 'Natalia Gimeno', 'email': 'nataliagi...</td>\n",
       "      <td>{'street': 'Calle Pintor Antonio Amoros 4 , po...</td>\n",
       "      <td>{'_id': '640f9b4f91db3c46413352df', 'internalN...</td>\n",
       "      <td>17.3</td>\n",
       "      <td>True</td>\n",
       "      <td>[{'by': 1672576325000, 'action': 'accepted_at'...</td>\n",
       "      <td>1.0</td>\n",
       "      <td>True</td>\n",
       "      <td>NaN</td>\n",
       "      <td>NaN</td>\n",
       "      <td>NaN</td>\n",
       "      <td>NaN</td>\n",
       "      <td>NaN</td>\n",
       "    </tr>\n",
       "    <tr>\n",
       "      <th>2</th>\n",
       "      <td>CARD</td>\n",
       "      <td>Completed</td>\n",
       "      <td>True</td>\n",
       "      <td>[{'id': 833764767, 'name': 'El honesto Mike', ...</td>\n",
       "      <td>63b185c188d774aa15c30b5c</td>\n",
       "      <td>623625424.0</td>\n",
       "      <td>{'name': 'Yolanda Amador', 'email': 'Yamadorg@...</td>\n",
       "      <td>{'street': 'Calle maestro Alonso 97A', 'city':...</td>\n",
       "      <td>{'_id': '640f9b4f91db3c46413352df', 'internalN...</td>\n",
       "      <td>50.3</td>\n",
       "      <td>True</td>\n",
       "      <td>[{'by': 1672578496000, 'action': 'accepted_at'...</td>\n",
       "      <td>1.0</td>\n",
       "      <td>True</td>\n",
       "      <td>NaN</td>\n",
       "      <td>NaN</td>\n",
       "      <td>NaN</td>\n",
       "      <td>NaN</td>\n",
       "      <td>NaN</td>\n",
       "    </tr>\n",
       "    <tr>\n",
       "      <th>3</th>\n",
       "      <td>CASH</td>\n",
       "      <td>Completed</td>\n",
       "      <td>True</td>\n",
       "      <td>[{'id': 833758679, 'name': 'DELIVERY_FEE', 'to...</td>\n",
       "      <td>63b1894588d774aa15c30b63</td>\n",
       "      <td>623629679.0</td>\n",
       "      <td>{'name': 'roberto sanchez', 'email': 'arizafc@...</td>\n",
       "      <td>{'street': 'alonso cano 64 esc2  5b', 'city': ...</td>\n",
       "      <td>{'_id': '640f9b4f91db3c46413352df', 'internalN...</td>\n",
       "      <td>37.5</td>\n",
       "      <td>False</td>\n",
       "      <td>[{'by': 1672579397000, 'action': 'accepted_at'...</td>\n",
       "      <td>1.0</td>\n",
       "      <td>True</td>\n",
       "      <td>NaN</td>\n",
       "      <td>NaN</td>\n",
       "      <td>NaN</td>\n",
       "      <td>NaN</td>\n",
       "      <td>NaN</td>\n",
       "    </tr>\n",
       "    <tr>\n",
       "      <th>4</th>\n",
       "      <td>CARD</td>\n",
       "      <td>Completed</td>\n",
       "      <td>True</td>\n",
       "      <td>[{'id': 833770213, 'name': 'Sweet Home Alicant...</td>\n",
       "      <td>63b18a4b88d774aa15c30b6a</td>\n",
       "      <td>623643891.0</td>\n",
       "      <td>{'name': 'Miguel Perez campaña', 'email': 'mip...</td>\n",
       "      <td>{'street': 'Castor número 32', 'city': 'Alican...</td>\n",
       "      <td>{'_id': '640f9b4f91db3c46413352df', 'internalN...</td>\n",
       "      <td>29.7</td>\n",
       "      <td>False</td>\n",
       "      <td>[{'by': 1672579659000, 'action': 'accepted_at'...</td>\n",
       "      <td>1.0</td>\n",
       "      <td>True</td>\n",
       "      <td>NaN</td>\n",
       "      <td>NaN</td>\n",
       "      <td>NaN</td>\n",
       "      <td>NaN</td>\n",
       "      <td>NaN</td>\n",
       "    </tr>\n",
       "  </tbody>\n",
       "</table>\n",
       "</div>"
      ],
      "text/plain": [
       "  payment     status  statusCorrect  \\\n",
       "0  ONLINE  Completed           True   \n",
       "1    CASH  Completed           True   \n",
       "2    CARD  Completed           True   \n",
       "3    CASH  Completed           True   \n",
       "4    CARD  Completed           True   \n",
       "\n",
       "                                               items  \\\n",
       "0  [{'id': 833756511, 'name': 'Sweet Home Alicant...   \n",
       "1  [{'id': 833758718, 'name': 'Sweet Home Alicant...   \n",
       "2  [{'id': 833764767, 'name': 'El honesto Mike', ...   \n",
       "3  [{'id': 833758679, 'name': 'DELIVERY_FEE', 'to...   \n",
       "4  [{'id': 833770213, 'name': 'Sweet Home Alicant...   \n",
       "\n",
       "                        _id     gloriaId  \\\n",
       "0  63b17acf88d774aa15c30b4e  623628039.0   \n",
       "1  63b17d4588d774aa15c30b55  623630325.0   \n",
       "2  63b185c188d774aa15c30b5c  623625424.0   \n",
       "3  63b1894588d774aa15c30b63  623629679.0   \n",
       "4  63b18a4b88d774aa15c30b6a  623643891.0   \n",
       "\n",
       "                                              client  \\\n",
       "0  {'name': 'Inés Lázaro Gaspar', 'email': 'inesl...   \n",
       "1  {'name': 'Natalia Gimeno', 'email': 'nataliagi...   \n",
       "2  {'name': 'Yolanda Amador', 'email': 'Yamadorg@...   \n",
       "3  {'name': 'roberto sanchez', 'email': 'arizafc@...   \n",
       "4  {'name': 'Miguel Perez campaña', 'email': 'mip...   \n",
       "\n",
       "                                             address  \\\n",
       "0  {'street': 'Calle Hernán Cortés, 19 BAJO 2, Ed...   \n",
       "1  {'street': 'Calle Pintor Antonio Amoros 4 , po...   \n",
       "2  {'street': 'Calle maestro Alonso 97A', 'city':...   \n",
       "3  {'street': 'alonso cano 64 esc2  5b', 'city': ...   \n",
       "4  {'street': 'Castor número 32', 'city': 'Alican...   \n",
       "\n",
       "                                          restaurant  total_price for_later  \\\n",
       "0  {'_id': '640f9b4f91db3c46413352df', 'internalN...         34.6      True   \n",
       "1  {'_id': '640f9b4f91db3c46413352df', 'internalN...         17.3      True   \n",
       "2  {'_id': '640f9b4f91db3c46413352df', 'internalN...         50.3      True   \n",
       "3  {'_id': '640f9b4f91db3c46413352df', 'internalN...         37.5     False   \n",
       "4  {'_id': '640f9b4f91db3c46413352df', 'internalN...         29.7     False   \n",
       "\n",
       "                                               times  __v surveySent group  \\\n",
       "0  [{'by': 1672575695000, 'action': 'accepted_at'...  1.0       True   NaN   \n",
       "1  [{'by': 1672576325000, 'action': 'accepted_at'...  1.0       True   NaN   \n",
       "2  [{'by': 1672578496000, 'action': 'accepted_at'...  1.0       True   NaN   \n",
       "3  [{'by': 1672579397000, 'action': 'accepted_at'...  1.0       True   NaN   \n",
       "4  [{'by': 1672579659000, 'action': 'accepted_at'...  1.0       True   NaN   \n",
       "\n",
       "  rider partner createdAt updatedAt  \n",
       "0   NaN     NaN       NaN       NaN  \n",
       "1   NaN     NaN       NaN       NaN  \n",
       "2   NaN     NaN       NaN       NaN  \n",
       "3   NaN     NaN       NaN       NaN  \n",
       "4   NaN     NaN       NaN       NaN  "
      ]
     },
     "execution_count": 57,
     "metadata": {},
     "output_type": "execute_result"
    }
   ],
   "source": [
    "df = pd.DataFrame(info)\n",
    "\n",
    "df.head()"
   ]
  },
  {
   "cell_type": "code",
   "execution_count": 58,
   "metadata": {},
   "outputs": [
    {
     "data": {
      "text/plain": [
       "(2082, 19)"
      ]
     },
     "execution_count": 58,
     "metadata": {},
     "output_type": "execute_result"
    }
   ],
   "source": [
    "df.shape"
   ]
  },
  {
   "cell_type": "code",
   "execution_count": 59,
   "metadata": {},
   "outputs": [
    {
     "data": {
      "text/plain": [
       "(641, 19)"
      ]
     },
     "execution_count": 59,
     "metadata": {},
     "output_type": "execute_result"
    }
   ],
   "source": [
    "df[(df.createdAt.isna())].shape"
   ]
  },
  {
   "cell_type": "code",
   "execution_count": 60,
   "metadata": {},
   "outputs": [
    {
     "data": {
      "text/plain": [
       "'N nan cols: 9'"
      ]
     },
     "execution_count": 60,
     "metadata": {},
     "output_type": "execute_result"
    },
    {
     "data": {
      "text/plain": [
       "gloriaId       2.689721\n",
       "for_later      2.689721\n",
       "__v           69.212296\n",
       "surveySent    35.254563\n",
       "group         78.242075\n",
       "rider         78.242075\n",
       "partner       91.162344\n",
       "createdAt     30.787704\n",
       "updatedAt     30.787704\n",
       "dtype: float64"
      ]
     },
     "execution_count": 60,
     "metadata": {},
     "output_type": "execute_result"
    },
    {
     "data": {
      "image/png": "[encoded data removed]",
      "text/plain": [
       "<Figure size 1000x600 with 1 Axes>"
      ]
     },
     "metadata": {},
     "output_type": "display_data"
    }
   ],
   "source": [
    "check_nan(df)"
   ]
  },
  {
   "cell_type": "code",
   "execution_count": 61,
   "metadata": {},
   "outputs": [],
   "source": [
    "address = df['address'].copy()"
   ]
  },
  {
   "cell_type": "code",
   "execution_count": 62,
   "metadata": {},
   "outputs": [
    {
     "data": {
      "text/plain": [
       "0       {'street': 'Calle Hernán Cortés, 19 BAJO 2, Ed...\n",
       "1       {'street': 'Calle Pintor Antonio Amoros 4 , po...\n",
       "2       {'street': 'Calle maestro Alonso 97A', 'city':...\n",
       "3       {'street': 'alonso cano 64 esc2  5b', 'city': ...\n",
       "4       {'street': 'Castor número 32', 'city': 'Alican...\n",
       "                              ...                        \n",
       "2077    {'street': 'calle cabañal 5, escalera 6 6º M',...\n",
       "2078    {'street': 'Calle Ronda del Castillo, N°8, 3°C...\n",
       "2079    {'street': 'Vicente Alexandre 3', 'city': 'ALI...\n",
       "2080    {'street': 'Alcalde José Luis lassaletta 17, e...\n",
       "2081    {'street': 'Calle polop 6, 5°C', 'city': 'Alic...\n",
       "Name: address, Length: 2082, dtype: object"
      ]
     },
     "execution_count": 62,
     "metadata": {},
     "output_type": "execute_result"
    }
   ],
   "source": [
    "address"
   ]
  },
  {
   "cell_type": "code",
   "execution_count": 63,
   "metadata": {},
   "outputs": [],
   "source": [
    "direcciones = pd.json_normalize(address)"
   ]
  },
  {
   "cell_type": "code",
   "execution_count": 64,
   "metadata": {},
   "outputs": [
    {
     "data": {
      "text/html": [
       "<div>\n",
       "<style scoped>\n",
       "    .dataframe tbody tr th:only-of-type {\n",
       "        vertical-align: middle;\n",
       "    }\n",
       "\n",
       "    .dataframe tbody tr th {\n",
       "        vertical-align: top;\n",
       "    }\n",
       "\n",
       "    .dataframe thead th {\n",
       "        text-align: right;\n",
       "    }\n",
       "</style>\n",
       "<table border=\"1\" class=\"dataframe\">\n",
       "  <thead>\n",
       "    <tr style=\"text-align: right;\">\n",
       "      <th></th>\n",
       "      <th>street</th>\n",
       "      <th>city</th>\n",
       "      <th>zipcode</th>\n",
       "      <th>floor</th>\n",
       "      <th>latitude</th>\n",
       "      <th>longitude</th>\n",
       "      <th>more_address</th>\n",
       "      <th>intercom</th>\n",
       "      <th>apartment</th>\n",
       "    </tr>\n",
       "  </thead>\n",
       "  <tbody>\n",
       "    <tr>\n",
       "      <th>0</th>\n",
       "      <td>Calle Hernán Cortés, 19 BAJO 2, Edificio</td>\n",
       "      <td>San Vicente del Raspeig</td>\n",
       "      <td>03690</td>\n",
       "      <td>Calle Hernán Cortés, 19 BAJO 2</td>\n",
       "      <td>0</td>\n",
       "      <td>0</td>\n",
       "      <td>NaN</td>\n",
       "      <td>NaN</td>\n",
       "      <td>NaN</td>\n",
       "    </tr>\n",
       "    <tr>\n",
       "      <th>1</th>\n",
       "      <td>Calle Pintor Antonio Amoros 4 , portal 2 esc i...</td>\n",
       "      <td>Alicante</td>\n",
       "      <td>03015</td>\n",
       "      <td>4d</td>\n",
       "      <td>38.370743482023485</td>\n",
       "      <td>-0.4713171153123774</td>\n",
       "      <td>NaN</td>\n",
       "      <td>NaN</td>\n",
       "      <td>NaN</td>\n",
       "    </tr>\n",
       "    <tr>\n",
       "      <th>2</th>\n",
       "      <td>Calle maestro Alonso 97A</td>\n",
       "      <td>Alicante</td>\n",
       "      <td>03010</td>\n",
       "      <td>Urgencias ginecologia hospital general(la cuesta)</td>\n",
       "      <td>0</td>\n",
       "      <td>0</td>\n",
       "      <td>NaN</td>\n",
       "      <td>NaN</td>\n",
       "      <td>NaN</td>\n",
       "    </tr>\n",
       "    <tr>\n",
       "      <th>3</th>\n",
       "      <td>alonso cano 64 esc2  5b</td>\n",
       "      <td>alicante</td>\n",
       "      <td>03015</td>\n",
       "      <td>esc2  5b</td>\n",
       "      <td>0</td>\n",
       "      <td>0</td>\n",
       "      <td>NaN</td>\n",
       "      <td>NaN</td>\n",
       "      <td>NaN</td>\n",
       "    </tr>\n",
       "    <tr>\n",
       "      <th>4</th>\n",
       "      <td>Castor número 32</td>\n",
       "      <td>Alicante</td>\n",
       "      <td>03007</td>\n",
       "      <td>Bloque 2 entresuelo (bajo) 1</td>\n",
       "      <td>0</td>\n",
       "      <td>0</td>\n",
       "      <td>NaN</td>\n",
       "      <td>NaN</td>\n",
       "      <td>NaN</td>\n",
       "    </tr>\n",
       "  </tbody>\n",
       "</table>\n",
       "</div>"
      ],
      "text/plain": [
       "                                              street                     city  \\\n",
       "0           Calle Hernán Cortés, 19 BAJO 2, Edificio  San Vicente del Raspeig   \n",
       "1  Calle Pintor Antonio Amoros 4 , portal 2 esc i...                 Alicante   \n",
       "2                           Calle maestro Alonso 97A                 Alicante   \n",
       "3                            alonso cano 64 esc2  5b                 alicante   \n",
       "4                                   Castor número 32                 Alicante   \n",
       "\n",
       "  zipcode                                              floor  \\\n",
       "0   03690                     Calle Hernán Cortés, 19 BAJO 2   \n",
       "1   03015                                                 4d   \n",
       "2   03010  Urgencias ginecologia hospital general(la cuesta)   \n",
       "3   03015                                           esc2  5b   \n",
       "4   03007                       Bloque 2 entresuelo (bajo) 1   \n",
       "\n",
       "             latitude            longitude more_address intercom apartment  \n",
       "0                   0                    0          NaN      NaN       NaN  \n",
       "1  38.370743482023485  -0.4713171153123774          NaN      NaN       NaN  \n",
       "2                   0                    0          NaN      NaN       NaN  \n",
       "3                   0                    0          NaN      NaN       NaN  \n",
       "4                   0                    0          NaN      NaN       NaN  "
      ]
     },
     "execution_count": 64,
     "metadata": {},
     "output_type": "execute_result"
    }
   ],
   "source": [
    "direcciones.head()"
   ]
  },
  {
   "cell_type": "code",
   "execution_count": 65,
   "metadata": {},
   "outputs": [
    {
     "data": {
      "text/plain": [
       "(12, 9)"
      ]
     },
     "execution_count": 65,
     "metadata": {},
     "output_type": "execute_result"
    }
   ],
   "source": [
    "direcciones[(direcciones.zipcode.isna())].shape"
   ]
  },
  {
   "cell_type": "code",
   "execution_count": 66,
   "metadata": {},
   "outputs": [
    {
     "data": {
      "text/plain": [
       "'N nan cols: 7'"
      ]
     },
     "execution_count": 66,
     "metadata": {},
     "output_type": "execute_result"
    },
    {
     "data": {
      "text/plain": [
       "zipcode          0.576369\n",
       "floor           45.148895\n",
       "latitude         2.689721\n",
       "longitude        2.689721\n",
       "more_address    97.790586\n",
       "intercom        99.951969\n",
       "apartment       99.951969\n",
       "dtype: float64"
      ]
     },
     "execution_count": 66,
     "metadata": {},
     "output_type": "execute_result"
    },
    {
     "data": {
      "image/png": "[encoded data removed]",
      "text/plain": [
       "<Figure size 1000x600 with 1 Axes>"
      ]
     },
     "metadata": {},
     "output_type": "display_data"
    }
   ],
   "source": [
    "check_nan(direcciones)"
   ]
  },
  {
   "cell_type": "code",
   "execution_count": 67,
   "metadata": {},
   "outputs": [],
   "source": [
    "direcciones = drop_columns(direcciones, ['more_address', 'intercom', 'apartment', 'floor'])"
   ]
  },
  {
   "cell_type": "code",
   "execution_count": 68,
   "metadata": {},
   "outputs": [
    {
     "data": {
      "text/plain": [
       "'N nan cols: 3'"
      ]
     },
     "execution_count": 68,
     "metadata": {},
     "output_type": "execute_result"
    },
    {
     "data": {
      "text/plain": [
       "zipcode      0.576369\n",
       "latitude     2.689721\n",
       "longitude    2.689721\n",
       "dtype: float64"
      ]
     },
     "execution_count": 68,
     "metadata": {},
     "output_type": "execute_result"
    },
    {
     "data": {
      "image/png": "[encoded data removed]",
      "text/plain": [
       "<Figure size 1000x600 with 1 Axes>"
      ]
     },
     "metadata": {},
     "output_type": "display_data"
    }
   ],
   "source": [
    "check_nan(direcciones)"
   ]
  },
  {
   "cell_type": "code",
   "execution_count": 69,
   "metadata": {},
   "outputs": [
    {
     "data": {
      "text/plain": [
       "(2082, 5)"
      ]
     },
     "execution_count": 69,
     "metadata": {},
     "output_type": "execute_result"
    }
   ],
   "source": [
    "direcciones.shape"
   ]
  },
  {
   "cell_type": "code",
   "execution_count": 70,
   "metadata": {},
   "outputs": [
    {
     "data": {
      "text/plain": [
       "city\n",
       "Alicante                                     1750\n",
       "ALICANTE                                       75\n",
       "Alicante (Alacant)                             61\n",
       "alicante                                       39\n",
       "San Vicente del Raspeig                        32\n",
       "Alacant                                        24\n",
       "San vicente del raspeig                         9\n",
       "Alicante/Alacant                                6\n",
       "03005                                           5\n",
       "San Vicente del raspeig                         5\n",
       "ALICANTE/ALACANT                                4\n",
       "San Vicente                                     4\n",
       "San Juan de Alicante                            4\n",
       "san vicente del raspeig                         3\n",
       "Villafranqueza, Alicante                        3\n",
       "San Vicente Del Raspeig                         3\n",
       "san vicente                                     3\n",
       "Sant Joan d'Alacant, Alicante                   2\n",
       "Sant Joan dalacant                              2\n",
       "Alicamte, San Blas                              2\n",
       "Carolinas Bajas                                 2\n",
       "123                                             2\n",
       "Alacant/Alicante                                2\n",
       "san Juan de Alicante                            2\n",
       "Alcante                                         2\n",
       "Muchamiel                                       2\n",
       "San jaun                                        1\n",
       "Santa Faz                                       1\n",
       "Campello                                        1\n",
       "ALACANT/ALICANTE                                1\n",
       "Sant Joan DAlacant                              1\n",
       "9izda, 17 campana                               1\n",
       "Jacinto Vergaguer, 35                           1\n",
       "Comunidad Valenciana/Comunitat Valenciana       1\n",
       "03008                                           1\n",
       "SAN VICENTE DEL RASPEIG                         1\n",
       "Florida baja                                    1\n",
       "Sant Vicent del Raspeig                         1\n",
       "ALICANT                                         1\n",
       "Bbq 9-5 3°izq                                   1\n",
       "Alicante, alicante                              1\n",
       "ALICANTE                                        1\n",
       "San Juan (Alicante)                             1\n",
       "Villafranqueza (Alicante)                       1\n",
       "ALICANTE-ALACANT                                1\n",
       "Villafranqueza                                  1\n",
       "San vicente                                     1\n",
       "San Vicente del RASPEIG                         1\n",
       "Alicanfe                                        1\n",
       "San Juan Playa                                  1\n",
       "a                                               1\n",
       "Sant Joan D'Alacant                             1\n",
       "Alicange                                        1\n",
       "san juan                                        1\n",
       "Aeropuerto                                      1\n",
       "San Vicente del Raspeig, Alicante               1\n",
       "Alicante San Blas                               1\n",
       "Carolinas bajas                                 1\n",
       "Calle Alcalde Ramon Gómez Sempere 16            1\n",
       "San Vicente del raspeig, Alicante               1\n",
       "Name: count, dtype: int64"
      ]
     },
     "execution_count": 70,
     "metadata": {},
     "output_type": "execute_result"
    }
   ],
   "source": [
    "direcciones.city.value_counts()"
   ]
  },
  {
   "cell_type": "code",
   "execution_count": 71,
   "metadata": {},
   "outputs": [],
   "source": [
    "times = df['times'].copy()"
   ]
  },
  {
   "cell_type": "code",
   "execution_count": 72,
   "metadata": {},
   "outputs": [
    {
     "data": {
      "text/plain": [
       "2082"
      ]
     },
     "execution_count": 72,
     "metadata": {},
     "output_type": "execute_result"
    }
   ],
   "source": [
    "times[0]\n",
    "lista_nums =[]\n",
    "for lista in times:\n",
    "    a = lista[0]['by']\n",
    "    lista_nums.append(a)\n",
    "len(lista_nums)"
   ]
  },
  {
   "cell_type": "code",
   "execution_count": 73,
   "metadata": {},
   "outputs": [],
   "source": [
    "df['timestamp'] = lista_nums"
   ]
  },
  {
   "cell_type": "code",
   "execution_count": 74,
   "metadata": {},
   "outputs": [],
   "source": [
    "df['fecha'] = pd.to_datetime(df['timestamp'], unit='ms').dt.strftime('%Y-%m-%d %H:%M')"
   ]
  },
  {
   "cell_type": "code",
   "execution_count": 75,
   "metadata": {},
   "outputs": [],
   "source": [
    "df.fecha = pd.to_datetime(df.fecha)"
   ]
  },
  {
   "cell_type": "code",
   "execution_count": 76,
   "metadata": {},
   "outputs": [
    {
     "data": {
      "text/html": [
       "<div>\n",
       "<style scoped>\n",
       "    .dataframe tbody tr th:only-of-type {\n",
       "        vertical-align: middle;\n",
       "    }\n",
       "\n",
       "    .dataframe tbody tr th {\n",
       "        vertical-align: top;\n",
       "    }\n",
       "\n",
       "    .dataframe thead th {\n",
       "        text-align: right;\n",
       "    }\n",
       "</style>\n",
       "<table border=\"1\" class=\"dataframe\">\n",
       "  <thead>\n",
       "    <tr style=\"text-align: right;\">\n",
       "      <th></th>\n",
       "      <th>payment</th>\n",
       "      <th>status</th>\n",
       "      <th>statusCorrect</th>\n",
       "      <th>items</th>\n",
       "      <th>_id</th>\n",
       "      <th>gloriaId</th>\n",
       "      <th>client</th>\n",
       "      <th>address</th>\n",
       "      <th>restaurant</th>\n",
       "      <th>total_price</th>\n",
       "      <th>...</th>\n",
       "      <th>times</th>\n",
       "      <th>__v</th>\n",
       "      <th>surveySent</th>\n",
       "      <th>group</th>\n",
       "      <th>rider</th>\n",
       "      <th>partner</th>\n",
       "      <th>createdAt</th>\n",
       "      <th>updatedAt</th>\n",
       "      <th>timestamp</th>\n",
       "      <th>fecha</th>\n",
       "    </tr>\n",
       "  </thead>\n",
       "  <tbody>\n",
       "    <tr>\n",
       "      <th>0</th>\n",
       "      <td>ONLINE</td>\n",
       "      <td>Completed</td>\n",
       "      <td>True</td>\n",
       "      <td>[{'id': 833756511, 'name': 'Sweet Home Alicant...</td>\n",
       "      <td>63b17acf88d774aa15c30b4e</td>\n",
       "      <td>623628039.0</td>\n",
       "      <td>{'name': 'Inés Lázaro Gaspar', 'email': 'inesl...</td>\n",
       "      <td>{'street': 'Calle Hernán Cortés, 19 BAJO 2, Ed...</td>\n",
       "      <td>{'_id': '640f9b4f91db3c46413352df', 'internalN...</td>\n",
       "      <td>34.6</td>\n",
       "      <td>...</td>\n",
       "      <td>[{'by': 1672575695000, 'action': 'accepted_at'...</td>\n",
       "      <td>1.0</td>\n",
       "      <td>True</td>\n",
       "      <td>NaN</td>\n",
       "      <td>NaN</td>\n",
       "      <td>NaN</td>\n",
       "      <td>NaN</td>\n",
       "      <td>NaN</td>\n",
       "      <td>1672575695000</td>\n",
       "      <td>2023-01-01 12:21:00</td>\n",
       "    </tr>\n",
       "    <tr>\n",
       "      <th>1</th>\n",
       "      <td>CASH</td>\n",
       "      <td>Completed</td>\n",
       "      <td>True</td>\n",
       "      <td>[{'id': 833758718, 'name': 'Sweet Home Alicant...</td>\n",
       "      <td>63b17d4588d774aa15c30b55</td>\n",
       "      <td>623630325.0</td>\n",
       "      <td>{'name': 'Natalia Gimeno', 'email': 'nataliagi...</td>\n",
       "      <td>{'street': 'Calle Pintor Antonio Amoros 4 , po...</td>\n",
       "      <td>{'_id': '640f9b4f91db3c46413352df', 'internalN...</td>\n",
       "      <td>17.3</td>\n",
       "      <td>...</td>\n",
       "      <td>[{'by': 1672576325000, 'action': 'accepted_at'...</td>\n",
       "      <td>1.0</td>\n",
       "      <td>True</td>\n",
       "      <td>NaN</td>\n",
       "      <td>NaN</td>\n",
       "      <td>NaN</td>\n",
       "      <td>NaN</td>\n",
       "      <td>NaN</td>\n",
       "      <td>1672576325000</td>\n",
       "      <td>2023-01-01 12:32:00</td>\n",
       "    </tr>\n",
       "    <tr>\n",
       "      <th>2</th>\n",
       "      <td>CARD</td>\n",
       "      <td>Completed</td>\n",
       "      <td>True</td>\n",
       "      <td>[{'id': 833764767, 'name': 'El honesto Mike', ...</td>\n",
       "      <td>63b185c188d774aa15c30b5c</td>\n",
       "      <td>623625424.0</td>\n",
       "      <td>{'name': 'Yolanda Amador', 'email': 'Yamadorg@...</td>\n",
       "      <td>{'street': 'Calle maestro Alonso 97A', 'city':...</td>\n",
       "      <td>{'_id': '640f9b4f91db3c46413352df', 'internalN...</td>\n",
       "      <td>50.3</td>\n",
       "      <td>...</td>\n",
       "      <td>[{'by': 1672578496000, 'action': 'accepted_at'...</td>\n",
       "      <td>1.0</td>\n",
       "      <td>True</td>\n",
       "      <td>NaN</td>\n",
       "      <td>NaN</td>\n",
       "      <td>NaN</td>\n",
       "      <td>NaN</td>\n",
       "      <td>NaN</td>\n",
       "      <td>1672578496000</td>\n",
       "      <td>2023-01-01 13:08:00</td>\n",
       "    </tr>\n",
       "    <tr>\n",
       "      <th>3</th>\n",
       "      <td>CASH</td>\n",
       "      <td>Completed</td>\n",
       "      <td>True</td>\n",
       "      <td>[{'id': 833758679, 'name': 'DELIVERY_FEE', 'to...</td>\n",
       "      <td>63b1894588d774aa15c30b63</td>\n",
       "      <td>623629679.0</td>\n",
       "      <td>{'name': 'roberto sanchez', 'email': 'arizafc@...</td>\n",
       "      <td>{'street': 'alonso cano 64 esc2  5b', 'city': ...</td>\n",
       "      <td>{'_id': '640f9b4f91db3c46413352df', 'internalN...</td>\n",
       "      <td>37.5</td>\n",
       "      <td>...</td>\n",
       "      <td>[{'by': 1672579397000, 'action': 'accepted_at'...</td>\n",
       "      <td>1.0</td>\n",
       "      <td>True</td>\n",
       "      <td>NaN</td>\n",
       "      <td>NaN</td>\n",
       "      <td>NaN</td>\n",
       "      <td>NaN</td>\n",
       "      <td>NaN</td>\n",
       "      <td>1672579397000</td>\n",
       "      <td>2023-01-01 13:23:00</td>\n",
       "    </tr>\n",
       "    <tr>\n",
       "      <th>4</th>\n",
       "      <td>CARD</td>\n",
       "      <td>Completed</td>\n",
       "      <td>True</td>\n",
       "      <td>[{'id': 833770213, 'name': 'Sweet Home Alicant...</td>\n",
       "      <td>63b18a4b88d774aa15c30b6a</td>\n",
       "      <td>623643891.0</td>\n",
       "      <td>{'name': 'Miguel Perez campaña', 'email': 'mip...</td>\n",
       "      <td>{'street': 'Castor número 32', 'city': 'Alican...</td>\n",
       "      <td>{'_id': '640f9b4f91db3c46413352df', 'internalN...</td>\n",
       "      <td>29.7</td>\n",
       "      <td>...</td>\n",
       "      <td>[{'by': 1672579659000, 'action': 'accepted_at'...</td>\n",
       "      <td>1.0</td>\n",
       "      <td>True</td>\n",
       "      <td>NaN</td>\n",
       "      <td>NaN</td>\n",
       "      <td>NaN</td>\n",
       "      <td>NaN</td>\n",
       "      <td>NaN</td>\n",
       "      <td>1672579659000</td>\n",
       "      <td>2023-01-01 13:27:00</td>\n",
       "    </tr>\n",
       "  </tbody>\n",
       "</table>\n",
       "<p>5 rows × 21 columns</p>\n",
       "</div>"
      ],
      "text/plain": [
       "  payment     status  statusCorrect  \\\n",
       "0  ONLINE  Completed           True   \n",
       "1    CASH  Completed           True   \n",
       "2    CARD  Completed           True   \n",
       "3    CASH  Completed           True   \n",
       "4    CARD  Completed           True   \n",
       "\n",
       "                                               items  \\\n",
       "0  [{'id': 833756511, 'name': 'Sweet Home Alicant...   \n",
       "1  [{'id': 833758718, 'name': 'Sweet Home Alicant...   \n",
       "2  [{'id': 833764767, 'name': 'El honesto Mike', ...   \n",
       "3  [{'id': 833758679, 'name': 'DELIVERY_FEE', 'to...   \n",
       "4  [{'id': 833770213, 'name': 'Sweet Home Alicant...   \n",
       "\n",
       "                        _id     gloriaId  \\\n",
       "0  63b17acf88d774aa15c30b4e  623628039.0   \n",
       "1  63b17d4588d774aa15c30b55  623630325.0   \n",
       "2  63b185c188d774aa15c30b5c  623625424.0   \n",
       "3  63b1894588d774aa15c30b63  623629679.0   \n",
       "4  63b18a4b88d774aa15c30b6a  623643891.0   \n",
       "\n",
       "                                              client  \\\n",
       "0  {'name': 'Inés Lázaro Gaspar', 'email': 'inesl...   \n",
       "1  {'name': 'Natalia Gimeno', 'email': 'nataliagi...   \n",
       "2  {'name': 'Yolanda Amador', 'email': 'Yamadorg@...   \n",
       "3  {'name': 'roberto sanchez', 'email': 'arizafc@...   \n",
       "4  {'name': 'Miguel Perez campaña', 'email': 'mip...   \n",
       "\n",
       "                                             address  \\\n",
       "0  {'street': 'Calle Hernán Cortés, 19 BAJO 2, Ed...   \n",
       "1  {'street': 'Calle Pintor Antonio Amoros 4 , po...   \n",
       "2  {'street': 'Calle maestro Alonso 97A', 'city':...   \n",
       "3  {'street': 'alonso cano 64 esc2  5b', 'city': ...   \n",
       "4  {'street': 'Castor número 32', 'city': 'Alican...   \n",
       "\n",
       "                                          restaurant  total_price  ...  \\\n",
       "0  {'_id': '640f9b4f91db3c46413352df', 'internalN...         34.6  ...   \n",
       "1  {'_id': '640f9b4f91db3c46413352df', 'internalN...         17.3  ...   \n",
       "2  {'_id': '640f9b4f91db3c46413352df', 'internalN...         50.3  ...   \n",
       "3  {'_id': '640f9b4f91db3c46413352df', 'internalN...         37.5  ...   \n",
       "4  {'_id': '640f9b4f91db3c46413352df', 'internalN...         29.7  ...   \n",
       "\n",
       "                                               times  __v  surveySent group  \\\n",
       "0  [{'by': 1672575695000, 'action': 'accepted_at'...  1.0        True   NaN   \n",
       "1  [{'by': 1672576325000, 'action': 'accepted_at'...  1.0        True   NaN   \n",
       "2  [{'by': 1672578496000, 'action': 'accepted_at'...  1.0        True   NaN   \n",
       "3  [{'by': 1672579397000, 'action': 'accepted_at'...  1.0        True   NaN   \n",
       "4  [{'by': 1672579659000, 'action': 'accepted_at'...  1.0        True   NaN   \n",
       "\n",
       "  rider partner createdAt updatedAt      timestamp               fecha  \n",
       "0   NaN     NaN       NaN       NaN  1672575695000 2023-01-01 12:21:00  \n",
       "1   NaN     NaN       NaN       NaN  1672576325000 2023-01-01 12:32:00  \n",
       "2   NaN     NaN       NaN       NaN  1672578496000 2023-01-01 13:08:00  \n",
       "3   NaN     NaN       NaN       NaN  1672579397000 2023-01-01 13:23:00  \n",
       "4   NaN     NaN       NaN       NaN  1672579659000 2023-01-01 13:27:00  \n",
       "\n",
       "[5 rows x 21 columns]"
      ]
     },
     "execution_count": 76,
     "metadata": {},
     "output_type": "execute_result"
    }
   ],
   "source": [
    "df.head()"
   ]
  },
  {
   "cell_type": "code",
   "execution_count": 77,
   "metadata": {},
   "outputs": [
    {
     "data": {
      "text/plain": [
       "fecha\n",
       "2023-05-22 19:34:00    2\n",
       "2023-03-16 19:41:00    2\n",
       "2023-03-31 19:32:00    2\n",
       "2023-08-24 20:06:00    2\n",
       "2023-02-08 19:48:00    2\n",
       "                      ..\n",
       "2023-03-27 18:31:00    1\n",
       "2023-03-27 12:12:00    1\n",
       "2023-03-27 11:39:00    1\n",
       "2023-03-26 20:47:00    1\n",
       "2023-10-29 20:09:00    1\n",
       "Name: count, Length: 2022, dtype: int64"
      ]
     },
     "execution_count": 77,
     "metadata": {},
     "output_type": "execute_result"
    }
   ],
   "source": [
    "df.fecha.value_counts()"
   ]
  },
  {
   "cell_type": "code",
   "execution_count": 78,
   "metadata": {},
   "outputs": [],
   "source": [
    "mapa = direcciones.copy()"
   ]
  },
  {
   "cell_type": "code",
   "execution_count": 81,
   "metadata": {},
   "outputs": [],
   "source": [
    "mapa.drop(columns=['street','city', 'zipcode'], inplace=True)"
   ]
  },
  {
   "cell_type": "code",
   "execution_count": 82,
   "metadata": {},
   "outputs": [],
   "source": [
    "mapa['timestamp'] = df.timestamp"
   ]
  },
  {
   "cell_type": "code",
   "execution_count": 84,
   "metadata": {},
   "outputs": [],
   "source": [
    "mapa = mapa[(mapa.latitude != 0)]"
   ]
  },
  {
   "cell_type": "code",
   "execution_count": 85,
   "metadata": {},
   "outputs": [
    {
     "data": {
      "text/html": [
       "<div>\n",
       "<style scoped>\n",
       "    .dataframe tbody tr th:only-of-type {\n",
       "        vertical-align: middle;\n",
       "    }\n",
       "\n",
       "    .dataframe tbody tr th {\n",
       "        vertical-align: top;\n",
       "    }\n",
       "\n",
       "    .dataframe thead th {\n",
       "        text-align: right;\n",
       "    }\n",
       "</style>\n",
       "<table border=\"1\" class=\"dataframe\">\n",
       "  <thead>\n",
       "    <tr style=\"text-align: right;\">\n",
       "      <th></th>\n",
       "      <th>latitude</th>\n",
       "      <th>longitude</th>\n",
       "      <th>timestamp</th>\n",
       "    </tr>\n",
       "  </thead>\n",
       "  <tbody>\n",
       "    <tr>\n",
       "      <th>1</th>\n",
       "      <td>38.370743482023485</td>\n",
       "      <td>-0.4713171153123774</td>\n",
       "      <td>1672576325000</td>\n",
       "    </tr>\n",
       "    <tr>\n",
       "      <th>5</th>\n",
       "      <td>38.341867211037425</td>\n",
       "      <td>-0.5048550226219284</td>\n",
       "      <td>1672580248000</td>\n",
       "    </tr>\n",
       "    <tr>\n",
       "      <th>7</th>\n",
       "      <td>38.34405130925046</td>\n",
       "      <td>-0.5069880775612319</td>\n",
       "      <td>1672581256000</td>\n",
       "    </tr>\n",
       "    <tr>\n",
       "      <th>9</th>\n",
       "      <td>38.37088349810811</td>\n",
       "      <td>-0.4566581145863968</td>\n",
       "      <td>1672599203000</td>\n",
       "    </tr>\n",
       "    <tr>\n",
       "      <th>10</th>\n",
       "      <td>38.371705925039144</td>\n",
       "      <td>-0.4746596109493284</td>\n",
       "      <td>1672604617000</td>\n",
       "    </tr>\n",
       "    <tr>\n",
       "      <th>...</th>\n",
       "      <td>...</td>\n",
       "      <td>...</td>\n",
       "      <td>...</td>\n",
       "    </tr>\n",
       "    <tr>\n",
       "      <th>2074</th>\n",
       "      <td>38.36595340269283</td>\n",
       "      <td>-0.4925815118548349</td>\n",
       "      <td>1698521948000</td>\n",
       "    </tr>\n",
       "    <tr>\n",
       "      <th>2078</th>\n",
       "      <td>38.35023694358526</td>\n",
       "      <td>-0.4897710686748358</td>\n",
       "      <td>1698586632000</td>\n",
       "    </tr>\n",
       "    <tr>\n",
       "      <th>2079</th>\n",
       "      <td>38.36461068463275</td>\n",
       "      <td>-0.4900599209627843</td>\n",
       "      <td>1698599761000</td>\n",
       "    </tr>\n",
       "    <tr>\n",
       "      <th>2080</th>\n",
       "      <td>38.33553400423126</td>\n",
       "      <td>-0.5054417022555624</td>\n",
       "      <td>1698607199000</td>\n",
       "    </tr>\n",
       "    <tr>\n",
       "      <th>2081</th>\n",
       "      <td>38.36776270000002</td>\n",
       "      <td>-0.472225635330894</td>\n",
       "      <td>1698610153000</td>\n",
       "    </tr>\n",
       "  </tbody>\n",
       "</table>\n",
       "<p>1073 rows × 3 columns</p>\n",
       "</div>"
      ],
      "text/plain": [
       "                latitude            longitude      timestamp\n",
       "1     38.370743482023485  -0.4713171153123774  1672576325000\n",
       "5     38.341867211037425  -0.5048550226219284  1672580248000\n",
       "7      38.34405130925046  -0.5069880775612319  1672581256000\n",
       "9      38.37088349810811  -0.4566581145863968  1672599203000\n",
       "10    38.371705925039144  -0.4746596109493284  1672604617000\n",
       "...                  ...                  ...            ...\n",
       "2074   38.36595340269283  -0.4925815118548349  1698521948000\n",
       "2078   38.35023694358526  -0.4897710686748358  1698586632000\n",
       "2079   38.36461068463275  -0.4900599209627843  1698599761000\n",
       "2080   38.33553400423126  -0.5054417022555624  1698607199000\n",
       "2081   38.36776270000002   -0.472225635330894  1698610153000\n",
       "\n",
       "[1073 rows x 3 columns]"
      ]
     },
     "execution_count": 85,
     "metadata": {},
     "output_type": "execute_result"
    }
   ],
   "source": [
    "mapa"
   ]
  },
  {
   "cell_type": "code",
   "execution_count": 86,
   "metadata": {},
   "outputs": [],
   "source": [
    "mapa.to_csv('../../data/mapa.csv')"
   ]
  }
 ],
 "metadata": {
  "kernelspec": {
   "display_name": "clase",
   "language": "python",
   "name": "python3"
  },
  "language_info": {
   "codemirror_mode": {
    "name": "ipython",
    "version": 3
   },
   "file_extension": ".py",
   "mimetype": "text/x-python",
   "name": "python",
   "nbconvert_exporter": "python",
   "pygments_lexer": "ipython3",
   "version": "3.10.13"
  }
 },
 "nbformat": 4,
 "nbformat_minor": 5
}
