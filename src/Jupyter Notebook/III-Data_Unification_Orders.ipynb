{
 "cells": [
  {
   "cell_type": "markdown",
   "metadata": {},
   "source": [
    "# <a id='toc1_'></a>[Data Unification - Orders](#toc0_)"
   ]
  },
  {
   "cell_type": "markdown",
   "metadata": {},
   "source": [
    "**Table of contents**<a id='toc0_'></a>    \n",
    "- [Data Unification - Orders](#toc1_)    \n",
    "  - [Import libraries and PyPower](#toc1_1_)    \n",
    "  - [Import Data](#toc1_2_)    \n",
    "  - [Data Source 1 - Otter](#toc1_3_)    \n",
    "    - [New colums](#toc1_3_1_)    \n",
    "      - ['vat'](#toc1_3_1_1_)    \n",
    "      - ['software'](#toc1_3_1_2_)    \n",
    "      - ['payment_method'](#toc1_3_1_3_)    \n",
    "      - ['driver_tip'](#toc1_3_1_4_)    \n",
    "      - ['quantity'](#toc1_3_1_5_)    \n",
    "    - [Order columns](#toc1_3_2_)    \n",
    "    - [Final DataFrame](#toc1_3_3_)    \n",
    "  - [Data Source 2 - Deliverect](#toc1_4_)    \n",
    "    - [New colums](#toc1_4_1_)    \n",
    "      - ['brand'](#toc1_4_1_1_)    \n",
    "      - ['quantity'](#toc1_4_1_2_)    \n",
    "      - ['tip'](#toc1_4_1_3_)    \n",
    "      - ['discount'](#toc1_4_1_4_)    \n",
    "      - ['order_type'](#toc1_4_1_5_)    \n",
    "      - ['delivery_timing'](#toc1_4_1_6_)    \n",
    "      - ['software'](#toc1_4_1_7_)    \n",
    "      - ['software'](#toc1_4_1_8_)    \n",
    "      - ['location'](#toc1_4_1_9_)    \n",
    "    - [Order columns](#toc1_4_2_)    \n",
    "    - [Final DataFrame](#toc1_4_3_)    \n",
    "  - [Concatenate Data Source 1: Otter and Data Source 2: Deliverect](#toc1_5_)    \n",
    "  - [Export data](#toc1_6_)    \n",
    "\n",
    "<!-- vscode-jupyter-toc-config\n",
    "\tnumbering=false\n",
    "\tanchor=true\n",
    "\tflat=false\n",
    "\tminLevel=1\n",
    "\tmaxLevel=6\n",
    "\t/vscode-jupyter-toc-config -->\n",
    "<!-- THIS CELL WILL BE REPLACED ON TOC UPDATE. DO NOT WRITE YOUR TEXT IN THIS CELL -->"
   ]
  },
  {
   "cell_type": "markdown",
   "metadata": {},
   "source": [
    "## <a id='toc1_1_'></a>[Import libraries and PyPower](#toc0_)"
   ]
  },
  {
   "cell_type": "code",
   "execution_count": 166,
   "id": "fc4e46b7",
   "metadata": {},
   "outputs": [],
   "source": [
    "import pandas as pd\n",
    "import numpy as np\n",
    "\n",
    "pd.set_option('display.max_columns', None)\n",
    "\n",
    "\n",
    "import sys\n",
    "sys.path.append('../Python')\n",
    "from  PyPower import *"
   ]
  },
  {
   "cell_type": "markdown",
   "metadata": {},
   "source": [
    "## <a id='toc1_2_'></a>[Import Data](#toc0_)"
   ]
  },
  {
   "cell_type": "code",
   "execution_count": 167,
   "id": "777c715f-95ce-4c57-aa6f-bfc48a73e546",
   "metadata": {},
   "outputs": [],
   "source": [
    "otter = pd.read_csv('../../data/2-analyzed/otter_EDA.csv')\n",
    "\n",
    "otter_item = pd.read_csv('../../data/2-analyzed/otter_item_EDA.csv')\n",
    "\n",
    "deliverect = pd.read_csv('../../data/2-analyzed/deliverect_EDA.csv')\n",
    "\n",
    "deliverect_item = pd.read_csv('../../data/2-analyzed/deliverect_item_EDA.csv')"
   ]
  },
  {
   "cell_type": "markdown",
   "metadata": {},
   "source": [
    "## <a id='toc1_3_'></a>[Data Source 1 - Otter](#toc0_)"
   ]
  },
  {
   "cell_type": "code",
   "execution_count": 168,
   "id": "40f52a10",
   "metadata": {},
   "outputs": [
    {
     "data": {
      "text/html": [
       "<div>\n",
       "<style scoped>\n",
       "    .dataframe tbody tr th:only-of-type {\n",
       "        vertical-align: middle;\n",
       "    }\n",
       "\n",
       "    .dataframe tbody tr th {\n",
       "        vertical-align: top;\n",
       "    }\n",
       "\n",
       "    .dataframe thead th {\n",
       "        text-align: right;\n",
       "    }\n",
       "</style>\n",
       "<table border=\"1\" class=\"dataframe\">\n",
       "  <thead>\n",
       "    <tr style=\"text-align: right;\">\n",
       "      <th></th>\n",
       "      <th>created_datetime</th>\n",
       "      <th>order_id_software</th>\n",
       "      <th>channel</th>\n",
       "      <th>status</th>\n",
       "      <th>brand</th>\n",
       "      <th>location</th>\n",
       "      <th>quantity</th>\n",
       "      <th>subtotal</th>\n",
       "      <th>tip</th>\n",
       "      <th>discount</th>\n",
       "      <th>total</th>\n",
       "      <th>order_type</th>\n",
       "      <th>delivery_timing</th>\n",
       "    </tr>\n",
       "  </thead>\n",
       "  <tbody>\n",
       "    <tr>\n",
       "      <th>0</th>\n",
       "      <td>31/10/2023, 23:22:36</td>\n",
       "      <td>457EE</td>\n",
       "      <td>Uber Eats</td>\n",
       "      <td>DELIVERED</td>\n",
       "      <td>Umbrella SH</td>\n",
       "      <td>Umbrella - Salamanca</td>\n",
       "      <td>2</td>\n",
       "      <td>46.0</td>\n",
       "      <td>0.0</td>\n",
       "      <td>-12.64</td>\n",
       "      <td>23.73</td>\n",
       "      <td>DELIVERY</td>\n",
       "      <td>Immediately</td>\n",
       "    </tr>\n",
       "    <tr>\n",
       "      <th>1</th>\n",
       "      <td>31/10/2023, 23:19:01</td>\n",
       "      <td>0390E</td>\n",
       "      <td>Uber Eats</td>\n",
       "      <td>DELIVERED</td>\n",
       "      <td>Umbrella SH</td>\n",
       "      <td>Umbrella - Salamanca</td>\n",
       "      <td>4</td>\n",
       "      <td>62.8</td>\n",
       "      <td>0.0</td>\n",
       "      <td>-25.27</td>\n",
       "      <td>28.16</td>\n",
       "      <td>DELIVERY</td>\n",
       "      <td>Immediately</td>\n",
       "    </tr>\n",
       "    <tr>\n",
       "      <th>2</th>\n",
       "      <td>31/10/2023, 23:15:19</td>\n",
       "      <td>EBBB9</td>\n",
       "      <td>Uber Eats</td>\n",
       "      <td>DELIVERED</td>\n",
       "      <td>Tepuy Basics</td>\n",
       "      <td>Umbrella - Goleta</td>\n",
       "      <td>3</td>\n",
       "      <td>30.6</td>\n",
       "      <td>0.0</td>\n",
       "      <td>0.00</td>\n",
       "      <td>30.60</td>\n",
       "      <td>DELIVERY</td>\n",
       "      <td>Immediately</td>\n",
       "    </tr>\n",
       "    <tr>\n",
       "      <th>3</th>\n",
       "      <td>31/10/2023, 23:14:29</td>\n",
       "      <td>58A44</td>\n",
       "      <td>Uber Eats</td>\n",
       "      <td>DELIVERED</td>\n",
       "      <td>Umbrella SH</td>\n",
       "      <td>Umbrella - Salamanca</td>\n",
       "      <td>2</td>\n",
       "      <td>45.8</td>\n",
       "      <td>0.0</td>\n",
       "      <td>-12.64</td>\n",
       "      <td>23.60</td>\n",
       "      <td>DELIVERY</td>\n",
       "      <td>Immediately</td>\n",
       "    </tr>\n",
       "    <tr>\n",
       "      <th>4</th>\n",
       "      <td>31/10/2023, 23:01:13</td>\n",
       "      <td>776960000</td>\n",
       "      <td>Gloria Foods</td>\n",
       "      <td>DELIVERED</td>\n",
       "      <td>Umbrella SH</td>\n",
       "      <td>Umbrella - Goleta</td>\n",
       "      <td>6</td>\n",
       "      <td>44.0</td>\n",
       "      <td>0.0</td>\n",
       "      <td>0.00</td>\n",
       "      <td>44.00</td>\n",
       "      <td>PICK UP</td>\n",
       "      <td>Immediately</td>\n",
       "    </tr>\n",
       "  </tbody>\n",
       "</table>\n",
       "</div>"
      ],
      "text/plain": [
       "       created_datetime order_id_software       channel     status  \\\n",
       "0  31/10/2023, 23:22:36             457EE     Uber Eats  DELIVERED   \n",
       "1  31/10/2023, 23:19:01             0390E     Uber Eats  DELIVERED   \n",
       "2  31/10/2023, 23:15:19             EBBB9     Uber Eats  DELIVERED   \n",
       "3  31/10/2023, 23:14:29             58A44     Uber Eats  DELIVERED   \n",
       "4  31/10/2023, 23:01:13         776960000  Gloria Foods  DELIVERED   \n",
       "\n",
       "          brand              location  quantity  subtotal  tip  discount  \\\n",
       "0   Umbrella SH  Umbrella - Salamanca         2      46.0  0.0    -12.64   \n",
       "1   Umbrella SH  Umbrella - Salamanca         4      62.8  0.0    -25.27   \n",
       "2  Tepuy Basics     Umbrella - Goleta         3      30.6  0.0      0.00   \n",
       "3   Umbrella SH  Umbrella - Salamanca         2      45.8  0.0    -12.64   \n",
       "4   Umbrella SH     Umbrella - Goleta         6      44.0  0.0      0.00   \n",
       "\n",
       "   total order_type delivery_timing  \n",
       "0  23.73   DELIVERY     Immediately  \n",
       "1  28.16   DELIVERY     Immediately  \n",
       "2  30.60   DELIVERY     Immediately  \n",
       "3  23.60   DELIVERY     Immediately  \n",
       "4  44.00    PICK UP     Immediately  "
      ]
     },
     "execution_count": 168,
     "metadata": {},
     "output_type": "execute_result"
    }
   ],
   "source": [
    "otter.head()"
   ]
  },
  {
   "cell_type": "code",
   "execution_count": 169,
   "id": "291e31f6",
   "metadata": {},
   "outputs": [
    {
     "name": "stdout",
     "output_type": "stream",
     "text": [
      "<class 'pandas.core.frame.DataFrame'>\n",
      "RangeIndex: 55678 entries, 0 to 55677\n",
      "Data columns (total 13 columns):\n",
      " #   Column             Non-Null Count  Dtype  \n",
      "---  ------             --------------  -----  \n",
      " 0   created_datetime   55678 non-null  object \n",
      " 1   order_id_software  55678 non-null  object \n",
      " 2   channel            55678 non-null  object \n",
      " 3   status             55678 non-null  object \n",
      " 4   brand              55678 non-null  object \n",
      " 5   location           55678 non-null  object \n",
      " 6   quantity           55678 non-null  int64  \n",
      " 7   subtotal           55678 non-null  float64\n",
      " 8   tip                55678 non-null  float64\n",
      " 9   discount           55678 non-null  float64\n",
      " 10  total              55678 non-null  float64\n",
      " 11  order_type         55678 non-null  object \n",
      " 12  delivery_timing    55678 non-null  object \n",
      "dtypes: float64(4), int64(1), object(8)\n",
      "memory usage: 5.5+ MB\n"
     ]
    }
   ],
   "source": [
    "otter.info()"
   ]
  },
  {
   "cell_type": "markdown",
   "metadata": {},
   "source": [
    "### <a id='toc1_3_1_'></a>[New colums](#toc0_)"
   ]
  },
  {
   "cell_type": "markdown",
   "metadata": {},
   "source": [
    "#### <a id='toc1_3_1_1_'></a>['vat'](#toc0_)\n",
    "Software does not provide the tax data, but we created the column to unify the information in the database."
   ]
  },
  {
   "cell_type": "code",
   "execution_count": 170,
   "id": "6bb15c92",
   "metadata": {},
   "outputs": [],
   "source": [
    "otter['vat']=0"
   ]
  },
  {
   "cell_type": "markdown",
   "metadata": {},
   "source": [
    "#### <a id='toc1_3_1_2_'></a>['software'](#toc0_)\n",
    "To identify data source"
   ]
  },
  {
   "cell_type": "code",
   "execution_count": 171,
   "id": "33520d5a",
   "metadata": {},
   "outputs": [],
   "source": [
    "otter['software'] = 'Otter'"
   ]
  },
  {
   "cell_type": "markdown",
   "metadata": {},
   "source": [
    "#### <a id='toc1_3_1_3_'></a>['payment_method'](#toc0_)\n",
    "Filled with random data proportion 95% CARD, 5% CASH"
   ]
  },
  {
   "cell_type": "code",
   "execution_count": 172,
   "id": "4e11287c",
   "metadata": {},
   "outputs": [],
   "source": [
    "otter['payment_method'] =  fill_random(otter.shape[0], 42, ['CARD', 'CASH'], [0.95, 0.05])"
   ]
  },
  {
   "cell_type": "markdown",
   "metadata": {},
   "source": [
    "#### <a id='toc1_3_1_4_'></a>['driver_tip'](#toc0_)"
   ]
  },
  {
   "cell_type": "code",
   "execution_count": 173,
   "id": "08c94060",
   "metadata": {},
   "outputs": [],
   "source": [
    "otter['driver_tip']=0"
   ]
  },
  {
   "cell_type": "markdown",
   "metadata": {},
   "source": [
    "#### <a id='toc1_3_1_5_'></a>['quantity'](#toc0_)\n",
    "Fill quantity with the sum of otter_item items as soon as their 'order_id_software' matches"
   ]
  },
  {
   "cell_type": "code",
   "execution_count": 174,
   "id": "07abb8e2",
   "metadata": {},
   "outputs": [],
   "source": [
    "merged_df = pd.merge(otter, otter_item.groupby('order_id_software')['quantity'].sum().reset_index(), on='order_id_software', how='left')\n",
    "otter['quantity'] = merged_df['quantity_x']"
   ]
  },
  {
   "cell_type": "markdown",
   "id": "a491ad0b",
   "metadata": {},
   "source": [
    "Example for verification"
   ]
  },
  {
   "cell_type": "code",
   "execution_count": 175,
   "id": "f42de8e0",
   "metadata": {},
   "outputs": [
    {
     "data": {
      "text/plain": [
       "22"
      ]
     },
     "execution_count": 175,
     "metadata": {},
     "output_type": "execute_result"
    }
   ],
   "source": [
    "otter_item[(otter_item.order_id_software == 'F1ACE')]['quantity'].sum()"
   ]
  },
  {
   "cell_type": "code",
   "execution_count": 176,
   "id": "6760eaa7",
   "metadata": {},
   "outputs": [
    {
     "data": {
      "text/plain": [
       "881    22\n",
       "Name: quantity, dtype: int64"
      ]
     },
     "execution_count": 176,
     "metadata": {},
     "output_type": "execute_result"
    }
   ],
   "source": [
    "otter[otter.order_id_software=='F1ACE']['quantity']"
   ]
  },
  {
   "cell_type": "markdown",
   "metadata": {},
   "source": [
    "### <a id='toc1_3_2_'></a>[Order columns](#toc0_)"
   ]
  },
  {
   "cell_type": "code",
   "execution_count": 177,
   "id": "ca733832",
   "metadata": {},
   "outputs": [],
   "source": [
    "otter = otter[['order_id_software', 'created_datetime', 'channel', 'status', 'brand', 'location', 'quantity', 'subtotal',\n",
    "                'tip', 'driver_tip', 'discount', 'total', 'order_type', 'delivery_timing', 'payment_method', 'vat', 'software' ]]"
   ]
  },
  {
   "cell_type": "markdown",
   "metadata": {},
   "source": [
    "### <a id='toc1_3_3_'></a>[Final DataFrame](#toc0_)"
   ]
  },
  {
   "cell_type": "code",
   "execution_count": 178,
   "id": "c55322e7",
   "metadata": {},
   "outputs": [
    {
     "data": {
      "text/html": [
       "<div>\n",
       "<style scoped>\n",
       "    .dataframe tbody tr th:only-of-type {\n",
       "        vertical-align: middle;\n",
       "    }\n",
       "\n",
       "    .dataframe tbody tr th {\n",
       "        vertical-align: top;\n",
       "    }\n",
       "\n",
       "    .dataframe thead th {\n",
       "        text-align: right;\n",
       "    }\n",
       "</style>\n",
       "<table border=\"1\" class=\"dataframe\">\n",
       "  <thead>\n",
       "    <tr style=\"text-align: right;\">\n",
       "      <th></th>\n",
       "      <th>order_id_software</th>\n",
       "      <th>created_datetime</th>\n",
       "      <th>channel</th>\n",
       "      <th>status</th>\n",
       "      <th>brand</th>\n",
       "      <th>location</th>\n",
       "      <th>quantity</th>\n",
       "      <th>subtotal</th>\n",
       "      <th>tip</th>\n",
       "      <th>driver_tip</th>\n",
       "      <th>discount</th>\n",
       "      <th>total</th>\n",
       "      <th>order_type</th>\n",
       "      <th>delivery_timing</th>\n",
       "      <th>payment_method</th>\n",
       "      <th>vat</th>\n",
       "      <th>software</th>\n",
       "    </tr>\n",
       "  </thead>\n",
       "  <tbody>\n",
       "    <tr>\n",
       "      <th>0</th>\n",
       "      <td>457EE</td>\n",
       "      <td>31/10/2023, 23:22:36</td>\n",
       "      <td>Uber Eats</td>\n",
       "      <td>DELIVERED</td>\n",
       "      <td>Umbrella SH</td>\n",
       "      <td>Umbrella - Salamanca</td>\n",
       "      <td>2</td>\n",
       "      <td>46.0</td>\n",
       "      <td>0.0</td>\n",
       "      <td>0</td>\n",
       "      <td>-12.64</td>\n",
       "      <td>23.73</td>\n",
       "      <td>DELIVERY</td>\n",
       "      <td>Immediately</td>\n",
       "      <td>CARD</td>\n",
       "      <td>0</td>\n",
       "      <td>Otter</td>\n",
       "    </tr>\n",
       "    <tr>\n",
       "      <th>1</th>\n",
       "      <td>0390E</td>\n",
       "      <td>31/10/2023, 23:19:01</td>\n",
       "      <td>Uber Eats</td>\n",
       "      <td>DELIVERED</td>\n",
       "      <td>Umbrella SH</td>\n",
       "      <td>Umbrella - Salamanca</td>\n",
       "      <td>4</td>\n",
       "      <td>62.8</td>\n",
       "      <td>0.0</td>\n",
       "      <td>0</td>\n",
       "      <td>-25.27</td>\n",
       "      <td>28.16</td>\n",
       "      <td>DELIVERY</td>\n",
       "      <td>Immediately</td>\n",
       "      <td>CASH</td>\n",
       "      <td>0</td>\n",
       "      <td>Otter</td>\n",
       "    </tr>\n",
       "    <tr>\n",
       "      <th>2</th>\n",
       "      <td>EBBB9</td>\n",
       "      <td>31/10/2023, 23:15:19</td>\n",
       "      <td>Uber Eats</td>\n",
       "      <td>DELIVERED</td>\n",
       "      <td>Tepuy Basics</td>\n",
       "      <td>Umbrella - Goleta</td>\n",
       "      <td>3</td>\n",
       "      <td>30.6</td>\n",
       "      <td>0.0</td>\n",
       "      <td>0</td>\n",
       "      <td>0.00</td>\n",
       "      <td>30.60</td>\n",
       "      <td>DELIVERY</td>\n",
       "      <td>Immediately</td>\n",
       "      <td>CARD</td>\n",
       "      <td>0</td>\n",
       "      <td>Otter</td>\n",
       "    </tr>\n",
       "    <tr>\n",
       "      <th>3</th>\n",
       "      <td>58A44</td>\n",
       "      <td>31/10/2023, 23:14:29</td>\n",
       "      <td>Uber Eats</td>\n",
       "      <td>DELIVERED</td>\n",
       "      <td>Umbrella SH</td>\n",
       "      <td>Umbrella - Salamanca</td>\n",
       "      <td>2</td>\n",
       "      <td>45.8</td>\n",
       "      <td>0.0</td>\n",
       "      <td>0</td>\n",
       "      <td>-12.64</td>\n",
       "      <td>23.60</td>\n",
       "      <td>DELIVERY</td>\n",
       "      <td>Immediately</td>\n",
       "      <td>CARD</td>\n",
       "      <td>0</td>\n",
       "      <td>Otter</td>\n",
       "    </tr>\n",
       "    <tr>\n",
       "      <th>4</th>\n",
       "      <td>776960000</td>\n",
       "      <td>31/10/2023, 23:01:13</td>\n",
       "      <td>Gloria Foods</td>\n",
       "      <td>DELIVERED</td>\n",
       "      <td>Umbrella SH</td>\n",
       "      <td>Umbrella - Goleta</td>\n",
       "      <td>6</td>\n",
       "      <td>44.0</td>\n",
       "      <td>0.0</td>\n",
       "      <td>0</td>\n",
       "      <td>0.00</td>\n",
       "      <td>44.00</td>\n",
       "      <td>PICK UP</td>\n",
       "      <td>Immediately</td>\n",
       "      <td>CARD</td>\n",
       "      <td>0</td>\n",
       "      <td>Otter</td>\n",
       "    </tr>\n",
       "  </tbody>\n",
       "</table>\n",
       "</div>"
      ],
      "text/plain": [
       "  order_id_software      created_datetime       channel     status  \\\n",
       "0             457EE  31/10/2023, 23:22:36     Uber Eats  DELIVERED   \n",
       "1             0390E  31/10/2023, 23:19:01     Uber Eats  DELIVERED   \n",
       "2             EBBB9  31/10/2023, 23:15:19     Uber Eats  DELIVERED   \n",
       "3             58A44  31/10/2023, 23:14:29     Uber Eats  DELIVERED   \n",
       "4         776960000  31/10/2023, 23:01:13  Gloria Foods  DELIVERED   \n",
       "\n",
       "          brand              location  quantity  subtotal  tip  driver_tip  \\\n",
       "0   Umbrella SH  Umbrella - Salamanca         2      46.0  0.0           0   \n",
       "1   Umbrella SH  Umbrella - Salamanca         4      62.8  0.0           0   \n",
       "2  Tepuy Basics     Umbrella - Goleta         3      30.6  0.0           0   \n",
       "3   Umbrella SH  Umbrella - Salamanca         2      45.8  0.0           0   \n",
       "4   Umbrella SH     Umbrella - Goleta         6      44.0  0.0           0   \n",
       "\n",
       "   discount  total order_type delivery_timing payment_method  vat software  \n",
       "0    -12.64  23.73   DELIVERY     Immediately           CARD    0    Otter  \n",
       "1    -25.27  28.16   DELIVERY     Immediately           CASH    0    Otter  \n",
       "2      0.00  30.60   DELIVERY     Immediately           CARD    0    Otter  \n",
       "3    -12.64  23.60   DELIVERY     Immediately           CARD    0    Otter  \n",
       "4      0.00  44.00    PICK UP     Immediately           CARD    0    Otter  "
      ]
     },
     "execution_count": 178,
     "metadata": {},
     "output_type": "execute_result"
    }
   ],
   "source": [
    "otter.head()"
   ]
  },
  {
   "cell_type": "markdown",
   "metadata": {},
   "source": [
    "## <a id='toc1_4_'></a>[Data Source 2 - Deliverect](#toc0_)"
   ]
  },
  {
   "cell_type": "code",
   "execution_count": 179,
   "id": "d8fe2e7b",
   "metadata": {},
   "outputs": [
    {
     "data": {
      "text/html": [
       "<div>\n",
       "<style scoped>\n",
       "    .dataframe tbody tr th:only-of-type {\n",
       "        vertical-align: middle;\n",
       "    }\n",
       "\n",
       "    .dataframe tbody tr th {\n",
       "        vertical-align: top;\n",
       "    }\n",
       "\n",
       "    .dataframe thead th {\n",
       "        text-align: right;\n",
       "    }\n",
       "</style>\n",
       "<table border=\"1\" class=\"dataframe\">\n",
       "  <thead>\n",
       "    <tr style=\"text-align: right;\">\n",
       "      <th></th>\n",
       "      <th>created_datetime</th>\n",
       "      <th>location</th>\n",
       "      <th>order_id_software</th>\n",
       "      <th>channel</th>\n",
       "      <th>status</th>\n",
       "      <th>payment_method</th>\n",
       "      <th>total</th>\n",
       "      <th>subtotal</th>\n",
       "      <th>vat</th>\n",
       "    </tr>\n",
       "  </thead>\n",
       "  <tbody>\n",
       "    <tr>\n",
       "      <th>0</th>\n",
       "      <td>2023-04-30 19:56:04</td>\n",
       "      <td>Alicante - Periodista Rodolfo Salazar</td>\n",
       "      <td>128399797</td>\n",
       "      <td>Just Eat</td>\n",
       "      <td>DELIVERED</td>\n",
       "      <td>CARD</td>\n",
       "      <td>35.09</td>\n",
       "      <td>33.1</td>\n",
       "      <td>3.01</td>\n",
       "    </tr>\n",
       "    <tr>\n",
       "      <th>1</th>\n",
       "      <td>2023-04-30 12:51:20</td>\n",
       "      <td>Alicante - Periodista Rodolfo Salazar</td>\n",
       "      <td>128359424</td>\n",
       "      <td>Just Eat</td>\n",
       "      <td>DELIVERED</td>\n",
       "      <td>CARD</td>\n",
       "      <td>27.29</td>\n",
       "      <td>25.3</td>\n",
       "      <td>2.30</td>\n",
       "    </tr>\n",
       "    <tr>\n",
       "      <th>2</th>\n",
       "      <td>2023-04-29 21:25:39</td>\n",
       "      <td>Alicante - Periodista Rodolfo Salazar</td>\n",
       "      <td>128335005</td>\n",
       "      <td>Just Eat</td>\n",
       "      <td>DELIVERED</td>\n",
       "      <td>CARD</td>\n",
       "      <td>41.19</td>\n",
       "      <td>39.2</td>\n",
       "      <td>3.57</td>\n",
       "    </tr>\n",
       "    <tr>\n",
       "      <th>3</th>\n",
       "      <td>2023-04-29 20:49:51</td>\n",
       "      <td>Alicante - Periodista Rodolfo Salazar</td>\n",
       "      <td>128328474</td>\n",
       "      <td>Just Eat</td>\n",
       "      <td>DELIVERED</td>\n",
       "      <td>CARD</td>\n",
       "      <td>63.69</td>\n",
       "      <td>61.7</td>\n",
       "      <td>5.62</td>\n",
       "    </tr>\n",
       "    <tr>\n",
       "      <th>4</th>\n",
       "      <td>2023-04-29 13:16:34</td>\n",
       "      <td>Alicante - Periodista Rodolfo Salazar</td>\n",
       "      <td>128288843</td>\n",
       "      <td>Just Eat</td>\n",
       "      <td>DELIVERED</td>\n",
       "      <td>CARD</td>\n",
       "      <td>67.99</td>\n",
       "      <td>66.0</td>\n",
       "      <td>5.99</td>\n",
       "    </tr>\n",
       "  </tbody>\n",
       "</table>\n",
       "</div>"
      ],
      "text/plain": [
       "      created_datetime                               location  \\\n",
       "0  2023-04-30 19:56:04  Alicante - Periodista Rodolfo Salazar   \n",
       "1  2023-04-30 12:51:20  Alicante - Periodista Rodolfo Salazar   \n",
       "2  2023-04-29 21:25:39  Alicante - Periodista Rodolfo Salazar   \n",
       "3  2023-04-29 20:49:51  Alicante - Periodista Rodolfo Salazar   \n",
       "4  2023-04-29 13:16:34  Alicante - Periodista Rodolfo Salazar   \n",
       "\n",
       "   order_id_software   channel     status payment_method  total  subtotal  \\\n",
       "0          128399797  Just Eat  DELIVERED           CARD  35.09      33.1   \n",
       "1          128359424  Just Eat  DELIVERED           CARD  27.29      25.3   \n",
       "2          128335005  Just Eat  DELIVERED           CARD  41.19      39.2   \n",
       "3          128328474  Just Eat  DELIVERED           CARD  63.69      61.7   \n",
       "4          128288843  Just Eat  DELIVERED           CARD  67.99      66.0   \n",
       "\n",
       "    vat  \n",
       "0  3.01  \n",
       "1  2.30  \n",
       "2  3.57  \n",
       "3  5.62  \n",
       "4  5.99  "
      ]
     },
     "execution_count": 179,
     "metadata": {},
     "output_type": "execute_result"
    }
   ],
   "source": [
    "deliverect.head()"
   ]
  },
  {
   "cell_type": "code",
   "execution_count": 180,
   "id": "a41a69fd",
   "metadata": {},
   "outputs": [
    {
     "name": "stdout",
     "output_type": "stream",
     "text": [
      "<class 'pandas.core.frame.DataFrame'>\n",
      "RangeIndex: 595 entries, 0 to 594\n",
      "Data columns (total 9 columns):\n",
      " #   Column             Non-Null Count  Dtype  \n",
      "---  ------             --------------  -----  \n",
      " 0   created_datetime   595 non-null    object \n",
      " 1   location           595 non-null    object \n",
      " 2   order_id_software  595 non-null    int64  \n",
      " 3   channel            595 non-null    object \n",
      " 4   status             595 non-null    object \n",
      " 5   payment_method     595 non-null    object \n",
      " 6   total              595 non-null    float64\n",
      " 7   subtotal           595 non-null    float64\n",
      " 8   vat                595 non-null    float64\n",
      "dtypes: float64(3), int64(1), object(5)\n",
      "memory usage: 42.0+ KB\n"
     ]
    }
   ],
   "source": [
    "deliverect.info()"
   ]
  },
  {
   "cell_type": "markdown",
   "metadata": {},
   "source": [
    "### <a id='toc1_4_1_'></a>[New colums](#toc0_)"
   ]
  },
  {
   "cell_type": "markdown",
   "metadata": {},
   "source": [
    "#### <a id='toc1_4_1_1_'></a>['brand'](#toc0_)"
   ]
  },
  {
   "cell_type": "code",
   "execution_count": 181,
   "id": "dbb076b0",
   "metadata": {},
   "outputs": [],
   "source": [
    "deliverect['brand'] = 'Tepuy Burger'"
   ]
  },
  {
   "cell_type": "markdown",
   "metadata": {},
   "source": [
    "#### <a id='toc1_4_1_2_'></a>['quantity'](#toc0_)"
   ]
  },
  {
   "cell_type": "markdown",
   "id": "ea2cfca0",
   "metadata": {},
   "source": [
    "For this column we need to deliverect items, so we can apply a summation "
   ]
  },
  {
   "cell_type": "code",
   "execution_count": 182,
   "id": "84139c23",
   "metadata": {},
   "outputs": [
    {
     "name": "stdout",
     "output_type": "stream",
     "text": [
      "<class 'pandas.core.frame.DataFrame'>\n",
      "RangeIndex: 595 entries, 0 to 594\n",
      "Data columns (total 10 columns):\n",
      " #   Column             Non-Null Count  Dtype  \n",
      "---  ------             --------------  -----  \n",
      " 0   created_datetime   595 non-null    object \n",
      " 1   location           595 non-null    object \n",
      " 2   order_id_software  595 non-null    int64  \n",
      " 3   channel            595 non-null    object \n",
      " 4   status             595 non-null    object \n",
      " 5   payment_method     595 non-null    object \n",
      " 6   total              595 non-null    float64\n",
      " 7   subtotal           595 non-null    float64\n",
      " 8   vat                595 non-null    float64\n",
      " 9   brand              595 non-null    object \n",
      "dtypes: float64(3), int64(1), object(6)\n",
      "memory usage: 46.6+ KB\n"
     ]
    }
   ],
   "source": [
    "deliverect.info()"
   ]
  },
  {
   "cell_type": "code",
   "execution_count": 183,
   "id": "a4b07ac5",
   "metadata": {},
   "outputs": [],
   "source": [
    "merged_df = pd.merge(deliverect, deliverect_item.groupby('order_id_software')['quantity'].sum().reset_index(), on='order_id_software', how='left')\n",
    "deliverect['quantity'] = merged_df['quantity']"
   ]
  },
  {
   "cell_type": "code",
   "execution_count": null,
   "id": "4d93c661",
   "metadata": {},
   "outputs": [],
   "source": [
    "#Change order_id_software type (df, column, type_from, type_to):\n",
    "\n",
    "deliverect = change_type(deliverect, 'order_id_software', 'int64', 'object')"
   ]
  },
  {
   "cell_type": "markdown",
   "id": "e3a52b24",
   "metadata": {},
   "source": [
    "Example for verification"
   ]
  },
  {
   "cell_type": "code",
   "execution_count": 185,
   "id": "5a24d4dc",
   "metadata": {},
   "outputs": [
    {
     "data": {
      "text/html": [
       "<div>\n",
       "<style scoped>\n",
       "    .dataframe tbody tr th:only-of-type {\n",
       "        vertical-align: middle;\n",
       "    }\n",
       "\n",
       "    .dataframe tbody tr th {\n",
       "        vertical-align: top;\n",
       "    }\n",
       "\n",
       "    .dataframe thead th {\n",
       "        text-align: right;\n",
       "    }\n",
       "</style>\n",
       "<table border=\"1\" class=\"dataframe\">\n",
       "  <thead>\n",
       "    <tr style=\"text-align: right;\">\n",
       "      <th></th>\n",
       "      <th>order_id_software</th>\n",
       "      <th>item</th>\n",
       "      <th>price</th>\n",
       "      <th>quantity</th>\n",
       "    </tr>\n",
       "  </thead>\n",
       "  <tbody>\n",
       "    <tr>\n",
       "      <th>1440</th>\n",
       "      <td>130370486</td>\n",
       "      <td>Tequeños</td>\n",
       "      <td>990</td>\n",
       "      <td>1</td>\n",
       "    </tr>\n",
       "    <tr>\n",
       "      <th>1441</th>\n",
       "      <td>130370486</td>\n",
       "      <td>Cheesebacon</td>\n",
       "      <td>1250</td>\n",
       "      <td>1</td>\n",
       "    </tr>\n",
       "    <tr>\n",
       "      <th>1442</th>\n",
       "      <td>130370486</td>\n",
       "      <td>Mixto de patatas y boniato</td>\n",
       "      <td>150</td>\n",
       "      <td>1</td>\n",
       "    </tr>\n",
       "    <tr>\n",
       "      <th>1443</th>\n",
       "      <td>130370486</td>\n",
       "      <td>Una más de ternera gallega</td>\n",
       "      <td>250</td>\n",
       "      <td>1</td>\n",
       "    </tr>\n",
       "    <tr>\n",
       "      <th>1444</th>\n",
       "      <td>130370486</td>\n",
       "      <td>Huevo Frito</td>\n",
       "      <td>100</td>\n",
       "      <td>1</td>\n",
       "    </tr>\n",
       "  </tbody>\n",
       "</table>\n",
       "</div>"
      ],
      "text/plain": [
       "      order_id_software                        item  price  quantity\n",
       "1440          130370486                    Tequeños    990         1\n",
       "1441          130370486                 Cheesebacon   1250         1\n",
       "1442          130370486  Mixto de patatas y boniato    150         1\n",
       "1443          130370486  Una más de ternera gallega    250         1\n",
       "1444          130370486                 Huevo Frito    100         1"
      ]
     },
     "execution_count": 185,
     "metadata": {},
     "output_type": "execute_result"
    }
   ],
   "source": [
    "deliverect_item[deliverect_item.order_id_software == 130370486]"
   ]
  },
  {
   "cell_type": "code",
   "execution_count": 186,
   "id": "b3a732ae",
   "metadata": {},
   "outputs": [
    {
     "data": {
      "text/html": [
       "<div>\n",
       "<style scoped>\n",
       "    .dataframe tbody tr th:only-of-type {\n",
       "        vertical-align: middle;\n",
       "    }\n",
       "\n",
       "    .dataframe tbody tr th {\n",
       "        vertical-align: top;\n",
       "    }\n",
       "\n",
       "    .dataframe thead th {\n",
       "        text-align: right;\n",
       "    }\n",
       "</style>\n",
       "<table border=\"1\" class=\"dataframe\">\n",
       "  <thead>\n",
       "    <tr style=\"text-align: right;\">\n",
       "      <th></th>\n",
       "      <th>created_datetime</th>\n",
       "      <th>location</th>\n",
       "      <th>order_id_software</th>\n",
       "      <th>channel</th>\n",
       "      <th>status</th>\n",
       "      <th>payment_method</th>\n",
       "      <th>total</th>\n",
       "      <th>subtotal</th>\n",
       "      <th>vat</th>\n",
       "      <th>brand</th>\n",
       "      <th>quantity</th>\n",
       "    </tr>\n",
       "  </thead>\n",
       "  <tbody>\n",
       "    <tr>\n",
       "      <th>392</th>\n",
       "      <td>2023-06-02 19:28:15</td>\n",
       "      <td>Alicante - Periodista Rodolfo Salazar</td>\n",
       "      <td>130370486</td>\n",
       "      <td>Just Eat</td>\n",
       "      <td>DELIVERED</td>\n",
       "      <td>CARD</td>\n",
       "      <td>29.39</td>\n",
       "      <td>27.4</td>\n",
       "      <td>2.5</td>\n",
       "      <td>Tepuy Burger</td>\n",
       "      <td>5.0</td>\n",
       "    </tr>\n",
       "  </tbody>\n",
       "</table>\n",
       "</div>"
      ],
      "text/plain": [
       "        created_datetime                               location  \\\n",
       "392  2023-06-02 19:28:15  Alicante - Periodista Rodolfo Salazar   \n",
       "\n",
       "    order_id_software   channel     status payment_method  total  subtotal  \\\n",
       "392         130370486  Just Eat  DELIVERED           CARD  29.39      27.4   \n",
       "\n",
       "     vat         brand  quantity  \n",
       "392  2.5  Tepuy Burger       5.0  "
      ]
     },
     "execution_count": 186,
     "metadata": {},
     "output_type": "execute_result"
    }
   ],
   "source": [
    "deliverect[deliverect.order_id_software ==130370486]"
   ]
  },
  {
   "cell_type": "markdown",
   "metadata": {},
   "source": [
    "#### <a id='toc1_4_1_3_'></a>['tip'](#toc0_)"
   ]
  },
  {
   "cell_type": "code",
   "execution_count": 187,
   "id": "891b7a79",
   "metadata": {},
   "outputs": [],
   "source": [
    "deliverect['tip'] = 0"
   ]
  },
  {
   "cell_type": "markdown",
   "metadata": {},
   "source": [
    "#### <a id='toc1_4_1_4_'></a>['discount'](#toc0_)"
   ]
  },
  {
   "cell_type": "code",
   "execution_count": 188,
   "id": "f97f78ca",
   "metadata": {},
   "outputs": [],
   "source": [
    "deliverect['discount'] = 0"
   ]
  },
  {
   "cell_type": "markdown",
   "metadata": {},
   "source": [
    "#### <a id='toc1_4_1_5_'></a>['order_type'](#toc0_)"
   ]
  },
  {
   "cell_type": "code",
   "execution_count": 189,
   "id": "0c51b529",
   "metadata": {},
   "outputs": [],
   "source": [
    "deliverect['order_type'] = 'DELIVERY'"
   ]
  },
  {
   "cell_type": "markdown",
   "metadata": {},
   "source": [
    "#### <a id='toc1_4_1_6_'></a>['delivery_timing'](#toc0_)"
   ]
  },
  {
   "cell_type": "code",
   "execution_count": 190,
   "id": "cdcb0344",
   "metadata": {},
   "outputs": [],
   "source": [
    "deliverect['delivery_timing'] = 'Immediately'"
   ]
  },
  {
   "cell_type": "markdown",
   "metadata": {},
   "source": [
    "#### <a id='toc1_4_1_7_'></a>['software'](#toc0_)"
   ]
  },
  {
   "cell_type": "code",
   "execution_count": 191,
   "id": "6eb032b9",
   "metadata": {},
   "outputs": [],
   "source": [
    "deliverect['software'] = 'Deliverect'"
   ]
  },
  {
   "cell_type": "markdown",
   "metadata": {},
   "source": [
    "#### <a id='toc1_4_1_8_'></a>['software'](#toc0_)"
   ]
  },
  {
   "cell_type": "code",
   "execution_count": 192,
   "id": "e1f73556",
   "metadata": {},
   "outputs": [],
   "source": [
    "deliverect['driver_tip'] = 0"
   ]
  },
  {
   "cell_type": "markdown",
   "metadata": {},
   "source": [
    "#### <a id='toc1_4_1_9_'></a>['location'](#toc0_)"
   ]
  },
  {
   "cell_type": "code",
   "execution_count": 193,
   "id": "269b3c84",
   "metadata": {},
   "outputs": [
    {
     "data": {
      "text/plain": [
       "location\n",
       "Alicante - Periodista Rodolfo Salazar    549\n",
       "Alicante - Bazan                          46\n",
       "Name: count, dtype: int64"
      ]
     },
     "execution_count": 193,
     "metadata": {},
     "output_type": "execute_result"
    }
   ],
   "source": [
    "deliverect.location.value_counts()"
   ]
  },
  {
   "cell_type": "code",
   "execution_count": 194,
   "id": "e4a67363",
   "metadata": {},
   "outputs": [],
   "source": [
    "deliverect.location = deliverect.location.apply(replace_to,  change='Alicante - Bazan', change_to='Tepuy Burger - Calle Bazan')\n",
    "deliverect.location = deliverect.location.apply(replace_to,  change='Alicante - Periodista Rodolfo Salazar', change_to='Tepuy Burger - Rodolfo Salazar')"
   ]
  },
  {
   "cell_type": "markdown",
   "metadata": {},
   "source": [
    "### <a id='toc1_4_2_'></a>[Order columns](#toc0_)"
   ]
  },
  {
   "cell_type": "code",
   "execution_count": 195,
   "id": "41bc96f6",
   "metadata": {},
   "outputs": [],
   "source": [
    "deliverect = deliverect[['order_id_software', 'created_datetime', 'channel', 'status', 'brand', 'location', 'quantity', 'subtotal',\n",
    "                'tip', 'driver_tip', 'discount', 'total', 'order_type', 'delivery_timing', 'payment_method', 'vat', 'software' ]]"
   ]
  },
  {
   "cell_type": "markdown",
   "metadata": {},
   "source": [
    "### <a id='toc1_4_3_'></a>[Final DataFrame](#toc0_)"
   ]
  },
  {
   "cell_type": "code",
   "execution_count": 196,
   "id": "74e9e513",
   "metadata": {},
   "outputs": [
    {
     "data": {
      "text/html": [
       "<div>\n",
       "<style scoped>\n",
       "    .dataframe tbody tr th:only-of-type {\n",
       "        vertical-align: middle;\n",
       "    }\n",
       "\n",
       "    .dataframe tbody tr th {\n",
       "        vertical-align: top;\n",
       "    }\n",
       "\n",
       "    .dataframe thead th {\n",
       "        text-align: right;\n",
       "    }\n",
       "</style>\n",
       "<table border=\"1\" class=\"dataframe\">\n",
       "  <thead>\n",
       "    <tr style=\"text-align: right;\">\n",
       "      <th></th>\n",
       "      <th>order_id_software</th>\n",
       "      <th>created_datetime</th>\n",
       "      <th>channel</th>\n",
       "      <th>status</th>\n",
       "      <th>brand</th>\n",
       "      <th>location</th>\n",
       "      <th>quantity</th>\n",
       "      <th>subtotal</th>\n",
       "      <th>tip</th>\n",
       "      <th>driver_tip</th>\n",
       "      <th>discount</th>\n",
       "      <th>total</th>\n",
       "      <th>order_type</th>\n",
       "      <th>delivery_timing</th>\n",
       "      <th>payment_method</th>\n",
       "      <th>vat</th>\n",
       "      <th>software</th>\n",
       "    </tr>\n",
       "  </thead>\n",
       "  <tbody>\n",
       "    <tr>\n",
       "      <th>0</th>\n",
       "      <td>128399797</td>\n",
       "      <td>2023-04-30 19:56:04</td>\n",
       "      <td>Just Eat</td>\n",
       "      <td>DELIVERED</td>\n",
       "      <td>Tepuy Burger</td>\n",
       "      <td>Tepuy Burger - Rodolfo Salazar</td>\n",
       "      <td>5.0</td>\n",
       "      <td>33.1</td>\n",
       "      <td>0</td>\n",
       "      <td>0</td>\n",
       "      <td>0</td>\n",
       "      <td>35.09</td>\n",
       "      <td>DELIVERY</td>\n",
       "      <td>Immediately</td>\n",
       "      <td>CARD</td>\n",
       "      <td>3.01</td>\n",
       "      <td>Deliverect</td>\n",
       "    </tr>\n",
       "    <tr>\n",
       "      <th>1</th>\n",
       "      <td>128359424</td>\n",
       "      <td>2023-04-30 12:51:20</td>\n",
       "      <td>Just Eat</td>\n",
       "      <td>DELIVERED</td>\n",
       "      <td>Tepuy Burger</td>\n",
       "      <td>Tepuy Burger - Rodolfo Salazar</td>\n",
       "      <td>3.0</td>\n",
       "      <td>25.3</td>\n",
       "      <td>0</td>\n",
       "      <td>0</td>\n",
       "      <td>0</td>\n",
       "      <td>27.29</td>\n",
       "      <td>DELIVERY</td>\n",
       "      <td>Immediately</td>\n",
       "      <td>CARD</td>\n",
       "      <td>2.30</td>\n",
       "      <td>Deliverect</td>\n",
       "    </tr>\n",
       "    <tr>\n",
       "      <th>2</th>\n",
       "      <td>128335005</td>\n",
       "      <td>2023-04-29 21:25:39</td>\n",
       "      <td>Just Eat</td>\n",
       "      <td>DELIVERED</td>\n",
       "      <td>Tepuy Burger</td>\n",
       "      <td>Tepuy Burger - Rodolfo Salazar</td>\n",
       "      <td>8.0</td>\n",
       "      <td>39.2</td>\n",
       "      <td>0</td>\n",
       "      <td>0</td>\n",
       "      <td>0</td>\n",
       "      <td>41.19</td>\n",
       "      <td>DELIVERY</td>\n",
       "      <td>Immediately</td>\n",
       "      <td>CARD</td>\n",
       "      <td>3.57</td>\n",
       "      <td>Deliverect</td>\n",
       "    </tr>\n",
       "    <tr>\n",
       "      <th>3</th>\n",
       "      <td>128328474</td>\n",
       "      <td>2023-04-29 20:49:51</td>\n",
       "      <td>Just Eat</td>\n",
       "      <td>DELIVERED</td>\n",
       "      <td>Tepuy Burger</td>\n",
       "      <td>Tepuy Burger - Rodolfo Salazar</td>\n",
       "      <td>9.0</td>\n",
       "      <td>61.7</td>\n",
       "      <td>0</td>\n",
       "      <td>0</td>\n",
       "      <td>0</td>\n",
       "      <td>63.69</td>\n",
       "      <td>DELIVERY</td>\n",
       "      <td>Immediately</td>\n",
       "      <td>CARD</td>\n",
       "      <td>5.62</td>\n",
       "      <td>Deliverect</td>\n",
       "    </tr>\n",
       "    <tr>\n",
       "      <th>4</th>\n",
       "      <td>128288843</td>\n",
       "      <td>2023-04-29 13:16:34</td>\n",
       "      <td>Just Eat</td>\n",
       "      <td>DELIVERED</td>\n",
       "      <td>Tepuy Burger</td>\n",
       "      <td>Tepuy Burger - Rodolfo Salazar</td>\n",
       "      <td>7.0</td>\n",
       "      <td>66.0</td>\n",
       "      <td>0</td>\n",
       "      <td>0</td>\n",
       "      <td>0</td>\n",
       "      <td>67.99</td>\n",
       "      <td>DELIVERY</td>\n",
       "      <td>Immediately</td>\n",
       "      <td>CARD</td>\n",
       "      <td>5.99</td>\n",
       "      <td>Deliverect</td>\n",
       "    </tr>\n",
       "  </tbody>\n",
       "</table>\n",
       "</div>"
      ],
      "text/plain": [
       "  order_id_software     created_datetime   channel     status         brand  \\\n",
       "0         128399797  2023-04-30 19:56:04  Just Eat  DELIVERED  Tepuy Burger   \n",
       "1         128359424  2023-04-30 12:51:20  Just Eat  DELIVERED  Tepuy Burger   \n",
       "2         128335005  2023-04-29 21:25:39  Just Eat  DELIVERED  Tepuy Burger   \n",
       "3         128328474  2023-04-29 20:49:51  Just Eat  DELIVERED  Tepuy Burger   \n",
       "4         128288843  2023-04-29 13:16:34  Just Eat  DELIVERED  Tepuy Burger   \n",
       "\n",
       "                         location  quantity  subtotal  tip  driver_tip  \\\n",
       "0  Tepuy Burger - Rodolfo Salazar       5.0      33.1    0           0   \n",
       "1  Tepuy Burger - Rodolfo Salazar       3.0      25.3    0           0   \n",
       "2  Tepuy Burger - Rodolfo Salazar       8.0      39.2    0           0   \n",
       "3  Tepuy Burger - Rodolfo Salazar       9.0      61.7    0           0   \n",
       "4  Tepuy Burger - Rodolfo Salazar       7.0      66.0    0           0   \n",
       "\n",
       "   discount  total order_type delivery_timing payment_method   vat    software  \n",
       "0         0  35.09   DELIVERY     Immediately           CARD  3.01  Deliverect  \n",
       "1         0  27.29   DELIVERY     Immediately           CARD  2.30  Deliverect  \n",
       "2         0  41.19   DELIVERY     Immediately           CARD  3.57  Deliverect  \n",
       "3         0  63.69   DELIVERY     Immediately           CARD  5.62  Deliverect  \n",
       "4         0  67.99   DELIVERY     Immediately           CARD  5.99  Deliverect  "
      ]
     },
     "execution_count": 196,
     "metadata": {},
     "output_type": "execute_result"
    }
   ],
   "source": [
    "deliverect.head()"
   ]
  },
  {
   "cell_type": "markdown",
   "metadata": {},
   "source": [
    "## <a id='toc1_5_'></a>[Concatenate Data Source 1: Otter and Data Source 2: Deliverect](#toc0_)"
   ]
  },
  {
   "cell_type": "code",
   "execution_count": 197,
   "id": "b23b2bcc",
   "metadata": {},
   "outputs": [
    {
     "name": "stdout",
     "output_type": "stream",
     "text": [
      "Otter rows:  55678  Deliverect rows: 595 Suma: 56273\n"
     ]
    }
   ],
   "source": [
    "print('Otter rows: ', otter.shape[0], ' Deliverect rows:', deliverect.shape[0], 'Suma:' , otter.shape[0]+deliverect.shape[0])"
   ]
  },
  {
   "cell_type": "code",
   "execution_count": 198,
   "id": "333b5af9",
   "metadata": {},
   "outputs": [
    {
     "data": {
      "text/plain": [
       "(56273, 17)"
      ]
     },
     "execution_count": 198,
     "metadata": {},
     "output_type": "execute_result"
    }
   ],
   "source": [
    "all = pd.concat([otter, deliverect])\n",
    "\n",
    "all.shape"
   ]
  },
  {
   "cell_type": "markdown",
   "metadata": {},
   "source": [
    "## <a id='toc1_6_'></a>[Export data](#toc0_)"
   ]
  },
  {
   "cell_type": "code",
   "execution_count": 199,
   "id": "ea0ee168",
   "metadata": {},
   "outputs": [],
   "source": [
    "all.to_csv('../../data/3-processed/all_orders.csv',  index=False)"
   ]
  }
 ],
 "metadata": {
  "kernelspec": {
   "display_name": "Python 3 (ipykernel)",
   "language": "python",
   "name": "python3"
  },
  "language_info": {
   "codemirror_mode": {
    "name": "ipython",
    "version": 3
   },
   "file_extension": ".py",
   "mimetype": "text/x-python",
   "name": "python",
   "nbconvert_exporter": "python",
   "pygments_lexer": "ipython3",
   "version": "3.10.13"
  }
 },
 "nbformat": 4,
 "nbformat_minor": 5
}
