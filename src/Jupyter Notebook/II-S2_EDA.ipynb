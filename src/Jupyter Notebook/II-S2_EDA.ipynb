{
 "cells": [
  {
   "cell_type": "markdown",
   "metadata": {},
   "source": [
    "# <a id='toc1_'></a>[Data Source 2 -  Deliverect - EDA](#toc0_)"
   ]
  },
  {
   "cell_type": "markdown",
   "metadata": {},
   "source": [
    "**Table of contents**<a id='toc0_'></a>    \n",
    "- [Data Source 2 -  Deliverect - EDA](#toc1_)    \n",
    "  - [Import libraries and PyPower](#toc1_1_)    \n",
    "  - [Deliverect](#toc1_2_)    \n",
    "    - [Import Data](#toc1_2_1_)    \n",
    "    - [Project requirements](#toc1_2_2_)    \n",
    "      - [Deliverect is source of 'Just Eat' channel](#toc1_2_2_1_)    \n",
    "      - [Delete not relevant and constant columns](#toc1_2_2_2_)    \n",
    "      - [Delete where type is not DELIVERY](#toc1_2_2_3_)    \n",
    "    - [Análisis de columnas](#toc1_2_3_)    \n",
    "      - [Rename columns](#toc1_2_3_1_)    \n",
    "      - ['discount'](#toc1_2_3_2_)    \n",
    "    - [Resultado final](#toc1_2_4_)    \n",
    "  - [Deliverect Items](#toc1_3_)    \n",
    "    - [Import Data](#toc1_3_1_)    \n",
    "    - [Project requirements](#toc1_3_2_)    \n",
    "      - [Deliverect is source of 'Just Eat' channel](#toc1_3_2_1_)    \n",
    "      - [Drop rows de deliverect_item que no existen en deliverect](#toc1_3_2_2_)    \n",
    "    - [Análisis de columnas](#toc1_3_3_)    \n",
    "      - [Delete not relevant and constant columns](#toc1_3_3_1_)    \n",
    "      - [Rename columns](#toc1_3_3_2_)    \n",
    "      - ['itemprice'](#toc1_3_3_3_)    \n",
    "    - [Resultado Final](#toc1_3_4_)    \n",
    "  - [Export clean dataframes](#toc1_4_)    \n",
    "\n",
    "<!-- vscode-jupyter-toc-config\n",
    "\tnumbering=false\n",
    "\tanchor=true\n",
    "\tflat=false\n",
    "\tminLevel=1\n",
    "\tmaxLevel=6\n",
    "\t/vscode-jupyter-toc-config -->\n",
    "<!-- THIS CELL WILL BE REPLACED ON TOC UPDATE. DO NOT WRITE YOUR TEXT IN THIS CELL -->"
   ]
  },
  {
   "cell_type": "markdown",
   "metadata": {},
   "source": [
    "## <a id='toc1_1_'></a>[Import libraries and PyPower](#toc0_)"
   ]
  },
  {
   "cell_type": "code",
   "execution_count": 22,
   "id": "e153e1a4-b933-4b5a-98cb-a30875fc81fb",
   "metadata": {},
   "outputs": [],
   "source": [
    "import pandas as pd\n",
    "\n",
    "pd.set_option('display.max_columns', None)\n",
    "pd.set_option('display.max_rows', None)\n",
    "\n",
    "import sys\n",
    "sys.path.append('../Python')\n",
    "from  PyPower import *"
   ]
  },
  {
   "cell_type": "markdown",
   "metadata": {},
   "source": [
    "## <a id='toc1_2_'></a>[Deliverect](#toc0_)"
   ]
  },
  {
   "cell_type": "markdown",
   "metadata": {},
   "source": [
    "### <a id='toc1_2_1_'></a>[Import Data](#toc0_)"
   ]
  },
  {
   "cell_type": "markdown",
   "metadata": {},
   "source": [
    "Son tres datasets con la información por meses, así que se importan y se agregan uno abajo del otro"
   ]
  },
  {
   "cell_type": "code",
   "execution_count": 23,
   "metadata": {},
   "outputs": [
    {
     "data": {
      "text/html": [
       "<div>\n",
       "<style scoped>\n",
       "    .dataframe tbody tr th:only-of-type {\n",
       "        vertical-align: middle;\n",
       "    }\n",
       "\n",
       "    .dataframe tbody tr th {\n",
       "        vertical-align: top;\n",
       "    }\n",
       "\n",
       "    .dataframe thead th {\n",
       "        text-align: right;\n",
       "    }\n",
       "</style>\n",
       "<table border=\"1\" class=\"dataframe\">\n",
       "  <thead>\n",
       "    <tr style=\"text-align: right;\">\n",
       "      <th></th>\n",
       "      <th>pickuptime</th>\n",
       "      <th>pickuptimeutc</th>\n",
       "      <th>createdtime</th>\n",
       "      <th>createdtimeutc</th>\n",
       "      <th>location</th>\n",
       "      <th>orderid</th>\n",
       "      <th>channel</th>\n",
       "      <th>status</th>\n",
       "      <th>type</th>\n",
       "      <th>payment</th>\n",
       "      <th>paymentamount</th>\n",
       "      <th>deliverycost</th>\n",
       "      <th>discounttotal</th>\n",
       "      <th>subtotal</th>\n",
       "      <th>channellink</th>\n",
       "      <th>vat</th>\n",
       "    </tr>\n",
       "  </thead>\n",
       "  <tbody>\n",
       "    <tr>\n",
       "      <th>0</th>\n",
       "      <td>2023-04-30 23:11:21+0200</td>\n",
       "      <td>2023-04-30 21:11:21</td>\n",
       "      <td>2023-04-30 22:51:18+0200</td>\n",
       "      <td>2023-04-30 20:51:18</td>\n",
       "      <td>Alicante - Periodista Rodolfo Salazar</td>\n",
       "      <td>C5C6A</td>\n",
       "      <td>Uber Eats</td>\n",
       "      <td>DELIVERED</td>\n",
       "      <td>DELIVERY</td>\n",
       "      <td>ONLINE</td>\n",
       "      <td>12.9</td>\n",
       "      <td>0.0</td>\n",
       "      <td>-12.9</td>\n",
       "      <td>25.8</td>\n",
       "      <td>Uber Eats</td>\n",
       "      <td>1.18</td>\n",
       "    </tr>\n",
       "    <tr>\n",
       "      <th>1</th>\n",
       "      <td>2023-04-30 23:01:41+0200</td>\n",
       "      <td>2023-04-30 21:01:41</td>\n",
       "      <td>2023-04-30 22:36:25+0200</td>\n",
       "      <td>2023-04-30 20:36:25</td>\n",
       "      <td>Alicante - Periodista Rodolfo Salazar</td>\n",
       "      <td>BD770</td>\n",
       "      <td>Uber Eats</td>\n",
       "      <td>DELIVERED</td>\n",
       "      <td>PICKUP</td>\n",
       "      <td>ONLINE</td>\n",
       "      <td>15.9</td>\n",
       "      <td>0.0</td>\n",
       "      <td>-12.9</td>\n",
       "      <td>28.8</td>\n",
       "      <td>Uber Eats</td>\n",
       "      <td>1.45</td>\n",
       "    </tr>\n",
       "    <tr>\n",
       "      <th>2</th>\n",
       "      <td>2023-04-30 22:31:06+0200</td>\n",
       "      <td>2023-04-30 20:31:06</td>\n",
       "      <td>2023-04-30 22:10:04+0200</td>\n",
       "      <td>2023-04-30 20:10:04</td>\n",
       "      <td>Alicante - Periodista Rodolfo Salazar</td>\n",
       "      <td>A892B</td>\n",
       "      <td>Uber Eats</td>\n",
       "      <td>DELIVERED</td>\n",
       "      <td>DELIVERY</td>\n",
       "      <td>ONLINE</td>\n",
       "      <td>21.8</td>\n",
       "      <td>0.0</td>\n",
       "      <td>0.0</td>\n",
       "      <td>21.8</td>\n",
       "      <td>Uber Eats</td>\n",
       "      <td>1.98</td>\n",
       "    </tr>\n",
       "    <tr>\n",
       "      <th>3</th>\n",
       "      <td>2023-04-30 22:20:19+0200</td>\n",
       "      <td>2023-04-30 20:20:19</td>\n",
       "      <td>2023-04-30 21:59:31+0200</td>\n",
       "      <td>2023-04-30 19:59:31</td>\n",
       "      <td>Alicante - Bazan</td>\n",
       "      <td>BB3B8</td>\n",
       "      <td>Uber Eats</td>\n",
       "      <td>ACCEPTED</td>\n",
       "      <td>DELIVERY</td>\n",
       "      <td>ONLINE</td>\n",
       "      <td>36.6</td>\n",
       "      <td>0.0</td>\n",
       "      <td>0.0</td>\n",
       "      <td>36.6</td>\n",
       "      <td>Uber Eats</td>\n",
       "      <td>3.34</td>\n",
       "    </tr>\n",
       "    <tr>\n",
       "      <th>4</th>\n",
       "      <td>2023-04-30 22:20:13+0200</td>\n",
       "      <td>2023-04-30 20:20:13</td>\n",
       "      <td>2023-04-30 22:01:55+0200</td>\n",
       "      <td>2023-04-30 20:01:55</td>\n",
       "      <td>Alicante - Periodista Rodolfo Salazar</td>\n",
       "      <td>1F69D</td>\n",
       "      <td>Uber Eats</td>\n",
       "      <td>DELIVERED</td>\n",
       "      <td>DELIVERY</td>\n",
       "      <td>ONLINE</td>\n",
       "      <td>14.0</td>\n",
       "      <td>0.0</td>\n",
       "      <td>0.0</td>\n",
       "      <td>14.0</td>\n",
       "      <td>Uber Eats</td>\n",
       "      <td>1.28</td>\n",
       "    </tr>\n",
       "  </tbody>\n",
       "</table>\n",
       "</div>"
      ],
      "text/plain": [
       "                 pickuptime        pickuptimeutc               createdtime  \\\n",
       "0  2023-04-30 23:11:21+0200  2023-04-30 21:11:21  2023-04-30 22:51:18+0200   \n",
       "1  2023-04-30 23:01:41+0200  2023-04-30 21:01:41  2023-04-30 22:36:25+0200   \n",
       "2  2023-04-30 22:31:06+0200  2023-04-30 20:31:06  2023-04-30 22:10:04+0200   \n",
       "3  2023-04-30 22:20:19+0200  2023-04-30 20:20:19  2023-04-30 21:59:31+0200   \n",
       "4  2023-04-30 22:20:13+0200  2023-04-30 20:20:13  2023-04-30 22:01:55+0200   \n",
       "\n",
       "        createdtimeutc                               location orderid  \\\n",
       "0  2023-04-30 20:51:18  Alicante - Periodista Rodolfo Salazar   C5C6A   \n",
       "1  2023-04-30 20:36:25  Alicante - Periodista Rodolfo Salazar   BD770   \n",
       "2  2023-04-30 20:10:04  Alicante - Periodista Rodolfo Salazar   A892B   \n",
       "3  2023-04-30 19:59:31                       Alicante - Bazan   BB3B8   \n",
       "4  2023-04-30 20:01:55  Alicante - Periodista Rodolfo Salazar   1F69D   \n",
       "\n",
       "     channel     status      type payment  paymentamount  deliverycost  \\\n",
       "0  Uber Eats  DELIVERED  DELIVERY  ONLINE           12.9           0.0   \n",
       "1  Uber Eats  DELIVERED    PICKUP  ONLINE           15.9           0.0   \n",
       "2  Uber Eats  DELIVERED  DELIVERY  ONLINE           21.8           0.0   \n",
       "3  Uber Eats   ACCEPTED  DELIVERY  ONLINE           36.6           0.0   \n",
       "4  Uber Eats  DELIVERED  DELIVERY  ONLINE           14.0           0.0   \n",
       "\n",
       "   discounttotal  subtotal channellink   vat  \n",
       "0          -12.9      25.8   Uber Eats  1.18  \n",
       "1          -12.9      28.8   Uber Eats  1.45  \n",
       "2            0.0      21.8   Uber Eats  1.98  \n",
       "3            0.0      36.6   Uber Eats  3.34  \n",
       "4            0.0      14.0   Uber Eats  1.28  "
      ]
     },
     "execution_count": 23,
     "metadata": {},
     "output_type": "execute_result"
    }
   ],
   "source": [
    "deliverect = pd.read_csv('../../data/1-clean/deliverect_clean.csv')\n",
    "\n",
    "deliverect_original_shape= deliverect.shape\n",
    "\n",
    "deliverect.head()"
   ]
  },
  {
   "cell_type": "code",
   "execution_count": 24,
   "metadata": {},
   "outputs": [
    {
     "name": "stdout",
     "output_type": "stream",
     "text": [
      "<class 'pandas.core.frame.DataFrame'>\n",
      "RangeIndex: 8038 entries, 0 to 8037\n",
      "Data columns (total 16 columns):\n",
      " #   Column          Non-Null Count  Dtype  \n",
      "---  ------          --------------  -----  \n",
      " 0   pickuptime      8038 non-null   object \n",
      " 1   pickuptimeutc   8038 non-null   object \n",
      " 2   createdtime     8038 non-null   object \n",
      " 3   createdtimeutc  8038 non-null   object \n",
      " 4   location        8038 non-null   object \n",
      " 5   orderid         8038 non-null   object \n",
      " 6   channel         8038 non-null   object \n",
      " 7   status          8038 non-null   object \n",
      " 8   type            8038 non-null   object \n",
      " 9   payment         8038 non-null   object \n",
      " 10  paymentamount   8038 non-null   float64\n",
      " 11  deliverycost    8038 non-null   float64\n",
      " 12  discounttotal   8038 non-null   float64\n",
      " 13  subtotal        8038 non-null   float64\n",
      " 14  channellink     8038 non-null   object \n",
      " 15  vat             8038 non-null   float64\n",
      "dtypes: float64(5), object(11)\n",
      "memory usage: 1004.9+ KB\n"
     ]
    }
   ],
   "source": [
    "deliverect.info()"
   ]
  },
  {
   "cell_type": "markdown",
   "metadata": {},
   "source": [
    "### <a id='toc1_2_2_'></a>[Project requirements](#toc0_)"
   ]
  },
  {
   "cell_type": "markdown",
   "metadata": {},
   "source": [
    "#### <a id='toc1_2_2_1_'></a>[Deliverect is source of 'Just Eat' channel](#toc0_)"
   ]
  },
  {
   "cell_type": "code",
   "execution_count": 25,
   "metadata": {},
   "outputs": [],
   "source": [
    "deliverect = deliverect[(deliverect.channel=='Just Eat')]"
   ]
  },
  {
   "cell_type": "markdown",
   "metadata": {},
   "source": [
    "#### <a id='toc1_2_2_2_'></a>[Delete not relevant and constant columns](#toc0_)"
   ]
  },
  {
   "cell_type": "code",
   "execution_count": 26,
   "metadata": {},
   "outputs": [
    {
     "data": {
      "text/plain": [
       "Index(['pickuptime', 'pickuptimeutc', 'createdtime', 'createdtimeutc',\n",
       "       'location', 'orderid', 'channel', 'status', 'type', 'payment',\n",
       "       'paymentamount', 'deliverycost', 'discounttotal', 'subtotal',\n",
       "       'channellink', 'vat'],\n",
       "      dtype='object')"
      ]
     },
     "execution_count": 26,
     "metadata": {},
     "output_type": "execute_result"
    }
   ],
   "source": [
    "deliverect.columns"
   ]
  },
  {
   "cell_type": "code",
   "execution_count": 27,
   "metadata": {},
   "outputs": [
    {
     "name": "stdout",
     "output_type": "stream",
     "text": [
      "5 columns deleted\n"
     ]
    }
   ],
   "source": [
    "deliverect.drop(columns=['pickuptime', 'pickuptimeutc', 'createdtime', 'channellink', 'deliverycost'], inplace=True)\n",
    "print(deliverect_original_shape[1]-deliverect.shape[1], 'columns deleted')"
   ]
  },
  {
   "cell_type": "markdown",
   "metadata": {},
   "source": [
    "#### <a id='toc1_2_2_3_'></a>[Delete where type is not DELIVERY](#toc0_)"
   ]
  },
  {
   "cell_type": "code",
   "execution_count": 28,
   "metadata": {},
   "outputs": [],
   "source": [
    "filtered_df = deliverect[deliverect['type']=='DELIVERY']\n",
    "\n",
    "deliverect = filtered_df.copy()"
   ]
  },
  {
   "cell_type": "markdown",
   "metadata": {},
   "source": [
    "Delete type column (constant)"
   ]
  },
  {
   "cell_type": "code",
   "execution_count": 29,
   "metadata": {},
   "outputs": [],
   "source": [
    "deliverect.drop('type', axis=1, inplace=True)"
   ]
  },
  {
   "cell_type": "markdown",
   "metadata": {},
   "source": [
    "### <a id='toc1_2_3_'></a>[Análisis de columnas](#toc0_)"
   ]
  },
  {
   "cell_type": "markdown",
   "metadata": {},
   "source": [
    "#### <a id='toc1_2_3_1_'></a>[Rename columns](#toc0_)"
   ]
  },
  {
   "cell_type": "code",
   "execution_count": 30,
   "metadata": {},
   "outputs": [
    {
     "data": {
      "text/html": [
       "<div>\n",
       "<style scoped>\n",
       "    .dataframe tbody tr th:only-of-type {\n",
       "        vertical-align: middle;\n",
       "    }\n",
       "\n",
       "    .dataframe tbody tr th {\n",
       "        vertical-align: top;\n",
       "    }\n",
       "\n",
       "    .dataframe thead th {\n",
       "        text-align: right;\n",
       "    }\n",
       "</style>\n",
       "<table border=\"1\" class=\"dataframe\">\n",
       "  <thead>\n",
       "    <tr style=\"text-align: right;\">\n",
       "      <th></th>\n",
       "      <th>createdtimeutc</th>\n",
       "      <th>location</th>\n",
       "      <th>orderid</th>\n",
       "      <th>channel</th>\n",
       "      <th>status</th>\n",
       "      <th>payment</th>\n",
       "      <th>paymentamount</th>\n",
       "      <th>discounttotal</th>\n",
       "      <th>subtotal</th>\n",
       "      <th>vat</th>\n",
       "    </tr>\n",
       "  </thead>\n",
       "  <tbody>\n",
       "    <tr>\n",
       "      <th>13</th>\n",
       "      <td>2023-04-30 19:56:04</td>\n",
       "      <td>Alicante - Periodista Rodolfo Salazar</td>\n",
       "      <td>128399797</td>\n",
       "      <td>Just Eat</td>\n",
       "      <td>DELIVERED</td>\n",
       "      <td>CARD</td>\n",
       "      <td>35.09</td>\n",
       "      <td>0.0</td>\n",
       "      <td>33.1</td>\n",
       "      <td>3.01</td>\n",
       "    </tr>\n",
       "    <tr>\n",
       "      <th>33</th>\n",
       "      <td>2023-04-30 12:51:20</td>\n",
       "      <td>Alicante - Periodista Rodolfo Salazar</td>\n",
       "      <td>128359424</td>\n",
       "      <td>Just Eat</td>\n",
       "      <td>DELIVERED</td>\n",
       "      <td>CARD</td>\n",
       "      <td>27.29</td>\n",
       "      <td>0.0</td>\n",
       "      <td>25.3</td>\n",
       "      <td>2.30</td>\n",
       "    </tr>\n",
       "  </tbody>\n",
       "</table>\n",
       "</div>"
      ],
      "text/plain": [
       "         createdtimeutc                               location    orderid  \\\n",
       "13  2023-04-30 19:56:04  Alicante - Periodista Rodolfo Salazar  128399797   \n",
       "33  2023-04-30 12:51:20  Alicante - Periodista Rodolfo Salazar  128359424   \n",
       "\n",
       "     channel     status payment  paymentamount  discounttotal  subtotal   vat  \n",
       "13  Just Eat  DELIVERED    CARD          35.09            0.0      33.1  3.01  \n",
       "33  Just Eat  DELIVERED    CARD          27.29            0.0      25.3  2.30  "
      ]
     },
     "execution_count": 30,
     "metadata": {},
     "output_type": "execute_result"
    }
   ],
   "source": [
    "deliverect.head(2)"
   ]
  },
  {
   "cell_type": "code",
   "execution_count": 31,
   "metadata": {},
   "outputs": [],
   "source": [
    "columns_to_rename={'createdtimeutc':'created_datetime',\n",
    "                   'orderid':'order_id_software',\n",
    "                   'payment':'payment_method',\n",
    "                   'paymentamount':'total',\n",
    "                   'discounttotal':'discount'}\n",
    "\n",
    "deliverect = rename_columns(deliverect, columns_to_rename)"
   ]
  },
  {
   "cell_type": "markdown",
   "metadata": {},
   "source": [
    "#### <a id='toc1_2_3_2_'></a>['discount'](#toc0_)"
   ]
  },
  {
   "cell_type": "code",
   "execution_count": 32,
   "metadata": {},
   "outputs": [
    {
     "data": {
      "text/plain": [
       "discount\n",
       "0.0    595\n",
       "Name: count, dtype: int64"
      ]
     },
     "execution_count": 32,
     "metadata": {},
     "output_type": "execute_result"
    }
   ],
   "source": [
    "deliverect.discount.value_counts()"
   ]
  },
  {
   "cell_type": "code",
   "execution_count": 33,
   "metadata": {},
   "outputs": [],
   "source": [
    "deliverect.drop('discount', axis=1, inplace=True)"
   ]
  },
  {
   "cell_type": "markdown",
   "metadata": {},
   "source": [
    "### <a id='toc1_2_4_'></a>[Resultado final](#toc0_)"
   ]
  },
  {
   "cell_type": "code",
   "execution_count": 34,
   "metadata": {},
   "outputs": [
    {
     "data": {
      "text/html": [
       "<div>\n",
       "<style scoped>\n",
       "    .dataframe tbody tr th:only-of-type {\n",
       "        vertical-align: middle;\n",
       "    }\n",
       "\n",
       "    .dataframe tbody tr th {\n",
       "        vertical-align: top;\n",
       "    }\n",
       "\n",
       "    .dataframe thead th {\n",
       "        text-align: right;\n",
       "    }\n",
       "</style>\n",
       "<table border=\"1\" class=\"dataframe\">\n",
       "  <thead>\n",
       "    <tr style=\"text-align: right;\">\n",
       "      <th></th>\n",
       "      <th>created_datetime</th>\n",
       "      <th>location</th>\n",
       "      <th>order_id_software</th>\n",
       "      <th>channel</th>\n",
       "      <th>status</th>\n",
       "      <th>payment_method</th>\n",
       "      <th>total</th>\n",
       "      <th>subtotal</th>\n",
       "      <th>vat</th>\n",
       "    </tr>\n",
       "  </thead>\n",
       "  <tbody>\n",
       "    <tr>\n",
       "      <th>13</th>\n",
       "      <td>2023-04-30 19:56:04</td>\n",
       "      <td>Alicante - Periodista Rodolfo Salazar</td>\n",
       "      <td>128399797</td>\n",
       "      <td>Just Eat</td>\n",
       "      <td>DELIVERED</td>\n",
       "      <td>CARD</td>\n",
       "      <td>35.09</td>\n",
       "      <td>33.1</td>\n",
       "      <td>3.01</td>\n",
       "    </tr>\n",
       "    <tr>\n",
       "      <th>33</th>\n",
       "      <td>2023-04-30 12:51:20</td>\n",
       "      <td>Alicante - Periodista Rodolfo Salazar</td>\n",
       "      <td>128359424</td>\n",
       "      <td>Just Eat</td>\n",
       "      <td>DELIVERED</td>\n",
       "      <td>CARD</td>\n",
       "      <td>27.29</td>\n",
       "      <td>25.3</td>\n",
       "      <td>2.30</td>\n",
       "    </tr>\n",
       "    <tr>\n",
       "      <th>46</th>\n",
       "      <td>2023-04-29 21:25:39</td>\n",
       "      <td>Alicante - Periodista Rodolfo Salazar</td>\n",
       "      <td>128335005</td>\n",
       "      <td>Just Eat</td>\n",
       "      <td>DELIVERED</td>\n",
       "      <td>CARD</td>\n",
       "      <td>41.19</td>\n",
       "      <td>39.2</td>\n",
       "      <td>3.57</td>\n",
       "    </tr>\n",
       "    <tr>\n",
       "      <th>49</th>\n",
       "      <td>2023-04-29 20:49:51</td>\n",
       "      <td>Alicante - Periodista Rodolfo Salazar</td>\n",
       "      <td>128328474</td>\n",
       "      <td>Just Eat</td>\n",
       "      <td>DELIVERED</td>\n",
       "      <td>CARD</td>\n",
       "      <td>63.69</td>\n",
       "      <td>61.7</td>\n",
       "      <td>5.62</td>\n",
       "    </tr>\n",
       "    <tr>\n",
       "      <th>85</th>\n",
       "      <td>2023-04-29 13:16:34</td>\n",
       "      <td>Alicante - Periodista Rodolfo Salazar</td>\n",
       "      <td>128288843</td>\n",
       "      <td>Just Eat</td>\n",
       "      <td>DELIVERED</td>\n",
       "      <td>CARD</td>\n",
       "      <td>67.99</td>\n",
       "      <td>66.0</td>\n",
       "      <td>5.99</td>\n",
       "    </tr>\n",
       "  </tbody>\n",
       "</table>\n",
       "</div>"
      ],
      "text/plain": [
       "       created_datetime                               location  \\\n",
       "13  2023-04-30 19:56:04  Alicante - Periodista Rodolfo Salazar   \n",
       "33  2023-04-30 12:51:20  Alicante - Periodista Rodolfo Salazar   \n",
       "46  2023-04-29 21:25:39  Alicante - Periodista Rodolfo Salazar   \n",
       "49  2023-04-29 20:49:51  Alicante - Periodista Rodolfo Salazar   \n",
       "85  2023-04-29 13:16:34  Alicante - Periodista Rodolfo Salazar   \n",
       "\n",
       "   order_id_software   channel     status payment_method  total  subtotal  \\\n",
       "13         128399797  Just Eat  DELIVERED           CARD  35.09      33.1   \n",
       "33         128359424  Just Eat  DELIVERED           CARD  27.29      25.3   \n",
       "46         128335005  Just Eat  DELIVERED           CARD  41.19      39.2   \n",
       "49         128328474  Just Eat  DELIVERED           CARD  63.69      61.7   \n",
       "85         128288843  Just Eat  DELIVERED           CARD  67.99      66.0   \n",
       "\n",
       "     vat  \n",
       "13  3.01  \n",
       "33  2.30  \n",
       "46  3.57  \n",
       "49  5.62  \n",
       "85  5.99  "
      ]
     },
     "execution_count": 34,
     "metadata": {},
     "output_type": "execute_result"
    }
   ],
   "source": [
    "deliverect.head()"
   ]
  },
  {
   "cell_type": "markdown",
   "metadata": {},
   "source": [
    "## <a id='toc1_3_'></a>[Deliverect Items](#toc0_)"
   ]
  },
  {
   "cell_type": "markdown",
   "metadata": {},
   "source": [
    "### <a id='toc1_3_1_'></a>[Import Data](#toc0_)"
   ]
  },
  {
   "cell_type": "code",
   "execution_count": 35,
   "metadata": {},
   "outputs": [
    {
     "data": {
      "text/html": [
       "<div>\n",
       "<style scoped>\n",
       "    .dataframe tbody tr th:only-of-type {\n",
       "        vertical-align: middle;\n",
       "    }\n",
       "\n",
       "    .dataframe tbody tr th {\n",
       "        vertical-align: top;\n",
       "    }\n",
       "\n",
       "    .dataframe thead th {\n",
       "        text-align: right;\n",
       "    }\n",
       "</style>\n",
       "<table border=\"1\" class=\"dataframe\">\n",
       "  <thead>\n",
       "    <tr style=\"text-align: right;\">\n",
       "      <th></th>\n",
       "      <th>createdtime</th>\n",
       "      <th>createdtimeutc</th>\n",
       "      <th>location</th>\n",
       "      <th>orderid</th>\n",
       "      <th>channel</th>\n",
       "      <th>payment</th>\n",
       "      <th>paymentamount</th>\n",
       "      <th>subtotal</th>\n",
       "      <th>vat</th>\n",
       "      <th>productnames</th>\n",
       "      <th>itemprice</th>\n",
       "      <th>itemquantities</th>\n",
       "      <th>discounttotal</th>\n",
       "    </tr>\n",
       "  </thead>\n",
       "  <tbody>\n",
       "    <tr>\n",
       "      <th>0</th>\n",
       "      <td>2023-04-30 22:51:18+0200</td>\n",
       "      <td>2023-04-30 20:51:18</td>\n",
       "      <td>Alicante - Periodista Rodolfo Salazar</td>\n",
       "      <td>C5C6A</td>\n",
       "      <td>Uber Eats</td>\n",
       "      <td>ONLINE</td>\n",
       "      <td>12.9</td>\n",
       "      <td>25.8</td>\n",
       "      <td>1.18</td>\n",
       "      <td>Caprichosa</td>\n",
       "      <td>1290</td>\n",
       "      <td>2</td>\n",
       "      <td>0.0</td>\n",
       "    </tr>\n",
       "    <tr>\n",
       "      <th>1</th>\n",
       "      <td>2023-04-30 22:36:25+0200</td>\n",
       "      <td>2023-04-30 20:36:25</td>\n",
       "      <td>Alicante - Periodista Rodolfo Salazar</td>\n",
       "      <td>BD770</td>\n",
       "      <td>Uber Eats</td>\n",
       "      <td>ONLINE</td>\n",
       "      <td>15.9</td>\n",
       "      <td>28.8</td>\n",
       "      <td>1.45</td>\n",
       "      <td>Caprichosa</td>\n",
       "      <td>1290</td>\n",
       "      <td>2</td>\n",
       "      <td>0.0</td>\n",
       "    </tr>\n",
       "    <tr>\n",
       "      <th>2</th>\n",
       "      <td>2023-04-30 22:36:25+0200</td>\n",
       "      <td>2023-04-30 20:36:25</td>\n",
       "      <td>Alicante - Periodista Rodolfo Salazar</td>\n",
       "      <td>BD770</td>\n",
       "      <td>Uber Eats</td>\n",
       "      <td>ONLINE</td>\n",
       "      <td>15.9</td>\n",
       "      <td>28.8</td>\n",
       "      <td>1.45</td>\n",
       "      <td>Madurada PUNTO en lugar de carne normal</td>\n",
       "      <td>150</td>\n",
       "      <td>2</td>\n",
       "      <td>0.0</td>\n",
       "    </tr>\n",
       "    <tr>\n",
       "      <th>3</th>\n",
       "      <td>2023-04-30 22:10:04+0200</td>\n",
       "      <td>2023-04-30 20:10:04</td>\n",
       "      <td>Alicante - Periodista Rodolfo Salazar</td>\n",
       "      <td>A892B</td>\n",
       "      <td>Uber Eats</td>\n",
       "      <td>ONLINE</td>\n",
       "      <td>21.8</td>\n",
       "      <td>21.8</td>\n",
       "      <td>1.98</td>\n",
       "      <td>Tequenutellla PL</td>\n",
       "      <td>390</td>\n",
       "      <td>1</td>\n",
       "      <td>0.0</td>\n",
       "    </tr>\n",
       "    <tr>\n",
       "      <th>4</th>\n",
       "      <td>2023-04-30 22:10:04+0200</td>\n",
       "      <td>2023-04-30 20:10:04</td>\n",
       "      <td>Alicante - Periodista Rodolfo Salazar</td>\n",
       "      <td>A892B</td>\n",
       "      <td>Uber Eats</td>\n",
       "      <td>ONLINE</td>\n",
       "      <td>21.8</td>\n",
       "      <td>21.8</td>\n",
       "      <td>1.98</td>\n",
       "      <td>Arepa Sifrina</td>\n",
       "      <td>770</td>\n",
       "      <td>2</td>\n",
       "      <td>0.0</td>\n",
       "    </tr>\n",
       "  </tbody>\n",
       "</table>\n",
       "</div>"
      ],
      "text/plain": [
       "                createdtime       createdtimeutc  \\\n",
       "0  2023-04-30 22:51:18+0200  2023-04-30 20:51:18   \n",
       "1  2023-04-30 22:36:25+0200  2023-04-30 20:36:25   \n",
       "2  2023-04-30 22:36:25+0200  2023-04-30 20:36:25   \n",
       "3  2023-04-30 22:10:04+0200  2023-04-30 20:10:04   \n",
       "4  2023-04-30 22:10:04+0200  2023-04-30 20:10:04   \n",
       "\n",
       "                                location orderid    channel payment  \\\n",
       "0  Alicante - Periodista Rodolfo Salazar   C5C6A  Uber Eats  ONLINE   \n",
       "1  Alicante - Periodista Rodolfo Salazar   BD770  Uber Eats  ONLINE   \n",
       "2  Alicante - Periodista Rodolfo Salazar   BD770  Uber Eats  ONLINE   \n",
       "3  Alicante - Periodista Rodolfo Salazar   A892B  Uber Eats  ONLINE   \n",
       "4  Alicante - Periodista Rodolfo Salazar   A892B  Uber Eats  ONLINE   \n",
       "\n",
       "   paymentamount  subtotal   vat                             productnames  \\\n",
       "0           12.9      25.8  1.18                               Caprichosa   \n",
       "1           15.9      28.8  1.45                               Caprichosa   \n",
       "2           15.9      28.8  1.45  Madurada PUNTO en lugar de carne normal   \n",
       "3           21.8      21.8  1.98                         Tequenutellla PL   \n",
       "4           21.8      21.8  1.98                            Arepa Sifrina   \n",
       "\n",
       "   itemprice  itemquantities  discounttotal  \n",
       "0       1290               2            0.0  \n",
       "1       1290               2            0.0  \n",
       "2        150               2            0.0  \n",
       "3        390               1            0.0  \n",
       "4        770               2            0.0  "
      ]
     },
     "execution_count": 35,
     "metadata": {},
     "output_type": "execute_result"
    }
   ],
   "source": [
    "deliverect_item = pd.read_csv('../../data/1-clean/deliverect__items_clean.csv')\n",
    "\n",
    "deliverect_item_original_shape= deliverect_item.shape\n",
    "\n",
    "deliverect_item.head()"
   ]
  },
  {
   "cell_type": "markdown",
   "metadata": {},
   "source": [
    "### <a id='toc1_3_2_'></a>[Project requirements](#toc0_)"
   ]
  },
  {
   "cell_type": "markdown",
   "metadata": {},
   "source": [
    "#### <a id='toc1_3_2_1_'></a>[Deliverect is source of 'Just Eat' channel](#toc0_)"
   ]
  },
  {
   "cell_type": "code",
   "execution_count": 36,
   "metadata": {},
   "outputs": [],
   "source": [
    "deliverect_item = deliverect_item[(deliverect_item.channel=='Just Eat')]"
   ]
  },
  {
   "cell_type": "markdown",
   "metadata": {},
   "source": [
    "#### <a id='toc1_3_2_2_'></a>[Drop rows de deliverect_item que no existen en deliverect](#toc0_)"
   ]
  },
  {
   "cell_type": "code",
   "execution_count": 37,
   "metadata": {},
   "outputs": [],
   "source": [
    "merged_df = pd.merge(deliverect_item, deliverect, left_on='orderid', right_on='order_id_software', how='left', indicator=True)\n",
    "\n",
    "orders_fake = merged_df[merged_df['_merge'] == 'left_only'].orderid"
   ]
  },
  {
   "cell_type": "code",
   "execution_count": 38,
   "metadata": {},
   "outputs": [],
   "source": [
    "deliverect_item.reset_index(drop=True)\n",
    "deliverect_item = deliverect_item[~(deliverect_item.orderid.isin(orders_fake))]"
   ]
  },
  {
   "cell_type": "markdown",
   "metadata": {},
   "source": [
    "### <a id='toc1_3_3_'></a>[Análisis de columnas](#toc0_)"
   ]
  },
  {
   "cell_type": "markdown",
   "metadata": {},
   "source": [
    "#### <a id='toc1_3_3_1_'></a>[Delete not relevant and constant columns](#toc0_)"
   ]
  },
  {
   "cell_type": "code",
   "execution_count": 39,
   "metadata": {},
   "outputs": [],
   "source": [
    "deliverect_item.drop(columns = ['createdtime', 'createdtimeutc', 'location', 'channel',\n",
    "       'payment', 'paymentamount', 'subtotal', 'vat', 'discounttotal'], inplace=True)"
   ]
  },
  {
   "cell_type": "markdown",
   "metadata": {},
   "source": [
    "#### <a id='toc1_3_3_2_'></a>[Rename columns](#toc0_)"
   ]
  },
  {
   "cell_type": "code",
   "execution_count": 40,
   "metadata": {},
   "outputs": [],
   "source": [
    "columns_to_rename={'orderid' : 'order_id_software', \n",
    "                   'productnames':'item',\n",
    "                   'itemquantities':'quantity',\n",
    "                   'itemprice':'price'}\n",
    "\n",
    "deliverect_item = rename_columns(deliverect_item, columns_to_rename)"
   ]
  },
  {
   "cell_type": "markdown",
   "metadata": {},
   "source": [
    "#### <a id='toc1_3_3_3_'></a>['itemprice'](#toc0_)"
   ]
  },
  {
   "cell_type": "code",
   "execution_count": 53,
   "metadata": {},
   "outputs": [],
   "source": [
    "deliverect_item['price'] = deliverect_item['price'] / 100"
   ]
  },
  {
   "cell_type": "markdown",
   "metadata": {},
   "source": [
    "### <a id='toc1_3_4_'></a>[Resultado Final](#toc0_)"
   ]
  },
  {
   "cell_type": "code",
   "execution_count": 55,
   "metadata": {},
   "outputs": [
    {
     "data": {
      "text/html": [
       "<div>\n",
       "<style scoped>\n",
       "    .dataframe tbody tr th:only-of-type {\n",
       "        vertical-align: middle;\n",
       "    }\n",
       "\n",
       "    .dataframe tbody tr th {\n",
       "        vertical-align: top;\n",
       "    }\n",
       "\n",
       "    .dataframe thead th {\n",
       "        text-align: right;\n",
       "    }\n",
       "</style>\n",
       "<table border=\"1\" class=\"dataframe\">\n",
       "  <thead>\n",
       "    <tr style=\"text-align: right;\">\n",
       "      <th></th>\n",
       "      <th>order_id_software</th>\n",
       "      <th>item</th>\n",
       "      <th>price</th>\n",
       "      <th>quantity</th>\n",
       "    </tr>\n",
       "  </thead>\n",
       "  <tbody>\n",
       "    <tr>\n",
       "      <th>33</th>\n",
       "      <td>128399797</td>\n",
       "      <td>Arepa Reina Pepiada</td>\n",
       "      <td>7.7</td>\n",
       "      <td>1</td>\n",
       "    </tr>\n",
       "    <tr>\n",
       "      <th>34</th>\n",
       "      <td>128399797</td>\n",
       "      <td>Patatas guarnición</td>\n",
       "      <td>1.5</td>\n",
       "      <td>1</td>\n",
       "    </tr>\n",
       "    <tr>\n",
       "      <th>35</th>\n",
       "      <td>128399797</td>\n",
       "      <td>Arepa Rumbera Remix</td>\n",
       "      <td>7.7</td>\n",
       "      <td>1</td>\n",
       "    </tr>\n",
       "    <tr>\n",
       "      <th>36</th>\n",
       "      <td>128399797</td>\n",
       "      <td>Arepa Pelúa</td>\n",
       "      <td>8.5</td>\n",
       "      <td>1</td>\n",
       "    </tr>\n",
       "    <tr>\n",
       "      <th>37</th>\n",
       "      <td>128399797</td>\n",
       "      <td>Arepa Sifrina</td>\n",
       "      <td>7.7</td>\n",
       "      <td>1</td>\n",
       "    </tr>\n",
       "  </tbody>\n",
       "</table>\n",
       "</div>"
      ],
      "text/plain": [
       "   order_id_software                 item  price  quantity\n",
       "33         128399797  Arepa Reina Pepiada    7.7         1\n",
       "34         128399797   Patatas guarnición    1.5         1\n",
       "35         128399797  Arepa Rumbera Remix    7.7         1\n",
       "36         128399797          Arepa Pelúa    8.5         1\n",
       "37         128399797        Arepa Sifrina    7.7         1"
      ]
     },
     "execution_count": 55,
     "metadata": {},
     "output_type": "execute_result"
    }
   ],
   "source": [
    "deliverect_item.head()"
   ]
  },
  {
   "cell_type": "markdown",
   "metadata": {},
   "source": [
    "## <a id='toc1_4_'></a>[Export clean dataframes](#toc0_)"
   ]
  },
  {
   "cell_type": "code",
   "execution_count": 56,
   "metadata": {},
   "outputs": [],
   "source": [
    "deliverect.to_csv('../../data/2-analyzed/deliverect_EDA.csv', index=False)\n",
    "deliverect_item.to_csv('../../data/2-analyzed/deliverect_item_EDA.csv', index=False)"
   ]
  }
 ],
 "metadata": {
  "kernelspec": {
   "display_name": "clase",
   "language": "python",
   "name": "python3"
  },
  "language_info": {
   "codemirror_mode": {
    "name": "ipython",
    "version": 3
   },
   "file_extension": ".py",
   "mimetype": "text/x-python",
   "name": "python",
   "nbconvert_exporter": "python",
   "pygments_lexer": "ipython3",
   "version": "3.10.13"
  }
 },
 "nbformat": 4,
 "nbformat_minor": 5
}
