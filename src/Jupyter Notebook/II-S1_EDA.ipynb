{
 "cells": [
  {
   "cell_type": "markdown",
   "metadata": {},
   "source": [
    "# <a id='toc1_'></a>[Data Source 1 - Otter - EDA](#toc0_)"
   ]
  },
  {
   "cell_type": "markdown",
   "metadata": {},
   "source": [
    "**Table of contents**<a id='toc0_'></a>    \n",
    "- [Data Source 1 - Otter - EDA](#toc1_)    \n",
    "  - [Import libraries an PyPower](#toc1_1_)    \n",
    "  - [Otter General](#toc1_2_)    \n",
    "    - [Import Data](#toc1_2_1_)    \n",
    "    - [Project requirements](#toc1_2_2_)    \n",
    "      - [Columns 'platform discount' and 'adjustments' do not add value to the revenue study, so they are dropped.](#toc1_2_2_1_)    \n",
    "      - [Coumn 'location' has repeated data due to software errors.](#toc1_2_2_2_)    \n",
    "    - [Column analysis](#toc1_2_3_)    \n",
    "      - [Rename columns](#toc1_2_3_1_)    \n",
    "      - ['channel'](#toc1_2_3_2_)    \n",
    "      - ['status'](#toc1_2_3_3_)    \n",
    "      - ['order_type'](#toc1_2_3_4_)    \n",
    "      - ['delivery_timing'](#toc1_2_3_5_)    \n",
    "    - [Final DataFrame](#toc1_2_4_)    \n",
    "  - [Otter items](#toc1_3_)    \n",
    "    - [Import Data](#toc1_3_1_)    \n",
    "    - [Column analysis](#toc1_3_2_)    \n",
    "      - [Rename columns](#toc1_3_2_1_)    \n",
    "      - [Column item](#toc1_3_2_2_)    \n",
    "    - [Final DataFrame](#toc1_3_3_)    \n",
    "  - [Export clean dataframes](#toc1_4_)    \n",
    "\n",
    "<!-- vscode-jupyter-toc-config\n",
    "\tnumbering=false\n",
    "\tanchor=true\n",
    "\tflat=false\n",
    "\tminLevel=1\n",
    "\tmaxLevel=6\n",
    "\t/vscode-jupyter-toc-config -->\n",
    "<!-- THIS CELL WILL BE REPLACED ON TOC UPDATE. DO NOT WRITE YOUR TEXT IN THIS CELL -->"
   ]
  },
  {
   "cell_type": "markdown",
   "metadata": {},
   "source": [
    "## <a id='toc1_1_'></a>[Import libraries an PyPower](#toc0_)"
   ]
  },
  {
   "cell_type": "code",
   "execution_count": 1,
   "id": "e153e1a4-b933-4b5a-98cb-a30875fc81fb",
   "metadata": {},
   "outputs": [],
   "source": [
    "import pandas as pd\n",
    "\n",
    "pd.set_option('display.max_columns', None)\n",
    "pd.set_option('display.max_rows', None)\n",
    "\n",
    "import sys\n",
    "sys.path.append('../Python')\n",
    "from  PyPower import *"
   ]
  },
  {
   "cell_type": "markdown",
   "metadata": {},
   "source": [
    "## <a id='toc1_2_'></a>[Otter General](#toc0_)"
   ]
  },
  {
   "cell_type": "markdown",
   "metadata": {},
   "source": [
    "### <a id='toc1_2_1_'></a>[Import Data](#toc0_)"
   ]
  },
  {
   "cell_type": "code",
   "execution_count": 2,
   "metadata": {},
   "outputs": [
    {
     "data": {
      "text/html": [
       "<div>\n",
       "<style scoped>\n",
       "    .dataframe tbody tr th:only-of-type {\n",
       "        vertical-align: middle;\n",
       "    }\n",
       "\n",
       "    .dataframe tbody tr th {\n",
       "        vertical-align: top;\n",
       "    }\n",
       "\n",
       "    .dataframe thead th {\n",
       "        text-align: right;\n",
       "    }\n",
       "</style>\n",
       "<table border=\"1\" class=\"dataframe\">\n",
       "  <thead>\n",
       "    <tr style=\"text-align: right;\">\n",
       "      <th></th>\n",
       "      <th>recibido</th>\n",
       "      <th>id_de_pedido</th>\n",
       "      <th>canal</th>\n",
       "      <th>estado_del_pedido</th>\n",
       "      <th>marca</th>\n",
       "      <th>tienda</th>\n",
       "      <th>cantidad_de_los_artículos</th>\n",
       "      <th>subtotal</th>\n",
       "      <th>propina</th>\n",
       "      <th>ajustes</th>\n",
       "      <th>descuento</th>\n",
       "      <th>descuento_de_la_plataforma</th>\n",
       "      <th>payout</th>\n",
       "      <th>error_charges</th>\n",
       "      <th>aceptado</th>\n",
       "      <th>modo_de_cumplimiento</th>\n",
       "      <th>tipo_de_programación</th>\n",
       "    </tr>\n",
       "  </thead>\n",
       "  <tbody>\n",
       "    <tr>\n",
       "      <th>0</th>\n",
       "      <td>31/10/2023, 23:22:36</td>\n",
       "      <td>457EE</td>\n",
       "      <td>Uber Eats</td>\n",
       "      <td>Entregado</td>\n",
       "      <td>Umbrella SH</td>\n",
       "      <td>EMEA - SP - MAD - Salamanca</td>\n",
       "      <td>2</td>\n",
       "      <td>46.0</td>\n",
       "      <td>0.0</td>\n",
       "      <td>0.0</td>\n",
       "      <td>-12.64</td>\n",
       "      <td>0.0</td>\n",
       "      <td>23.73</td>\n",
       "      <td>0.0</td>\n",
       "      <td>Aceptado</td>\n",
       "      <td>Entrega del mercado</td>\n",
       "      <td>De inmediato</td>\n",
       "    </tr>\n",
       "    <tr>\n",
       "      <th>1</th>\n",
       "      <td>31/10/2023, 23:19:01</td>\n",
       "      <td>0390E</td>\n",
       "      <td>Uber Eats</td>\n",
       "      <td>Entregado</td>\n",
       "      <td>Umbrella SH</td>\n",
       "      <td>EMEA - SP - MAD - Salamanca</td>\n",
       "      <td>4</td>\n",
       "      <td>62.8</td>\n",
       "      <td>0.0</td>\n",
       "      <td>0.0</td>\n",
       "      <td>-25.27</td>\n",
       "      <td>0.0</td>\n",
       "      <td>28.16</td>\n",
       "      <td>0.0</td>\n",
       "      <td>Aceptado</td>\n",
       "      <td>Entrega del mercado</td>\n",
       "      <td>De inmediato</td>\n",
       "    </tr>\n",
       "    <tr>\n",
       "      <th>2</th>\n",
       "      <td>31/10/2023, 23:15:19</td>\n",
       "      <td>EBBB9</td>\n",
       "      <td>Uber Eats</td>\n",
       "      <td>Entregado</td>\n",
       "      <td>Tepuy Basics</td>\n",
       "      <td>Goleta</td>\n",
       "      <td>3</td>\n",
       "      <td>30.6</td>\n",
       "      <td>0.0</td>\n",
       "      <td>0.0</td>\n",
       "      <td>0.00</td>\n",
       "      <td>0.0</td>\n",
       "      <td>30.60</td>\n",
       "      <td>0.0</td>\n",
       "      <td>Aceptado</td>\n",
       "      <td>Entrega del mercado</td>\n",
       "      <td>De inmediato</td>\n",
       "    </tr>\n",
       "    <tr>\n",
       "      <th>3</th>\n",
       "      <td>31/10/2023, 23:14:29</td>\n",
       "      <td>58A44</td>\n",
       "      <td>Uber Eats</td>\n",
       "      <td>Entregado</td>\n",
       "      <td>Umbrella SH</td>\n",
       "      <td>EMEA - SP - MAD - Salamanca</td>\n",
       "      <td>2</td>\n",
       "      <td>45.8</td>\n",
       "      <td>0.0</td>\n",
       "      <td>0.0</td>\n",
       "      <td>-12.64</td>\n",
       "      <td>0.0</td>\n",
       "      <td>23.60</td>\n",
       "      <td>0.0</td>\n",
       "      <td>Aceptado</td>\n",
       "      <td>Entrega del mercado</td>\n",
       "      <td>De inmediato</td>\n",
       "    </tr>\n",
       "    <tr>\n",
       "      <th>4</th>\n",
       "      <td>31/10/2023, 23:01:13</td>\n",
       "      <td>776960000</td>\n",
       "      <td>Gloria Foods</td>\n",
       "      <td>Entregado</td>\n",
       "      <td>Umbrella SH</td>\n",
       "      <td>Goleta</td>\n",
       "      <td>6</td>\n",
       "      <td>44.0</td>\n",
       "      <td>0.0</td>\n",
       "      <td>0.0</td>\n",
       "      <td>0.00</td>\n",
       "      <td>0.0</td>\n",
       "      <td>44.00</td>\n",
       "      <td>0.0</td>\n",
       "      <td>Aceptado</td>\n",
       "      <td>Para Recoger</td>\n",
       "      <td>De inmediato</td>\n",
       "    </tr>\n",
       "  </tbody>\n",
       "</table>\n",
       "</div>"
      ],
      "text/plain": [
       "               recibido id_de_pedido         canal estado_del_pedido  \\\n",
       "0  31/10/2023, 23:22:36        457EE     Uber Eats         Entregado   \n",
       "1  31/10/2023, 23:19:01        0390E     Uber Eats         Entregado   \n",
       "2  31/10/2023, 23:15:19        EBBB9     Uber Eats         Entregado   \n",
       "3  31/10/2023, 23:14:29        58A44     Uber Eats         Entregado   \n",
       "4  31/10/2023, 23:01:13    776960000  Gloria Foods         Entregado   \n",
       "\n",
       "          marca                       tienda  cantidad_de_los_artículos  \\\n",
       "0   Umbrella SH  EMEA - SP - MAD - Salamanca                          2   \n",
       "1   Umbrella SH  EMEA - SP - MAD - Salamanca                          4   \n",
       "2  Tepuy Basics                       Goleta                          3   \n",
       "3   Umbrella SH  EMEA - SP - MAD - Salamanca                          2   \n",
       "4   Umbrella SH                       Goleta                          6   \n",
       "\n",
       "   subtotal  propina  ajustes  descuento  descuento_de_la_plataforma  payout  \\\n",
       "0      46.0      0.0      0.0     -12.64                         0.0   23.73   \n",
       "1      62.8      0.0      0.0     -25.27                         0.0   28.16   \n",
       "2      30.6      0.0      0.0       0.00                         0.0   30.60   \n",
       "3      45.8      0.0      0.0     -12.64                         0.0   23.60   \n",
       "4      44.0      0.0      0.0       0.00                         0.0   44.00   \n",
       "\n",
       "   error_charges  aceptado modo_de_cumplimiento tipo_de_programación  \n",
       "0            0.0  Aceptado  Entrega del mercado         De inmediato  \n",
       "1            0.0  Aceptado  Entrega del mercado         De inmediato  \n",
       "2            0.0  Aceptado  Entrega del mercado         De inmediato  \n",
       "3            0.0  Aceptado  Entrega del mercado         De inmediato  \n",
       "4            0.0  Aceptado         Para Recoger         De inmediato  "
      ]
     },
     "execution_count": 2,
     "metadata": {},
     "output_type": "execute_result"
    }
   ],
   "source": [
    "otter = pd.read_csv('../../data/1-clean/otter_clean.csv')\n",
    "otter_original_shape= otter.shape\n",
    "otter.head()"
   ]
  },
  {
   "cell_type": "code",
   "execution_count": 3,
   "metadata": {},
   "outputs": [
    {
     "name": "stdout",
     "output_type": "stream",
     "text": [
      "<class 'pandas.core.frame.DataFrame'>\n",
      "RangeIndex: 55678 entries, 0 to 55677\n",
      "Data columns (total 17 columns):\n",
      " #   Column                      Non-Null Count  Dtype  \n",
      "---  ------                      --------------  -----  \n",
      " 0   recibido                    55678 non-null  object \n",
      " 1   id_de_pedido                55678 non-null  object \n",
      " 2   canal                       55678 non-null  object \n",
      " 3   estado_del_pedido           55678 non-null  object \n",
      " 4   marca                       55581 non-null  object \n",
      " 5   tienda                      55678 non-null  object \n",
      " 6   cantidad_de_los_artículos   55678 non-null  int64  \n",
      " 7   subtotal                    55678 non-null  float64\n",
      " 8   propina                     55678 non-null  float64\n",
      " 9   ajustes                     55678 non-null  float64\n",
      " 10  descuento                   55678 non-null  float64\n",
      " 11  descuento_de_la_plataforma  55678 non-null  float64\n",
      " 12  payout                      55678 non-null  float64\n",
      " 13  error_charges               55678 non-null  float64\n",
      " 14  aceptado                    55678 non-null  object \n",
      " 15  modo_de_cumplimiento        55678 non-null  object \n",
      " 16  tipo_de_programación        55678 non-null  object \n",
      "dtypes: float64(7), int64(1), object(9)\n",
      "memory usage: 7.2+ MB\n"
     ]
    }
   ],
   "source": [
    "otter.info()"
   ]
  },
  {
   "cell_type": "markdown",
   "metadata": {},
   "source": [
    "### <a id='toc1_2_2_'></a>[Project requirements](#toc0_)"
   ]
  },
  {
   "cell_type": "markdown",
   "metadata": {},
   "source": [
    "#### <a id='toc1_2_2_1_'></a>[Columns 'platform discount' and 'adjustments' do not add value to the revenue study, so they are dropped.](#toc0_)\n",
    "\n",
    "Also column 'aceptado'"
   ]
  },
  {
   "cell_type": "code",
   "execution_count": 4,
   "metadata": {},
   "outputs": [],
   "source": [
    "otter = drop_columns(otter, ['descuento_de_la_plataforma', 'ajustes','error_charges' , 'aceptado'])"
   ]
  },
  {
   "cell_type": "markdown",
   "metadata": {},
   "source": [
    "#### <a id='toc1_2_2_2_'></a>[Coumn 'location' has repeated data due to software errors.](#toc0_)"
   ]
  },
  {
   "cell_type": "code",
   "execution_count": 5,
   "metadata": {},
   "outputs": [
    {
     "data": {
      "text/plain": [
       "tienda\n",
       "Umbrella SH - San Vicent del Raspeig    9714\n",
       "Tepuy Burger - Benidorm                 8455\n",
       "Umbrella SH - Goleta                    7917\n",
       "Umbrella SH - Calle Linares             7743\n",
       "ES01_Tetuan_Jose Calvo 10               5245\n",
       "Tepuy Burger - Rodolfo Salazar          3315\n",
       "EMEA - SP - MAD - Jose Calvo            2947\n",
       "Tepuy Burger - Calle Bazan              2715\n",
       "ES01 - Tetuan - Jose Calvo 10           2526\n",
       "EMEA - SP - MAD - Tetuan                1503\n",
       "ES - MRD - Tetuan                       1346\n",
       "EMEA - SP - MAD - Salamanca              924\n",
       "Goleta                                   645\n",
       "EMEA - SP - MAD - Canillas 18            612\n",
       "Tepuy Burger - Calle Linares 5            71\n",
       "Name: count, dtype: int64"
      ]
     },
     "execution_count": 5,
     "metadata": {},
     "output_type": "execute_result"
    }
   ],
   "source": [
    "otter.tienda.value_counts()"
   ]
  },
  {
   "cell_type": "code",
   "execution_count": 6,
   "metadata": {},
   "outputs": [],
   "source": [
    "#Software naming errors. Its the same local\n",
    "\n",
    "otter.tienda = otter.tienda.apply(replace_to, change='ES01_Tetuan_Jose Calvo 10', change_to='Umbrella - Tetuan')\n",
    "otter.tienda = otter.tienda.apply(replace_to, change='EMEA - SP - MAD - Jose Calvo', change_to='Umbrella - Tetuan')\n",
    "otter.tienda = otter.tienda.apply(replace_to, change='ES01 - Tetuan - Jose Calvo 10', change_to='Umbrella - Tetuan')\n",
    "otter.tienda = otter.tienda.apply(replace_to, change='EMEA - SP - MAD - Tetuan', change_to='Umbrella - Tetuan')\n",
    "otter.tienda = otter.tienda.apply(replace_to, change='ES - MRD - Tetuan', change_to='Umbrella - Tetuan')\n",
    "otter.tienda = otter.tienda.apply(replace_to, change='EMEA - SP - MAD - Salamanca', change_to='Umbrella - Salamanca')\n",
    "otter.tienda = otter.tienda.apply(replace_to, change='EMEA - SP - MAD - Canillas 18', change_to='Umbrella - Salamanca')\n",
    "otter.tienda = otter.tienda.apply(replace_to, change='Tepuy Burger - Calle Linares 5', change_to='Umbrella - Calle Linares')"
   ]
  },
  {
   "cell_type": "code",
   "execution_count": 7,
   "metadata": {},
   "outputs": [],
   "source": [
    "# Unificar nombres de marca y no compañía\n",
    "otter.tienda = otter.tienda.apply(replace_to, change='Umbrella SH - San Vicent del Raspeig', change_to='Umbrella - San Vicent del Raspeig')\n",
    "otter.tienda = otter.tienda.apply(replace_to, change='Goleta', change_to='Umbrella - Goleta')\n",
    "otter.tienda = otter.tienda.apply(replace_to, change='Umbrella SH - Goleta', change_to='Umbrella - Goleta')\n",
    "otter.tienda = otter.tienda.apply(replace_to, change='Umbrella SH - Umbrella - Goleta', change_to='Umbrella - Goleta')\n",
    "otter.tienda = otter.tienda.apply(replace_to, change='Umbrella SH - Calle Linares', change_to='Umbrella - Calle Linares')"
   ]
  },
  {
   "cell_type": "code",
   "execution_count": 8,
   "metadata": {},
   "outputs": [
    {
     "data": {
      "text/plain": [
       "marca\n",
       "Umbrella SH           40024\n",
       "Tepuy Burger          10957\n",
       "Tepuy Basics           4111\n",
       "Arepas Doña Emilia      489\n",
       "Name: count, dtype: int64"
      ]
     },
     "execution_count": 8,
     "metadata": {},
     "output_type": "execute_result"
    }
   ],
   "source": [
    "otter.marca.value_counts()"
   ]
  },
  {
   "cell_type": "code",
   "execution_count": 9,
   "metadata": {},
   "outputs": [],
   "source": [
    "mapeo_tienda_marca = {\n",
    "    'Umbrella - Tetuan': 'Umbrella SH',\n",
    "    'Umbrella - San Vicent del Raspeig': 'Umbrella SH',\n",
    "    'Umbrella - Goleta': 'Umbrella SH',\n",
    "    'Tepuy Burger - Benidorm': 'Tepuy Burger',\n",
    "    'Umbrella - Calle Linares': 'Umbrella SH',\n",
    "    'Tepuy Burger - Rodolfo Salazar': 'Tepuy Burger',\n",
    "    'Tepuy Burger - Calle Bazan': 'Tepuy Burger',\n",
    "    'Umbrella - Salamanca': 'Umbrella SH'\n",
    "}\n",
    "\n",
    "otter['marca'] = otter['marca'].fillna(otter['tienda'].map(mapeo_tienda_marca))"
   ]
  },
  {
   "cell_type": "markdown",
   "metadata": {},
   "source": [
    "### <a id='toc1_2_3_'></a>[Column analysis](#toc0_)"
   ]
  },
  {
   "cell_type": "markdown",
   "metadata": {},
   "source": [
    "#### <a id='toc1_2_3_1_'></a>[Rename columns](#toc0_)"
   ]
  },
  {
   "cell_type": "code",
   "execution_count": 10,
   "metadata": {},
   "outputs": [],
   "source": [
    "columns_to_rename={'recibido':'created_datetime',\n",
    "                   'id_de_pedido':'order_id_software',\n",
    "                   'canal':'channel',\n",
    "                   'estado_del_pedido':'status',\n",
    "                   'marca':'brand',\n",
    "                   'tienda':'location',\n",
    "                   'cantidad_de_los_artículos':'quantity',\n",
    "                   'propina':'tip',\n",
    "                   'descuento':'discount',\n",
    "                   'modo_de_cumplimiento':'order_type',\n",
    "                   'payout':'total',\n",
    "                   'tipo_de_programación':'delivery_timing'}\n",
    "\n",
    "otter = rename_columns(otter, columns_to_rename)"
   ]
  },
  {
   "cell_type": "markdown",
   "metadata": {},
   "source": [
    "#### <a id='toc1_2_3_2_'></a>['channel'](#toc0_)"
   ]
  },
  {
   "cell_type": "code",
   "execution_count": 11,
   "metadata": {},
   "outputs": [
    {
     "data": {
      "text/plain": [
       "channel\n",
       "Uber Eats        29349\n",
       "Glovo            16663\n",
       "Gloria Foods      8308\n",
       "JustEat           1348\n",
       "Phone                6\n",
       "Direct Orders        4\n",
       "Name: count, dtype: int64"
      ]
     },
     "execution_count": 11,
     "metadata": {},
     "output_type": "execute_result"
    }
   ],
   "source": [
    "otter.channel.value_counts()"
   ]
  },
  {
   "cell_type": "code",
   "execution_count": 12,
   "metadata": {},
   "outputs": [
    {
     "data": {
      "text/plain": [
       "channel\n",
       "Uber Eats        29349\n",
       "Glovo            16663\n",
       "Gloria Foods      8308\n",
       "Just Eat          1348\n",
       "Phone                6\n",
       "Direct Orders        4\n",
       "Name: count, dtype: int64"
      ]
     },
     "execution_count": 12,
     "metadata": {},
     "output_type": "execute_result"
    }
   ],
   "source": [
    "otter.channel = otter.channel.apply(replace_to, change='JustEat', change_to='Just Eat')\n",
    "\n",
    "otter.channel.value_counts()"
   ]
  },
  {
   "cell_type": "markdown",
   "metadata": {},
   "source": [
    "#### <a id='toc1_2_3_3_'></a>['status'](#toc0_)"
   ]
  },
  {
   "cell_type": "code",
   "execution_count": 13,
   "metadata": {},
   "outputs": [
    {
     "data": {
      "text/plain": [
       "status\n",
       "Entregado      52379\n",
       "Nuevo           2154\n",
       "Desconocido      632\n",
       "Cancelado        513\n",
       "Name: count, dtype: int64"
      ]
     },
     "execution_count": 13,
     "metadata": {},
     "output_type": "execute_result"
    }
   ],
   "source": [
    "otter.status.value_counts()"
   ]
  },
  {
   "cell_type": "code",
   "execution_count": 14,
   "metadata": {},
   "outputs": [
    {
     "data": {
      "text/plain": [
       "status\n",
       "DELIVERED    52379\n",
       "NEW           2154\n",
       "UNKNOWN        632\n",
       "CANCELED       513\n",
       "Name: count, dtype: int64"
      ]
     },
     "execution_count": 14,
     "metadata": {},
     "output_type": "execute_result"
    }
   ],
   "source": [
    "otter.status = otter.status.apply(replace_to, change='Entregado', change_to='DELIVERED')\n",
    "otter.status = otter.status.apply(replace_to, change='Nuevo', change_to='NEW')\n",
    "otter.status = otter.status.apply(replace_to, change='Desconocido', change_to='UNKNOWN')\n",
    "otter.status = otter.status.apply(replace_to, change='Cancelado', change_to='CANCELED')\n",
    "\n",
    "otter.status.value_counts()"
   ]
  },
  {
   "cell_type": "markdown",
   "metadata": {},
   "source": [
    "#### <a id='toc1_2_3_4_'></a>['order_type'](#toc0_)"
   ]
  },
  {
   "cell_type": "code",
   "execution_count": 15,
   "metadata": {},
   "outputs": [
    {
     "data": {
      "text/plain": [
       "order_type\n",
       "Entrega del mercado           44329\n",
       "Para Recoger                   6480\n",
       "Entrega por el Restaurante     4114\n",
       "Desconocido                     755\n",
       "Name: count, dtype: int64"
      ]
     },
     "execution_count": 15,
     "metadata": {},
     "output_type": "execute_result"
    }
   ],
   "source": [
    "otter.order_type.value_counts()"
   ]
  },
  {
   "cell_type": "code",
   "execution_count": 16,
   "metadata": {},
   "outputs": [],
   "source": [
    "otter.order_type = otter.order_type.apply(replace_to, change='Entrega del mercado', change_to='DELIVERY')\n",
    "otter.order_type = otter.order_type.apply(replace_to, change='Para Recoger', change_to='PICK UP')\n",
    "otter.order_type = otter.order_type.apply(replace_to, change='Entrega por el Restaurante', change_to='OWN DELIVERY')\n",
    "otter.order_type = otter.order_type.apply(replace_to, change='Desconocido', change_to='UNKNOWN')"
   ]
  },
  {
   "cell_type": "markdown",
   "metadata": {},
   "source": [
    "#### <a id='toc1_2_3_5_'></a>['delivery_timing'](#toc0_)"
   ]
  },
  {
   "cell_type": "code",
   "execution_count": 17,
   "metadata": {},
   "outputs": [
    {
     "data": {
      "text/plain": [
       "delivery_timing\n",
       "De inmediato    54584\n",
       "Desconocido       755\n",
       "Programado        339\n",
       "Name: count, dtype: int64"
      ]
     },
     "execution_count": 17,
     "metadata": {},
     "output_type": "execute_result"
    }
   ],
   "source": [
    "otter.delivery_timing.value_counts()\n"
   ]
  },
  {
   "cell_type": "code",
   "execution_count": 18,
   "metadata": {},
   "outputs": [],
   "source": [
    "otter.delivery_timing = otter.delivery_timing.apply(replace_to, change='De inmediato', change_to='Immediately')\n",
    "otter.delivery_timing = otter.delivery_timing.apply(replace_to, change='Desconocido', change_to='Unknown')\n",
    "otter.delivery_timing = otter.delivery_timing.apply(replace_to, change='Programado', change_to='Scheduled')"
   ]
  },
  {
   "cell_type": "markdown",
   "metadata": {},
   "source": [
    "### <a id='toc1_2_4_'></a>[Final DataFrame](#toc0_)"
   ]
  },
  {
   "cell_type": "code",
   "execution_count": 19,
   "metadata": {},
   "outputs": [
    {
     "data": {
      "text/html": [
       "<div>\n",
       "<style scoped>\n",
       "    .dataframe tbody tr th:only-of-type {\n",
       "        vertical-align: middle;\n",
       "    }\n",
       "\n",
       "    .dataframe tbody tr th {\n",
       "        vertical-align: top;\n",
       "    }\n",
       "\n",
       "    .dataframe thead th {\n",
       "        text-align: right;\n",
       "    }\n",
       "</style>\n",
       "<table border=\"1\" class=\"dataframe\">\n",
       "  <thead>\n",
       "    <tr style=\"text-align: right;\">\n",
       "      <th></th>\n",
       "      <th>created_datetime</th>\n",
       "      <th>order_id_software</th>\n",
       "      <th>channel</th>\n",
       "      <th>status</th>\n",
       "      <th>brand</th>\n",
       "      <th>location</th>\n",
       "      <th>quantity</th>\n",
       "      <th>subtotal</th>\n",
       "      <th>tip</th>\n",
       "      <th>discount</th>\n",
       "      <th>total</th>\n",
       "      <th>order_type</th>\n",
       "      <th>delivery_timing</th>\n",
       "    </tr>\n",
       "  </thead>\n",
       "  <tbody>\n",
       "    <tr>\n",
       "      <th>0</th>\n",
       "      <td>31/10/2023, 23:22:36</td>\n",
       "      <td>457EE</td>\n",
       "      <td>Uber Eats</td>\n",
       "      <td>DELIVERED</td>\n",
       "      <td>Umbrella SH</td>\n",
       "      <td>Umbrella - Salamanca</td>\n",
       "      <td>2</td>\n",
       "      <td>46.0</td>\n",
       "      <td>0.0</td>\n",
       "      <td>-12.64</td>\n",
       "      <td>23.73</td>\n",
       "      <td>DELIVERY</td>\n",
       "      <td>Immediately</td>\n",
       "    </tr>\n",
       "    <tr>\n",
       "      <th>1</th>\n",
       "      <td>31/10/2023, 23:19:01</td>\n",
       "      <td>0390E</td>\n",
       "      <td>Uber Eats</td>\n",
       "      <td>DELIVERED</td>\n",
       "      <td>Umbrella SH</td>\n",
       "      <td>Umbrella - Salamanca</td>\n",
       "      <td>4</td>\n",
       "      <td>62.8</td>\n",
       "      <td>0.0</td>\n",
       "      <td>-25.27</td>\n",
       "      <td>28.16</td>\n",
       "      <td>DELIVERY</td>\n",
       "      <td>Immediately</td>\n",
       "    </tr>\n",
       "    <tr>\n",
       "      <th>2</th>\n",
       "      <td>31/10/2023, 23:15:19</td>\n",
       "      <td>EBBB9</td>\n",
       "      <td>Uber Eats</td>\n",
       "      <td>DELIVERED</td>\n",
       "      <td>Tepuy Basics</td>\n",
       "      <td>Umbrella - Goleta</td>\n",
       "      <td>3</td>\n",
       "      <td>30.6</td>\n",
       "      <td>0.0</td>\n",
       "      <td>0.00</td>\n",
       "      <td>30.60</td>\n",
       "      <td>DELIVERY</td>\n",
       "      <td>Immediately</td>\n",
       "    </tr>\n",
       "    <tr>\n",
       "      <th>3</th>\n",
       "      <td>31/10/2023, 23:14:29</td>\n",
       "      <td>58A44</td>\n",
       "      <td>Uber Eats</td>\n",
       "      <td>DELIVERED</td>\n",
       "      <td>Umbrella SH</td>\n",
       "      <td>Umbrella - Salamanca</td>\n",
       "      <td>2</td>\n",
       "      <td>45.8</td>\n",
       "      <td>0.0</td>\n",
       "      <td>-12.64</td>\n",
       "      <td>23.60</td>\n",
       "      <td>DELIVERY</td>\n",
       "      <td>Immediately</td>\n",
       "    </tr>\n",
       "    <tr>\n",
       "      <th>4</th>\n",
       "      <td>31/10/2023, 23:01:13</td>\n",
       "      <td>776960000</td>\n",
       "      <td>Gloria Foods</td>\n",
       "      <td>DELIVERED</td>\n",
       "      <td>Umbrella SH</td>\n",
       "      <td>Umbrella - Goleta</td>\n",
       "      <td>6</td>\n",
       "      <td>44.0</td>\n",
       "      <td>0.0</td>\n",
       "      <td>0.00</td>\n",
       "      <td>44.00</td>\n",
       "      <td>PICK UP</td>\n",
       "      <td>Immediately</td>\n",
       "    </tr>\n",
       "  </tbody>\n",
       "</table>\n",
       "</div>"
      ],
      "text/plain": [
       "       created_datetime order_id_software       channel     status  \\\n",
       "0  31/10/2023, 23:22:36             457EE     Uber Eats  DELIVERED   \n",
       "1  31/10/2023, 23:19:01             0390E     Uber Eats  DELIVERED   \n",
       "2  31/10/2023, 23:15:19             EBBB9     Uber Eats  DELIVERED   \n",
       "3  31/10/2023, 23:14:29             58A44     Uber Eats  DELIVERED   \n",
       "4  31/10/2023, 23:01:13         776960000  Gloria Foods  DELIVERED   \n",
       "\n",
       "          brand              location  quantity  subtotal  tip  discount  \\\n",
       "0   Umbrella SH  Umbrella - Salamanca         2      46.0  0.0    -12.64   \n",
       "1   Umbrella SH  Umbrella - Salamanca         4      62.8  0.0    -25.27   \n",
       "2  Tepuy Basics     Umbrella - Goleta         3      30.6  0.0      0.00   \n",
       "3   Umbrella SH  Umbrella - Salamanca         2      45.8  0.0    -12.64   \n",
       "4   Umbrella SH     Umbrella - Goleta         6      44.0  0.0      0.00   \n",
       "\n",
       "   total order_type delivery_timing  \n",
       "0  23.73   DELIVERY     Immediately  \n",
       "1  28.16   DELIVERY     Immediately  \n",
       "2  30.60   DELIVERY     Immediately  \n",
       "3  23.60   DELIVERY     Immediately  \n",
       "4  44.00    PICK UP     Immediately  "
      ]
     },
     "execution_count": 19,
     "metadata": {},
     "output_type": "execute_result"
    }
   ],
   "source": [
    "otter.head()"
   ]
  },
  {
   "cell_type": "markdown",
   "metadata": {},
   "source": [
    "## <a id='toc1_3_'></a>[Otter items](#toc0_)"
   ]
  },
  {
   "cell_type": "markdown",
   "metadata": {},
   "source": [
    "### <a id='toc1_3_1_'></a>[Import Data](#toc0_)"
   ]
  },
  {
   "cell_type": "code",
   "execution_count": 20,
   "metadata": {},
   "outputs": [
    {
     "data": {
      "text/html": [
       "<div>\n",
       "<style scoped>\n",
       "    .dataframe tbody tr th:only-of-type {\n",
       "        vertical-align: middle;\n",
       "    }\n",
       "\n",
       "    .dataframe tbody tr th {\n",
       "        vertical-align: top;\n",
       "    }\n",
       "\n",
       "    .dataframe thead th {\n",
       "        text-align: right;\n",
       "    }\n",
       "</style>\n",
       "<table border=\"1\" class=\"dataframe\">\n",
       "  <thead>\n",
       "    <tr style=\"text-align: right;\">\n",
       "      <th></th>\n",
       "      <th>artículos_ordenados</th>\n",
       "      <th>cantidad</th>\n",
       "      <th>precio_de_venta</th>\n",
       "      <th>artículo_subtotal</th>\n",
       "      <th>id_de_pedido</th>\n",
       "      <th>service_fee</th>\n",
       "    </tr>\n",
       "  </thead>\n",
       "  <tbody>\n",
       "    <tr>\n",
       "      <th>0</th>\n",
       "      <td>Patatas fritas Pequeñas</td>\n",
       "      <td>1</td>\n",
       "      <td>2.5</td>\n",
       "      <td>2.5</td>\n",
       "      <td>35999</td>\n",
       "      <td>0.0</td>\n",
       "    </tr>\n",
       "    <tr>\n",
       "      <th>1</th>\n",
       "      <td>Kahuna Burger</td>\n",
       "      <td>1</td>\n",
       "      <td>8.5</td>\n",
       "      <td>8.5</td>\n",
       "      <td>35999</td>\n",
       "      <td>0.0</td>\n",
       "    </tr>\n",
       "    <tr>\n",
       "      <th>2</th>\n",
       "      <td>Sweet Home Sanvi</td>\n",
       "      <td>1</td>\n",
       "      <td>12.3</td>\n",
       "      <td>12.3</td>\n",
       "      <td>B0FE0</td>\n",
       "      <td>0.0</td>\n",
       "    </tr>\n",
       "    <tr>\n",
       "      <th>3</th>\n",
       "      <td>Chicken Tenders</td>\n",
       "      <td>1</td>\n",
       "      <td>7.6</td>\n",
       "      <td>7.6</td>\n",
       "      <td>B0FE0</td>\n",
       "      <td>0.0</td>\n",
       "    </tr>\n",
       "    <tr>\n",
       "      <th>4</th>\n",
       "      <td>Tequeños</td>\n",
       "      <td>1</td>\n",
       "      <td>6.4</td>\n",
       "      <td>6.4</td>\n",
       "      <td>B0FE0</td>\n",
       "      <td>0.0</td>\n",
       "    </tr>\n",
       "  </tbody>\n",
       "</table>\n",
       "</div>"
      ],
      "text/plain": [
       "       artículos_ordenados  cantidad  precio_de_venta  artículo_subtotal  \\\n",
       "0  Patatas fritas Pequeñas         1              2.5                2.5   \n",
       "1            Kahuna Burger         1              8.5                8.5   \n",
       "2         Sweet Home Sanvi         1             12.3               12.3   \n",
       "3          Chicken Tenders         1              7.6                7.6   \n",
       "4                 Tequeños         1              6.4                6.4   \n",
       "\n",
       "  id_de_pedido  service_fee  \n",
       "0        35999          0.0  \n",
       "1        35999          0.0  \n",
       "2        B0FE0          0.0  \n",
       "3        B0FE0          0.0  \n",
       "4        B0FE0          0.0  "
      ]
     },
     "execution_count": 20,
     "metadata": {},
     "output_type": "execute_result"
    }
   ],
   "source": [
    "otter_items = pd.read_csv('../../data/1-clean/otter_item_clean.csv')\n",
    "otter_items_original_shape = otter_items.shape\n",
    "otter_items.head()"
   ]
  },
  {
   "cell_type": "code",
   "execution_count": 21,
   "metadata": {},
   "outputs": [
    {
     "name": "stdout",
     "output_type": "stream",
     "text": [
      "<class 'pandas.core.frame.DataFrame'>\n",
      "RangeIndex: 42861 entries, 0 to 42860\n",
      "Data columns (total 6 columns):\n",
      " #   Column               Non-Null Count  Dtype  \n",
      "---  ------               --------------  -----  \n",
      " 0   artículos_ordenados  42861 non-null  object \n",
      " 1   cantidad             42861 non-null  int64  \n",
      " 2   precio_de_venta      42861 non-null  float64\n",
      " 3   artículo_subtotal    42861 non-null  float64\n",
      " 4   id_de_pedido         42861 non-null  object \n",
      " 5   service_fee          42861 non-null  float64\n",
      "dtypes: float64(3), int64(1), object(2)\n",
      "memory usage: 2.0+ MB\n"
     ]
    }
   ],
   "source": [
    "otter_items.info()"
   ]
  },
  {
   "cell_type": "markdown",
   "metadata": {},
   "source": [
    "### <a id='toc1_3_2_'></a>[Column analysis](#toc0_)"
   ]
  },
  {
   "cell_type": "markdown",
   "metadata": {},
   "source": [
    "#### <a id='toc1_3_2_1_'></a>[Rename columns](#toc0_)"
   ]
  },
  {
   "cell_type": "code",
   "execution_count": 22,
   "metadata": {},
   "outputs": [],
   "source": [
    "columns_to_rename={'artículos_ordenados':'item',\n",
    "                   'cantidad':'quantity',\n",
    "                   'precio_de_venta':'price',\n",
    "                   'artículo_subtotal':'total_item',\n",
    "                   'id_de_pedido':'order_id_software'}\n",
    "\n",
    "otter_items = rename_columns(otter_items, columns_to_rename)"
   ]
  },
  {
   "cell_type": "markdown",
   "metadata": {},
   "source": [
    "#### <a id='toc1_3_2_2_'></a>[Column item](#toc0_)"
   ]
  },
  {
   "cell_type": "code",
   "execution_count": 23,
   "metadata": {},
   "outputs": [
    {
     "data": {
      "text/plain": [
       "(211,)"
      ]
     },
     "execution_count": 23,
     "metadata": {},
     "output_type": "execute_result"
    }
   ],
   "source": [
    "otter_items.item.value_counts().shape"
   ]
  },
  {
   "cell_type": "code",
   "execution_count": 24,
   "metadata": {},
   "outputs": [
    {
     "data": {
      "text/html": [
       "<div>\n",
       "<style scoped>\n",
       "    .dataframe tbody tr th:only-of-type {\n",
       "        vertical-align: middle;\n",
       "    }\n",
       "\n",
       "    .dataframe tbody tr th {\n",
       "        vertical-align: top;\n",
       "    }\n",
       "\n",
       "    .dataframe thead th {\n",
       "        text-align: right;\n",
       "    }\n",
       "</style>\n",
       "<table border=\"1\" class=\"dataframe\">\n",
       "  <thead>\n",
       "    <tr style=\"text-align: right;\">\n",
       "      <th></th>\n",
       "      <th>item</th>\n",
       "      <th>quantity</th>\n",
       "      <th>price</th>\n",
       "      <th>total_item</th>\n",
       "      <th>order_id_software</th>\n",
       "      <th>service_fee</th>\n",
       "    </tr>\n",
       "  </thead>\n",
       "  <tbody>\n",
       "  </tbody>\n",
       "</table>\n",
       "</div>"
      ],
      "text/plain": [
       "Empty DataFrame\n",
       "Columns: [item, quantity, price, total_item, order_id_software, service_fee]\n",
       "Index: []"
      ]
     },
     "execution_count": 24,
     "metadata": {},
     "output_type": "execute_result"
    }
   ],
   "source": [
    "otter_items[otter_items.price==0]"
   ]
  },
  {
   "cell_type": "code",
   "execution_count": 27,
   "metadata": {},
   "outputs": [
    {
     "data": {
      "text/plain": [
       "service_fee\n",
       "0.0    42861\n",
       "Name: count, dtype: int64"
      ]
     },
     "execution_count": 27,
     "metadata": {},
     "output_type": "execute_result"
    }
   ],
   "source": [
    "otter_items.service_fee.value_counts()"
   ]
  },
  {
   "cell_type": "markdown",
   "metadata": {},
   "source": [
    "### <a id='toc1_3_3_'></a>[Final DataFrame](#toc0_)"
   ]
  },
  {
   "cell_type": "code",
   "execution_count": 25,
   "metadata": {},
   "outputs": [
    {
     "data": {
      "text/html": [
       "<div>\n",
       "<style scoped>\n",
       "    .dataframe tbody tr th:only-of-type {\n",
       "        vertical-align: middle;\n",
       "    }\n",
       "\n",
       "    .dataframe tbody tr th {\n",
       "        vertical-align: top;\n",
       "    }\n",
       "\n",
       "    .dataframe thead th {\n",
       "        text-align: right;\n",
       "    }\n",
       "</style>\n",
       "<table border=\"1\" class=\"dataframe\">\n",
       "  <thead>\n",
       "    <tr style=\"text-align: right;\">\n",
       "      <th></th>\n",
       "      <th>item</th>\n",
       "      <th>quantity</th>\n",
       "      <th>price</th>\n",
       "      <th>total_item</th>\n",
       "      <th>order_id_software</th>\n",
       "      <th>service_fee</th>\n",
       "    </tr>\n",
       "  </thead>\n",
       "  <tbody>\n",
       "    <tr>\n",
       "      <th>0</th>\n",
       "      <td>Patatas fritas Pequeñas</td>\n",
       "      <td>1</td>\n",
       "      <td>2.5</td>\n",
       "      <td>2.5</td>\n",
       "      <td>35999</td>\n",
       "      <td>0.0</td>\n",
       "    </tr>\n",
       "    <tr>\n",
       "      <th>1</th>\n",
       "      <td>Kahuna Burger</td>\n",
       "      <td>1</td>\n",
       "      <td>8.5</td>\n",
       "      <td>8.5</td>\n",
       "      <td>35999</td>\n",
       "      <td>0.0</td>\n",
       "    </tr>\n",
       "    <tr>\n",
       "      <th>2</th>\n",
       "      <td>Sweet Home Sanvi</td>\n",
       "      <td>1</td>\n",
       "      <td>12.3</td>\n",
       "      <td>12.3</td>\n",
       "      <td>B0FE0</td>\n",
       "      <td>0.0</td>\n",
       "    </tr>\n",
       "    <tr>\n",
       "      <th>3</th>\n",
       "      <td>Chicken Tenders</td>\n",
       "      <td>1</td>\n",
       "      <td>7.6</td>\n",
       "      <td>7.6</td>\n",
       "      <td>B0FE0</td>\n",
       "      <td>0.0</td>\n",
       "    </tr>\n",
       "    <tr>\n",
       "      <th>4</th>\n",
       "      <td>Tequeños</td>\n",
       "      <td>1</td>\n",
       "      <td>6.4</td>\n",
       "      <td>6.4</td>\n",
       "      <td>B0FE0</td>\n",
       "      <td>0.0</td>\n",
       "    </tr>\n",
       "  </tbody>\n",
       "</table>\n",
       "</div>"
      ],
      "text/plain": [
       "                      item  quantity  price  total_item order_id_software  \\\n",
       "0  Patatas fritas Pequeñas         1    2.5         2.5             35999   \n",
       "1            Kahuna Burger         1    8.5         8.5             35999   \n",
       "2         Sweet Home Sanvi         1   12.3        12.3             B0FE0   \n",
       "3          Chicken Tenders         1    7.6         7.6             B0FE0   \n",
       "4                 Tequeños         1    6.4         6.4             B0FE0   \n",
       "\n",
       "   service_fee  \n",
       "0          0.0  \n",
       "1          0.0  \n",
       "2          0.0  \n",
       "3          0.0  \n",
       "4          0.0  "
      ]
     },
     "execution_count": 25,
     "metadata": {},
     "output_type": "execute_result"
    }
   ],
   "source": [
    "otter_items.head()"
   ]
  },
  {
   "cell_type": "markdown",
   "metadata": {},
   "source": []
  },
  {
   "cell_type": "markdown",
   "metadata": {},
   "source": [
    "## <a id='toc1_4_'></a>[Export clean dataframes](#toc0_)"
   ]
  },
  {
   "cell_type": "code",
   "execution_count": 26,
   "metadata": {},
   "outputs": [],
   "source": [
    "otter.to_csv('../../data/2-analyzed/otter_EDA.csv', index=False)\n",
    "otter_items.to_csv('../../data/2-analyzed/otter_item_EDA.csv', index=False)"
   ]
  }
 ],
 "metadata": {
  "kernelspec": {
   "display_name": "clase",
   "language": "python",
   "name": "python3"
  },
  "language_info": {
   "codemirror_mode": {
    "name": "ipython",
    "version": 3
   },
   "file_extension": ".py",
   "mimetype": "text/x-python",
   "name": "python",
   "nbconvert_exporter": "python",
   "pygments_lexer": "ipython3",
   "version": "3.10.13"
  }
 },
 "nbformat": 4,
 "nbformat_minor": 5
}
